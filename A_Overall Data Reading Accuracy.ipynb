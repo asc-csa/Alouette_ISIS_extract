{
 "cells": [
  {
   "cell_type": "markdown",
   "id": "07433282",
   "metadata": {},
   "source": [
    "The purpose of this notebook is to determine the accuracy with which earlier notebooks are able to map the true values from the ionogram images \n",
    "\n",
    "\n",
    "The ionograms contain three key pieces of information:\n",
    "\n",
    "**Metadata**: listed outside of the main plot using printed numbers. \n",
    "\n",
    "**Depth**: The depth is displayed inverse-linearly on the y-axis, with each horizontal line signifying 200 km distance increments. There is a consistely dark line at the top of the plot which represents 0 km and therefore immediate reflection. The ISIS-1 ionograms typically go to a height of 5000 km while the ISIS-2 ionograms only go to 3300 km. Moreover, ISIS-1 had an apogee of ~3500 km while ISIS-2 had an apogee of ~1500 km\n",
    "\n",
    "**Frequency**: the frequency is not displayed in a consistent linear scale like the depth but the vertical lines are at known MHz values forboth ISIS 1 and ISIS 2 the frequency goes up to 20 MHz. "
   ]
  },
  {
   "cell_type": "code",
   "execution_count": null,
   "id": "dd3bc6c1",
   "metadata": {},
   "outputs": [],
   "source": []
  },
  {
   "cell_type": "code",
   "execution_count": null,
   "id": "64de2437",
   "metadata": {},
   "outputs": [],
   "source": []
  },
  {
   "cell_type": "code",
   "execution_count": null,
   "id": "12b0e68c",
   "metadata": {},
   "outputs": [],
   "source": []
  }
 ],
 "metadata": {
  "kernelspec": {
   "display_name": "Python 3 (ipykernel)",
   "language": "python",
   "name": "python3"
  },
  "language_info": {
   "codemirror_mode": {
    "name": "ipython",
    "version": 3
   },
   "file_extension": ".py",
   "mimetype": "text/x-python",
   "name": "python",
   "nbconvert_exporter": "python",
   "pygments_lexer": "ipython3",
   "version": "3.11.3"
  }
 },
 "nbformat": 4,
 "nbformat_minor": 5
}
