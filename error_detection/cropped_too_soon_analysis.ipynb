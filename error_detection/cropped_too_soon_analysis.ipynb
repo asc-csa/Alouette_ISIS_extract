{
 "cells": [
  {
   "cell_type": "markdown",
   "metadata": {},
   "source": [
    "## Cropped Too Soon Analysis\n",
    "Ashley Ferreira, December 18\n",
    "\n",
    "A notebook to do some pretty barebone analysis of the results outputted from cropped_too_soon.py \n",
    "\n",
    "Note that batch 1 reffers to ISIS_101300030772 and batch 2 reffers to ISIS_102000056114. The raw_upload_20230421 directory has not been included in any of this."
   ]
  },
  {
   "cell_type": "code",
   "execution_count": 1,
   "metadata": {},
   "outputs": [],
   "source": [
    "import numpy as np\n",
    "import pandas as pd\n",
    "import matplotlib.pyplot as plt\n",
    "plt.style.use('ggplot')"
   ]
  },
  {
   "cell_type": "code",
   "execution_count": 2,
   "metadata": {},
   "outputs": [],
   "source": [
    "batch1_df = pd.read_csv('//SAQCJ3YWVDCP003.csa.space.gc.ca/L-DFS/DATA/ISIS/cropped_too_soon_detection_batch1/cropped_too_soon_results.csv')\n",
    "batch2_df = pd.read_csv('//SAQCJ3YWVDCP003.csa.space.gc.ca/L-DFS/DATA/ISIS/cropped_too_soon_detection_batch2/cropped_too_soon_results.csv')"
   ]
  },
  {
   "cell_type": "code",
   "execution_count": 3,
   "metadata": {},
   "outputs": [
    {
     "data": {
      "text/html": [
       "<div>\n",
       "<style scoped>\n",
       "    .dataframe tbody tr th:only-of-type {\n",
       "        vertical-align: middle;\n",
       "    }\n",
       "\n",
       "    .dataframe tbody tr th {\n",
       "        vertical-align: top;\n",
       "    }\n",
       "\n",
       "    .dataframe thead th {\n",
       "        text-align: right;\n",
       "    }\n",
       "</style>\n",
       "<table border=\"1\" class=\"dataframe\">\n",
       "  <thead>\n",
       "    <tr style=\"text-align: right;\">\n",
       "      <th></th>\n",
       "      <th>Directory</th>\n",
       "      <th>Subdirectory</th>\n",
       "      <th>filename</th>\n",
       "      <th>height</th>\n",
       "      <th>width</th>\n",
       "      <th>user</th>\n",
       "      <th>datetime</th>\n",
       "    </tr>\n",
       "  </thead>\n",
       "  <tbody>\n",
       "    <tr>\n",
       "      <th>0</th>\n",
       "      <td>b24_R014207706</td>\n",
       "      <td>B1-35-4 ISIS A C-1346</td>\n",
       "      <td>Image0001.png</td>\n",
       "      <td>403</td>\n",
       "      <td>1358</td>\n",
       "      <td>aferreira</td>\n",
       "      <td>2023-12-13 00:15:30.168236</td>\n",
       "    </tr>\n",
       "    <tr>\n",
       "      <th>1</th>\n",
       "      <td>b24_R014207706</td>\n",
       "      <td>B1-35-4 ISIS A C-1346</td>\n",
       "      <td>Image0002.png</td>\n",
       "      <td>405</td>\n",
       "      <td>908</td>\n",
       "      <td>aferreira</td>\n",
       "      <td>2023-12-13 00:15:30.230966</td>\n",
       "    </tr>\n",
       "    <tr>\n",
       "      <th>2</th>\n",
       "      <td>b24_R014207706</td>\n",
       "      <td>B1-35-4 ISIS A C-1346</td>\n",
       "      <td>Image0003.png</td>\n",
       "      <td>403</td>\n",
       "      <td>724</td>\n",
       "      <td>aferreira</td>\n",
       "      <td>2023-12-13 00:15:30.284501</td>\n",
       "    </tr>\n",
       "    <tr>\n",
       "      <th>3</th>\n",
       "      <td>b24_R014207706</td>\n",
       "      <td>B1-35-4 ISIS A C-1346</td>\n",
       "      <td>Image0004.png</td>\n",
       "      <td>403</td>\n",
       "      <td>734</td>\n",
       "      <td>aferreira</td>\n",
       "      <td>2023-12-13 00:15:30.329558</td>\n",
       "    </tr>\n",
       "    <tr>\n",
       "      <th>4</th>\n",
       "      <td>b24_R014207706</td>\n",
       "      <td>B1-35-4 ISIS A C-1346</td>\n",
       "      <td>Image0005.png</td>\n",
       "      <td>403</td>\n",
       "      <td>754</td>\n",
       "      <td>aferreira</td>\n",
       "      <td>2023-12-13 00:15:30.363558</td>\n",
       "    </tr>\n",
       "  </tbody>\n",
       "</table>\n",
       "</div>"
      ],
      "text/plain": [
       "        Directory           Subdirectory       filename  height  width  \\\n",
       "0  b24_R014207706  B1-35-4 ISIS A C-1346  Image0001.png     403   1358   \n",
       "1  b24_R014207706  B1-35-4 ISIS A C-1346  Image0002.png     405    908   \n",
       "2  b24_R014207706  B1-35-4 ISIS A C-1346  Image0003.png     403    724   \n",
       "3  b24_R014207706  B1-35-4 ISIS A C-1346  Image0004.png     403    734   \n",
       "4  b24_R014207706  B1-35-4 ISIS A C-1346  Image0005.png     403    754   \n",
       "\n",
       "        user                    datetime  \n",
       "0  aferreira  2023-12-13 00:15:30.168236  \n",
       "1  aferreira  2023-12-13 00:15:30.230966  \n",
       "2  aferreira  2023-12-13 00:15:30.284501  \n",
       "3  aferreira  2023-12-13 00:15:30.329558  \n",
       "4  aferreira  2023-12-13 00:15:30.363558  "
      ]
     },
     "execution_count": 3,
     "metadata": {},
     "output_type": "execute_result"
    }
   ],
   "source": [
    "df_merged = batch1_df.append(batch2_df, ignore_index=True)\n",
    "df_merged.head()"
   ]
  },
  {
   "cell_type": "code",
   "execution_count": 4,
   "metadata": {},
   "outputs": [
    {
     "name": "stdout",
     "output_type": "stream",
     "text": [
      "total entries 1200769\n",
      "number_of_duplicates 3812\n",
      "total entries with duplicates removed 1196957 (used from here on in)\n"
     ]
    }
   ],
   "source": [
    "total_len = len(df_merged)\n",
    "df_merged.drop_duplicates(subset=['Directory', 'Subdirectory', 'filename'], inplace=True) \n",
    "no_dup_len = len(df_merged)\n",
    "\n",
    "print(f'total entries {total_len}')\n",
    "print(f'number_of_duplicates {total_len - no_dup_len}') \n",
    "print(f'total entries with duplicates removed {no_dup_len} (used from here on in)')"
   ]
  },
  {
   "cell_type": "markdown",
   "metadata": {},
   "source": [
    "I guess these duplicates are still happening, will try to revisit and fix"
   ]
  },
  {
   "cell_type": "code",
   "execution_count": 5,
   "metadata": {},
   "outputs": [],
   "source": [
    "error_rows = df_merged[df_merged['height'] == -1]\n",
    "df_clean = df_merged[df_merged['height'] != -1]\n",
    "\n",
    "# filter out the errors here since -1/-1 is just 1!\n",
    "aspect_ratios = df_clean['width']/df_clean['height']"
   ]
  },
  {
   "cell_type": "code",
   "execution_count": 6,
   "metadata": {},
   "outputs": [
    {
     "name": "stdout",
     "output_type": "stream",
     "text": [
      "entries with processing errors 479\n",
      "percent of entries with errors 0.04%\n"
     ]
    }
   ],
   "source": [
    "print(f'entries with processing errors {len(error_rows)}')\n",
    "print(f'percent of entries with errors {100*round(len(error_rows)/no_dup_len,5)}%')"
   ]
  },
  {
   "cell_type": "markdown",
   "metadata": {},
   "source": [
    "Not many processing errors which is awesome! Likely box 29 related stuff..."
   ]
  },
  {
   "cell_type": "code",
   "execution_count": 7,
   "metadata": {},
   "outputs": [
    {
     "data": {
      "image/png": "[encoded data removed]",
      "text/plain": [
       "<Figure size 1080x504 with 1 Axes>"
      ]
     },
     "metadata": {},
     "output_type": "display_data"
    }
   ],
   "source": [
    "plt.figure(figsize=(15,7))\n",
    "plt.hist(aspect_ratios, bins=500, label='data', alpha=0.6)\n",
    "plt.vlines(1, ymin=0, ymax=120000, linestyle='--', color='black', label='height/width=1', alpha=0.6)\n",
    "\n",
    "plt.title('aspect ratios across batch 1 and 2')\n",
    "plt.xlabel('aspect ratio [height/width]')\n",
    "plt.ylabel('count')\n",
    "\n",
    "plt.xlim(0, 6) # some stray long ionograms that I am cutting off\n",
    "plt.legend()\n",
    "plt.show()"
   ]
  },
  {
   "cell_type": "code",
   "execution_count": 8,
   "metadata": {},
   "outputs": [
    {
     "name": "stdout",
     "output_type": "stream",
     "text": [
      "percent of valid entries with aspect ratio 7.8%\n"
     ]
    }
   ],
   "source": [
    "short_aspect_ratios = aspect_ratios[aspect_ratios < 1]\n",
    "print(f'percent of valid entries with aspect ratio {100*round(len(short_aspect_ratios)/len(df_clean),3)}%')"
   ]
  }
 ],
 "metadata": {
  "kernelspec": {
   "display_name": "Python 3",
   "language": "python",
   "name": "python3"
  },
  "language_info": {
   "codemirror_mode": {
    "name": "ipython",
    "version": 3
   },
   "file_extension": ".py",
   "mimetype": "text/x-python",
   "name": "python",
   "nbconvert_exporter": "python",
   "pygments_lexer": "ipython3",
   "version": "3.8.8"
  }
 },
 "nbformat": 4,
 "nbformat_minor": 2
}
