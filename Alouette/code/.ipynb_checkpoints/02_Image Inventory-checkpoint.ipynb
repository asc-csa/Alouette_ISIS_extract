{
 "cells": [
  {
   "cell_type": "markdown",
   "id": "6848d574",
   "metadata": {},
   "source": [
    "# Image Inventory\n",
    "\n",
    "#### Updated: Aug 17, 2023"
   ]
  },
  {
   "cell_type": "markdown",
   "id": "146e64d1",
   "metadata": {},
   "source": [
    "#  "
   ]
  },
  {
   "cell_type": "markdown",
   "id": "3fc7b383",
   "metadata": {},
   "source": [
    "Produce Image Inventory for a batch of Alouette I data:"
   ]
  },
  {
   "cell_type": "code",
   "execution_count": 1,
   "id": "4388eab5",
   "metadata": {},
   "outputs": [],
   "source": [
    "import pandas as pd\n",
    "import os"
   ]
  },
  {
   "cell_type": "code",
   "execution_count": 2,
   "id": "cafd46f2",
   "metadata": {},
   "outputs": [],
   "source": [
    "dataDir = '' #The file path to the scanned images, organized into Directories and Subdirectories.  \n",
    "rootDir = '' #The file path to the root directory for your project\n",
    "logDir = rootDir + '06_log/'"
   ]
  },
  {
   "cell_type": "markdown",
   "id": "b295064e",
   "metadata": {},
   "source": [
    "#  "
   ]
  },
  {
   "cell_type": "markdown",
   "id": "aa187fdb",
   "metadata": {},
   "source": [
    "#### Produce image_inventory:"
   ]
  },
  {
   "cell_type": "code",
   "execution_count": 3,
   "id": "07da6f75",
   "metadata": {
    "scrolled": true
   },
   "outputs": [
    {
     "name": "stdout",
     "output_type": "stream",
     "text": [
      "R014207815\n",
      "R014207816\n",
      "R014207821\n",
      "R014207823\n",
      "R014207824\n",
      "R014207832\n",
      "R014207840\n",
      "R014207841\n",
      "R014207842\n",
      "R014207844\n",
      "R014207907F\n",
      "R014207908F\n",
      "R014207909F\n",
      "R014207929F\n",
      "R014207930F\n",
      "R014207938\n",
      "R014207939\n",
      "R014207940F\n",
      "R014207942\n",
      "R014207943\n",
      "R014207946\n",
      "R014207947\n",
      "R014207948\n",
      "R014207949\n",
      "R014207951\n",
      "R014207953\n",
      "R014207954\n",
      "R014207955\n",
      "R014207956\n",
      "R014207957\n",
      "R014207958\n",
      "R014207959\n",
      "R014207960\n",
      "R014207962\n",
      "R014207964\n",
      "R014207965\n",
      "R014207966\n",
      "R014207967\n",
      "R014207968\n",
      "R014207970\n",
      "R014207974\n",
      "R014207975\n",
      "R014207978F\n",
      "R014207979F\n",
      "R014207980\n"
     ]
    }
   ],
   "source": [
    "df_inventory = pd.DataFrame()\n",
    "for directory in os.listdir(dataDir):\n",
    "    print(directory)\n",
    "    for subdirectory in os.listdir(dataDir + directory):\n",
    "        n_images = len(os.listdir(dataDir + directory + '/' + subdirectory))\n",
    "        df_inventory_ = pd.DataFrame({\n",
    "            'Directory': directory, \n",
    "            'Subdirectory': subdirectory,\n",
    "            'images': n_images,\n",
    "            'subdir_id': directory + '_' + subdirectory\n",
    "        }, index=[0])\n",
    "        df_inventory = pd.concat([df_inventory, df_inventory_], axis=0, ignore_index=True)"
   ]
  },
  {
   "cell_type": "code",
   "execution_count": 4,
   "id": "ad9fb08b",
   "metadata": {},
   "outputs": [
    {
     "name": "stdout",
     "output_type": "stream",
     "text": [
      "2638\n"
     ]
    },
    {
     "data": {
      "text/html": [
       "<div>\n",
       "<style scoped>\n",
       "    .dataframe tbody tr th:only-of-type {\n",
       "        vertical-align: middle;\n",
       "    }\n",
       "\n",
       "    .dataframe tbody tr th {\n",
       "        vertical-align: top;\n",
       "    }\n",
       "\n",
       "    .dataframe thead th {\n",
       "        text-align: right;\n",
       "    }\n",
       "</style>\n",
       "<table border=\"1\" class=\"dataframe\">\n",
       "  <thead>\n",
       "    <tr style=\"text-align: right;\">\n",
       "      <th></th>\n",
       "      <th>Directory</th>\n",
       "      <th>Subdirectory</th>\n",
       "      <th>images</th>\n",
       "      <th>subdir_id</th>\n",
       "    </tr>\n",
       "  </thead>\n",
       "  <tbody>\n",
       "    <tr>\n",
       "      <th>0</th>\n",
       "      <td>R014207815</td>\n",
       "      <td>3488-15A</td>\n",
       "      <td>273</td>\n",
       "      <td>R014207815_3488-15A</td>\n",
       "    </tr>\n",
       "    <tr>\n",
       "      <th>1</th>\n",
       "      <td>R014207815</td>\n",
       "      <td>3489-15A</td>\n",
       "      <td>281</td>\n",
       "      <td>R014207815_3489-15A</td>\n",
       "    </tr>\n",
       "    <tr>\n",
       "      <th>2</th>\n",
       "      <td>R014207815</td>\n",
       "      <td>3490-15A</td>\n",
       "      <td>198</td>\n",
       "      <td>R014207815_3490-15A</td>\n",
       "    </tr>\n",
       "    <tr>\n",
       "      <th>3</th>\n",
       "      <td>R014207815</td>\n",
       "      <td>3491-8A</td>\n",
       "      <td>289</td>\n",
       "      <td>R014207815_3491-8A</td>\n",
       "    </tr>\n",
       "    <tr>\n",
       "      <th>4</th>\n",
       "      <td>R014207815</td>\n",
       "      <td>3492-8A</td>\n",
       "      <td>334</td>\n",
       "      <td>R014207815_3492-8A</td>\n",
       "    </tr>\n",
       "  </tbody>\n",
       "</table>\n",
       "</div>"
      ],
      "text/plain": [
       "    Directory Subdirectory  images            subdir_id\n",
       "0  R014207815     3488-15A     273  R014207815_3488-15A\n",
       "1  R014207815     3489-15A     281  R014207815_3489-15A\n",
       "2  R014207815     3490-15A     198  R014207815_3490-15A\n",
       "3  R014207815      3491-8A     289   R014207815_3491-8A\n",
       "4  R014207815      3492-8A     334   R014207815_3492-8A"
      ]
     },
     "execution_count": 4,
     "metadata": {},
     "output_type": "execute_result"
    }
   ],
   "source": [
    "print(len(df_inventory))\n",
    "df_inventory.head()"
   ]
  },
  {
   "cell_type": "markdown",
   "id": "02bd6a4f",
   "metadata": {},
   "source": [
    "  "
   ]
  },
  {
   "cell_type": "markdown",
   "id": "c442dc2e",
   "metadata": {},
   "source": [
    "Remove data associated with Alouette II (FOR BATCH II):"
   ]
  },
  {
   "cell_type": "code",
   "execution_count": 5,
   "id": "83a8f70b",
   "metadata": {},
   "outputs": [],
   "source": [
    "directory_remove = 'R015954001'\n",
    "subdirs_remove = ['B1-8-B', 'B1-34-2', 'B1-34-2', 'B2-8-B', 'B3-15-B', 'B4-15-B', 'B5-50-B', 'B6-50-B', 'B7-50-B', \n",
    "                  'B8-50-B', 'B010-5-B', 'B011-37-B', 'B012-16-B', 'B013-53-B', 'B014-3-B', 'B015-14-B', 'B016-21-B',\n",
    "                  'B018-50-B', 'B019-50-B', 'B020-50-B', 'B021-50-B', 'B022-50-B', 'B023-8-3', 'B024-8-B', 'B025-B-15', \n",
    "                  'B026-21', 'B027-38-B']"
   ]
  },
  {
   "cell_type": "code",
   "execution_count": 6,
   "id": "3fc3fd8c",
   "metadata": {},
   "outputs": [],
   "source": [
    "df_inv2 = df_inventory.copy(deep=True)\n",
    "for subdir_remove in subdirs_remove:\n",
    "    df_inv2 = df_inv2.loc[df_inv2.subdir_id != directory_remove + '_' + subdir_remove]"
   ]
  },
  {
   "cell_type": "code",
   "execution_count": 7,
   "id": "674d1057",
   "metadata": {},
   "outputs": [
    {
     "name": "stdout",
     "output_type": "stream",
     "text": [
      "2638\n"
     ]
    },
    {
     "data": {
      "text/html": [
       "<div>\n",
       "<style scoped>\n",
       "    .dataframe tbody tr th:only-of-type {\n",
       "        vertical-align: middle;\n",
       "    }\n",
       "\n",
       "    .dataframe tbody tr th {\n",
       "        vertical-align: top;\n",
       "    }\n",
       "\n",
       "    .dataframe thead th {\n",
       "        text-align: right;\n",
       "    }\n",
       "</style>\n",
       "<table border=\"1\" class=\"dataframe\">\n",
       "  <thead>\n",
       "    <tr style=\"text-align: right;\">\n",
       "      <th></th>\n",
       "      <th>Directory</th>\n",
       "      <th>Subdirectory</th>\n",
       "      <th>images</th>\n",
       "      <th>subdir_id</th>\n",
       "    </tr>\n",
       "  </thead>\n",
       "  <tbody>\n",
       "    <tr>\n",
       "      <th>0</th>\n",
       "      <td>R014207815</td>\n",
       "      <td>3488-15A</td>\n",
       "      <td>273</td>\n",
       "      <td>R014207815_3488-15A</td>\n",
       "    </tr>\n",
       "    <tr>\n",
       "      <th>1</th>\n",
       "      <td>R014207815</td>\n",
       "      <td>3489-15A</td>\n",
       "      <td>281</td>\n",
       "      <td>R014207815_3489-15A</td>\n",
       "    </tr>\n",
       "    <tr>\n",
       "      <th>2</th>\n",
       "      <td>R014207815</td>\n",
       "      <td>3490-15A</td>\n",
       "      <td>198</td>\n",
       "      <td>R014207815_3490-15A</td>\n",
       "    </tr>\n",
       "    <tr>\n",
       "      <th>3</th>\n",
       "      <td>R014207815</td>\n",
       "      <td>3491-8A</td>\n",
       "      <td>289</td>\n",
       "      <td>R014207815_3491-8A</td>\n",
       "    </tr>\n",
       "    <tr>\n",
       "      <th>4</th>\n",
       "      <td>R014207815</td>\n",
       "      <td>3492-8A</td>\n",
       "      <td>334</td>\n",
       "      <td>R014207815_3492-8A</td>\n",
       "    </tr>\n",
       "  </tbody>\n",
       "</table>\n",
       "</div>"
      ],
      "text/plain": [
       "    Directory Subdirectory  images            subdir_id\n",
       "0  R014207815     3488-15A     273  R014207815_3488-15A\n",
       "1  R014207815     3489-15A     281  R014207815_3489-15A\n",
       "2  R014207815     3490-15A     198  R014207815_3490-15A\n",
       "3  R014207815      3491-8A     289   R014207815_3491-8A\n",
       "4  R014207815      3492-8A     334   R014207815_3492-8A"
      ]
     },
     "execution_count": 7,
     "metadata": {},
     "output_type": "execute_result"
    }
   ],
   "source": [
    "print(len(df_inv2))\n",
    "df_inv2.head()"
   ]
  },
  {
   "cell_type": "markdown",
   "id": "43aaacb6",
   "metadata": {},
   "source": [
    "  "
   ]
  },
  {
   "cell_type": "markdown",
   "id": "38b6f332",
   "metadata": {},
   "source": [
    "Save:"
   ]
  },
  {
   "cell_type": "code",
   "execution_count": 8,
   "id": "73d8fe60",
   "metadata": {},
   "outputs": [],
   "source": [
    "df_inv2.to_csv(logDir + 'image_inventory.csv', index=False)"
   ]
  },
  {
   "cell_type": "markdown",
   "id": "d7caea44",
   "metadata": {},
   "source": [
    "  "
   ]
  },
  {
   "cell_type": "markdown",
   "id": "68fb9a43",
   "metadata": {},
   "source": [
    "Analyze:"
   ]
  },
  {
   "cell_type": "code",
   "execution_count": 9,
   "id": "511d8a06",
   "metadata": {},
   "outputs": [
    {
     "name": "stdout",
     "output_type": "stream",
     "text": [
      "There are 2638 subdirectories.\n",
      "There are on average 59.0 +/- 6.0 subdirectories in each directory.\n",
      "There are on average 336.0 +/- 55.0 images in each subdirectory.\n"
     ]
    }
   ],
   "source": [
    "print('There are ' + str(len(df_inv2)) + ' subdirectories.')\n",
    "\n",
    "df1 = pd.DataFrame()\n",
    "for directory in df_inv2['Directory'].unique():\n",
    "    df_directory = df_inv2.loc[df_inv2['Directory'] == directory] \n",
    "    df1_ = pd.DataFrame({\n",
    "        'Directory': directory,\n",
    "        'n_subdirs': len(df_directory)\n",
    "    }, index=[0])\n",
    "    df1 = pd.concat([df1, df1_], ignore_index=True)\n",
    "mean = df1['n_subdirs'].mean()\n",
    "std_dev = df1['n_subdirs'].std()\n",
    "print('There are on average ' + str(round(mean,0)) + ' +/- ' + str(round(std_dev,0)) + ' subdirectories in each directory.')\n",
    "\n",
    "mean = df_inv2['images'].mean()\n",
    "std_dev = df_inv2['images'].std()\n",
    "print('There are on average ' + str(round(mean,0)) + ' +/- ' + str(round(std_dev,0)) + ' images in each subdirectory.')"
   ]
  }
 ],
 "metadata": {
  "kernelspec": {
   "display_name": "Python 3",
   "language": "python",
   "name": "python3"
  },
  "language_info": {
   "codemirror_mode": {
    "name": "ipython",
    "version": 3
   },
   "file_extension": ".py",
   "mimetype": "text/x-python",
   "name": "python",
   "nbconvert_exporter": "python",
   "pygments_lexer": "ipython3",
   "version": "3.8.8"
  }
 },
 "nbformat": 4,
 "nbformat_minor": 5
}
