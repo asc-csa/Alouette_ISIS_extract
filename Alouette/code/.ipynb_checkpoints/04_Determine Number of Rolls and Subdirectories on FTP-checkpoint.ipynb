{
 "cells": [
  {
   "cell_type": "markdown",
   "id": "98841ce0",
   "metadata": {},
   "source": [
    "# Determine Number of Rolls and Subdirectories on FTP\n",
    "\n",
    "#### Updated: Dec 8, 2022"
   ]
  },
  {
   "cell_type": "markdown",
   "id": "d3b19987",
   "metadata": {},
   "source": [
    "#  "
   ]
  },
  {
   "cell_type": "markdown",
   "id": "d356d44f",
   "metadata": {},
   "source": [
    "Determine how many subdirectories and images there are. Estimate how long it would take the download all subdirectories. Estimate what would be the total size."
   ]
  },
  {
   "cell_type": "code",
   "execution_count": 1,
   "id": "1cc402a8",
   "metadata": {},
   "outputs": [],
   "source": [
    "import pandas as pd\n",
    "import ftplib"
   ]
  },
  {
   "cell_type": "code",
   "execution_count": 2,
   "id": "d217cc96",
   "metadata": {},
   "outputs": [],
   "source": [
    "process_on_VDI = True\n",
    "\n",
    "rootDir_local = 'C:/Users/rnaidoo/Documents/Projects_data/Alouette_I/'\n",
    "if process_on_VDI:\n",
    "    logDir = '//scientific/L-MP-Data/Massive files/Python/rnaidoo/Alouette_I/'\n",
    "else:\n",
    "    logDir = rootDir_local + '05_result/'"
   ]
  },
  {
   "cell_type": "code",
   "execution_count": 3,
   "id": "8b0025e4",
   "metadata": {},
   "outputs": [
    {
     "name": "stdout",
     "output_type": "stream",
     "text": [
      "Connected to ftp server: donnees-data.asc-csa.gc.ca\n"
     ]
    }
   ],
   "source": [
    "HOSTNAME = \"donnees-data.asc-csa.gc.ca\"\n",
    "USERNAME = \"Anonymous\"\n",
    "PASSWORD = \"\"\n",
    "\n",
    "# Connect FTP Server\n",
    "ftp = ftplib.FTP(HOSTNAME, USERNAME, PASSWORD)\n",
    "print('Connected to ftp server: ' + HOSTNAME)\n",
    "\n",
    "ftp_rootpath = '/users/OpenData_DonneesOuvertes/pub/AlouetteData/Alouette Data/'"
   ]
  },
  {
   "cell_type": "markdown",
   "id": "7aea3374",
   "metadata": {},
   "source": [
    "#    "
   ]
  },
  {
   "cell_type": "markdown",
   "id": "b982973a",
   "metadata": {},
   "source": [
    "#### Determine how many subdirectories and images there are:"
   ]
  },
  {
   "cell_type": "code",
   "execution_count": 4,
   "id": "2d5ccd08",
   "metadata": {},
   "outputs": [],
   "source": [
    "df_record = pd.DataFrame()\n",
    "ftp.cwd(ftp_rootpath)\n",
    "rolls_list = ftp.nlst()\n",
    "for roll in rolls_list:\n",
    "    ftp.cwd(ftp_rootpath)\n",
    "    ftp.cwd(roll)\n",
    "    subdir_list = ftp.nlst()\n",
    "    for subdir in subdir_list:\n",
    "        ftp.cwd(ftp_rootpath)\n",
    "        ftp.cwd(roll)\n",
    "        ftp.cwd(subdir)\n",
    "        img_list = ftp.nlst()\n",
    "        df_record_ = pd.DataFrame({\n",
    "            'Roll': roll,\n",
    "            'Subdirectory': subdir,\n",
    "            'images': len(img_list),\n",
    "            'subdir_id': roll + '_' + subdir\n",
    "        }, index=[0])\n",
    "        df_record = pd.concat([df_record, df_record_], axis=0, ignore_index=True)"
   ]
  },
  {
   "cell_type": "code",
   "execution_count": 5,
   "id": "fbe60fea",
   "metadata": {},
   "outputs": [
    {
     "data": {
      "text/html": [
       "<div>\n",
       "<style scoped>\n",
       "    .dataframe tbody tr th:only-of-type {\n",
       "        vertical-align: middle;\n",
       "    }\n",
       "\n",
       "    .dataframe tbody tr th {\n",
       "        vertical-align: top;\n",
       "    }\n",
       "\n",
       "    .dataframe thead th {\n",
       "        text-align: right;\n",
       "    }\n",
       "</style>\n",
       "<table border=\"1\" class=\"dataframe\">\n",
       "  <thead>\n",
       "    <tr style=\"text-align: right;\">\n",
       "      <th></th>\n",
       "      <th>Roll</th>\n",
       "      <th>Subdirectory</th>\n",
       "      <th>images</th>\n",
       "      <th>subdir_id</th>\n",
       "    </tr>\n",
       "  </thead>\n",
       "  <tbody>\n",
       "    <tr>\n",
       "      <th>0</th>\n",
       "      <td>R014207815</td>\n",
       "      <td>3488-15A</td>\n",
       "      <td>273</td>\n",
       "      <td>R014207815_3488-15A</td>\n",
       "    </tr>\n",
       "    <tr>\n",
       "      <th>1</th>\n",
       "      <td>R014207815</td>\n",
       "      <td>3489-15A</td>\n",
       "      <td>281</td>\n",
       "      <td>R014207815_3489-15A</td>\n",
       "    </tr>\n",
       "    <tr>\n",
       "      <th>2</th>\n",
       "      <td>R014207815</td>\n",
       "      <td>3490-15A</td>\n",
       "      <td>198</td>\n",
       "      <td>R014207815_3490-15A</td>\n",
       "    </tr>\n",
       "    <tr>\n",
       "      <th>3</th>\n",
       "      <td>R014207815</td>\n",
       "      <td>3491-8A</td>\n",
       "      <td>289</td>\n",
       "      <td>R014207815_3491-8A</td>\n",
       "    </tr>\n",
       "    <tr>\n",
       "      <th>4</th>\n",
       "      <td>R014207815</td>\n",
       "      <td>3492-8A</td>\n",
       "      <td>334</td>\n",
       "      <td>R014207815_3492-8A</td>\n",
       "    </tr>\n",
       "    <tr>\n",
       "      <th>...</th>\n",
       "      <td>...</td>\n",
       "      <td>...</td>\n",
       "      <td>...</td>\n",
       "      <td>...</td>\n",
       "    </tr>\n",
       "    <tr>\n",
       "      <th>2633</th>\n",
       "      <td>R014207980</td>\n",
       "      <td>994-B</td>\n",
       "      <td>375</td>\n",
       "      <td>R014207980_994-B</td>\n",
       "    </tr>\n",
       "    <tr>\n",
       "      <th>2634</th>\n",
       "      <td>R014207980</td>\n",
       "      <td>995-B</td>\n",
       "      <td>376</td>\n",
       "      <td>R014207980_995-B</td>\n",
       "    </tr>\n",
       "    <tr>\n",
       "      <th>2635</th>\n",
       "      <td>R014207980</td>\n",
       "      <td>996-A</td>\n",
       "      <td>348</td>\n",
       "      <td>R014207980_996-A</td>\n",
       "    </tr>\n",
       "    <tr>\n",
       "      <th>2636</th>\n",
       "      <td>R014207980</td>\n",
       "      <td>997-A</td>\n",
       "      <td>377</td>\n",
       "      <td>R014207980_997-A</td>\n",
       "    </tr>\n",
       "    <tr>\n",
       "      <th>2637</th>\n",
       "      <td>R014207980</td>\n",
       "      <td>999-A</td>\n",
       "      <td>398</td>\n",
       "      <td>R014207980_999-A</td>\n",
       "    </tr>\n",
       "  </tbody>\n",
       "</table>\n",
       "<p>2638 rows × 4 columns</p>\n",
       "</div>"
      ],
      "text/plain": [
       "            Roll Subdirectory  images            subdir_id\n",
       "0     R014207815     3488-15A     273  R014207815_3488-15A\n",
       "1     R014207815     3489-15A     281  R014207815_3489-15A\n",
       "2     R014207815     3490-15A     198  R014207815_3490-15A\n",
       "3     R014207815      3491-8A     289   R014207815_3491-8A\n",
       "4     R014207815      3492-8A     334   R014207815_3492-8A\n",
       "...          ...          ...     ...                  ...\n",
       "2633  R014207980        994-B     375     R014207980_994-B\n",
       "2634  R014207980        995-B     376     R014207980_995-B\n",
       "2635  R014207980        996-A     348     R014207980_996-A\n",
       "2636  R014207980        997-A     377     R014207980_997-A\n",
       "2637  R014207980        999-A     398     R014207980_999-A\n",
       "\n",
       "[2638 rows x 4 columns]"
      ]
     },
     "execution_count": 5,
     "metadata": {},
     "output_type": "execute_result"
    }
   ],
   "source": [
    "df_record.to_csv(logDir + 'image_inventory.csv', index=False)\n",
    "df_record"
   ]
  },
  {
   "cell_type": "code",
   "execution_count": 6,
   "id": "e2f10719",
   "metadata": {},
   "outputs": [
    {
     "name": "stdout",
     "output_type": "stream",
     "text": [
      "There are 2638 subdirectories.\n",
      "There are on average 59.0 +/- 6.0 subdirectories in each roll.\n",
      "There are on average 336.0 +/- 55.0 images in each subdirectory.\n"
     ]
    }
   ],
   "source": [
    "print('There are ' + str(len(df_record)) + ' subdirectories.')\n",
    "\n",
    "df1 = pd.DataFrame()\n",
    "for roll in df_record['Roll'].unique():\n",
    "    df_roll = df_record.loc[df_record['Roll'] == roll] \n",
    "    df1_ = pd.DataFrame({\n",
    "        'Roll': roll,\n",
    "        'n_subdirs': len(df_roll)\n",
    "    }, index=[0])\n",
    "    df1 = pd.concat([df1, df1_], ignore_index=True)\n",
    "mean = df1['n_subdirs'].mean()\n",
    "std_dev = df1['n_subdirs'].std()\n",
    "print('There are on average ' + str(round(mean,0)) + ' +/- ' + str(round(std_dev,0)) + ' subdirectories in each roll.')\n",
    "\n",
    "mean = df_record['images'].mean()\n",
    "std_dev = df_record['images'].std()\n",
    "print('There are on average ' + str(round(mean,0)) + ' +/- ' + str(round(std_dev,0)) + ' images in each subdirectory.')"
   ]
  },
  {
   "cell_type": "markdown",
   "id": "3d1c195e",
   "metadata": {},
   "source": [
    "At a rate of ~ 9.52 min/subdirectory (on VDI HP), we estimate if could take ~ **17.4 days** to process all 2638 subdirectories."
   ]
  }
 ],
 "metadata": {
  "kernelspec": {
   "display_name": "Python 3",
   "language": "python",
   "name": "python3"
  },
  "language_info": {
   "codemirror_mode": {
    "name": "ipython",
    "version": 3
   },
   "file_extension": ".py",
   "mimetype": "text/x-python",
   "name": "python",
   "nbconvert_exporter": "python",
   "pygments_lexer": "ipython3",
   "version": "3.8.8"
  }
 },
 "nbformat": 4,
 "nbformat_minor": 5
}
