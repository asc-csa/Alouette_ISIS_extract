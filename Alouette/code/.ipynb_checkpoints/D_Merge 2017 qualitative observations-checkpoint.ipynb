{
 "cells": [
  {
   "cell_type": "markdown",
   "id": "5ceb0031",
   "metadata": {},
   "source": [
    "# Merge 2017 information with our own\n",
    "\n",
    "In 2017, David Lessard's team worked on Alouette and create result files which are in *L:\\DATA\\Alouette_I\\Total\\06_log\\2017*. The goal of this notebook is to add those information to our image_inventory.csv and result_postprocess_raw.csv files in *L:\\DATA\\Alouette_I\\Total\\05_result*.\n",
    "\n",
    "The first function is to add the information in *Alouette-1 scan quality qualitative observations-2017.xls* to image_inventory.csv. The function returns the new image_inventory.csv and a list of images in the 2017's file that weren't found in the image_inventory.csv (the name of the directory or subdirectory probably changed)."
   ]
  },
  {
   "cell_type": "code",
   "execution_count": 3,
   "id": "e00f8820",
   "metadata": {},
   "outputs": [],
   "source": [
    "import pandas as pd\n",
    "import numpy as np\n",
    "\n",
    "def comment(file):\n",
    "    \n",
    "    # Import files\n",
    "    image_inventory = pd.read_csv(file)\n",
    "    image_inventory['Subdirectory'] = image_inventory['Subdirectory'].apply(str)\n",
    "    \n",
    "    comment_2017 = pd.read_excel('L:/DATA/Alouette_I/Total/06_log/2017/Alouette-1 scan quality qualitative observations-2017.xls',\n",
    "                                 names = ['Directory','Subdirectory','Date','Comment','Hard_Drive'] ,nrows = 448)\n",
    "    comment_2017['Subdirectory'] = comment_2017['Subdirectory'].apply(str)\n",
    "    \n",
    "    # Create comment column in image inventory file\n",
    "    image_inventory['Comment'] = np.repeat(np.nan,len(image_inventory))\n",
    "    \n",
    "    # Initialize list of not found subdirectories\n",
    "    notfound = pd.DataFrame(columns = ['Directory','Subdirectory','Date','Comment','Hard_Drive'])\n",
    "    k = 0\n",
    "    \n",
    "    for i in range(len(comment_2017)):\n",
    "        sub = comment_2017['Subdirectory'][i]\n",
    "        idx = image_inventory[image_inventory['Subdirectory'] == sub].index\n",
    "        if idx.empty :\n",
    "            notfound.loc[k] = comment_2017.loc[i]\n",
    "            k+=1\n",
    "        else :\n",
    "            image_inventory['Comment'][idx] =  comment_2017['Comment'][i]\n",
    "            \n",
    "    return(image_inventory,notfound)"
   ]
  },
  {
   "cell_type": "code",
   "execution_count": 4,
   "id": "eeaa74a8",
   "metadata": {},
   "outputs": [
    {
     "name": "stderr",
     "output_type": "stream",
     "text": [
      "<ipython-input-3-6a57cc20d5bf>:28: SettingWithCopyWarning: \n",
      "A value is trying to be set on a copy of a slice from a DataFrame\n",
      "\n",
      "See the caveats in the documentation: https://pandas.pydata.org/pandas-docs/stable/user_guide/indexing.html#returning-a-view-versus-a-copy\n",
      "  image_inventory['Comment'][idx] =  comment_2017['Comment'][i]\n"
     ]
    }
   ],
   "source": [
    "file = 'L:/DATA/Alouette_I/Total/06_log/image_inventory.csv'\n",
    "image_inventory, notfound = comment(file)\n",
    "image_inventory.to_csv(file,index=False)"
   ]
  },
  {
   "cell_type": "markdown",
   "id": "205bd1a5",
   "metadata": {},
   "source": [
    "The second function is to add the information in *list_of_changes_to_images_1-Lessard_2017.txt*, *list_of_changes_to_images_2-Lessard_2017.txt* and *list_of_changes_to_images_3-Lessard_2017.txt* to result_postprocess_raw.csv. The function returns the new result_postprocess_raw.csv and a list of images in the 2017's file that weren't found in result_postprocess_raw.csv (the name of the directory or subdirectory probably changed). For more information on the columns of the text file, I suggest you look at them in the txt files directly."
   ]
  },
  {
   "cell_type": "code",
   "execution_count": 5,
   "id": "78f01485",
   "metadata": {},
   "outputs": [],
   "source": [
    "def transformation(res_postprocess):\n",
    "\n",
    "    # Initialize list of not found images\n",
    "    notfoundtxt = pd.DataFrame(columns = ['Hard_Drive','Directory','Subdirectory','Image','Metadata','Rflx','Error'])\n",
    "    k = 0\n",
    "    \n",
    "    for i in range(len(txt_2017)):\n",
    "        if i%1000 == 0:\n",
    "            print(str(i)+'th row on 177952...')\n",
    "        sub = txt_2017['Subdirectory'][i]\n",
    "        im = txt_2017['Image'][i]\n",
    "        idx = res_postprocess.loc[(res_postprocess['Subdirectory'] == sub) & (res_postprocess['filename'] == im)].index\n",
    "        if idx.empty :\n",
    "            notfoundtxt.loc[k] = txt_2017.loc[i]\n",
    "            k+=1\n",
    "        else :\n",
    "            res_postprocess['Change_Metadata'][idx] = txt_2017['Metadata'][i]\n",
    "            res_postprocess['Change_Rflx'][idx] = txt_2017['Rflx'][i]\n",
    "            res_postprocess['Change_Error'][idx] = txt_2017['Error'][i]    \n",
    "\n",
    "    return(res_postprocess, notfoundtxt)"
   ]
  },
  {
   "cell_type": "code",
   "execution_count": null,
   "id": "42e81ca5",
   "metadata": {},
   "outputs": [],
   "source": [
    "file = 'L:/DATA/Alouette_I/BATCH_I_Run2/05_result/result_postprocess_raw.csv'\n",
    "res_postprocess = pd.read_csv(file)\n",
    "res_postprocess['Subdirectory'] = res_postprocess['Subdirectory'].apply(str)\n",
    "\n",
    "\n",
    "txtfile = ['L:/DATA/Alouette_I/Total/06_log/2017/list_of_changes_to_images_1-Lessard_2017.txt',\n",
    "           'L:/DATA/Alouette_I/Total/06_log/2017/list_of_changes_to_images_2-Lessard_2017.txt',\n",
    "           'L:/DATA/Alouette_I/Total/06_log/2017/list_of_changes_to_images_3-Lessard_2017.txt']\n",
    "txt1_2017 = pd.read_csv(txtfile[0],skiprows=13,sep=' ',index_col=False,\n",
    "                        names=['Hard_Drive','Directory','Subdirectory','Image','Metadata','Rflx','Error'])\n",
    "txt2_2017 = pd.read_csv(txtfile[1],skiprows=15,sep=' ',index_col=False,\n",
    "                        names=['Hard_Drive','Directory','Subdirectory','Image','Metadata','Rflx','Error'])\n",
    "txt3_2017 = pd.read_csv(txtfile[2],skiprows=13,sep=' ',index_col=False,\n",
    "                        names=['Hard_Drive','Directory','Subdirectory','Image','Metadata','Rflx','Error'])\n",
    "txt_2017 = pd.concat([txt1_2017,txt2_2017,txt3_2017], ignore_index=True)\n",
    "txt_2017.drop_duplicates(inplace=True)\n",
    "txt_2017['Subdirectory'] = txt_2017['Subdirectory'].apply(str)\n",
    "\n",
    "#Create new columns in postprocess file\n",
    "res_postprocess['Change_Metadata'] = np.repeat(np.nan,len(res_postprocess))\n",
    "res_postprocess['Change_Rflx'] = np.repeat(np.nan,len(res_postprocess))\n",
    "res_postprocess['Change_Error'] = np.repeat(np.nan,len(res_postprocess))\n",
    "\n",
    "res_postprocess, notfoundtxt = transformation(res_postprocess)\n",
    "res_postprocess.to_csv(file,index=False)"
   ]
  }
 ],
 "metadata": {
  "kernelspec": {
   "display_name": "Python 3",
   "language": "python",
   "name": "python3"
  },
  "language_info": {
   "codemirror_mode": {
    "name": "ipython",
    "version": 3
   },
   "file_extension": ".py",
   "mimetype": "text/x-python",
   "name": "python",
   "nbconvert_exporter": "python",
   "pygments_lexer": "ipython3",
   "version": "3.8.8"
  }
 },
 "nbformat": 4,
 "nbformat_minor": 5
}
