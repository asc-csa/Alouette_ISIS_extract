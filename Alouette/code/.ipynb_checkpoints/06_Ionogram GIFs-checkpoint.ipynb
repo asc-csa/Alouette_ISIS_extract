{
 "cells": [
  {
   "cell_type": "code",
   "execution_count": 2,
   "id": "b45f633f",
   "metadata": {},
   "outputs": [],
   "source": [
    "#importing required libraries"
   ]
  },
  {
   "cell_type": "code",
   "execution_count": 3,
   "id": "84b81ba2",
   "metadata": {},
   "outputs": [],
   "source": [
    "from PIL import Image"
   ]
  },
  {
   "cell_type": "code",
   "execution_count": 4,
   "id": "fdc380ab",
   "metadata": {},
   "outputs": [],
   "source": [
    "import glob"
   ]
  },
  {
   "cell_type": "markdown",
   "id": "faca6f04",
   "metadata": {},
   "source": [
    "## Num GIF"
   ]
  },
  {
   "cell_type": "code",
   "execution_count": 18,
   "id": "64b66baa",
   "metadata": {},
   "outputs": [],
   "source": [
    "# selected image path R014207930F>> 617>> Image 50 to 60\n",
    "image_paths = glob.glob(\"G:/rsheikholmolouki/Alouette/GIF_animations/NUM/*png\")"
   ]
  },
  {
   "cell_type": "code",
   "execution_count": 19,
   "id": "3d49176e",
   "metadata": {},
   "outputs": [],
   "source": [
    "frames= []"
   ]
  },
  {
   "cell_type": "code",
   "execution_count": 20,
   "id": "33cd7cf8",
   "metadata": {},
   "outputs": [],
   "source": [
    "#going over each image file\n",
    "for image_path in image_paths:\n",
    "    image = Image.open(image_path)\n",
    "    frames.append(image)"
   ]
  },
  {
   "cell_type": "code",
   "execution_count": 21,
   "id": "857414e7",
   "metadata": {},
   "outputs": [],
   "source": [
    "frames[0].save('G:/rsheikholmolouki/Alouette/GIF_animations/NUM/num_output.gif', format = 'GIF', append_images = frames[1:], save_all= True, duration = 200, loop = 0)"
   ]
  },
  {
   "cell_type": "markdown",
   "id": "ae62e445",
   "metadata": {},
   "source": [
    "## Dot GIF"
   ]
  },
  {
   "cell_type": "code",
   "execution_count": 23,
   "id": "2a28ede1",
   "metadata": {},
   "outputs": [],
   "source": [
    "# selected image path Batch I-Run II>> R014207979F>>296 Images rom 0326 to 0336\n",
    "image_paths = glob.glob(\"G:/rsheikholmolouki/Alouette/GIF_animations/Dot/*png\")"
   ]
  },
  {
   "cell_type": "code",
   "execution_count": 24,
   "id": "064abd01",
   "metadata": {},
   "outputs": [],
   "source": [
    "frames= []"
   ]
  },
  {
   "cell_type": "code",
   "execution_count": 25,
   "id": "b3d1e1bf",
   "metadata": {},
   "outputs": [],
   "source": [
    "#going over each image file\n",
    "for image_path in image_paths:\n",
    "    image = Image.open(image_path)\n",
    "    frames.append(image)"
   ]
  },
  {
   "cell_type": "code",
   "execution_count": 26,
   "id": "4846a9a5",
   "metadata": {},
   "outputs": [],
   "source": [
    "frames[0].save('G:/rsheikholmolouki/Alouette/GIF_animations/Dot/dot_output.gif', format = 'GIF', append_images = frames[1:], save_all= True, duration = 200, loop = 0)"
   ]
  },
  {
   "cell_type": "markdown",
   "id": "dbc45563",
   "metadata": {},
   "source": [
    "## Num 2 GIF"
   ]
  },
  {
   "cell_type": "code",
   "execution_count": 11,
   "id": "600838a6",
   "metadata": {},
   "outputs": [],
   "source": [
    "# selected image path is BATCH II_Run2 R014207836>> 4698-3a >> Image132 to 143\n",
    "image_paths = glob.glob(\"G:/rsheikholmolouki/Alouette/GIF_animations/NUM2/*png\")"
   ]
  },
  {
   "cell_type": "code",
   "execution_count": 12,
   "id": "712a3a8d",
   "metadata": {},
   "outputs": [],
   "source": [
    "frames= []"
   ]
  },
  {
   "cell_type": "code",
   "execution_count": 13,
   "id": "36b5ca2b",
   "metadata": {},
   "outputs": [],
   "source": [
    "#going over each image file\n",
    "for image_path in image_paths:\n",
    "    image = Image.open(image_path)\n",
    "    frames.append(image)"
   ]
  },
  {
   "cell_type": "code",
   "execution_count": 14,
   "id": "2734903c",
   "metadata": {},
   "outputs": [],
   "source": [
    "frames[0].save('G:/rsheikholmolouki/Alouette/GIF_animations/NUM2/num2_output.gif', format = 'GIF', append_images = frames[1:], save_all= True, duration = 200, loop = 0)"
   ]
  }
 ],
 "metadata": {
  "kernelspec": {
   "display_name": "Python 3",
   "language": "python",
   "name": "python3"
  },
  "language_info": {
   "codemirror_mode": {
    "name": "ipython",
    "version": 3
   },
   "file_extension": ".py",
   "mimetype": "text/x-python",
   "name": "python",
   "nbconvert_exporter": "python",
   "pygments_lexer": "ipython3",
   "version": "3.8.8"
  }
 },
 "nbformat": 4,
 "nbformat_minor": 5
}
