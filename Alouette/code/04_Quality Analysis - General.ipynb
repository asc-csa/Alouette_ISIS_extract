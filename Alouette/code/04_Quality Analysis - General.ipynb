{
 "cells": [
  {
   "cell_type": "markdown",
   "id": "aa42cc82",
   "metadata": {},
   "source": [
    "# Quality Analysis (General)\n",
    "\n",
    "#### Updated: Aug 17, 2023"
   ]
  },
  {
   "cell_type": "markdown",
   "id": "55ba88fc",
   "metadata": {},
   "source": [
    "#  "
   ]
  },
  {
   "cell_type": "markdown",
   "id": "a247d7b9",
   "metadata": {},
   "source": [
    "Quality analysis pipeline after Alouette-1 post-processing:"
   ]
  },
  {
   "cell_type": "code",
   "execution_count": 80,
   "id": "b5ed871f",
   "metadata": {},
   "outputs": [],
   "source": [
    "import os\n",
    "import numpy as np\n",
    "import pandas as pd\n",
    "import seaborn as sns"
   ]
  },
  {
   "cell_type": "code",
   "execution_count": 83,
   "id": "bdd9363e",
   "metadata": {},
   "outputs": [],
   "source": [
    "rootDir = '' #The file path to the root directory for your project\n",
    "resultDir = rootDir + '05_result/'\n",
    "logDir = rootDir + '06_log/'"
   ]
  },
  {
   "cell_type": "markdown",
   "id": "fc2f85e5",
   "metadata": {},
   "source": [
    "#  "
   ]
  },
  {
   "cell_type": "markdown",
   "id": "60c708ae",
   "metadata": {},
   "source": [
    "#### Functions:"
   ]
  },
  {
   "cell_type": "code",
   "execution_count": 84,
   "id": "d1960b7b",
   "metadata": {},
   "outputs": [],
   "source": [
    "def stage_1_stat(resultDir, logDir):\n",
    "    \n",
    "    df_inventory = pd.read_csv(logDir + 'image_inventory.csv')\n",
    "    n_images = df_inventory['images'].sum()\n",
    "    df_s1 = pd.read_csv(resultDir + 'result_stage1_raw.csv', low_memory=False)\n",
    "    n_proc = len(df_s1.loc[df_s1['processed_image_class'] == 'num']) + len(df_s1.loc[df_s1['processed_image_class'] == 'dot'])\n",
    "    n_loss = len(df_s1.loc[df_s1['processed_image_class'] == 'loss'])\n",
    "    n_outlier = len(df_s1.loc[df_s1['processed_image_class'] == 'outlier'])\n",
    "    n_unproc = n_images - n_proc - n_outlier - n_loss\n",
    "    \n",
    "    print('# of images: ' + str(n_images))\n",
    "    print('# of images processed after stage 1 processing: ' + str(n_proc))\n",
    "    print('% of images processed after stage 1 processing: ' + str(round(((n_proc/n_images)*100), 2)) + ' %')\n",
    "    print('')\n",
    "    print(\"% total loss after stage 1 processing: \" + str(round((((n_unproc + n_loss + n_outlier)/n_images)*100), 2)) + ' %')\n",
    "    print('% of images unprocessed after stage 1 processing: ' + str(round(((n_unproc/n_images)*100), 2)) + ' %')\n",
    "    print(\"% of images classified as 'loss' after stage 1 processing: \" + str(round(((n_loss/n_images)*100), 2)) + ' %')\n",
    "    print(\"% of images classified as 'outlier' after stage 1 processing: \" + str(round(((n_outlier/n_images)*100), 2)) + ' %')\n",
    "    \n",
    "    return df_s1"
   ]
  },
  {
   "cell_type": "code",
   "execution_count": 85,
   "id": "869fb364",
   "metadata": {},
   "outputs": [],
   "source": [
    "def stage_2_stat(resultDir, logDir):\n",
    "    \n",
    "    df_inventory = pd.read_csv(logDir + 'image_inventory.csv')\n",
    "    n_images = df_inventory['images'].sum()\n",
    "    df_s2 = pd.read_csv(resultDir + 'result_stage2_raw.csv', low_memory=False)\n",
    "    n_num2 = len(df_s2.loc[df_s2['processed_image_class'] == 'num2'])\n",
    "    n_num = len(df_s2.loc[df_s2['processed_image_class'] == 'num'])\n",
    "    n_dot = len(df_s2.loc[df_s2['processed_image_class'] == 'dot'])\n",
    "    n_proc2 = n_num2 + n_num + n_dot\n",
    "    n_loss = len(df_s2.loc[df_s2['processed_image_class'] == 'loss'])\n",
    "    n_outlier = len(df_s2.loc[df_s2['processed_image_class'] == 'outlier'])\n",
    "    n_unproc = n_images - n_proc2 - n_outlier - n_loss\n",
    "    \n",
    "    print('# of images processed after stage 2 processing: ' + str(n_proc2))\n",
    "    print('% of images processed after stage 2 processing: ' + str(round(((n_proc2/n_images)*100), 2)) + ' %')\n",
    "    print('')\n",
    "    print(\"% of images classified as 'num2' after stage 2 processing: \" + str(round(((n_num2/n_images)*100), 2)) + ' %')\n",
    "    print(\"% of images classified as 'num' after stage 2 processing: \" + str(round(((n_num/n_images)*100), 2)) + ' %')\n",
    "    print(\"% of images classified as 'dot' after stage 2 processing: \" + str(round(((n_dot/n_images)*100), 2)) + ' %')\n",
    "    print('')\n",
    "    print(\"% total loss after stage 2 processing: \" + str(round((((n_unproc + n_loss + n_outlier)/n_images)*100), 2)) + ' %')\n",
    "    print(\"% of images classified as 'loss' after stage 2 processing: \" + str(round(((n_loss/n_images)*100), 2)) + ' %')\n",
    "    print(\"% of images classified as 'outlier' after stage 2 processing: \" + str(round(((n_outlier/n_images)*100), 2)) + ' %')\n",
    "    \n",
    "    return df_s2"
   ]
  },
  {
   "cell_type": "code",
   "execution_count": 86,
   "id": "12c5b182",
   "metadata": {},
   "outputs": [],
   "source": [
    "def master_stat(resultDir, logDir):\n",
    "    \n",
    "    df_inventory = pd.read_csv(logDir + 'image_inventory.csv')\n",
    "    n_images = df_inventory['images'].sum()\n",
    "    df_master = pd.read_csv(resultDir + 'result_master.csv', low_memory=False)\n",
    "    #df_master = pd.read_csv(resultDir + 'result_master[1960_baseline].csv', low_memory=False)\n",
    "    n_master = len(df_master.loc[(~pd.isna(df_master['Station_Code'])) & (df_master['time_quality'] == 1)])\n",
    "    n_tq1 = len(df_master.loc[df_master['time_quality'] == 1])\n",
    "    n_tq2 = len(df_master.loc[df_master['time_quality'] == 2])\n",
    "    n_tq3 = len(df_master.loc[df_master['time_quality'] == 3])\n",
    "    n_tq4 = len(df_master.loc[df_master['time_quality'] == 4])\n",
    "    \n",
    "    print('# of images fully read after stage 2 processing: ' + str(n_master))\n",
    "    print('% of images fully read after stage 2 processing (yield): ' + str(round(((n_master/n_images)*100), 2)) + ' %')\n",
    "    print('')\n",
    "    print('% time quality level 1 yield: ' + str(round(((n_tq1/n_images)*100), 2)) + ' %')\n",
    "    print('% at least time quality level 2: ' + str(round((((n_tq1+n_tq2)/n_images)*100), 2)) + ' %')\n",
    "    print('% at least time quality level 3: ' + str(round((((n_tq1+n_tq2+n_tq3)/n_images)*100), 2)) + ' %')\n",
    "    print('% at least time quality level 4: ' + str(round((((n_tq1+n_tq2+n_tq3+n_tq4)/n_images)*100), 2)) + ' %')\n",
    "    \n",
    "    return df_master"
   ]
  },
  {
   "cell_type": "code",
   "execution_count": 87,
   "id": "6f9e4524",
   "metadata": {},
   "outputs": [],
   "source": [
    "def construct_process_summary(resultDir, logDir):\n",
    "    \n",
    "    df_inventory = pd.read_csv(logDir + 'image_inventory.csv')\n",
    "    df_process_log = pd.read_csv(logDir + 'process_log.csv')\n",
    "    df_s2 = pd.read_csv(resultDir + 'result_stage2_raw.csv', low_memory=False)\n",
    "    df_p1 = df_process_log.sort_values('Process_timestamp', ascending=True)\n",
    "    df_p1 = df_p1.drop_duplicates(subset=['subdir_id'], keep='last') \n",
    "    print(len(df_inventory))\n",
    "    print(len(df_p1))\n",
    "    df_process_log2 = pd.read_csv(logDir + 'process_log_OCR.csv')\n",
    "    df_p2 = df_process_log2.sort_values('Process_timestamp', ascending=True)\n",
    "    df_p2 = df_p2.drop_duplicates(subset=['subdir_id'], keep='last') \n",
    "    print(len(df_p2))\n",
    "    \n",
    "    df_sum1 = df_inventory.merge(df_p1[['Images_processed', 'Images_loss', 'Images_outlier', 'Process_time', 'subdir_id']], how='left', on='subdir_id')\n",
    "    df_sum1 = df_sum1.rename(columns={\n",
    "        'images': 'n_images',\n",
    "        'Images_loss': 'n_stage1_loss',\n",
    "        'Images_outlier': 'n_stage1_outlier',\n",
    "        'Process_time': 'process_time_stage1'\n",
    "    })\n",
    "    df_sum1['n_stage1_processed'] = df_sum1['Images_processed'] - df_sum1['n_stage1_loss'] - df_sum1['n_stage1_outlier']\n",
    "    df_sum1['n_stage1_unprocessed'] = df_sum1['n_images'] - df_sum1['Images_processed']\n",
    "    df_sum1 = df_sum1[['Directory', 'Subdirectory', 'n_images', 'n_stage1_processed', 'n_stage1_unprocessed', 'n_stage1_loss',\n",
    "                      'n_stage1_outlier', 'process_time_stage1', 'subdir_id']]\n",
    "    \n",
    "    df_sum2 = df_sum1.merge(df_p2[['Process_time', 'subdir_id']], how='left', on='subdir_id')\n",
    "    df_sum2 = df_sum2.rename(columns={\n",
    "        'Process_time': 'process_time_stage2'\n",
    "    })\n",
    "    df_sum2 = df_sum2[['Directory', 'Subdirectory', 'n_images', 'n_stage1_processed', 'n_stage1_unprocessed', 'n_stage1_loss',\n",
    "                      'n_stage1_outlier', 'process_time_stage1', 'process_time_stage2', 'subdir_id']]\n",
    "    \n",
    "    df_s2['subdir_id'] = df_s2['Directory'] + '_' + df_s2['Subdirectory']\n",
    "    df_sum3_ = pd.DataFrame()\n",
    "    for i in range(0, len(df_sum2)):\n",
    "        subdir_id = df_sum2['subdir_id'].iloc[i]\n",
    "        df_s2_ = df_s2[['processed_image_class', 'filename', 'subdir_id']].loc[df_s2['subdir_id'] == subdir_id]\n",
    "        if len(df_s2_) > 0:\n",
    "            n_s2_proc = len(df_s2_.loc[df_s2_['processed_image_class'] == 'num2']) + len(df_s2_.loc[df_s2_['processed_image_class'] == 'num']) + len(df_s2_.loc[df_s2_['processed_image_class'] == 'dot'])\n",
    "            n_s2_loss = len(df_s2_.loc[df_s2_['processed_image_class'] == 'loss'])\n",
    "            n_s2_outlier = len(df_s2_.loc[df_s2_['processed_image_class'] == 'outlier'])\n",
    "            row = pd.DataFrame({\n",
    "                'n_stage2_processed': n_s2_proc,\n",
    "                'n_stage2_loss': n_s2_loss,\n",
    "                'n_stage2_outlier': n_s2_outlier,\n",
    "                'subdir_id': subdir_id\n",
    "            }, index=[0])\n",
    "            df_sum3_ = pd.concat([df_sum3_, row])\n",
    "\n",
    "    df_sum3 = df_sum2.merge(df_sum3_, how='left', on='subdir_id')\n",
    "    df_sum3 = df_sum3[['Directory', 'Subdirectory', 'n_images', 'n_stage1_processed', 'n_stage1_unprocessed', 'n_stage1_loss',\n",
    "                      'n_stage1_outlier', 'process_time_stage1', 'process_time_stage2', 'n_stage2_processed', 'n_stage2_loss',\n",
    "                      'n_stage2_outlier', 'subdir_id']]\n",
    "    \n",
    "    return df_sum3 "
   ]
  },
  {
   "cell_type": "code",
   "execution_count": 88,
   "id": "ff700f92",
   "metadata": {},
   "outputs": [],
   "source": [
    "def construct_process_summary2(df_sum3, resultDir):\n",
    "    \n",
    "    df_pp = pd.read_csv(resultDir + 'result_postprocess_raw.csv', low_memory=False)\n",
    "    df_pp['subdir_id'] = df_pp['Directory'] + '_' + df_pp['Subdirectory']\n",
    "    \n",
    "    df_sum4_ = pd.DataFrame()\n",
    "    for i in range(0, len(df_sum3)):\n",
    "        subdir_id = df_sum3['subdir_id'].iloc[i]\n",
    "        df_pp_ = df_pp[['processed_image_class', 'filename', 'subdir_id']].loc[df_pp['subdir_id'] == subdir_id]\n",
    "        if len(df_pp_) > 0:\n",
    "            n_pp_proc = len(df_pp_.loc[df_pp_['processed_image_class'] == 'num2']) + len(df_pp_.loc[df_pp_['processed_image_class'] == 'num']) + len(df_pp_.loc[df_pp_['processed_image_class'] == 'dot'])\n",
    "            n_pp_loss = len(df_pp_.loc[df_pp_['processed_image_class'] == 'loss'])\n",
    "            n_pp_outlier = len(df_pp_.loc[df_pp_['processed_image_class'] == 'outlier'])\n",
    "            row = pd.DataFrame({\n",
    "                'n_postprocess_processed': n_pp_proc,\n",
    "                'n_postprocess_loss': n_pp_loss,\n",
    "                'n_postprocess_outlier': n_pp_outlier,\n",
    "                'subdir_id': subdir_id\n",
    "            }, index=[0])\n",
    "            df_sum4_ = pd.concat([df_sum4_, row])\n",
    "\n",
    "    df_sum4 = df_sum3.merge(df_sum4_, how='left', on='subdir_id')\n",
    "    df_sum4 = df_sum4[['Directory', 'Subdirectory', 'n_images', 'n_stage1_processed', 'n_stage1_unprocessed', 'n_stage1_loss',\n",
    "                      'n_stage1_outlier', 'process_time_stage1', 'process_time_stage2', 'n_stage2_processed', 'n_stage2_loss',\n",
    "                      'n_stage2_outlier', 'n_postprocess_processed', 'n_postprocess_loss', 'n_postprocess_outlier', 'subdir_id']]\n",
    "    \n",
    "    return df_sum4"
   ]
  },
  {
   "cell_type": "code",
   "execution_count": 89,
   "id": "b2c3c0ee",
   "metadata": {},
   "outputs": [],
   "source": [
    "def construct_process_summary3(df_sum4, resultDir, logDir):\n",
    "    \n",
    "    df_master = pd.read_csv(resultDir + 'result_master.csv', low_memory=False)\n",
    "    df_master['subdir_id'] = df_master['Directory'] + '_' + df_master['Subdirectory']\n",
    "    \n",
    "    df_sum5_ = pd.DataFrame()\n",
    "    for i in range(0, len(df_sum4)):\n",
    "        subdir_id = df_sum4['subdir_id'].iloc[i]\n",
    "        df_master_ = df_master[['processed_image_class', 'filename', 'subdir_id']].loc[df_master['subdir_id'] == subdir_id]\n",
    "        if len(df_master_) > 0:\n",
    "            n_mas = len(df_master_)\n",
    "            n_mas_num2 = len(df_master_.loc[df_master_['processed_image_class'] == 'num2'])\n",
    "            n_mas_num = len(df_master_.loc[df_master_['processed_image_class'] == 'num'])\n",
    "            n_mas_dot = len(df_master_.loc[df_master_['processed_image_class'] == 'dot'])\n",
    "            row = pd.DataFrame({\n",
    "                'n_master': n_mas,\n",
    "                'n_master_num2': n_mas_num2,\n",
    "                'n_master_num': n_mas_num,\n",
    "                'n_master_dot': n_mas_dot,\n",
    "                'subdir_id': subdir_id\n",
    "            }, index=[0])\n",
    "            df_sum5_ = pd.concat([df_sum5_, row])\n",
    "\n",
    "    df_sum5 = df_sum4.merge(df_sum5_, how='left', on='subdir_id')\n",
    "    df_sum5 = df_sum5[['Directory', 'Subdirectory', 'n_images', 'n_stage1_processed', 'n_stage1_unprocessed', 'n_stage1_loss',\n",
    "                      'n_stage1_outlier', 'process_time_stage1', 'process_time_stage2', 'n_stage2_processed', 'n_stage2_loss',\n",
    "                      'n_stage2_outlier', 'n_postprocess_processed', 'n_postprocess_loss', 'n_postprocess_outlier', \n",
    "                      'n_master', 'n_master_num2', 'n_master_num', 'n_master_dot', 'subdir_id']]\n",
    "    print(len(df_sum5))\n",
    "    df_sum5.to_csv(logDir + 'process_summary.csv', index=False)\n",
    "    \n",
    "    return df_sum5"
   ]
  },
  {
   "cell_type": "markdown",
   "id": "050acca5",
   "metadata": {},
   "source": [
    "#  "
   ]
  },
  {
   "cell_type": "markdown",
   "id": "275bfd35",
   "metadata": {},
   "source": [
    "#### Process Summary - LONG STEP, DO NOT RUN if process_summary already created:"
   ]
  },
  {
   "cell_type": "code",
   "execution_count": null,
   "id": "7ea3ea05",
   "metadata": {
    "scrolled": true
   },
   "outputs": [],
   "source": [
    "df_sum3 = construct_process_summary(resultDir=resultDir, logDir=logDir)\n",
    "df_sum4 = construct_process_summary2(df_sum3=df_sum3, resultDir=resultDir)\n",
    "df_summary = construct_process_summary3(df_sum4=df_sum4, resultDir=resultDir, logDir=logDir)\n",
    "df_summary = df_summary.sort_values('subdir_id')\n",
    "df_summary.to_csv(logDir + 'process_summary.csv', index=False)\n",
    "print(len(df_summary))\n",
    "df_summary.head()"
   ]
  },
  {
   "cell_type": "markdown",
   "id": "bfede37a",
   "metadata": {},
   "source": [
    "#  "
   ]
  },
  {
   "cell_type": "markdown",
   "id": "6ec4cd5d",
   "metadata": {},
   "source": [
    "#### Stage 1 - Overall Statistics:"
   ]
  },
  {
   "cell_type": "code",
   "execution_count": 92,
   "id": "b0ee341d",
   "metadata": {},
   "outputs": [
    {
     "name": "stdout",
     "output_type": "stream",
     "text": [
      "# of images: 1612104\n",
      "# of images processed after stage 1 processing: 1219418\n",
      "% of images processed after stage 1 processing: 75.64 %\n",
      "\n",
      "% total loss after stage 1 processing: 24.36 %\n",
      "% of images unprocessed after stage 1 processing: 10.57 %\n",
      "% of images classified as 'loss' after stage 1 processing: 8.55 %\n",
      "% of images classified as 'outlier' after stage 1 processing: 5.24 %\n"
     ]
    }
   ],
   "source": [
    "df_s1 = stage_1_stat(resultDir=resultDir, logDir=logDir)"
   ]
  },
  {
   "cell_type": "code",
   "execution_count": 93,
   "id": "8a849bae",
   "metadata": {},
   "outputs": [
    {
     "data": {
      "text/html": [
       "<div>\n",
       "<style scoped>\n",
       "    .dataframe tbody tr th:only-of-type {\n",
       "        vertical-align: middle;\n",
       "    }\n",
       "\n",
       "    .dataframe tbody tr th {\n",
       "        vertical-align: top;\n",
       "    }\n",
       "\n",
       "    .dataframe thead th {\n",
       "        text-align: right;\n",
       "    }\n",
       "</style>\n",
       "<table border=\"1\" class=\"dataframe\">\n",
       "  <thead>\n",
       "    <tr style=\"text-align: right;\">\n",
       "      <th></th>\n",
       "      <th>filename</th>\n",
       "    </tr>\n",
       "    <tr>\n",
       "      <th>func_name</th>\n",
       "      <th></th>\n",
       "    </tr>\n",
       "  </thead>\n",
       "  <tbody>\n",
       "    <tr>\n",
       "      <th>metadata_translation.determine_leftside_metadata_grid_mapping.extract_centroids_and_determine_type</th>\n",
       "      <td>38122</td>\n",
       "    </tr>\n",
       "    <tr>\n",
       "      <th>ionogram_content_extraction.extract_select_parameters.extract_fmin_and_max_depth</th>\n",
       "      <td>22546</td>\n",
       "    </tr>\n",
       "    <tr>\n",
       "      <th>image_segmentation.trim_raw_metadata.trimming_metadata</th>\n",
       "      <td>10550</td>\n",
       "    </tr>\n",
       "    <tr>\n",
       "      <th>ionogram_content_extraction.extract_all_coordinates_ionogram_trace.extract_coord_subdir</th>\n",
       "      <td>662</td>\n",
       "    </tr>\n",
       "    <tr>\n",
       "      <th>image_segmentation.extract_ionogram_from_scan.extract_ionogram</th>\n",
       "      <td>18</td>\n",
       "    </tr>\n",
       "  </tbody>\n",
       "</table>\n",
       "</div>"
      ],
      "text/plain": [
       "                                                    filename\n",
       "func_name                                                   \n",
       "metadata_translation.determine_leftside_metadat...     38122\n",
       "ionogram_content_extraction.extract_select_para...     22546\n",
       "image_segmentation.trim_raw_metadata.trimming_m...     10550\n",
       "ionogram_content_extraction.extract_all_coordin...       662\n",
       "image_segmentation.extract_ionogram_from_scan.e...        18"
      ]
     },
     "execution_count": 93,
     "metadata": {},
     "output_type": "execute_result"
    }
   ],
   "source": [
    "df_loss_bd = df_s1.loc[df_s1['processed_image_class'] == 'loss'].groupby(['func_name']).count()[['filename']]\n",
    "df_loss_bd.sort_values('filename', ascending=False)"
   ]
  },
  {
   "cell_type": "code",
   "execution_count": 94,
   "id": "e0defaee",
   "metadata": {},
   "outputs": [
    {
     "data": {
      "text/html": [
       "<div>\n",
       "<style scoped>\n",
       "    .dataframe tbody tr th:only-of-type {\n",
       "        vertical-align: middle;\n",
       "    }\n",
       "\n",
       "    .dataframe tbody tr th {\n",
       "        vertical-align: top;\n",
       "    }\n",
       "\n",
       "    .dataframe thead th {\n",
       "        text-align: right;\n",
       "    }\n",
       "</style>\n",
       "<table border=\"1\" class=\"dataframe\">\n",
       "  <thead>\n",
       "    <tr style=\"text-align: right;\">\n",
       "      <th></th>\n",
       "      <th>filename</th>\n",
       "    </tr>\n",
       "    <tr>\n",
       "      <th>func_name</th>\n",
       "      <th></th>\n",
       "    </tr>\n",
       "  </thead>\n",
       "  <tbody>\n",
       "    <tr>\n",
       "      <th>image_segmentation.segment_images_in_subdir.segment_images: iono size outlier</th>\n",
       "      <td>81777</td>\n",
       "    </tr>\n",
       "    <tr>\n",
       "      <th>image_segmentation.segment_images_in_subdir.segment_images: metadata size outlier</th>\n",
       "      <td>2731</td>\n",
       "    </tr>\n",
       "  </tbody>\n",
       "</table>\n",
       "</div>"
      ],
      "text/plain": [
       "                                                    filename\n",
       "func_name                                                   \n",
       "image_segmentation.segment_images_in_subdir.seg...     81777\n",
       "image_segmentation.segment_images_in_subdir.seg...      2731"
      ]
     },
     "execution_count": 94,
     "metadata": {},
     "output_type": "execute_result"
    }
   ],
   "source": [
    "df_outlier_bd = df_s1.loc[df_s1['processed_image_class'] == 'outlier'].groupby(['func_name']).count()[['filename']]\n",
    "df_outlier_bd.sort_values('filename', ascending=False)"
   ]
  },
  {
   "cell_type": "markdown",
   "id": "76a5ab29",
   "metadata": {},
   "source": [
    "####  "
   ]
  },
  {
   "cell_type": "markdown",
   "id": "831ca90b",
   "metadata": {},
   "source": [
    "#### Stage 2 - Overall Statistics:"
   ]
  },
  {
   "cell_type": "code",
   "execution_count": 95,
   "id": "e0df1ce3",
   "metadata": {},
   "outputs": [
    {
     "name": "stdout",
     "output_type": "stream",
     "text": [
      "# of images processed after stage 2 processing: 942093\n",
      "% of images processed after stage 2 processing: 58.44 %\n",
      "\n",
      "% of images classified as 'num2' after stage 2 processing: 9.06 %\n",
      "% of images classified as 'num' after stage 2 processing: 44.81 %\n",
      "% of images classified as 'dot' after stage 2 processing: 4.57 %\n",
      "\n",
      "% total loss after stage 2 processing: 41.56 %\n",
      "% of images classified as 'loss' after stage 2 processing: 25.8 %\n",
      "% of images classified as 'outlier' after stage 2 processing: 5.16 %\n"
     ]
    }
   ],
   "source": [
    "df_s2 = stage_2_stat(resultDir=resultDir, logDir=logDir)"
   ]
  },
  {
   "cell_type": "code",
   "execution_count": 96,
   "id": "12f2ccd9",
   "metadata": {},
   "outputs": [
    {
     "data": {
      "text/html": [
       "<div>\n",
       "<style scoped>\n",
       "    .dataframe tbody tr th:only-of-type {\n",
       "        vertical-align: middle;\n",
       "    }\n",
       "\n",
       "    .dataframe tbody tr th {\n",
       "        vertical-align: top;\n",
       "    }\n",
       "\n",
       "    .dataframe thead th {\n",
       "        text-align: right;\n",
       "    }\n",
       "</style>\n",
       "<table border=\"1\" class=\"dataframe\">\n",
       "  <thead>\n",
       "    <tr style=\"text-align: right;\">\n",
       "      <th></th>\n",
       "      <th>filename</th>\n",
       "    </tr>\n",
       "    <tr>\n",
       "      <th>loss_summary</th>\n",
       "      <th></th>\n",
       "    </tr>\n",
       "  </thead>\n",
       "  <tbody>\n",
       "    <tr>\n",
       "      <th>image_segmentation.segment_images_in_subdir.segment_images: iono size outlier, OCR read metadata contains letters</th>\n",
       "      <td>1213</td>\n",
       "    </tr>\n",
       "    <tr>\n",
       "      <th>ionogram_content_extraction.extract_select_parameters.extract_fmin_and_max_depth, OCR read metadata contains letters</th>\n",
       "      <td>363</td>\n",
       "    </tr>\n",
       "    <tr>\n",
       "      <th>metadata_translation.determine_leftside_metadata_grid_mapping.extract_centroids_and_determine_type, OCR read metadata contains letters</th>\n",
       "      <td>35</td>\n",
       "    </tr>\n",
       "    <tr>\n",
       "      <th>image_segmentation.trim_raw_metadata.trimming_metadata, OCR read metadata contains letters</th>\n",
       "      <td>20</td>\n",
       "    </tr>\n",
       "    <tr>\n",
       "      <th>image_segmentation.segment_images_in_subdir.segment_images: metadata size outlier, OCR read metadata contains letters</th>\n",
       "      <td>9</td>\n",
       "    </tr>\n",
       "    <tr>\n",
       "      <th>ionogram_content_extraction.extract_all_coordinates_ionogram_trace.extract_coord_subdir, OCR read metadata contains letters</th>\n",
       "      <td>6</td>\n",
       "    </tr>\n",
       "  </tbody>\n",
       "</table>\n",
       "</div>"
      ],
      "text/plain": [
       "                                                    filename\n",
       "loss_summary                                                \n",
       "image_segmentation.segment_images_in_subdir.seg...      1213\n",
       "ionogram_content_extraction.extract_select_para...       363\n",
       "metadata_translation.determine_leftside_metadat...        35\n",
       "image_segmentation.trim_raw_metadata.trimming_m...        20\n",
       "image_segmentation.segment_images_in_subdir.seg...         9\n",
       "ionogram_content_extraction.extract_all_coordin...         6"
      ]
     },
     "execution_count": 96,
     "metadata": {},
     "output_type": "execute_result"
    }
   ],
   "source": [
    "df_s2_loss = df_s2.copy(deep=True).loc[df_s2['processed_image_class'] == 'loss']\n",
    "df_s2_loss['loss_summary'] = df_s2_loss['func_name'] + ', ' + df_s2_loss['details'] \n",
    "df_loss_bd = df_s2_loss.groupby(['loss_summary']).count()[['filename']]\n",
    "df_loss_bd.sort_values('filename', ascending=False)"
   ]
  },
  {
   "cell_type": "code",
   "execution_count": 97,
   "id": "20471cd0",
   "metadata": {},
   "outputs": [
    {
     "data": {
      "text/html": [
       "<div>\n",
       "<style scoped>\n",
       "    .dataframe tbody tr th:only-of-type {\n",
       "        vertical-align: middle;\n",
       "    }\n",
       "\n",
       "    .dataframe tbody tr th {\n",
       "        vertical-align: top;\n",
       "    }\n",
       "\n",
       "    .dataframe thead th {\n",
       "        text-align: right;\n",
       "    }\n",
       "</style>\n",
       "<table border=\"1\" class=\"dataframe\">\n",
       "  <thead>\n",
       "    <tr style=\"text-align: right;\">\n",
       "      <th></th>\n",
       "      <th>filename</th>\n",
       "    </tr>\n",
       "    <tr>\n",
       "      <th>details</th>\n",
       "      <th></th>\n",
       "    </tr>\n",
       "  </thead>\n",
       "  <tbody>\n",
       "    <tr>\n",
       "      <th>metadata could not be read by OCR</th>\n",
       "      <td>246360</td>\n",
       "    </tr>\n",
       "    <tr>\n",
       "      <th>OCR read metadata contains letters</th>\n",
       "      <td>23984</td>\n",
       "    </tr>\n",
       "    <tr>\n",
       "      <th>metadata was interpreted to be num type</th>\n",
       "      <td>4087</td>\n",
       "    </tr>\n",
       "    <tr>\n",
       "      <th>metadata was interpreted to be dot type</th>\n",
       "      <td>4073</td>\n",
       "    </tr>\n",
       "  </tbody>\n",
       "</table>\n",
       "</div>"
      ],
      "text/plain": [
       "                                         filename\n",
       "details                                          \n",
       "metadata could not be read by OCR          246360\n",
       "OCR read metadata contains letters          23984\n",
       "metadata was interpreted to be num type      4087\n",
       "metadata was interpreted to be dot type      4073"
      ]
     },
     "execution_count": 97,
     "metadata": {},
     "output_type": "execute_result"
    }
   ],
   "source": [
    "df_s2_loss = df_s2.loc[df_s2['processed_image_class'] == 'loss']\n",
    "df_loss_bd = df_s2_loss.groupby(['details']).count()[['filename']]\n",
    "df_loss_bd.sort_values('filename', ascending=False)"
   ]
  },
  {
   "cell_type": "code",
   "execution_count": 98,
   "id": "a32a5534",
   "metadata": {},
   "outputs": [
    {
     "data": {
      "text/html": [
       "<div>\n",
       "<style scoped>\n",
       "    .dataframe tbody tr th:only-of-type {\n",
       "        vertical-align: middle;\n",
       "    }\n",
       "\n",
       "    .dataframe tbody tr th {\n",
       "        vertical-align: top;\n",
       "    }\n",
       "\n",
       "    .dataframe thead th {\n",
       "        text-align: right;\n",
       "    }\n",
       "</style>\n",
       "<table border=\"1\" class=\"dataframe\">\n",
       "  <thead>\n",
       "    <tr style=\"text-align: right;\">\n",
       "      <th></th>\n",
       "      <th>filename</th>\n",
       "    </tr>\n",
       "    <tr>\n",
       "      <th>func_name</th>\n",
       "      <th></th>\n",
       "    </tr>\n",
       "  </thead>\n",
       "  <tbody>\n",
       "    <tr>\n",
       "      <th>image_segmentation.segment_images_in_subdir.segment_images: iono size outlier</th>\n",
       "      <td>80533</td>\n",
       "    </tr>\n",
       "    <tr>\n",
       "      <th>image_segmentation.segment_images_in_subdir.segment_images: metadata size outlier</th>\n",
       "      <td>2722</td>\n",
       "    </tr>\n",
       "  </tbody>\n",
       "</table>\n",
       "</div>"
      ],
      "text/plain": [
       "                                                    filename\n",
       "func_name                                                   \n",
       "image_segmentation.segment_images_in_subdir.seg...     80533\n",
       "image_segmentation.segment_images_in_subdir.seg...      2722"
      ]
     },
     "execution_count": 98,
     "metadata": {},
     "output_type": "execute_result"
    }
   ],
   "source": [
    "df_s2_outlier = df_s2.loc[df_s2['processed_image_class'] == 'outlier']\n",
    "df_outlier_bd = df_s2_outlier.groupby(['func_name']).count()[['filename']]\n",
    "df_outlier_bd.sort_values('filename', ascending=False)"
   ]
  },
  {
   "cell_type": "markdown",
   "id": "4ce55795",
   "metadata": {},
   "source": [
    "  "
   ]
  },
  {
   "cell_type": "markdown",
   "id": "6505c07c",
   "metadata": {},
   "source": [
    "#### Master - Overall Statistics:"
   ]
  },
  {
   "cell_type": "code",
   "execution_count": 99,
   "id": "fca7fc74",
   "metadata": {},
   "outputs": [
    {
     "name": "stdout",
     "output_type": "stream",
     "text": [
      "# of images fully read after stage 2 processing: 693677\n",
      "% of images fully read after stage 2 processing (yield): 43.03 %\n",
      "\n",
      "% time quality level 1 yield: 43.03 %\n",
      "% at least time quality level 2: 43.33 %\n",
      "% at least time quality level 3: 43.59 %\n",
      "% at least time quality level 4: 44.5 %\n"
     ]
    }
   ],
   "source": [
    "df_master = master_stat(resultDir=resultDir, logDir=logDir)"
   ]
  },
  {
   "cell_type": "markdown",
   "id": "fa3b2c5d",
   "metadata": {},
   "source": [
    "  "
   ]
  },
  {
   "cell_type": "markdown",
   "id": "7617690b",
   "metadata": {},
   "source": [
    "#### Quality by subdirectory:"
   ]
  },
  {
   "cell_type": "code",
   "execution_count": 25,
   "id": "b1abf159",
   "metadata": {
    "scrolled": true
   },
   "outputs": [
    {
     "name": "stdout",
     "output_type": "stream",
     "text": [
      "5054\n"
     ]
    }
   ],
   "source": [
    "df_summary = pd.read_csv(logDir + 'process_summary.csv')\n",
    "print(len(df_summary))"
   ]
  },
  {
   "cell_type": "code",
   "execution_count": 27,
   "id": "3f4e9204",
   "metadata": {},
   "outputs": [
    {
     "data": {
      "text/plain": [
       "<AxesSubplot:xlabel='pc_stage1_processed', ylabel='Count'>"
      ]
     },
     "execution_count": 27,
     "metadata": {},
     "output_type": "execute_result"
    },
    {
     "data": {
      "image/png": "[encoded data removed]",
      "text/plain": [
       "<Figure size 432x288 with 1 Axes>"
      ]
     },
     "metadata": {
      "needs_background": "light"
     },
     "output_type": "display_data"
    }
   ],
   "source": [
    "df_summary['pc_stage1_processed'] = df_summary['n_stage1_processed']/df_summary['n_images']\n",
    "sns.histplot(data=df_summary, x='pc_stage1_processed', stat='count')"
   ]
  },
  {
   "cell_type": "code",
   "execution_count": 29,
   "id": "df1302b9",
   "metadata": {},
   "outputs": [
    {
     "data": {
      "text/plain": [
       "<AxesSubplot:xlabel='pc_stage2_processed', ylabel='Count'>"
      ]
     },
     "execution_count": 29,
     "metadata": {},
     "output_type": "execute_result"
    },
    {
     "data": {
      "image/png": "[encoded data removed]",
      "text/plain": [
       "<Figure size 432x288 with 1 Axes>"
      ]
     },
     "metadata": {
      "needs_background": "light"
     },
     "output_type": "display_data"
    }
   ],
   "source": [
    "df_summary['pc_stage2_processed'] = df_summary['n_stage2_processed']/df_summary['n_images']\n",
    "sns.histplot(data=df_summary, x='pc_stage2_processed', stat='count')"
   ]
  },
  {
   "cell_type": "code",
   "execution_count": 30,
   "id": "380e7c5d",
   "metadata": {},
   "outputs": [
    {
     "data": {
      "text/plain": [
       "<AxesSubplot:xlabel='pc_postprocess_processed', ylabel='Count'>"
      ]
     },
     "execution_count": 30,
     "metadata": {},
     "output_type": "execute_result"
    },
    {
     "data": {
      "image/png": "[encoded data removed]",
      "text/plain": [
       "<Figure size 432x288 with 1 Axes>"
      ]
     },
     "metadata": {
      "needs_background": "light"
     },
     "output_type": "display_data"
    }
   ],
   "source": [
    "df_summary['pc_postprocess_processed'] = df_summary['n_postprocess_processed']/df_summary['n_images']\n",
    "sns.histplot(data=df_summary, x='pc_postprocess_processed', stat='count')"
   ]
  },
  {
   "cell_type": "code",
   "execution_count": 31,
   "id": "348d3c07",
   "metadata": {},
   "outputs": [
    {
     "data": {
      "text/plain": [
       "<AxesSubplot:xlabel='yield', ylabel='Count'>"
      ]
     },
     "execution_count": 31,
     "metadata": {},
     "output_type": "execute_result"
    },
    {
     "data": {
      "image/png": "[encoded data removed]",
      "text/plain": [
       "<Figure size 432x288 with 1 Axes>"
      ]
     },
     "metadata": {
      "needs_background": "light"
     },
     "output_type": "display_data"
    }
   ],
   "source": [
    "df_summary['yield'] = df_summary['n_master']/df_summary['n_images']\n",
    "sns.histplot(data=df_summary, x='yield', stat='count')"
   ]
  }
 ],
 "metadata": {
  "kernelspec": {
   "display_name": "Python 3",
   "language": "python",
   "name": "python3"
  },
  "language_info": {
   "codemirror_mode": {
    "name": "ipython",
    "version": 3
   },
   "file_extension": ".py",
   "mimetype": "text/x-python",
   "name": "python",
   "nbconvert_exporter": "python",
   "pygments_lexer": "ipython3",
   "version": "3.8.8"
  }
 },
 "nbformat": 4,
 "nbformat_minor": 5
}
