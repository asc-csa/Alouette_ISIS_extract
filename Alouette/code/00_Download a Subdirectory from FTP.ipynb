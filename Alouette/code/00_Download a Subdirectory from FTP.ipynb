{
 "cells": [
  {
   "cell_type": "markdown",
   "id": "17d21b72",
   "metadata": {},
   "source": [
    "# Download Subdirectories From FTP\n",
    "\n",
    "#### Updated: Aug 9, 2023"
   ]
  },
  {
   "cell_type": "markdown",
   "id": "7c85ebd5",
   "metadata": {},
   "source": [
    "#  "
   ]
  },
  {
   "cell_type": "markdown",
   "id": "436090c2",
   "metadata": {},
   "source": [
    "Download subdirectories from FTP one at a time. Record download in a 'download_log'. Move downloaded subdirectories from '01_downloading' folder to '02_downloaded' folder. "
   ]
  },
  {
   "cell_type": "code",
   "execution_count": 1,
   "id": "aadb662e",
   "metadata": {},
   "outputs": [],
   "source": [
    "import pandas as pd\n",
    "import os\n",
    "import shutil\n",
    "import time\n",
    "from datetime import datetime\n",
    "import ftplib\n",
    "from random import randrange"
   ]
  },
  {
   "cell_type": "code",
   "execution_count": 2,
   "id": "955f1d52",
   "metadata": {},
   "outputs": [],
   "source": [
    "rootDir = '' #The file path to the root directory for your project\n",
    "\n",
    "#Within your root directory, create the following folders:\n",
    "# 01_downloading\n",
    "# 02_downloaded\n",
    "# 03_processing\n",
    "# 04_processed\n",
    "# 04a_unprocessed\n",
    "# 05_result\n",
    "# 06_log\n",
    "\n",
    "downloadingDir = rootDir + '01_downloading/'\n",
    "downloadedDir = rootDir + '02_downloaded/'\n",
    "logDir = rootDir + '06_log/'"
   ]
  },
  {
   "cell_type": "code",
   "execution_count": 3,
   "id": "e020b5dc",
   "metadata": {},
   "outputs": [
    {
     "name": "stdout",
     "output_type": "stream",
     "text": [
      "Connected to ftp server: donnees-data.asc-csa.gc.ca\n"
     ]
    }
   ],
   "source": [
    "HOSTNAME = \"data.asc-csa.gc.ca\"\n",
    "USERNAME = \"anonymous\"\n",
    "PASSWORD = #**users must enter their email address**\n",
    "\n",
    "# Connect FTP Server\n",
    "ftp = ftplib.FTP(HOSTNAME, USERNAME, PASSWORD)\n",
    "print('Connected to ftp server: ' + HOSTNAME)\n",
    "\n",
    "ftp_rootpath = 'users/OpenData_DonneesOuvertes/pub/Alouette-ISIS/Alouette-1/'"
   ]
  },
  {
   "cell_type": "markdown",
   "id": "c258b742",
   "metadata": {},
   "source": [
    "#  "
   ]
  },
  {
   "cell_type": "markdown",
   "id": "64420cb1",
   "metadata": {},
   "source": [
    "#### Functions:"
   ]
  },
  {
   "cell_type": "code",
   "execution_count": 4,
   "id": "07f9b9e4",
   "metadata": {},
   "outputs": [],
   "source": [
    "def move_images(old_dir, new_dir, directory, subdirectory, copy_to_other_drive=False):\n",
    "    oldDir = old_dir + directory + '/' + subdirectory + '/'\n",
    "    newDir = new_dir + directory + '/' + subdirectory + '/'\n",
    "    os.makedirs(newDir, exist_ok=True)\n",
    "    \n",
    "    if copy_to_other_drive:\n",
    "        for file in os.listdir(oldDir):\n",
    "            shutil.copyfile(oldDir+file, newDir+file)\n",
    "    else:\n",
    "        for file in os.listdir(oldDir):\n",
    "            os.rename(oldDir+file, newDir+file)\n",
    "    \n",
    "    shutil.rmtree(old_dir + directory + '/' + subdirectory + '/')\n",
    "    if len(os.listdir(old_dir + directory + '/')) == 0:\n",
    "        shutil.rmtree(old_dir + directory + '/')"
   ]
  },
  {
   "cell_type": "code",
   "execution_count": 5,
   "id": "f71e7647",
   "metadata": {},
   "outputs": [],
   "source": [
    "def draw_random_subdir(directory, subdir_list, logDir):\n",
    "    \n",
    "    subdirectory = subdir_list[randrange(len(subdir_list))]\n",
    "    \n",
    "    #Check randomly-selected directory and subdirectory against the 'download_log'\n",
    "    if os.path.exists(logDir + 'download_log.csv'):\n",
    "        df_log = pd.read_csv(logDir + 'download_log.csv')\n",
    "        df_search = df_log.loc[(df_log['Directory'] == directory) & (df_log['Subdirectory'] == subdirectory)]\n",
    "        if len(df_search) > 0:\n",
    "            print(directory + '/' + subdirectory + ' already downloaded!')\n",
    "            return ''\n",
    "        else:\n",
    "            return subdirectory\n",
    "    else:\n",
    "        return subdirectory"
   ]
  },
  {
   "cell_type": "markdown",
   "id": "76265c0f",
   "metadata": {},
   "source": [
    "#  "
   ]
  },
  {
   "cell_type": "markdown",
   "id": "7c17b5ca",
   "metadata": {},
   "source": [
    "#### Download a random subdirectory by FTP:"
   ]
  },
  {
   "cell_type": "code",
   "execution_count": 6,
   "id": "389e52c1",
   "metadata": {},
   "outputs": [],
   "source": [
    "#Draw random Directory\n",
    "ftp.cwd(ftp_rootpath)\n",
    "directory_list = ftp.nlst()\n",
    "directory = directory_list[randrange(len(directory_list))]\n",
    "\n",
    "ftp.cwd(directory)\n",
    "subdir_list = ftp.nlst()\n",
    "\n",
    "#Randomly draw Directory and Subdirectory\n",
    "subdirectory = ''\n",
    "while (subdirectory == ''):\n",
    "    subdirectory = draw_random_subdir(directory=directory, subdir_list=subdir_list, logDir=logDir)"
   ]
  },
  {
   "cell_type": "code",
   "execution_count": 7,
   "id": "937629fc",
   "metadata": {},
   "outputs": [
    {
     "data": {
      "text/plain": [
       "'250 Directory successfully changed.'"
      ]
     },
     "execution_count": 7,
     "metadata": {},
     "output_type": "execute_result"
    }
   ],
   "source": [
    "saveDir = downloadingDir + directory + '/' + subdirectory + '/'\n",
    "os.makedirs(saveDir, exist_ok=True)\n",
    "ftp.cwd(ftp_rootpath + '/' + directory + '/' + subdirectory + '/')"
   ]
  },
  {
   "cell_type": "code",
   "execution_count": 8,
   "id": "2fa0400e",
   "metadata": {
    "scrolled": true
   },
   "outputs": [
    {
     "name": "stdout",
     "output_type": "stream",
     "text": [
      "Downloading R014207821/3363-A38/ subdirectory (245 images)\n",
      "Download time for subdirectory: 4.4 min\n"
     ]
    }
   ],
   "source": [
    "start = time.time()\n",
    "n_dl = len(ftp.nlst())\n",
    "print('Downloading ' + directory + '/' + subdirectory + '/ subdirectory ('  + str(n_dl) + ' images)')\n",
    "for file in ftp.nlst():\n",
    "    local_file = open(saveDir + file, \"wb\")\n",
    "    ftp.retrbinary(\"RETR \" + file, local_file.write)\n",
    "    local_file.close()\n",
    "    #print('Downloaded: ' + file)\n",
    "end = time.time()\n",
    "t = end - start\n",
    "print('Download time for subdirectory: ' + str(round(t/60, 1)) + ' min')"
   ]
  },
  {
   "cell_type": "markdown",
   "id": "0024f2a2",
   "metadata": {},
   "source": [
    "  "
   ]
  },
  {
   "cell_type": "markdown",
   "id": "193e300e",
   "metadata": {},
   "source": [
    "Record subdirectory name in download_log:"
   ]
  },
  {
   "cell_type": "code",
   "execution_count": 9,
   "id": "9dc8d020",
   "metadata": {},
   "outputs": [
    {
     "data": {
      "text/html": [
       "<div>\n",
       "<style scoped>\n",
       "    .dataframe tbody tr th:only-of-type {\n",
       "        vertical-align: middle;\n",
       "    }\n",
       "\n",
       "    .dataframe tbody tr th {\n",
       "        vertical-align: top;\n",
       "    }\n",
       "\n",
       "    .dataframe thead th {\n",
       "        text-align: right;\n",
       "    }\n",
       "</style>\n",
       "<table border=\"1\" class=\"dataframe\">\n",
       "  <thead>\n",
       "    <tr style=\"text-align: right;\">\n",
       "      <th></th>\n",
       "      <th>Roll</th>\n",
       "      <th>Subdirectory</th>\n",
       "      <th>Images_downloaded</th>\n",
       "      <th>Download_time</th>\n",
       "      <th>Download_timestamp</th>\n",
       "    </tr>\n",
       "  </thead>\n",
       "  <tbody>\n",
       "    <tr>\n",
       "      <th>0</th>\n",
       "      <td>R014207821</td>\n",
       "      <td>3363-A38</td>\n",
       "      <td>245</td>\n",
       "      <td>264.304774</td>\n",
       "      <td>2022-12-07 19:56:31.865868</td>\n",
       "    </tr>\n",
       "  </tbody>\n",
       "</table>\n",
       "</div>"
      ],
      "text/plain": [
       "         Roll Subdirectory  Images_downloaded  Download_time  \\\n",
       "0  R014207821     3363-A38                245     264.304774   \n",
       "\n",
       "          Download_timestamp  \n",
       "0 2022-12-07 19:56:31.865868  "
      ]
     },
     "execution_count": 9,
     "metadata": {},
     "output_type": "execute_result"
    }
   ],
   "source": [
    "df_result = pd.DataFrame({\n",
    "    'Directory': directory,\n",
    "    'Subdirectory': subdirectory,\n",
    "    'Images_downloaded': n_dl,\n",
    "    'Download_time': t,\n",
    "    'Download_timestamp': datetime.fromtimestamp(end)\n",
    "}, index=[0])\n",
    "df_result"
   ]
  },
  {
   "cell_type": "code",
   "execution_count": 10,
   "id": "5252b764",
   "metadata": {},
   "outputs": [],
   "source": [
    "if os.path.exists(logDir + 'download_log.csv'):\n",
    "    df_log = pd.read_csv(logDir + 'download_log.csv')\n",
    "    df_update = pd.concat([df_log, df_result], axis=0, ignore_index=True)\n",
    "    df_update.to_csv(logDir + 'download_log.csv', index=False)\n",
    "else:\n",
    "    df_result.to_csv(logDir + 'download_log.csv', index=False)"
   ]
  },
  {
   "cell_type": "markdown",
   "id": "0fc1c41d",
   "metadata": {},
   "source": [
    "Backup 'download_log' (10% of the time):"
   ]
  },
  {
   "cell_type": "code",
   "execution_count": 11,
   "id": "6c245092",
   "metadata": {},
   "outputs": [],
   "source": [
    "if randrange(10) == 7:\n",
    "    df_log = pd.read_csv(logDir + 'download_log.csv')\n",
    "    datetime_str = datetime.now().strftime(\"%Y%m%d_%Hh%M\")\n",
    "    os.makedirs(logDir + 'backups/', exist_ok=True)\n",
    "    df_log.to_csv(logDir + 'backups/' + 'download_log-' + datetime_str + '.csv', index=False)"
   ]
  },
  {
   "cell_type": "markdown",
   "id": "ab3f1aa9",
   "metadata": {},
   "source": [
    "  "
   ]
  },
  {
   "cell_type": "markdown",
   "id": "7e7bcf66",
   "metadata": {},
   "source": [
    "Move fully downloaded subdirectory to 02_processing folder:"
   ]
  },
  {
   "cell_type": "code",
   "execution_count": 12,
   "id": "11cc82f8",
   "metadata": {},
   "outputs": [],
   "source": [
    "move_images(old_dir=downloadingDir, new_dir=downloadedDir, directory=directory, subdirectory=subdirectory)"
   ]
  }
 ],
 "metadata": {
  "kernelspec": {
   "display_name": "Python 3",
   "language": "python",
   "name": "python3"
  },
  "language_info": {
   "codemirror_mode": {
    "name": "ipython",
    "version": 3
   },
   "file_extension": ".py",
   "mimetype": "text/x-python",
   "name": "python",
   "nbconvert_exporter": "python",
   "pygments_lexer": "ipython3",
   "version": "3.8.8"
  }
 },
 "nbformat": 4,
 "nbformat_minor": 5
}
