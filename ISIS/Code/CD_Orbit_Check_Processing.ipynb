{
 "cells": [
  {
   "cell_type": "markdown",
   "id": "f94c66b4",
   "metadata": {},
   "source": [
    "## Overview\n",
    "* This jupyter notebook has been developed to perform analysis of the results of orbit-check. \n",
    "* This also includes some basic visulization functionality. "
   ]
  },
  {
   "cell_type": "code",
   "execution_count": 6,
   "id": "51dcce65",
   "metadata": {
    "scrolled": true
   },
   "outputs": [
    {
     "name": "stdout",
     "output_type": "stream",
     "text": [
      "Counts of 1s (negative) and 0s (positive):\n",
      "Flag\n",
      "0    292626\n",
      "1     33268\n",
      "Name: count, dtype: int64\n",
      "\n",
      "Percentages of 1s (negative) and 0s (positive):\n",
      "Flag\n",
      "0    89.791773\n",
      "1    10.208227\n",
      "Name: proportion, dtype: float64\n",
      "\n",
      "For Positive Records (0s):\n",
      "Average Station Distance: 2325.9735146855674 (STD: 585.1691871033007)\n",
      "Average Station Altitude: 33.98889596462523 (STD: 17.62435193895522)\n"
     ]
    }
   ],
   "source": [
    "import pandas as pd\n",
    "import numpy as np\n",
    "import matplotlib.pyplot as plt\n",
    "import seaborn as sns\n",
    "\n",
    "# Define the path to the CSV file with the orbitcheck results \n",
    "# Use orbitcheck_isis_1.csv for ISIS-1\n",
    "# Use orbitcheck_isis_2.csv for ISIS-2\n",
    "file_path = 'orbitcheck_isis_2.csv'\n",
    "\n",
    "# Load the CSV file into a DataFrame\n",
    "data = pd.read_csv(file_path)\n",
    "\n",
    "# Count and percentage of 1s (negative) and 0s (positive) in the 'Flag' column\n",
    "flag_counts = data['Flag'].value_counts()\n",
    "flag_percentages = data['Flag'].value_counts(normalize=True) * 100\n",
    "\n",
    "# Display the counts and percentages\n",
    "print(\"Counts of 1s (negative) and 0s (positive):\")\n",
    "print(flag_counts)\n",
    "print(\"\\nPercentages of 1s (negative) and 0s (positive):\")\n",
    "print(flag_percentages)\n",
    "\n",
    "# Filter for positive records (0s)\n",
    "positive_records = data[data['Flag'] == 0]\n",
    "\n",
    "# Calculate the average and standard deviation for 'Station_Distance' and 'Station_Alt' for positive records\n",
    "avg_station_distance = positive_records['Station_Distance'].mean()\n",
    "std_station_distance = positive_records['Station_Distance'].std()\n",
    "\n",
    "avg_station_altitude = positive_records['Station_Alt'].mean()\n",
    "std_station_altitude = positive_records['Station_Alt'].std()\n",
    "\n",
    "# Display the calculated statistics\n",
    "print(\"\\nFor Positive Records (0s):\")\n",
    "print(f\"Average Station Distance: {avg_station_distance} (STD: {std_station_distance})\")\n",
    "print(f\"Average Station Altitude: {avg_station_altitude} (STD: {std_station_altitude})\")\n",
    "\n"
   ]
  },
  {
   "cell_type": "markdown",
   "id": "fcb737cf",
   "metadata": {},
   "source": [
    "### Orbit Visulization \n",
    "* This is useful for determining if there are any patterns in the overall coverage of the orbit analysis. "
   ]
  },
  {
   "cell_type": "code",
   "execution_count": null,
   "id": "9b26bcc3",
   "metadata": {
    "scrolled": false
   },
   "outputs": [],
   "source": [
    "import folium\n",
    "from folium.plugins import HeatMap\n",
    "\n",
    "# Station Positions for Map\n",
    "station_path = 'microapp_ISIS.csv'\n",
    "stat_data = pd.read_csv(station_path)\n",
    "\n",
    "unique_stations = stat_data.drop_duplicates(subset=['station_number'], keep='first')\n",
    "unique_stations = unique_stations[['station_number', 'lat', 'lon']]\n",
    "\n",
    "# If you would like to view only a portion of data available\n",
    "# data = data.iloc[0:1000]\n",
    "\n",
    "# Filter for positive records (0s) or negative records (1s)\n",
    "positive_records = data[data['Flag'] == 1]\n",
    "\n",
    "# Extract latitude and longitude for positive records\n",
    "lat_lon_data = positive_records[['Sat_Lat', 'Sat_Lon']].dropna()\n",
    "\n",
    "# Create a map centered around the mean latitude and longitude\n",
    "m = folium.Map(location=[lat_lon_data['Sat_Lat'].mean(), lat_lon_data['Sat_Lon'].mean()], zoom_start=2)\n",
    "\n",
    "# Add the heatmap\n",
    "HeatMap(data=lat_lon_data.values, radius=8, max_zoom=13).add_to(m)\n",
    "\n",
    "for _, row in unique_stations.iterrows():\n",
    "    folium.Marker(\n",
    "        location=[row['lat'], row['lon']],\n",
    "        popup=row['station_number'],\n",
    "        icon=folium.Icon(color='blue', icon='info-sign')\n",
    "    ).add_to(m)\n",
    "\n",
    "# Save the map to an HTML file and display it\n",
    "m.save(\"positive_records_heatmap.html\")\n",
    "\n",
    "m\n"
   ]
  }
 ],
 "metadata": {
  "kernelspec": {
   "display_name": "Python (orbit_check)",
   "language": "python",
   "name": "orbit_check"
  },
  "language_info": {
   "codemirror_mode": {
    "name": "ipython",
    "version": 3
   },
   "file_extension": ".py",
   "mimetype": "text/x-python",
   "name": "python",
   "nbconvert_exporter": "python",
   "pygments_lexer": "ipython3",
   "version": "3.12.3"
  }
 },
 "nbformat": 4,
 "nbformat_minor": 5
}
