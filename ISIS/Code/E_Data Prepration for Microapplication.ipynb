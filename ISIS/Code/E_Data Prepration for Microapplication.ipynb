{
 "cells": [
  {
   "cell_type": "markdown",
   "id": "e1609114",
   "metadata": {},
   "source": [
    "Peparing the results of ISIS 1 and ISIS 2 for the Microapplication: https://donnees-data.asc-csa.gc.ca:8888/alouette/"
   ]
  },
  {
   "cell_type": "code",
   "execution_count": 34,
   "id": "33ebc100",
   "metadata": {},
   "outputs": [],
   "source": [
    "import pandas as pd"
   ]
  },
  {
   "cell_type": "markdown",
   "id": "7a645fa1",
   "metadata": {},
   "source": [
    "# Metadata Preparation"
   ]
  },
  {
   "cell_type": "markdown",
   "id": "2fd5e98d",
   "metadata": {},
   "source": [
    "### ISIS 1"
   ]
  },
  {
   "cell_type": "markdown",
   "id": "ca8d5c55",
   "metadata": {},
   "source": [
    "Part 1: Creating the \"File name\" column"
   ]
  },
  {
   "cell_type": "code",
   "execution_count": 35,
   "id": "b5b54e73",
   "metadata": {},
   "outputs": [],
   "source": [
    "df1 = pd.read_csv('L:/DATA/ISIS/ISIS_Test_Metadata_Analysis/MERGED/ISIS-1_MD_Version6.csv')"
   ]
  },
  {
   "cell_type": "code",
   "execution_count": 36,
   "id": "11787e52",
   "metadata": {},
   "outputs": [],
   "source": [
    "df1['File name'] = df1['Directory'] + '/' + df1['Subdirectory'] + '/' + df1['Filename']"
   ]
  },
  {
   "cell_type": "markdown",
   "id": "d3e8f8a4",
   "metadata": {},
   "source": [
    "Part 2: Renaming the \"Subdirectory\" column to \"Subdirectory name\""
   ]
  },
  {
   "cell_type": "code",
   "execution_count": 37,
   "id": "d4a90f99",
   "metadata": {},
   "outputs": [],
   "source": [
    "df1.rename(columns={'Subdirectory': 'Subdirectory name'}, inplace=True)"
   ]
  },
  {
   "cell_type": "markdown",
   "id": "abf46e3f",
   "metadata": {},
   "source": [
    "Part 3: Renaming the \"Adjusted_Satellite_Code\" to \"Satellite number\""
   ]
  },
  {
   "cell_type": "code",
   "execution_count": 38,
   "id": "2ff40623",
   "metadata": {},
   "outputs": [],
   "source": [
    "df1.rename(columns={'Adjusted_Satellite_Code': 'Satellite number'}, inplace=True)"
   ]
  },
  {
   "cell_type": "markdown",
   "id": "083bd4b7",
   "metadata": {},
   "source": [
    "Part 4: Renaming \"Adjusted_Station_Number\" to \"Ground station number\""
   ]
  },
  {
   "cell_type": "code",
   "execution_count": 39,
   "id": "2afd5041",
   "metadata": {},
   "outputs": [],
   "source": [
    "df1.rename(columns={'Adjusted_Station_Number': 'Ground station number'}, inplace=True)"
   ]
  },
  {
   "cell_type": "markdown",
   "id": "59ef85e4",
   "metadata": {},
   "source": [
    "Part 5: Renaming \"Station_Location_y\" to \"Ground station name\""
   ]
  },
  {
   "cell_type": "code",
   "execution_count": 40,
   "id": "b95a6110",
   "metadata": {},
   "outputs": [],
   "source": [
    "df1.rename(columns={'Station_Location_y': 'Ground station name'}, inplace=True)"
   ]
  },
  {
   "cell_type": "markdown",
   "id": "13ada1ef",
   "metadata": {},
   "source": [
    "Part 6: Renaming \"Station_ID_y\" to \"Ground station code\""
   ]
  },
  {
   "cell_type": "code",
   "execution_count": 41,
   "id": "0b53cd0d",
   "metadata": {},
   "outputs": [],
   "source": [
    "df1.rename(columns={'Station_ID_y': 'Ground station code'}, inplace=True)"
   ]
  },
  {
   "cell_type": "markdown",
   "id": "a335bc68",
   "metadata": {},
   "source": [
    "Part 7: Filtering time_quality of 1, 2, and 3 for the most accurate results in the microapplication"
   ]
  },
  {
   "cell_type": "code",
   "execution_count": 42,
   "id": "d995f70e",
   "metadata": {},
   "outputs": [],
   "source": [
    "filtered_df1 = df1[df1['Time_quality'].isin([1, 2])]"
   ]
  },
  {
   "cell_type": "code",
   "execution_count": 43,
   "id": "86d86838",
   "metadata": {},
   "outputs": [],
   "source": [
    "filtered_df1.to_csv('L:/DATA/ISIS/Phase 3 - QA &Microapp& Media/result_master_ISIS1.csv', index=False)"
   ]
  },
  {
   "cell_type": "markdown",
   "id": "428616e7",
   "metadata": {},
   "source": [
    "Part 8: Dropping columns that don't match the Microapplication format"
   ]
  },
  {
   "cell_type": "code",
   "execution_count": 45,
   "id": "a1bde3de",
   "metadata": {},
   "outputs": [],
   "source": [
    "columns_to_drop = ['Outlier','Directory','Year','Day','Hour','Minute','Second','Filename','Time_quality','Station_quality','Number',\n",
    "                   'Station_Latitude','Station_Longitude','Fixed_Frequency_Code'] "
   ]
  },
  {
   "cell_type": "code",
   "execution_count": 46,
   "id": "1e4e29a0",
   "metadata": {},
   "outputs": [
    {
     "name": "stderr",
     "output_type": "stream",
     "text": [
      "C:\\Users\\rsheikholmolouki\\AppData\\Local\\Temp\\ipykernel_3868\\2340672341.py:1: SettingWithCopyWarning: \n",
      "A value is trying to be set on a copy of a slice from a DataFrame\n",
      "\n",
      "See the caveats in the documentation: https://pandas.pydata.org/pandas-docs/stable/user_guide/indexing.html#returning-a-view-versus-a-copy\n",
      "  filtered_df1.drop(columns=columns_to_drop, inplace=True)\n"
     ]
    }
   ],
   "source": [
    "filtered_df1.drop(columns=columns_to_drop, inplace=True)"
   ]
  },
  {
   "cell_type": "code",
   "execution_count": 47,
   "id": "833b9557",
   "metadata": {},
   "outputs": [],
   "source": [
    "filtered_df1.to_csv('L:/DATA/ISIS/Phase 3 - QA &Microapp& Media/result_master_ISIS1.csv', index=False)"
   ]
  },
  {
   "cell_type": "markdown",
   "id": "121f98c4",
   "metadata": {},
   "source": [
    "### ISIS 2"
   ]
  },
  {
   "cell_type": "markdown",
   "id": "b5066484",
   "metadata": {},
   "source": [
    "Part 1: Creating the \"File name\" column"
   ]
  },
  {
   "cell_type": "code",
   "execution_count": 49,
   "id": "61c0287b",
   "metadata": {},
   "outputs": [],
   "source": [
    "df2 = pd.read_csv('L:/DATA/ISIS/ISIS_Test_Metadata_Analysis/MERGED/ISIS-2_MD_Version6.csv')"
   ]
  },
  {
   "cell_type": "code",
   "execution_count": 50,
   "id": "e0551be8",
   "metadata": {},
   "outputs": [],
   "source": [
    "df2['File name'] = df2['Directory'] + '/' + df2['Subdirectory'] + '/' + df2['Filename']"
   ]
  },
  {
   "cell_type": "markdown",
   "id": "f321b306",
   "metadata": {},
   "source": [
    "Part 2: Renaming the \"Subdirectory\" column to \"Subdirectory name\""
   ]
  },
  {
   "cell_type": "code",
   "execution_count": 51,
   "id": "50816780",
   "metadata": {},
   "outputs": [],
   "source": [
    "df2.rename(columns={'Subdirectory': 'Subdirectory name'}, inplace=True)"
   ]
  },
  {
   "cell_type": "markdown",
   "id": "1ba9e985",
   "metadata": {},
   "source": [
    "Part 3: Renaming the \"Adjusted_Satellite_Code\" to \"Satellite number\""
   ]
  },
  {
   "cell_type": "code",
   "execution_count": 52,
   "id": "496beca1",
   "metadata": {},
   "outputs": [],
   "source": [
    "df2.rename(columns={'Adjusted_Satellite_Code': 'Satellite number'}, inplace=True)"
   ]
  },
  {
   "cell_type": "markdown",
   "id": "8acb33da",
   "metadata": {},
   "source": [
    "Part 4: Renaming \"Adjusted_Station_Number\" to \"Ground station number\""
   ]
  },
  {
   "cell_type": "code",
   "execution_count": 53,
   "id": "55a48ee3",
   "metadata": {},
   "outputs": [],
   "source": [
    "df2.rename(columns={'Adjusted_Station_Number': 'Ground station number'}, inplace=True)"
   ]
  },
  {
   "cell_type": "markdown",
   "id": "7a07e282",
   "metadata": {},
   "source": [
    "Part 5: Renaming \"Station_Location_y\" to \"Ground station name\""
   ]
  },
  {
   "cell_type": "code",
   "execution_count": 54,
   "id": "ed1cf92a",
   "metadata": {},
   "outputs": [],
   "source": [
    "df2.rename(columns={'Station_Location_y': 'Ground station name'}, inplace=True)"
   ]
  },
  {
   "cell_type": "markdown",
   "id": "80aec704",
   "metadata": {},
   "source": [
    "Part 6: Renaming \"Station_ID_y\" to \"Ground station code\""
   ]
  },
  {
   "cell_type": "code",
   "execution_count": 55,
   "id": "e9bcdc0f",
   "metadata": {},
   "outputs": [],
   "source": [
    "df2.rename(columns={'Station_ID_y': 'Ground station code'}, inplace=True)"
   ]
  },
  {
   "cell_type": "markdown",
   "id": "55506f34",
   "metadata": {},
   "source": [
    "Part 7: Filtering time_quality of 1, 2, and 3 for the most accurate results in the microapplication"
   ]
  },
  {
   "cell_type": "code",
   "execution_count": 56,
   "id": "6b956045",
   "metadata": {},
   "outputs": [],
   "source": [
    "filtered_df2 = df2[df2['Time_quality'].isin([1, 2])]"
   ]
  },
  {
   "cell_type": "code",
   "execution_count": 57,
   "id": "ecf3419a",
   "metadata": {},
   "outputs": [],
   "source": [
    "filtered_df2.to_csv('L:/DATA/ISIS/Phase 3 - QA &Microapp& Media/result_master_ISIS2.csv', index=False)"
   ]
  },
  {
   "cell_type": "markdown",
   "id": "65cede20",
   "metadata": {},
   "source": [
    "Part 8: Dropping columns that don't match the Microapplication format"
   ]
  },
  {
   "cell_type": "code",
   "execution_count": 58,
   "id": "4385a991",
   "metadata": {},
   "outputs": [],
   "source": [
    "columns_to_drop = ['Outlier','Directory','Year','Day','Hour','Minute','Second','Filename','Time_quality','Station_quality','Number',\n",
    "                   'Station_Latitude','Station_Longitude','Fixed_Frequency_Code'] "
   ]
  },
  {
   "cell_type": "code",
   "execution_count": 59,
   "id": "43b9d7fd",
   "metadata": {},
   "outputs": [
    {
     "name": "stderr",
     "output_type": "stream",
     "text": [
      "C:\\Users\\rsheikholmolouki\\AppData\\Local\\Temp\\ipykernel_3868\\3955161873.py:1: SettingWithCopyWarning: \n",
      "A value is trying to be set on a copy of a slice from a DataFrame\n",
      "\n",
      "See the caveats in the documentation: https://pandas.pydata.org/pandas-docs/stable/user_guide/indexing.html#returning-a-view-versus-a-copy\n",
      "  filtered_df2.drop(columns=columns_to_drop, inplace=True)\n"
     ]
    }
   ],
   "source": [
    "filtered_df2.drop(columns=columns_to_drop, inplace=True)"
   ]
  },
  {
   "cell_type": "code",
   "execution_count": 60,
   "id": "0be39579",
   "metadata": {},
   "outputs": [],
   "source": [
    "filtered_df2.to_csv('L:/DATA/ISIS/Phase 3 - QA &Microapp& Media/result_master_ISIS2.csv', index=False)"
   ]
  },
  {
   "cell_type": "markdown",
   "id": "405a7c67",
   "metadata": {},
   "source": [
    "# Data Prepration"
   ]
  },
  {
   "cell_type": "markdown",
   "id": "6dcfb5d8",
   "metadata": {},
   "source": [
    "In this section we are converting the number of horizontal lines to the correct values based on depth. (The ISIS-1 ionograms typically go to a height of 5000 km while the ISIS-2 ionograms only go to 3300 km + ISIS-1 had an apogee of ~3500 km while ISIS-2 had an apogee of ~1500 km). Adjusting the time in the excel file. "
   ]
  },
  {
   "cell_type": "code",
   "execution_count": 8,
   "id": "eff68276",
   "metadata": {},
   "outputs": [],
   "source": [
    "import pandas as pd"
   ]
  },
  {
   "cell_type": "code",
   "execution_count": 9,
   "id": "7115932b",
   "metadata": {},
   "outputs": [],
   "source": [
    "df = pd.read_csv('L:\\DATA\\ISIS\\Phase 3 - QA &Microapp& Media\\labeled_data\\combined_observer_results.csv')"
   ]
  },
  {
   "cell_type": "code",
   "execution_count": 10,
   "id": "5ff98774",
   "metadata": {},
   "outputs": [],
   "source": [
    "df['Maximum depth'] = 0\n",
    "\n",
    "# Multiply \"horizontal_lines\" by 217.4 when \"satellite\" is 1\n",
    "df.loc[df['satellite'] == 1, 'Maximum depth'] = df['horizontal_lines'] * 217.4\n",
    "\n",
    "# Multiply \"horizontal_lines\" by 220 where \"satellite\" is 2\n",
    "df.loc[df['satellite'] == 2, 'Maximum depth'] = df['horizontal_lines'] * 220"
   ]
  },
  {
   "cell_type": "code",
   "execution_count": 12,
   "id": "be8e4d66",
   "metadata": {},
   "outputs": [],
   "source": [
    "df.rename(columns={'vertical_lines': 'Minimum frequency'}, inplace=True)"
   ]
  },
  {
   "cell_type": "code",
   "execution_count": 13,
   "id": "563911ee",
   "metadata": {},
   "outputs": [],
   "source": [
    "df.to_csv('L:\\DATA\\ISIS\\Phase 3 - QA &Microapp& Media\\labeled_data\\dataprep_microapp.csv', index=False)"
   ]
  },
  {
   "cell_type": "markdown",
   "id": "db481e7e",
   "metadata": {},
   "source": [
    "Adjust the file path to match the L:/DATA/ISIS/Phase 3 - QA &Microapp& Media/result_master_ISIS1.csv and  L:/DATA/ISIS/Phase 3 - QA &Microapp& Media/result_master_ISIS2.csv followed by merging the results dataprep_microapp.csv to the corresponding path"
   ]
  },
  {
   "cell_type": "code",
   "execution_count": 22,
   "id": "ea7d8ffd",
   "metadata": {},
   "outputs": [],
   "source": [
    "df1 = pd.read_csv('L:\\DATA\\ISIS\\Phase 3 - QA &Microapp& Media\\labeled_data\\dataprep_microapp - Copy.csv')\n",
    "df2 = pd.read_csv('L:/DATA/ISIS/Phase 3 - QA &Microapp& Media/result_master_ISIS1.csv')\n",
    "df3 = pd.read_csv('L:/DATA/ISIS/Phase 3 - QA &Microapp& Media/result_master_ISIS2.csv')"
   ]
  },
  {
   "cell_type": "code",
   "execution_count": 25,
   "id": "07cf19b3",
   "metadata": {},
   "outputs": [],
   "source": [
    "merged_df = pd.merge(df2, df1[['File name', 'Maximum depth', 'Minimum frequency']], on='File name', how='left')"
   ]
  },
  {
   "cell_type": "code",
   "execution_count": 26,
   "id": "1ef2ee72",
   "metadata": {},
   "outputs": [],
   "source": [
    "merged_df.to_csv('L:/DATA/ISIS/Phase 3 - QA &Microapp& Media/updated_result_master_ISIS1.csv', index=False)"
   ]
  },
  {
   "cell_type": "code",
   "execution_count": 27,
   "id": "8c1f516c",
   "metadata": {},
   "outputs": [],
   "source": [
    "merged_df = pd.merge(df3, df1[['File name', 'Maximum depth', 'Minimum frequency']], on='File name', how='left')"
   ]
  },
  {
   "cell_type": "code",
   "execution_count": 28,
   "id": "9663452f",
   "metadata": {},
   "outputs": [],
   "source": [
    "merged_df.to_csv('L:/DATA/ISIS/Phase 3 - QA &Microapp& Media/updated_result_master_ISIS2.csv', index=False)"
   ]
  },
  {
   "cell_type": "code",
   "execution_count": null,
   "id": "6fd5d16a",
   "metadata": {},
   "outputs": [],
   "source": []
  }
 ],
 "metadata": {
  "kernelspec": {
   "display_name": "Python 3 (ipykernel)",
   "language": "python",
   "name": "python3"
  },
  "language_info": {
   "codemirror_mode": {
    "name": "ipython",
    "version": 3
   },
   "file_extension": ".py",
   "mimetype": "text/x-python",
   "name": "python",
   "nbconvert_exporter": "python",
   "pygments_lexer": "ipython3",
   "version": "3.11.3"
  }
 },
 "nbformat": 4,
 "nbformat_minor": 5
}
