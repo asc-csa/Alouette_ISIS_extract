{
 "cells": [
  {
   "cell_type": "markdown",
   "id": "8d243cfc",
   "metadata": {},
   "source": [
    "This script performs a general quality analysis on the instances were the Time_quality was assessed to be 1, 2, or 3 for ISIS - 1 and ISIS - 2. \n",
    "\n",
    "To generate seperate .CSV files for the two satellites please consult notebooks 03_Metadata Postprocessing.ipynb: https://github.com/asc-csa/Alouette_extract/blob/ISIS-working/03_Metadata%20Postprocessing.ipynb"
   ]
  },
  {
   "cell_type": "markdown",
   "id": "660cf20d",
   "metadata": {},
   "source": [
    "### ISIS - 1 General Quality Analysis"
   ]
  },
  {
   "cell_type": "markdown",
   "id": "c03134c1",
   "metadata": {},
   "source": [
    "#### satellite code"
   ]
  },
  {
   "cell_type": "markdown",
   "id": "470b7d01",
   "metadata": {},
   "source": [
    "Per the inventory of ISIS, the subdirectory has the name of the satellites. Meaning, a subdirectory with \"B1-35-28 ISIS B D-889\" name contains all the images from ISIS B also known as ISIS 2. Same applies for ISIS A  also known as ISIS - 1. \n",
    "\n",
    "The ISIS-1_metadata.csv and ISIS-2_metadata.csv were created based on the name of the logic on 03_Metadata Postprocessing.ipynb. \n",
    "\n",
    "The metadata on the ionorgams of ISIS - 1 will start with number 3, and the metadata for ISIS - 2 will start with number 4 to reflect the difference between the two satellites. If the numbers read by OCR does not follow this logic it would be an error from the algorithm. "
   ]
  },
  {
   "cell_type": "code",
   "execution_count": 79,
   "id": "5f438b6d",
   "metadata": {},
   "outputs": [],
   "source": [
    "import pandas as pd\n",
    "import matplotlib.pyplot as plt"
   ]
  },
  {
   "cell_type": "code",
   "execution_count": 80,
   "id": "775e6665",
   "metadata": {},
   "outputs": [],
   "source": [
    "df = pd.read_csv('L:/DATA/ISIS/ISIS_Test_Metadata_Analysis/MERGED/ISIS-1_MD_Version1.csv')"
   ]
  },
  {
   "cell_type": "code",
   "execution_count": 81,
   "id": "a30cd554",
   "metadata": {},
   "outputs": [
    {
     "name": "stdout",
     "output_type": "stream",
     "text": [
      "Count of cases where Satellite_Code is 3: 383849\n",
      "Count of cases where Satellite_Code is not 3: 16798\n"
     ]
    }
   ],
   "source": [
    "#Satellite code: The satellite code should be 3 for ISIS - 1\n",
    "satellite_counts = df['Satellite_Code'].value_counts()\n",
    "\n",
    "count_3 = satellite_counts.get(3, 0)  \n",
    "count_not_3 = df.shape[0] - count_3   \n",
    "\n",
    "print(\"Count of cases where Satellite_Code is 3:\", count_3)\n",
    "print(\"Count of cases where Satellite_Code is not 3:\", count_not_3)"
   ]
  },
  {
   "cell_type": "code",
   "execution_count": 82,
   "id": "5581c924",
   "metadata": {
    "scrolled": true
   },
   "outputs": [
    {
     "data": {
      "image/png": "[encoded data removed]",
      "text/plain": [
       "<Figure size 640x480 with 1 Axes>"
      ]
     },
     "metadata": {},
     "output_type": "display_data"
    }
   ],
   "source": [
    "not_3_counts = df.loc[df['Satellite_Code'] != 3, 'Satellite_Code'].value_counts()\n",
    "plt.bar(not_3_counts.index, not_3_counts.values)\n",
    "plt.xlabel('Satellite_Code')\n",
    "plt.ylabel('Count')\n",
    "plt.title('Distribution of cases where Satellite_Code is not 3')\n",
    "plt.grid(True)\n",
    "plt.show()"
   ]
  },
  {
   "cell_type": "code",
   "execution_count": 83,
   "id": "3d25ca08",
   "metadata": {},
   "outputs": [],
   "source": [
    "df['Adjusted_Satellite_Code'] = 3 #created a new column and adjusted the stations to 3"
   ]
  },
  {
   "cell_type": "code",
   "execution_count": 84,
   "id": "862e2ef6",
   "metadata": {},
   "outputs": [],
   "source": [
    "df.to_csv('L:/DATA/ISIS/ISIS_Test_Metadata_Analysis/MERGED/ISIS-1_MD_Version2.csv', index=False)"
   ]
  },
  {
   "cell_type": "markdown",
   "id": "54390b2a",
   "metadata": {},
   "source": [
    "#### Station Number \n",
    "\n",
    "First, each subdirectory was manually checked. The 3rd and 4th digit on the metadata was recorded in the following excel sheet \"Location_match.csv\". The values were added to the CSV file in a column called \"Adjusted_Station_Number\". \n"
   ]
  },
  {
   "cell_type": "code",
   "execution_count": 85,
   "id": "a4192550",
   "metadata": {},
   "outputs": [],
   "source": [
    "df1= pd.read_csv('L:/DATA/ISIS/ISIS_Test_Metadata_Analysis/MERGED/ISIS-1_MD_Version2.csv')"
   ]
  },
  {
   "cell_type": "code",
   "execution_count": 86,
   "id": "4edd6f6f",
   "metadata": {},
   "outputs": [],
   "source": [
    "location_match= pd.read_csv('L:/DATA/ISIS/ISIS_Test_Metadata_Analysis/MERGED/Location_match.csv')"
   ]
  },
  {
   "cell_type": "code",
   "execution_count": 87,
   "id": "aeaeae38",
   "metadata": {},
   "outputs": [],
   "source": [
    "merged_df = pd.merge(df1, location_match[['Directory', 'Subdirectory', 'Station_Number']], \n",
    "                     on=['Directory', 'Subdirectory'], how='left')"
   ]
  },
  {
   "cell_type": "code",
   "execution_count": 88,
   "id": "13e50a24",
   "metadata": {},
   "outputs": [],
   "source": [
    "merged_df.rename(columns={'Station_Number_y': 'Adjusted_Station_Number'}, inplace=True)\n",
    "merged_df.rename(columns={'Station_Number_x': 'Station_Number'}, inplace=True)"
   ]
  },
  {
   "cell_type": "code",
   "execution_count": 89,
   "id": "7aad6b4e",
   "metadata": {},
   "outputs": [],
   "source": [
    "merged_df.to_csv('L:/DATA/ISIS/ISIS_Test_Metadata_Analysis/MERGED/ISIS-1_MD_Version3.csv', index=False)"
   ]
  },
  {
   "cell_type": "markdown",
   "id": "ae7eec70",
   "metadata": {},
   "source": [
    "Station_quality shows the level of confidence with 1 if \"Adjusted_Station_Number is equal to \"Station_Number\" column read by OCR. Otherwise it will add a zero. "
   ]
  },
  {
   "cell_type": "code",
   "execution_count": 92,
   "id": "5a4fe9a8",
   "metadata": {},
   "outputs": [
    {
     "name": "stderr",
     "output_type": "stream",
     "text": [
      "C:\\Users\\rsheikholmolouki\\AppData\\Local\\Temp\\ipykernel_4536\\1696895714.py:1: DtypeWarning: Columns (19) have mixed types. Specify dtype option on import or set low_memory=False.\n",
      "  merged_df = pd.read_csv('L:/DATA/ISIS/ISIS_Test_Metadata_Analysis/MERGED/ISIS-1_MD_Version3.csv')\n"
     ]
    }
   ],
   "source": [
    "merged_df = pd.read_csv('L:/DATA/ISIS/ISIS_Test_Metadata_Analysis/MERGED/ISIS-1_MD_Version3.csv')\n",
    "merged_df['Station_quality'] = (merged_df['Adjusted_Station_Number'] == merged_df['Station_Number']).astype(int)"
   ]
  },
  {
   "cell_type": "code",
   "execution_count": 93,
   "id": "782894f4",
   "metadata": {},
   "outputs": [],
   "source": [
    "merged_df.to_csv('L:/DATA/ISIS/ISIS_Test_Metadata_Analysis/MERGED/ISIS-1_MD_Version4.csv', index=False)"
   ]
  },
  {
   "cell_type": "code",
   "execution_count": 94,
   "id": "5abc8aa8",
   "metadata": {},
   "outputs": [
    {
     "name": "stdout",
     "output_type": "stream",
     "text": [
      "Number of instances where OCR did not read the Station Number correctly: 71922\n"
     ]
    }
   ],
   "source": [
    "num_instances_with_quality_0 = (merged_df['Station_quality'] == 0).sum()\n",
    "print(\"Number of instances where OCR did not read the Station Number correctly:\", num_instances_with_quality_0)"
   ]
  },
  {
   "cell_type": "code",
   "execution_count": 95,
   "id": "e26e2b9e",
   "metadata": {},
   "outputs": [
    {
     "name": "stdout",
     "output_type": "stream",
     "text": [
      "Percentage of instances where OCR did not read the Station Number (3rd and 4th digit) correctly: 17.95%\n"
     ]
    }
   ],
   "source": [
    "total_instances = len(merged_df)\n",
    "percentage_quality_0 = (num_instances_with_quality_0 / total_instances) * 100\n",
    "print(\"Percentage of instances where OCR did not read the Station Number (3rd and 4th digit) correctly: {:.2f}%\".format(percentage_quality_0))"
   ]
  },
  {
   "cell_type": "markdown",
   "id": "63e2fd67",
   "metadata": {},
   "source": [
    "Finally, we will adjust the Station_Location, Latitude and Longitude based on the \"Adjusted_Station_Number\" Value."
   ]
  },
  {
   "cell_type": "code",
   "execution_count": 96,
   "id": "7998ceca",
   "metadata": {},
   "outputs": [
    {
     "name": "stderr",
     "output_type": "stream",
     "text": [
      "C:\\Users\\rsheikholmolouki\\AppData\\Local\\Temp\\ipykernel_4536\\1810440425.py:1: DtypeWarning: Columns (19) have mixed types. Specify dtype option on import or set low_memory=False.\n",
      "  csv1= pd.read_csv('L:/DATA/ISIS/ISIS_Test_Metadata_Analysis/MERGED/ISIS-1_MD_Version4.csv')\n"
     ]
    }
   ],
   "source": [
    "csv1= pd.read_csv('L:/DATA/ISIS/ISIS_Test_Metadata_Analysis/MERGED/ISIS-1_MD_Version4.csv')"
   ]
  },
  {
   "cell_type": "code",
   "execution_count": 97,
   "id": "bfa1d716",
   "metadata": {},
   "outputs": [],
   "source": [
    "csv2= pd.read_csv('L:/DATA/ISIS/ISIS_Test_Metadata_Analysis/Station_Number_Name_Location - Copy.csv')"
   ]
  },
  {
   "cell_type": "code",
   "execution_count": 98,
   "id": "4d6356c7",
   "metadata": {},
   "outputs": [],
   "source": [
    "merged_df = pd.merge(csv1, csv2, left_on='Adjusted_Station_Number', right_on='Number', how='inner')"
   ]
  },
  {
   "cell_type": "code",
   "execution_count": 99,
   "id": "b7f3032c",
   "metadata": {},
   "outputs": [],
   "source": [
    "merged_df.to_csv('L:/DATA/ISIS/ISIS_Test_Metadata_Analysis/MERGED/ISIS-1_MD_Version5.csv', index=False)"
   ]
  },
  {
   "cell_type": "markdown",
   "id": "a36a40c7",
   "metadata": {},
   "source": [
    "### Creation of the Final Master ISIS I CSV File\n",
    "The original columns that were later adjusted were dropped in this version. "
   ]
  },
  {
   "cell_type": "code",
   "execution_count": 100,
   "id": "32a6644b",
   "metadata": {},
   "outputs": [],
   "source": [
    "columns_to_drop = ['Satellite_Code', 'Station_Number', 'Station_Location_x', 'Station_ID_x','Station_Lat','Station_Lon']  \n",
    "merged_df.drop(columns=columns_to_drop, inplace=True)"
   ]
  },
  {
   "cell_type": "code",
   "execution_count": 101,
   "id": "626f950f",
   "metadata": {},
   "outputs": [],
   "source": [
    "merged_df.to_csv('L:/DATA/ISIS/ISIS_Test_Metadata_Analysis/MERGED/ISIS-1_MD_Version6.csv', index=False)"
   ]
  },
  {
   "cell_type": "markdown",
   "id": "5539f312",
   "metadata": {},
   "source": [
    "### ISIS - 2 General Quality Analysis"
   ]
  },
  {
   "cell_type": "markdown",
   "id": "db4c86b3",
   "metadata": {},
   "source": [
    "#### satellite code"
   ]
  },
  {
   "cell_type": "markdown",
   "id": "9072f22d",
   "metadata": {},
   "source": [
    "Per the inventory of ISIS, the subdirectory has the name of the satellites. Meaning, a subdirectory with \"B1-35-28 ISIS B D-889\" name contains all the images from ISIS B also known as ISIS 2. Same applies for ISIS A  also known as ISIS - 1. \n",
    "\n",
    "The ISIS-1_metadata.csv and ISIS-2_metadata.csv were created based on the name of the logic on 03_Metadata Postprocessing.ipynb. \n",
    "\n",
    "The metadata on the ionorgams of ISIS - 1 will start with number 3, and the metadata for ISIS - 2 will start with number 4 to reflect the difference between the two satellites. If the numbers read by OCR does not follow this logic it would be an error from the algorithm. "
   ]
  },
  {
   "cell_type": "code",
   "execution_count": 102,
   "id": "1f90b1f8",
   "metadata": {},
   "outputs": [],
   "source": [
    "df2 = pd.read_csv('L:/DATA/ISIS/ISIS_Test_Metadata_Analysis/MERGED/ISIS-2_MD_Version1.csv')"
   ]
  },
  {
   "cell_type": "code",
   "execution_count": 103,
   "id": "d1202661",
   "metadata": {},
   "outputs": [
    {
     "name": "stdout",
     "output_type": "stream",
     "text": [
      "Count of cases where Satellite_Code is 4: 427100\n",
      "Count of cases where Satellite_Code is not 4: 10690\n"
     ]
    }
   ],
   "source": [
    "#Satellite code: The satellite code should be 4 for ISIS - 2\n",
    "satellite_counts = df2['Satellite_Code'].value_counts()\n",
    "\n",
    "count_4 = satellite_counts.get(4, 0)  \n",
    "count_not_4 = df2.shape[0] - count_4   \n",
    "\n",
    "print(\"Count of cases where Satellite_Code is 4:\", count_4)\n",
    "print(\"Count of cases where Satellite_Code is not 4:\", count_not_4)"
   ]
  },
  {
   "cell_type": "code",
   "execution_count": 104,
   "id": "2b424762",
   "metadata": {},
   "outputs": [
    {
     "data": {
      "image/png": "[encoded data removed]",
      "text/plain": [
       "<Figure size 640x480 with 1 Axes>"
      ]
     },
     "metadata": {},
     "output_type": "display_data"
    }
   ],
   "source": [
    "not_4_counts = df2.loc[df2['Satellite_Code'] != 4, 'Satellite_Code'].value_counts()\n",
    "plt.bar(not_4_counts.index, not_4_counts.values)\n",
    "plt.xlabel('Satellite_Code')\n",
    "plt.ylabel('Count')\n",
    "plt.title('Distribution of cases where Satellite_Code is not 4')\n",
    "plt.grid(True)\n",
    "plt.show()"
   ]
  },
  {
   "cell_type": "code",
   "execution_count": 105,
   "id": "4b934c92",
   "metadata": {},
   "outputs": [],
   "source": [
    "df2['Adjusted_Satellite_Code'] = 4 #created a new column and adjusted the stations to 4"
   ]
  },
  {
   "cell_type": "code",
   "execution_count": 106,
   "id": "ea61278e",
   "metadata": {},
   "outputs": [],
   "source": [
    "df2.to_csv('L:/DATA/ISIS/ISIS_Test_Metadata_Analysis/MERGED/ISIS-2_MD_Version2.csv', index=False)"
   ]
  },
  {
   "cell_type": "markdown",
   "id": "7093e698",
   "metadata": {},
   "source": [
    "#### Station Number \n",
    "\n",
    "First, each subdirectory was manually checked. The 3rd and 4th digit on the metadata was recorded in the following excel sheet \"Location_match.csv\". The values were added to the CSV file in a column called \"Adjusted_Station_Number\". "
   ]
  },
  {
   "cell_type": "code",
   "execution_count": 107,
   "id": "36feb0f6",
   "metadata": {},
   "outputs": [],
   "source": [
    "df1= pd.read_csv('L:/DATA/ISIS/ISIS_Test_Metadata_Analysis/MERGED/ISIS-2_MD_Version2.csv')"
   ]
  },
  {
   "cell_type": "code",
   "execution_count": 108,
   "id": "f892648c",
   "metadata": {},
   "outputs": [],
   "source": [
    "location_match= pd.read_csv('L:/DATA/ISIS/ISIS_Test_Metadata_Analysis/MERGED/Location_match.csv')"
   ]
  },
  {
   "cell_type": "code",
   "execution_count": 109,
   "id": "95a2e82c",
   "metadata": {},
   "outputs": [],
   "source": [
    "merged_df = pd.merge(df1, location_match[['Directory', 'Subdirectory', 'Station_Number']], \n",
    "                     on=['Directory', 'Subdirectory'], how='left')"
   ]
  },
  {
   "cell_type": "code",
   "execution_count": 110,
   "id": "63da0cc8",
   "metadata": {},
   "outputs": [],
   "source": [
    "merged_df.rename(columns={'Station_Number_y': 'Adjusted_Station_Number'}, inplace=True)\n",
    "merged_df.rename(columns={'Station_Number_x': 'Station_Number'}, inplace=True)"
   ]
  },
  {
   "cell_type": "code",
   "execution_count": 111,
   "id": "be8e4e51",
   "metadata": {},
   "outputs": [],
   "source": [
    "merged_df.to_csv('L:/DATA/ISIS/ISIS_Test_Metadata_Analysis/MERGED/ISIS-2_MD_Version3.csv', index=False)\n"
   ]
  },
  {
   "cell_type": "markdown",
   "id": "aee19c29",
   "metadata": {},
   "source": [
    "Station_quality shows the level of confidence with 1 if \"Adjusted_Station_Number is equal to \"Station_Number\" column read by OCR. Otherwise it will add a zero. "
   ]
  },
  {
   "cell_type": "code",
   "execution_count": 112,
   "id": "8ea6dbd4",
   "metadata": {},
   "outputs": [
    {
     "name": "stderr",
     "output_type": "stream",
     "text": [
      "C:\\Users\\rsheikholmolouki\\AppData\\Local\\Temp\\ipykernel_4536\\71715193.py:1: DtypeWarning: Columns (20) have mixed types. Specify dtype option on import or set low_memory=False.\n",
      "  merged_df = pd.read_csv('L:/DATA/ISIS/ISIS_Test_Metadata_Analysis/MERGED/ISIS-2_MD_Version3.csv')\n"
     ]
    }
   ],
   "source": [
    "merged_df = pd.read_csv('L:/DATA/ISIS/ISIS_Test_Metadata_Analysis/MERGED/ISIS-2_MD_Version3.csv')\n",
    "merged_df['Station_quality'] = (merged_df['Adjusted_Station_Number'] == merged_df['Station_Number']).astype(int)"
   ]
  },
  {
   "cell_type": "code",
   "execution_count": 113,
   "id": "93525689",
   "metadata": {},
   "outputs": [],
   "source": [
    "merged_df.to_csv('L:/DATA/ISIS/ISIS_Test_Metadata_Analysis/MERGED/ISIS-2_MD_Version4.csv', index=False)\n"
   ]
  },
  {
   "cell_type": "code",
   "execution_count": 114,
   "id": "5436cba9",
   "metadata": {},
   "outputs": [
    {
     "name": "stdout",
     "output_type": "stream",
     "text": [
      "Number of instances where OCR did not read the Station Number correctly: 50946\n"
     ]
    }
   ],
   "source": [
    "num_instances_with_quality_0 = (merged_df['Station_quality'] == 0).sum()\n",
    "print(\"Number of instances where OCR did not read the Station Number correctly:\", num_instances_with_quality_0)"
   ]
  },
  {
   "cell_type": "code",
   "execution_count": 115,
   "id": "e057aaf7",
   "metadata": {},
   "outputs": [
    {
     "name": "stdout",
     "output_type": "stream",
     "text": [
      "Percentage of instances where OCR did not read the Station Number (3rd and 4th digit) correctly: 11.64%\n"
     ]
    }
   ],
   "source": [
    "total_instances = len(merged_df)\n",
    "percentage_quality_0 = (num_instances_with_quality_0 / total_instances) * 100\n",
    "print(\"Percentage of instances where OCR did not read the Station Number (3rd and 4th digit) correctly: {:.2f}%\".format(percentage_quality_0))"
   ]
  },
  {
   "cell_type": "markdown",
   "id": "14dd5aca",
   "metadata": {},
   "source": [
    "Finally, we will adjust the Station_Location, Latitude and Longitude based on the \"Adjusted_Station_Number\" Value."
   ]
  },
  {
   "cell_type": "code",
   "execution_count": 116,
   "id": "bd44e9f4",
   "metadata": {},
   "outputs": [
    {
     "name": "stderr",
     "output_type": "stream",
     "text": [
      "C:\\Users\\rsheikholmolouki\\AppData\\Local\\Temp\\ipykernel_4536\\17372866.py:1: DtypeWarning: Columns (20) have mixed types. Specify dtype option on import or set low_memory=False.\n",
      "  csv1= pd.read_csv('L:/DATA/ISIS/ISIS_Test_Metadata_Analysis/MERGED/ISIS-2_MD_Version4.csv')\n"
     ]
    }
   ],
   "source": [
    "csv1= pd.read_csv('L:/DATA/ISIS/ISIS_Test_Metadata_Analysis/MERGED/ISIS-2_MD_Version4.csv')"
   ]
  },
  {
   "cell_type": "code",
   "execution_count": 117,
   "id": "c2920a7f",
   "metadata": {},
   "outputs": [],
   "source": [
    "csv2= pd.read_csv('L:/DATA/ISIS/ISIS_Test_Metadata_Analysis/Station_Number_Name_Location - Copy.csv')"
   ]
  },
  {
   "cell_type": "code",
   "execution_count": 118,
   "id": "27c75f86",
   "metadata": {},
   "outputs": [],
   "source": [
    "merged_df = pd.merge(csv1, csv2, left_on='Adjusted_Station_Number', right_on='Number', how='inner')"
   ]
  },
  {
   "cell_type": "code",
   "execution_count": 119,
   "id": "5ba4e9b4",
   "metadata": {},
   "outputs": [],
   "source": [
    "merged_df.to_csv('L:/DATA/ISIS/ISIS_Test_Metadata_Analysis/MERGED/ISIS-2_MD_Version5.csv', index=False)"
   ]
  },
  {
   "cell_type": "markdown",
   "id": "f4f43b21",
   "metadata": {},
   "source": [
    "### Creation of the Final Master ISIS II CSV File\n",
    "The original columns that were later adjusted were dropped in this version. "
   ]
  },
  {
   "cell_type": "code",
   "execution_count": 120,
   "id": "6ce96353",
   "metadata": {},
   "outputs": [],
   "source": [
    "columns_to_drop = ['Satellite_Code', 'Station_Number', 'Station_Location_x', 'Station_ID_x','Station_Lat','Station_Lon']  \n",
    "merged_df.drop(columns=columns_to_drop, inplace=True)"
   ]
  },
  {
   "cell_type": "code",
   "execution_count": 121,
   "id": "34eab0b6",
   "metadata": {},
   "outputs": [],
   "source": [
    "merged_df.to_csv('L:/DATA/ISIS/ISIS_Test_Metadata_Analysis/MERGED/ISIS-2_MD_Version6.csv', index=False)"
   ]
  },
  {
   "cell_type": "code",
   "execution_count": null,
   "id": "26ce8629",
   "metadata": {},
   "outputs": [],
   "source": []
  }
 ],
 "metadata": {
  "kernelspec": {
   "display_name": "Python 3 (ipykernel)",
   "language": "python",
   "name": "python3"
  },
  "language_info": {
   "codemirror_mode": {
    "name": "ipython",
    "version": 3
   },
   "file_extension": ".py",
   "mimetype": "text/x-python",
   "name": "python",
   "nbconvert_exporter": "python",
   "pygments_lexer": "ipython3",
   "version": "3.11.3"
  }
 },
 "nbformat": 4,
 "nbformat_minor": 5
}
