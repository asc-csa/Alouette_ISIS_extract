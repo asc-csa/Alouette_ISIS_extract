{
 "cells": [
  {
   "cell_type": "code",
   "execution_count": 1,
   "id": "780cb890",
   "metadata": {},
   "outputs": [],
   "source": [
    "from PIL import Image\n",
    "import glob"
   ]
  },
  {
   "cell_type": "markdown",
   "id": "bead22ed",
   "metadata": {},
   "source": [
    "The final outputs can be found under the Multimedia folder: https://github.com/asc-csa/Alouette_extract/tree/ISIS-working/Multimedia"
   ]
  },
  {
   "cell_type": "markdown",
   "id": "41962181",
   "metadata": {},
   "source": [
    "### ISIS 1 GIF"
   ]
  },
  {
   "cell_type": "code",
   "execution_count": 6,
   "id": "4fd63af5",
   "metadata": {},
   "outputs": [],
   "source": [
    "# selecting an Image path (Here b34_R014207854 >> B1-35-12 ISIS A C-1821 >> Image 24 to 34 were selected )\n",
    "image_paths = glob.glob(\"//sirius/home4$/RSheikholmolouki/Citrix-Desktop/ISIS/ISIS1/*png\")"
   ]
  },
  {
   "cell_type": "code",
   "execution_count": 7,
   "id": "7396601c",
   "metadata": {},
   "outputs": [],
   "source": [
    "frames= []"
   ]
  },
  {
   "cell_type": "code",
   "execution_count": 8,
   "id": "bd9757fd",
   "metadata": {},
   "outputs": [],
   "source": [
    "#going over each image file\n",
    "for image_path in image_paths:\n",
    "    image = Image.open(image_path)\n",
    "    frames.append(image)"
   ]
  },
  {
   "cell_type": "code",
   "execution_count": 9,
   "id": "4160889b",
   "metadata": {},
   "outputs": [],
   "source": [
    "frames[0].save('L:/DATA/ISIS/GIF_animations/ISIS1.gif', format = 'GIF', append_images = frames[1:], save_all= True, duration = 200, loop = 0)"
   ]
  },
  {
   "cell_type": "markdown",
   "id": "033c8675",
   "metadata": {},
   "source": [
    "### ISIS 2 GIF"
   ]
  },
  {
   "cell_type": "code",
   "execution_count": 2,
   "id": "60834d1d",
   "metadata": {},
   "outputs": [],
   "source": [
    "# selecting an Image path (Here b3_R014207773>> B1-35-31 ISIS B D-107>> Image 14 to 24 were selected)\n",
    "image_paths = glob.glob(\"//sirius/home4$/RSheikholmolouki/Citrix-Desktop/ISIS/ISIS2/*png\")"
   ]
  },
  {
   "cell_type": "code",
   "execution_count": 3,
   "id": "8ad35f78",
   "metadata": {},
   "outputs": [],
   "source": [
    "frames= []"
   ]
  },
  {
   "cell_type": "code",
   "execution_count": 4,
   "id": "05672524",
   "metadata": {},
   "outputs": [],
   "source": [
    "#going over each image file\n",
    "for image_path in image_paths:\n",
    "    image = Image.open(image_path)\n",
    "    frames.append(image)"
   ]
  },
  {
   "cell_type": "code",
   "execution_count": 5,
   "id": "a651363f",
   "metadata": {},
   "outputs": [],
   "source": [
    "frames[0].save('L:/DATA/ISIS/GIF_animations/ISIS2.gif', format = 'GIF', append_images = frames[1:], save_all= True, duration = 200, loop = 0)"
   ]
  }
 ],
 "metadata": {
  "kernelspec": {
   "display_name": "Python 3 (ipykernel)",
   "language": "python",
   "name": "python3"
  },
  "language_info": {
   "codemirror_mode": {
    "name": "ipython",
    "version": 3
   },
   "file_extension": ".py",
   "mimetype": "text/x-python",
   "name": "python",
   "nbconvert_exporter": "python",
   "pygments_lexer": "ipython3",
   "version": "3.11.3"
  }
 },
 "nbformat": 4,
 "nbformat_minor": 5
}
