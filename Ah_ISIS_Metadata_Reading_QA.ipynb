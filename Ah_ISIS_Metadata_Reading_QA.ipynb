{
 "cells": [
  {
   "cell_type": "markdown",
   "metadata": {},
   "source": [
    "*****Jeyshinee Pyneeandee, April 2024***** <br>\n",
    "## ISIS Metadata Reading Accuracy QA (ISIS A & B)\n",
    "This script is to manually test the accuracy of KERAS for its metadata reading. The script tests ISIS A and ISIS B ionograms separately. "
   ]
  },
  {
   "cell_type": "code",
   "execution_count": 51,
   "metadata": {},
   "outputs": [],
   "source": [
    "#required imports\n",
    "import matplotlib.pyplot as plt\n",
    "import glob\n",
    "import os\n",
    "import random\n",
    "from random import randrange\n",
    "import csv\n",
    "import pandas as pd\n",
    "import numpy as np\n",
    "import matplotlib.image as mpimg\n",
    "from PIL import Image"
   ]
  },
  {
   "cell_type": "code",
   "execution_count": 2,
   "metadata": {},
   "outputs": [],
   "source": [
    "rootDir = 'L:/DATA/ISIS/'\n",
    "\n",
    "imageDir1 = rootDir + 'ISIS_101300030772/'\n",
    "imageDir2 = rootDir + 'ISIS_102000056114/'\n",
    "imageDir3 = rootDir + 'raw_upload_20230421/'\n",
    "\n",
    "logDir = rootDir + 'ISIS_Test_Metadata_Analysis/MERGED/'"
   ]
  },
  {
   "cell_type": "code",
   "execution_count": 3,
   "metadata": {},
   "outputs": [],
   "source": [
    "sample_size = 50"
   ]
  },
  {
   "cell_type": "code",
   "execution_count": null,
   "metadata": {},
   "outputs": [],
   "source": [
    "df_master = pd.read_csv(logDir + 'Final_Merged.csv', low_memory= False)"
   ]
  },
  {
   "cell_type": "markdown",
   "metadata": {},
   "source": [
    "## ISIS A Ionograms"
   ]
  },
  {
   "cell_type": "markdown",
   "metadata": {},
   "source": [
    "We randomly sample 50 ISIS A ionograms from the master results file to test accuracy. "
   ]
  },
  {
   "cell_type": "code",
   "execution_count": 5,
   "metadata": {},
   "outputs": [],
   "source": [
    "filter_df_num = df_master[df_master['Subdirectory'].str.contains(\"ISIS A\")]\n",
    "selected_rows_num = filter_df_num.sample(sample_size)"
   ]
  },
  {
   "cell_type": "code",
   "execution_count": 6,
   "metadata": {},
   "outputs": [
    {
     "name": "stdout",
     "output_type": "stream",
     "text": [
      "        Unnamed: 0.1  Unnamed: 0  Satellite_Code  Fixed_Frequency_Code  \\\n",
      "63276          63276          64               3                     2   \n",
      "109405        109405          24               3                     6   \n",
      "806932        806932         281               3                     3   \n",
      "443133        443133         243               3                     1   \n",
      "343409        343409          40               3                     2   \n",
      "\n",
      "        Station_Number             Station_Location Station_ID  Station_Lat  \\\n",
      "63276               69              Unknown Station    UNKNOWN          1.0   \n",
      "109405               5               Quito, Ecuador        QUI          0.0   \n",
      "806932              16  Johannesburg, South Africa         BUR        -25.0   \n",
      "443133              74                            0          0          0.0   \n",
      "343409              16  Johannesburg, South Africa         BUR        -25.0   \n",
      "\n",
      "        Station_Lon  Year  Day  Hour  Minute  Second       Filename  \\\n",
      "63276           1.0    71  181    14      37      33  Image0080.png   \n",
      "109405        281.0    72   61    18       2      57  Image0027.png   \n",
      "806932         27.0    71  214    13      20      14   Image486.png   \n",
      "443133          0.0    72  268     2      15      37  Image0273.png   \n",
      "343409         27.0    92  851    85      61      41  Image0317.png   \n",
      "\n",
      "             Directory            Subdirectory   Timestamp  \n",
      "63276   b13_R014207853  B1-35-11 ISIS A C-1782         NaN  \n",
      "109405  b15_R014207728  B1-35-10 ISIS A C-1710         NaN  \n",
      "806932      R014207848   B1-35-7 ISIS A C-1557  1971-08-02  \n",
      "443133  b34_R014207854  B1-35-12 ISIS A C-1843         NaN  \n",
      "343409  b28_R014207705   B1-34-55 ISIS A C-612         NaN  \n"
     ]
    }
   ],
   "source": [
    "print(selected_rows_num.head(5))"
   ]
  },
  {
   "cell_type": "code",
   "execution_count": 7,
   "metadata": {},
   "outputs": [
    {
     "name": "stdout",
     "output_type": "stream",
     "text": [
      "Image Path: L:/DATA/ISIS/ISIS_101300030772/b13_R014207853\\B1-35-11 ISIS A C-1782\\Image0080.png\n",
      "Image Path: L:/DATA/ISIS/ISIS_101300030772/b15_R014207728\\B1-35-10 ISIS A C-1710\\Image0027.png\n",
      "Image Path: L:/DATA/ISIS/raw_upload_20230421/R014207848\\B1-35-7 ISIS A C-1557\\Image486.png\n",
      "Image Path: L:/DATA/ISIS/ISIS_101300030772/b34_R014207854\\B1-35-12 ISIS A C-1843\\Image0273.png\n",
      "Image Path: L:/DATA/ISIS/ISIS_101300030772/b28_R014207705\\B1-34-55 ISIS A C-612\\Image0317.png\n",
      "Image Path: L:/DATA/ISIS/ISIS_101300030772/b16_R014207847\\B1-35-5 ISIS A C-1424\\Image0460.png\n",
      "Image Path: L:/DATA/ISIS/ISIS_101300030772/b10_R014207713\\B1-34-61 ISIS A C-931\\Image0085.png\n",
      "Image Path: L:/DATA/ISIS/raw_upload_20230421/R014207848\\B1-35-7 ISIS A C-1579\\Image0422.png\n",
      "Image Path: L:/DATA/ISIS/ISIS_101300030772/b16_R014207847\\B1-35-5 ISIS A C-1411\\Image0245.png\n",
      "Image Path: L:/DATA/ISIS/raw_upload_20230421/R014207848\\B1-35-7 ISIS A C-1534\\Image0060.png\n",
      "Image Path: L:/DATA/ISIS/ISIS_101300030772/b24_R014207706\\B1-35-4 ISIS A C-1368\\Image0076.png\n",
      "Image Path: L:/DATA/ISIS/ISIS_101300030772/b24_R014207706\\B1-35-4 ISIS A C-1347\\Image0175.png\n",
      "Image Path: L:/DATA/ISIS/ISIS_102000056114/R014207855\\B1-35-3 ISIS A C-1325\\Image0041.png\n",
      "Image Path: L:/DATA/ISIS/ISIS_102000056114/R014207702\\B1-34-56 ISIS A C-637\\Image0049.png\n",
      "Image Path: L:/DATA/ISIS/ISIS_101300030772/b33_R014207877\\B1-34-64 ISIS A C-1147\\Image0151.png\n",
      "Image Path: L:/DATA/ISIS/ISIS_102000056114/R014207849\\B1-35-6 ISIS A C-1501\\Image0424.png\n",
      "Image Path: L:/DATA/ISIS/ISIS_101300030772/b33_R014207877\\B1-34-64 ISIS A C-1120\\gray00457.png\n",
      "Image Path: L:/DATA/ISIS/ISIS_101300030772/b10_R014207713\\B1-34-61 ISIS A C-957\\Image0007.png\n",
      "Image Path: L:/DATA/ISIS/ISIS_102000056114/R014207854\\B1-35-12 ISIS A C-1837\\Image0364.png\n",
      "Image Path: L:/DATA/ISIS/ISIS_101300030772/b27_R014207898\\B1-35-8 ISIS A C-1634\\Image0227.png\n",
      "Image Path: L:/DATA/ISIS/ISIS_102000056114/R014207849\\B1-35-6 ISIS A C-1492\\Image0020.png\n",
      "Image Path: L:/DATA/ISIS/ISIS_101300030772/b7_R014207896\\B1-34-50 ISIS A C-316-72\\Image0026.png\n",
      "Image Path: L:/DATA/ISIS/ISIS_101300030772/b13_R014207853\\B1-35-11 ISIS A C-1778\\Image0098.png\n",
      "Image Path: L:/DATA/ISIS/ISIS_101300030772/b13_R014207853\\B1-35-11 ISIS A C-1807\\Image0227.png\n",
      "Image Path: L:/DATA/ISIS/raw_upload_20230421/R014207848\\B1-35-7 ISIS A C-1568\\Image0579.png\n",
      "Image Path: L:/DATA/ISIS/ISIS_101300030772/b13_R014207853\\B1-35-11 ISIS A C-1810\\Image0651.png\n",
      "Image Path: L:/DATA/ISIS/ISIS_101300030772/b15_R014207728\\B1-35-10 ISIS A C-1756\\Image0186.png\n",
      "Image Path: L:/DATA/ISIS/ISIS_102000056114/R014207849\\B1-35-6 ISIS A C-1501\\Image0184.png\n",
      "Image Path: L:/DATA/ISIS/ISIS_101300030772/b15_R014207728\\B1-35-10 ISIS A C-1705\\Image0261.png\n",
      "Image Path: L:/DATA/ISIS/ISIS_102000056114/R014207849\\B1-35-6 ISIS A C-1510\\Image0305.png\n",
      "Image Path: L:/DATA/ISIS/ISIS_101300030772/b13_R014207853\\B1-35-11 ISIS A C-1807\\Image0478.png\n",
      "Image Path: L:/DATA/ISIS/ISIS_101300030772/b19_R014207707\\B1-35-1 ISIS A C-1187\\Image0200.png\n",
      "Image Path: L:/DATA/ISIS/ISIS_102000056114/R014207854\\B1-35-12 ISIS A C-1833\\Image0491.png\n",
      "Image Path: L:/DATA/ISIS/ISIS_101300030772/b23_R014207876\\B1-34-63 ISIS A C-1090\\Image0450.png\n",
      "Image Path: L:/DATA/ISIS/ISIS_102000056114/R014207888\\B1-34-52 ISIS A C-398\\Image0098.png\n",
      "Image Path: L:/DATA/ISIS/ISIS_102000056114/R014207899\\B1-35-9 ISIS A C-1648\\Image0182.png\n",
      "Image Path: L:/DATA/ISIS/ISIS_101300030772/b27_R014207898\\B1-35-8 ISIS A C-1612\\Image0374.png\n",
      "Image Path: L:/DATA/ISIS/ISIS_102000056114/R014207702\\B1-34-56 ISIS A C-640-1\\Image0410.png\n",
      "Image Path: L:/DATA/ISIS/ISIS_102000056114/R014207702\\B1-34-56 ISIS A C-644\\Image0195.png\n",
      "Image Path: L:/DATA/ISIS/ISIS_101300030772/b17_R014207703\\B1-34-57 ISIS A C-716\\Image0030.png\n",
      "Image Path: L:/DATA/ISIS/ISIS_102000056114/R014207854\\B1-35-12 ISIS A C-1849\\Image0435.png\n",
      "Image Path: L:/DATA/ISIS/ISIS_101300030772/b27_R014207898\\B1-35-8 ISIS A C-1608\\Image0379.png\n",
      "Image Path: L:/DATA/ISIS/ISIS_101300030772/b13_R014207853\\B1-35-11 ISIS A C-1817\\Image0309.png\n",
      "Image Path: L:/DATA/ISIS/raw_upload_20230421/R014207848\\B1-35-7 ISIS A C-1539\\Image0156.png\n",
      "Image Path: L:/DATA/ISIS/ISIS_102000056114/R014207888\\B1-34-52 ISIS A C-404\\Image0077.png\n",
      "Image Path: L:/DATA/ISIS/ISIS_101300030772/b24_R014207706\\B1-35-4 ISIS A C-1350\\Image0415.png\n",
      "Image Path: L:/DATA/ISIS/ISIS_102000056114/R014207849\\B1-35-6 ISIS A C-1490\\Image0051.png\n",
      "Image Path: L:/DATA/ISIS/ISIS_101300030772/b27_R014207898\\B1-35-8 ISIS A C-1604\\Image0405.png\n",
      "Image Path: L:/DATA/ISIS/ISIS_102000056114/R014207702\\B1-34-56 ISIS A C-662\\Image0298.png\n",
      "Image Path: L:/DATA/ISIS/ISIS_102000056114/R014207702\\B1-34-56 ISIS A C-655\\Image0129.png\n"
     ]
    }
   ],
   "source": [
    "for _, row in selected_rows_num.iterrows():\n",
    "    directory = row['Directory']\n",
    "    subdirectory = row ['Subdirectory']\n",
    "    filename = row ['Filename']\n",
    "    image_path1 = os.path.join(imageDir1, directory, subdirectory, filename)\n",
    "    image_path2 = os.path.join(imageDir2, directory, subdirectory, filename)\n",
    "    image_path3 = os.path.join(imageDir3, directory, subdirectory, filename)\n",
    "\n",
    "    \n",
    "    if os.path.exists(image_path1):\n",
    "        print (\"Image Path:\", image_path1)\n",
    "        image = Image.open(image_path1)\n",
    "        image.show()\n",
    "    \n",
    "    elif os.path.exists(image_path2):\n",
    "        print (\"Image Path:\", image_path2)\n",
    "        image = Image.open(image_path2)\n",
    "        image.show()\n",
    "    \n",
    "    elif os.path.exists(image_path3):\n",
    "        print (\"Image Path:\", image_path3)\n",
    "        image = Image.open(image_path3)\n",
    "        image.show()\n",
    "\n",
    "    else: \n",
    "        print (\"Image not found\")\n",
    "    "
   ]
  },
  {
   "cell_type": "code",
   "execution_count": null,
   "metadata": {},
   "outputs": [],
   "source": [
    "print (\"Please read the metadata for each of the 50 images above and the values in the boxes below\")\n",
    "print (\"Write N/A if any of the values were not present or not easy to read.\")\n",
    "\n",
    "second_data = []\n",
    "for _, row in selected_rows_num.iterrows():\n",
    "    directory = row['Directory']\n",
    "    subdirectory = row ['Subdirectory']\n",
    "    filename = row ['Filename']  \n",
    "\n",
    "    Station_Number = input (\"Station number: \")\n",
    "    Year = input (\"Add the Year: \")\n",
    "    Day = input (\"Add the Day: \")\n",
    "    Hour = input (\"Add the Hour: \")\n",
    "    Minute = input (\"Add the Minutes: \")\n",
    "    Second = input (\"Add the Seconds: \")\n",
    "    Issue = ''\n",
    "\n",
    "    if row['Year'] != int(Year):\n",
    "        Issue = 'Year'\n",
    "    if row['Day'] != int(Day):\n",
    "        Issue = Issue + ', Day'\n",
    "    if row['Minute'] !=  int(Minute):\n",
    "        Issue = Issue + ', Minute'\n",
    "    if row['Second'] != int(Second):\n",
    "        Issue = Issue + ', Second'  \n",
    "    if row['Station_Number'] != int(Station_Number):\n",
    "        Issue = Issue + ', Station_Number'\n",
    "    \n",
    "    if len(Issue) == 0:\n",
    "        Issue = 'None'\n",
    "    second_data.append([directory, subdirectory, filename, Station_Number, Year, Day, Hour, Minute, Second, Issue])\n",
    "    \n",
    "with open ('L:/DATA/ISIS/ISIS_Test_Metadata_Analysis/ISIS_A_Accuracy_QA.csv', 'a', newline='') as csvfile:\n",
    "    writer = csv.writer(csvfile)\n",
    "    writer.writerow([\"Directory\",\"Subdirectory\", \"Filename\",\"Station_Number\",\"Year\", \"Day\",  \"Hour\", \"Minute\", \"Second\", \"Issue\"])\n",
    "    for row in second_data:\n",
    "        writer.writerow(row)"
   ]
  },
  {
   "cell_type": "code",
   "execution_count": 49,
   "metadata": {},
   "outputs": [
    {
     "name": "stdout",
     "output_type": "stream",
     "text": [
      "Total number of scanned ISIS A Ionograms: 400647\n",
      "Number of ISIS A Images Analyzed: 50\n",
      "Number of ionograms categorized correctly out of 50: 41\n",
      "Estimated Success Rate out of 400647 Ionograms with consistent results: 0.82\n"
     ]
    },
    {
     "data": {
      "image/png": "[encoded data removed]",
      "text/plain": [
       "<Figure size 640x480 with 1 Axes>"
      ]
     },
     "metadata": {},
     "output_type": "display_data"
    }
   ],
   "source": [
    "#Total Number of Num Categories\n",
    "counting_ISIS_A = df_master[df_master['Subdirectory'].str.contains(\"ISIS A\")]\n",
    "print ('Total number of scanned ISIS A Ionograms:', len(counting_ISIS_A))\n",
    "\n",
    "#Total number of Ionograms analyzed\n",
    "df_num = pd.read_csv('L:/DATA/ISIS/ISIS_Test_Metadata_Analysis/ISIS_A_Accuracy_QA.csv')\n",
    "total_len = len(df_num)\n",
    "print ('Number of ISIS A Images Analyzed:', total_len)\n",
    "\n",
    "#Filtering out correct categories\n",
    "df_num['Issue'] = df_num['Issue'].astype(str)\n",
    "df_num = df_num.loc[df_num['Issue'] != 'nan']\n",
    "filtered_down_len = len(df_num)\n",
    "print('Number of ionograms categorized correctly out of 50:', total_len - filtered_down_len)\n",
    "\n",
    "#Estimated success rate\n",
    "success_rate = (total_len - filtered_down_len)/total_len\n",
    "Estimation = round(success_rate*len(counting_ISIS_A))\n",
    "print('Estimated Success Rate out of 400647 Ionograms with consistent results:', round(Estimation/len(counting_ISIS_A),2))\n",
    "\n",
    "#Plotting the variation of issues\n",
    "issue_counts_num = df_num[\"Issue\"].value_counts()\n",
    "plt.bar(issue_counts_num.index, issue_counts_num.values)\n",
    "plt.title (\"Variation of the remaining errors\")\n",
    "plt.xlabel(\"Issue\")\n",
    "plt.ylabel(\"Number of Issues\")\n",
    "plt.xticks(rotation=90)\n",
    "plt.show()"
   ]
  },
  {
   "cell_type": "markdown",
   "metadata": {},
   "source": [
    "## ISIS B Ionograms\n",
    "We repeat the same process with ISIS B Ionograms."
   ]
  },
  {
   "cell_type": "code",
   "execution_count": 42,
   "metadata": {},
   "outputs": [],
   "source": [
    "filter_df_num_B = df_master[df_master['Subdirectory'].str.contains(\"ISIS B\")]\n",
    "selected_rows_num_B = filter_df_num_B.sample(sample_size)"
   ]
  },
  {
   "cell_type": "code",
   "execution_count": 43,
   "metadata": {},
   "outputs": [
    {
     "name": "stdout",
     "output_type": "stream",
     "text": [
      "        Unnamed: 0.1  Unnamed: 0  Satellite_Code  Fixed_Frequency_Code  \\\n",
      "195325        195325         605               4                     5   \n",
      "398431        398431         270               4                     1   \n",
      "828268        828268          81               4                     1   \n",
      "354007        354007          12               4                     6   \n",
      "357768        357768         291               4                     5   \n",
      "\n",
      "        Station_Number      Station_Location Station_ID  Station_Lat  \\\n",
      "195325              81       Unknown Station    UNKNOWN          1.0   \n",
      "398431              50       Ottawa, Canada         OTT         45.0   \n",
      "828268               0       Unknown Station    UNKNOWN          1.0   \n",
      "354007              43  Resolute Bay, Canada        RES         74.0   \n",
      "357768               8       Santiago, Chile        AGO        -33.0   \n",
      "\n",
      "        Station_Lon  Year  Day  Hour  Minute  Second       Filename  \\\n",
      "195325          1.0    72   98     4      40      54  Image0624.png   \n",
      "398431        284.0    72   69     8       5      59  Image0320.png   \n",
      "828268          1.0    12    4     8      16      48  Image0116.png   \n",
      "354007        265.0    72  157     1       3      13  Image0015.png   \n",
      "357768        289.0    71  120     8      55      48  Image0309.png   \n",
      "\n",
      "             Directory            Subdirectory   Timestamp  \n",
      "195325  b18_R014207880  B1-35-32 ISIS B D-1149         NaN  \n",
      "398431  b32_R028224177   B1-35-18 ISIS B D-312         NaN  \n",
      "828268      R014207852   B1-35-16 ISIS B D-228  1912-01-04  \n",
      "354007  b30_R014207879   B1-35-21 ISIS B D-471         NaN  \n",
      "357768  b30_R014207879   B1-35-21 ISIS B D-478         NaN  \n"
     ]
    }
   ],
   "source": [
    "print(selected_rows_num_B.head(5))"
   ]
  },
  {
   "cell_type": "code",
   "execution_count": 44,
   "metadata": {},
   "outputs": [],
   "source": [
    "for _, row in selected_rows_num_B.iterrows():\n",
    "    directory = row['Directory']\n",
    "    subdirectory = row ['Subdirectory']\n",
    "    filename = row ['Filename']\n",
    "    image_path1 = os.path.join(imageDir1, directory, subdirectory, filename)\n",
    "    image_path2 = os.path.join(imageDir2, directory, subdirectory, filename)\n",
    "    image_path3 = os.path.join(imageDir3, directory, subdirectory, filename)\n",
    "\n",
    "    \n",
    "    if os.path.exists(image_path1):\n",
    "        image = Image.open(image_path1)\n",
    "        image.show()\n",
    "    \n",
    "    elif os.path.exists(image_path2):\n",
    "        image = Image.open(image_path2)\n",
    "        image.show()\n",
    "    \n",
    "    elif os.path.exists(image_path3):\n",
    "        image = Image.open(image_path3)\n",
    "        image.show()\n",
    "\n",
    "    else: \n",
    "        print (\"Image not found\")\n",
    "    "
   ]
  },
  {
   "cell_type": "code",
   "execution_count": null,
   "metadata": {},
   "outputs": [],
   "source": [
    "print (\"Please read the metadata for each of the 50 images above and the values in the boxes below\")\n",
    "print (\"Write N/A if any of the values were not present or not easy to read.\")\n",
    "\n",
    "second_data = []\n",
    "for _, row in selected_rows_num_B.iterrows():\n",
    "    directory = row['Directory']\n",
    "    subdirectory = row ['Subdirectory']\n",
    "    filename = row ['Filename']  \n",
    "\n",
    "    Station_Number = input (\"Station number: \")\n",
    "    Year = input (\"Add the Year: \")\n",
    "    Day = input (\"Add the Day: \")\n",
    "    Hour = input (\"Add the Hour: \")\n",
    "    Minute = input (\"Add the Minutes: \")\n",
    "    Second = input (\"Add the Seconds: \")\n",
    "    Issue = ''\n",
    "\n",
    "    if row['Year'] != int(Year):\n",
    "        Issue = 'Year'\n",
    "    if row['Day'] != int(Day):\n",
    "        Issue = Issue + ', Day'\n",
    "    if row['Minute'] !=  int(Minute):\n",
    "        Issue = Issue + ', Minute'\n",
    "    if row['Second'] != int(Second):\n",
    "        Issue = Issue + ', Second'  \n",
    "    if row['Station_Number'] != int(Station_Number):\n",
    "        Issue = Issue + ', Station_Number'\n",
    "    \n",
    "    if len(Issue) == 0:\n",
    "        Issue = 'None'\n",
    "    second_data.append([directory, subdirectory, filename, Station_Number, Year, Day, Hour, Minute, Second, Issue])\n",
    "    \n",
    "with open ('L:/DATA/ISIS/ISIS_Test_Metadata_Analysis/ISIS_B_Accuracy_QA.csv', 'a', newline='') as csvfile:\n",
    "    writer = csv.writer(csvfile)\n",
    "    writer.writerow([\"Directory\",\"Subdirectory\", \"Filename\",\"Station_Number\",\"Year\", \"Day\",  \"Hour\", \"Minute\", \"Second\", \"Issue\"])\n",
    "    for row in second_data:\n",
    "        writer.writerow(row)"
   ]
  },
  {
   "cell_type": "code",
   "execution_count": 50,
   "metadata": {},
   "outputs": [
    {
     "name": "stdout",
     "output_type": "stream",
     "text": [
      "Total number of scanned ISIS B Ionograms: 406807\n",
      "Number of ISIS B Images Analyzed: 50\n",
      "Number of ionograms categorized correctly out of 50: 40\n",
      "Estimated Success Rate out of 838437 Ionograms with consistent results: 0.8\n"
     ]
    },
    {
     "data": {
      "image/png": "[encoded data removed]",
      "text/plain": [
       "<Figure size 640x480 with 1 Axes>"
      ]
     },
     "metadata": {},
     "output_type": "display_data"
    }
   ],
   "source": [
    "#Total Number of Num Categories\n",
    "counting_ISIS_B = df_master[df_master['Subdirectory'].str.contains(\"ISIS B\")]\n",
    "print ('Total number of scanned ISIS B Ionograms:', len(counting_ISIS_B))\n",
    "\n",
    "#Total number of Ionograms analyzed\n",
    "df_num = pd.read_csv('L:/DATA/ISIS/ISIS_Test_Metadata_Analysis/ISIS_B_Accuracy_QA.csv')\n",
    "total_len = len(df_num)\n",
    "print ('Number of ISIS B Images Analyzed:', total_len)\n",
    "\n",
    "#Filtering out correct categories\n",
    "df_num['Issue'] = df_num['Issue'].astype(str)\n",
    "df_num = df_num.loc[df_num['Issue'] != 'nan']\n",
    "filtered_down_len = len(df_num)\n",
    "print('Number of ionograms categorized correctly out of 50:', total_len - filtered_down_len)\n",
    "\n",
    "#Estimated success rate\n",
    "success_rate = (total_len - filtered_down_len)/total_len\n",
    "Estimation = round(success_rate*len(counting_ISIS_B))\n",
    "print('Estimated Success Rate out of 838437 Ionograms with consistent results:', round(Estimation/len(counting_ISIS_B),2))\n",
    "\n",
    "#Plotting the variation of issues\n",
    "issue_counts_num = df_num[\"Issue\"].value_counts()\n",
    "plt.bar(issue_counts_num.index, issue_counts_num.values)\n",
    "plt.title (\"Variation of the remaining errors\")\n",
    "plt.xlabel(\"Issue\")\n",
    "plt.ylabel(\"Number of Issues\")\n",
    "plt.xticks(rotation=90)\n",
    "plt.show()"
   ]
  }
 ],
 "metadata": {
  "kernelspec": {
   "display_name": "my-conda-env-kernel",
   "language": "python",
   "name": "my-conda-env-kernel"
  },
  "language_info": {
   "codemirror_mode": {
    "name": "ipython",
    "version": 3
   },
   "file_extension": ".py",
   "mimetype": "text/x-python",
   "name": "python",
   "nbconvert_exporter": "python",
   "pygments_lexer": "ipython3",
   "version": "3.9.18"
  }
 },
 "nbformat": 4,
 "nbformat_minor": 2
}
