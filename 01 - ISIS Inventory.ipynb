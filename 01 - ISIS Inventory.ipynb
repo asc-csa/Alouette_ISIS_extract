{
 "cells": [
  {
   "cell_type": "code",
   "execution_count": 5,
   "id": "38612651",
   "metadata": {},
   "outputs": [],
   "source": [
    "import os"
   ]
  },
  {
   "cell_type": "code",
   "execution_count": 6,
   "id": "56891b0d",
   "metadata": {},
   "outputs": [],
   "source": [
    "def Directory_count(folder_paths):\n",
    "    total_directories = 0\n",
    "    total_subdirectories = 0\n",
    "\n",
    "    for folder_path in folder_paths:\n",
    "        num_directory = 0\n",
    "        num_subdirectories = 0\n",
    "\n",
    "        items = os.listdir(folder_path)\n",
    "        subfolders = [item for item in items if os.path.isdir(os.path.join(folder_path, item))]\n",
    "        num_directory = len(subfolders)\n",
    "        total_directories += num_directory\n",
    "\n",
    "        print(f\"Number of Directories in '{folder_path}': {num_directory}\")\n",
    "\n",
    "        for subfolder in subfolders:\n",
    "            subfolder_path = os.path.join(folder_path, subfolder)\n",
    "            subfolder_items = os.listdir(subfolder_path)\n",
    "            num_subfolder = len([item for item in subfolder_items if os.path.isdir(os.path.join(subfolder_path, item))])\n",
    "            num_subdirectories += num_subfolder\n",
    "\n",
    "            print(f\"  - Number of Subdirectories in '{subfolder}': {num_subfolder}\")\n",
    "\n",
    "        total_subdirectories += num_subdirectories\n",
    "\n",
    "    print(f\"\\nTotal Number of Directories: {total_directories}\")\n",
    "    print(f\"Total Number of Subdirectories: {total_subdirectories}\")"
   ]
  },
  {
   "cell_type": "markdown",
   "id": "1a72de7d",
   "metadata": {},
   "source": [
    "# Total number Directories and Subdirectories"
   ]
  },
  {
   "cell_type": "code",
   "execution_count": 7,
   "id": "ba5989f6",
   "metadata": {},
   "outputs": [],
   "source": [
    "folder_paths = ['L:/DATA/ISIS/ISIS_101300030772/', 'L:/DATA/ISIS/ISIS_102000056114/', 'L:/DATA/ISIS/raw_upload_20230421']"
   ]
  },
  {
   "cell_type": "code",
   "execution_count": 8,
   "id": "caca1a1c",
   "metadata": {},
   "outputs": [
    {
     "name": "stdout",
     "output_type": "stream",
     "text": [
      "Number of Directories in 'L:/DATA/ISIS/ISIS_101300030772/': 29\n",
      "  - Number of Subdirectories in 'b10_R014207713': 60\n",
      "  - Number of Subdirectories in 'b11_R014207871': 60\n",
      "  - Number of Subdirectories in 'b12_R014207873': 60\n",
      "  - Number of Subdirectories in 'b13_R014207853': 60\n",
      "  - Number of Subdirectories in 'b14_R014207878': 60\n",
      "  - Number of Subdirectories in 'b15_R014207728': 59\n",
      "  - Number of Subdirectories in 'b16_R014207847': 60\n",
      "  - Number of Subdirectories in 'b17_R014207703': 60\n",
      "  - Number of Subdirectories in 'b18_R014207880': 60\n",
      "  - Number of Subdirectories in 'b19_R014207707': 60\n",
      "  - Number of Subdirectories in 'b20_R014207709': 60\n",
      "  - Number of Subdirectories in 'b21_R014207764': 60\n",
      "  - Number of Subdirectories in 'b22_R014207850': 59\n",
      "  - Number of Subdirectories in 'b23_R014207876': 60\n",
      "  - Number of Subdirectories in 'b24_R014207706': 60\n",
      "  - Number of Subdirectories in 'b25_R014207875': 60\n",
      "  - Number of Subdirectories in 'b26_R014207772': 60\n",
      "  - Number of Subdirectories in 'b27_R014207898': 59\n",
      "  - Number of Subdirectories in 'b28_R014207705': 60\n",
      "  - Number of Subdirectories in 'b29_R014207874': 60\n",
      "  - Number of Subdirectories in 'b30_R014207879': 60\n",
      "  - Number of Subdirectories in 'b31_R014207894': 59\n",
      "  - Number of Subdirectories in 'b32_R028224177': 60\n",
      "  - Number of Subdirectories in 'b33_R014207877': 60\n",
      "  - Number of Subdirectories in 'b34_R014207854': 45\n",
      "  - Number of Subdirectories in 'b3_R014207773': 60\n",
      "  - Number of Subdirectories in 'b7_R014207896': 60\n",
      "  - Number of Subdirectories in 'b9_R014207778': 59\n",
      "  - Number of Subdirectories in 'Box_029': 60\n",
      "Number of Directories in 'L:/DATA/ISIS/ISIS_102000056114/': 16\n",
      "  - Number of Subdirectories in 'R014207702': 60\n",
      "  - Number of Subdirectories in 'R014207708': 60\n",
      "  - Number of Subdirectories in 'R014207710': 58\n",
      "  - Number of Subdirectories in 'R014207712': 60\n",
      "  - Number of Subdirectories in 'R014207714': 7\n",
      "  - Number of Subdirectories in 'R014207770': 60\n",
      "  - Number of Subdirectories in 'R014207775': 60\n",
      "  - Number of Subdirectories in 'R014207776': 60\n",
      "  - Number of Subdirectories in 'R014207777': 60\n",
      "  - Number of Subdirectories in 'R014207849': 60\n",
      "  - Number of Subdirectories in 'R014207854': 15\n",
      "  - Number of Subdirectories in 'R014207855': 60\n",
      "  - Number of Subdirectories in 'R014207888': 60\n",
      "  - Number of Subdirectories in 'R014207894': 1\n",
      "  - Number of Subdirectories in 'R014207897': 60\n",
      "  - Number of Subdirectories in 'R014207899': 60\n",
      "Number of Directories in 'L:/DATA/ISIS/raw_upload_20230421': 6\n",
      "  - Number of Subdirectories in 'R014207767': 60\n",
      "  - Number of Subdirectories in 'R014207779': 60\n",
      "  - Number of Subdirectories in 'R014207848': 60\n",
      "  - Number of Subdirectories in 'R014207852': 60\n",
      "  - Number of Subdirectories in 'R014207869': 59\n",
      "  - Number of Subdirectories in 'R014207872': 60\n",
      "\n",
      "Total Number of Directories: 51\n",
      "Total Number of Subdirectories: 2880\n"
     ]
    }
   ],
   "source": [
    "Directory_count(folder_paths)"
   ]
  },
  {
   "cell_type": "markdown",
   "id": "420f1195",
   "metadata": {},
   "source": [
    "## Total number of ISIS I and II Images"
   ]
  },
  {
   "cell_type": "code",
   "execution_count": 9,
   "id": "88fafe15",
   "metadata": {},
   "outputs": [],
   "source": [
    "import os\n",
    "\n",
    "def count_png_files(folder):\n",
    "    png_count = 0\n",
    "\n",
    "    for root, dirs, files in os.walk(folder):\n",
    "        for file in files:\n",
    "            if file.lower().endswith(\".png\"):\n",
    "                png_count += 1\n",
    "\n",
    "    print(f\"Total number of PNG files in '{folder}' and its subfolders: {png_count}\")"
   ]
  },
  {
   "cell_type": "markdown",
   "id": "4de2f263",
   "metadata": {},
   "source": [
    "#### Folder 1"
   ]
  },
  {
   "cell_type": "code",
   "execution_count": 10,
   "id": "329de0c3",
   "metadata": {},
   "outputs": [
    {
     "name": "stdout",
     "output_type": "stream",
     "text": [
      "Total number of PNG files in 'L:\\DATA\\ISIS\\ISIS_101300030772' and its subfolders: 840826\n"
     ]
    }
   ],
   "source": [
    "folder_path = \"L:\\\\DATA\\\\ISIS\\\\ISIS_101300030772\"\n",
    "count_png_files(folder_path)"
   ]
  },
  {
   "cell_type": "markdown",
   "id": "1e29a71f",
   "metadata": {},
   "source": [
    "#### Folder 2"
   ]
  },
  {
   "cell_type": "code",
   "execution_count": 11,
   "id": "eed037d4",
   "metadata": {},
   "outputs": [
    {
     "name": "stdout",
     "output_type": "stream",
     "text": [
      "Total number of PNG files in 'L:\\DATA\\ISIS\\raw_upload_20230421' and its subfolders: 172438\n"
     ]
    }
   ],
   "source": [
    "folder_path = \"L:\\\\DATA\\\\ISIS\\\\raw_upload_20230421\"\n",
    "count_png_files(folder_path)"
   ]
  },
  {
   "cell_type": "markdown",
   "id": "3c0e71d1",
   "metadata": {},
   "source": [
    "#### Folder 3"
   ]
  },
  {
   "cell_type": "code",
   "execution_count": 12,
   "id": "0f1563cd",
   "metadata": {},
   "outputs": [
    {
     "name": "stdout",
     "output_type": "stream",
     "text": [
      "Total number of PNG files in 'L:/DATA/ISIS/ISIS_102000056114/' and its subfolders: 376664\n"
     ]
    }
   ],
   "source": [
    "folder_path = \"L:/DATA/ISIS/ISIS_102000056114/\"\n",
    "count_png_files(folder_path)"
   ]
  },
  {
   "cell_type": "code",
   "execution_count": null,
   "id": "812ce5e9",
   "metadata": {},
   "outputs": [],
   "source": []
  }
 ],
 "metadata": {
  "kernelspec": {
   "display_name": "Python 3 (ipykernel)",
   "language": "python",
   "name": "python3"
  },
  "language_info": {
   "codemirror_mode": {
    "name": "ipython",
    "version": 3
   },
   "file_extension": ".py",
   "mimetype": "text/x-python",
   "name": "python",
   "nbconvert_exporter": "python",
   "pygments_lexer": "ipython3",
   "version": "3.11.3"
  }
 },
 "nbformat": 4,
 "nbformat_minor": 5
}
