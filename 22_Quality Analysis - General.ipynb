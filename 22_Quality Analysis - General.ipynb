{
 "cells": [
  {
   "cell_type": "markdown",
   "id": "aa42cc82",
   "metadata": {},
   "source": [
    "# Quality Analysis (General)\n",
    "\n",
    "#### Updated: Jun 16, 2023"
   ]
  },
  {
   "cell_type": "markdown",
   "id": "55ba88fc",
   "metadata": {},
   "source": [
    "#  "
   ]
  },
  {
   "cell_type": "markdown",
   "id": "a247d7b9",
   "metadata": {},
   "source": [
    "Quality analysis pipeline after phase 2 of Alouette processing (OCR processing phase):"
   ]
  },
  {
   "cell_type": "code",
   "execution_count": 1,
   "id": "b5ed871f",
   "metadata": {},
   "outputs": [],
   "source": [
    "import os\n",
    "import numpy as np\n",
    "import pandas as pd\n",
    "import seaborn as sns"
   ]
  },
  {
   "cell_type": "code",
   "execution_count": 10,
   "id": "e7c8d476",
   "metadata": {},
   "outputs": [],
   "source": [
    "rootDir_I = 'L:/DATA/Alouette_I/BATCH_I_Run2/'\n",
    "resultDir_I = rootDir_I + '05_result/'\n",
    "logDir_I = rootDir_I + '06_log/'"
   ]
  },
  {
   "cell_type": "code",
   "execution_count": 11,
   "id": "843ecbe3",
   "metadata": {},
   "outputs": [],
   "source": [
    "rootDir_II = 'L:/DATA/Alouette_I/BATCH_II_Run2/'\n",
    "resultDir_II = rootDir_II + '05_result/'\n",
    "logDir_II = rootDir_II + '06_log/'"
   ]
  },
  {
   "cell_type": "code",
   "execution_count": 12,
   "id": "bdd9363e",
   "metadata": {},
   "outputs": [],
   "source": [
    "rootDir_tot = 'L:/DATA/Alouette_I/Total/'\n",
    "resultDir_tot = rootDir_tot + '05_result/'\n",
    "logDir_tot = rootDir_tot + '06_log/'"
   ]
  },
  {
   "cell_type": "markdown",
   "id": "fc2f85e5",
   "metadata": {},
   "source": [
    "#  "
   ]
  },
  {
   "cell_type": "markdown",
   "id": "60c708ae",
   "metadata": {},
   "source": [
    "#### Functions:"
   ]
  },
  {
   "cell_type": "code",
   "execution_count": 13,
   "id": "d1960b7b",
   "metadata": {},
   "outputs": [],
   "source": [
    "def stage_1_stat(resultDir, logDir):\n",
    "    \n",
    "    df_inventory = pd.read_csv(logDir + 'image_inventory.csv')\n",
    "    n_images = df_inventory['images'].sum()\n",
    "    df_s1 = pd.read_csv(resultDir + 'result_stage1_raw.csv', low_memory=False)\n",
    "    n_proc = len(df_s1.loc[df_s1['processed_image_class'] == 'num']) + len(df_s1.loc[df_s1['processed_image_class'] == 'dot'])\n",
    "    n_loss = len(df_s1.loc[df_s1['processed_image_class'] == 'loss'])\n",
    "    n_outlier = len(df_s1.loc[df_s1['processed_image_class'] == 'outlier'])\n",
    "    n_unproc = n_images - n_proc - n_outlier - n_loss\n",
    "    \n",
    "    print('# of images: ' + str(n_images))\n",
    "    print('# of images processed after stage 1 processing: ' + str(n_proc))\n",
    "    print('% of images processed after stage 1 processing: ' + str(round(((n_proc/n_images)*100), 2)) + ' %')\n",
    "    print('')\n",
    "    print(\"% total loss after stage 1 processing: \" + str(round((((n_unproc + n_loss + n_outlier)/n_images)*100), 2)) + ' %')\n",
    "    print('% of images unprocessed after stage 1 processing: ' + str(round(((n_unproc/n_images)*100), 2)) + ' %')\n",
    "    print(\"% of images classified as 'loss' after stage 1 processing: \" + str(round(((n_loss/n_images)*100), 2)) + ' %')\n",
    "    print(\"% of images classified as 'outlier' after stage 1 processing: \" + str(round(((n_outlier/n_images)*100), 2)) + ' %')\n",
    "    \n",
    "    return df_s1"
   ]
  },
  {
   "cell_type": "code",
   "execution_count": 31,
   "id": "869fb364",
   "metadata": {},
   "outputs": [],
   "source": [
    "def stage_2_stat(resultDir, logDir):\n",
    "    \n",
    "    df_inventory = pd.read_csv(logDir + 'image_inventory.csv')\n",
    "    n_images = df_inventory['images'].sum()\n",
    "    df_s2 = pd.read_csv(resultDir + 'result_stage2_raw.csv', low_memory=False)\n",
    "    n_num2 = len(df_s2.loc[df_s2['processed_image_class'] == 'num2'])\n",
    "    n_num = len(df_s2.loc[df_s2['processed_image_class'] == 'num'])\n",
    "    n_dot = len(df_s2.loc[df_s2['processed_image_class'] == 'dot'])\n",
    "    n_proc2 = n_num2 + n_num + n_dot\n",
    "    n_loss = len(df_s2.loc[df_s2['processed_image_class'] == 'loss'])\n",
    "    n_outlier = len(df_s2.loc[df_s2['processed_image_class'] == 'outlier'])\n",
    "    n_unproc = n_images - n_proc2 - n_outlier - n_loss\n",
    "    \n",
    "    print('# of images processed after stage 2 processing: ' + str(n_proc2))\n",
    "    print('% of images processed after stage 2 processing: ' + str(round(((n_proc2/n_images)*100), 2)) + ' %')\n",
    "    print('')\n",
    "    print(\"% of images classified as 'num2' after stage 2 processing: \" + str(round(((n_num2/n_images)*100), 2)) + ' %')\n",
    "    print(\"% of images classified as 'num' after stage 2 processing: \" + str(round(((n_num/n_images)*100), 2)) + ' %')\n",
    "    print(\"% of images classified as 'dot' after stage 2 processing: \" + str(round(((n_dot/n_images)*100), 2)) + ' %')\n",
    "    print('')\n",
    "    print(\"% total loss after stage 2 processing: \" + str(round((((n_unproc + n_loss + n_outlier)/n_images)*100), 2)) + ' %')\n",
    "    print(\"% of images classified as 'loss' after stage 2 processing: \" + str(round(((n_loss/n_images)*100), 2)) + ' %')\n",
    "    print(\"% of images classified as 'outlier' after stage 2 processing: \" + str(round(((n_outlier/n_images)*100), 2)) + ' %')\n",
    "    \n",
    "    return df_s2"
   ]
  },
  {
   "cell_type": "code",
   "execution_count": 15,
   "id": "12c5b182",
   "metadata": {},
   "outputs": [],
   "source": [
    "def master_stat(resultDir, logDir):\n",
    "    \n",
    "    df_inventory = pd.read_csv(logDir + 'image_inventory.csv')\n",
    "    n_images = df_inventory['images'].sum()\n",
    "    df_master = pd.read_csv(resultDir + 'result_master.csv', low_memory=False)\n",
    "    n_master = len(df_master.loc[(~pd.isna(df_master['Station_Code'])) & (df_master['time_quality'] == 1)])\n",
    "    n_tq1 = len(df_master.loc[df_master['time_quality'] == 1])\n",
    "    n_tq2 = len(df_master.loc[df_master['time_quality'] == 2])\n",
    "    n_tq3 = len(df_master.loc[df_master['time_quality'] == 3])\n",
    "    n_tq4 = len(df_master.loc[df_master['time_quality'] == 4])\n",
    "    \n",
    "    print('# of images fully read after stage 2 processing: ' + str(n_master))\n",
    "    print('% of images fully read after stage 2 processing (yield): ' + str(round(((n_master/n_images)*100), 2)) + ' %')\n",
    "    print('')\n",
    "    print('% time quality level 1 yield: ' + str(round(((n_tq1/n_images)*100), 2)) + ' %')\n",
    "    print('% at least time quality level 2: ' + str(round((((n_tq1+n_tq2)/n_images)*100), 2)) + ' %')\n",
    "    print('% at least time quality level 3: ' + str(round((((n_tq1+n_tq2+n_tq3)/n_images)*100), 2)) + ' %')\n",
    "    print('% at least time quality level 4: ' + str(round((((n_tq1+n_tq2+n_tq3+n_tq4)/n_images)*100), 2)) + ' %')\n",
    "    \n",
    "    return df_master"
   ]
  },
  {
   "cell_type": "code",
   "execution_count": 16,
   "id": "6f9e4524",
   "metadata": {},
   "outputs": [],
   "source": [
    "def construct_process_summary(resultDir, logDir):\n",
    "    \n",
    "    df_inventory = pd.read_csv(logDir + 'image_inventory.csv')\n",
    "    df_process_log = pd.read_csv(logDir + 'process_log.csv')\n",
    "    df_s2 = pd.read_csv(resultDir + 'result_stage2_raw.csv', low_memory=False)\n",
    "    df_p1 = df_process_log.sort_values('Process_timestamp', ascending=True)\n",
    "    df_p1 = df_p1.drop_duplicates(subset=['subdir_id'], keep='last') \n",
    "    print(len(df_inventory))\n",
    "    print(len(df_p1))\n",
    "    df_process_log2 = pd.read_csv(logDir + 'process_log_OCR.csv')\n",
    "    df_p2 = df_process_log2.sort_values('Process_timestamp', ascending=True)\n",
    "    df_p2 = df_p2.drop_duplicates(subset=['subdir_id'], keep='last') \n",
    "    print(len(df_p2))\n",
    "    \n",
    "    df_sum1 = df_inventory.merge(df_p1[['Images_processed', 'Images_loss', 'Images_outlier', 'Process_time', 'subdir_id']], how='left', on='subdir_id')\n",
    "    df_sum1 = df_sum1.rename(columns={\n",
    "        'images': 'n_images',\n",
    "        'Images_loss': 'n_stage1_loss',\n",
    "        'Images_outlier': 'n_stage1_outlier',\n",
    "        'Process_time': 'process_time_stage1'\n",
    "    })\n",
    "    df_sum1['n_stage1_processed'] = df_sum1['Images_processed'] - df_sum1['n_stage1_loss'] - df_sum1['n_stage1_outlier']\n",
    "    df_sum1['n_stage1_unprocessed'] = df_sum1['n_images'] - df_sum1['Images_processed']\n",
    "    df_sum1 = df_sum1[['Directory', 'Subdirectory', 'n_images', 'n_stage1_processed', 'n_stage1_unprocessed', 'n_stage1_loss',\n",
    "                      'n_stage1_outlier', 'process_time_stage1', 'subdir_id']]\n",
    "    \n",
    "    df_sum2 = df_sum1.merge(df_p2[['Process_time', 'subdir_id']], how='left', on='subdir_id')\n",
    "    df_sum2 = df_sum2.rename(columns={\n",
    "        'Process_time': 'process_time_stage2'\n",
    "    })\n",
    "    df_sum2 = df_sum2[['Directory', 'Subdirectory', 'n_images', 'n_stage1_processed', 'n_stage1_unprocessed', 'n_stage1_loss',\n",
    "                      'n_stage1_outlier', 'process_time_stage1', 'process_time_stage2', 'subdir_id']]\n",
    "    \n",
    "    df_s2['subdir_id'] = df_s2['Directory'] + '_' + df_s2['Subdirectory']\n",
    "    df_sum3_ = pd.DataFrame()\n",
    "    for i in range(0, len(df_sum2)):\n",
    "        subdir_id = df_sum2['subdir_id'].iloc[i]\n",
    "        df_s2_ = df_s2[['processed_image_class', 'filename', 'subdir_id']].loc[df_s2['subdir_id'] == subdir_id]\n",
    "        if len(df_s2_) > 0:\n",
    "            n_s2_proc = len(df_s2_.loc[df_s2_['processed_image_class'] == 'num2']) + len(df_s2_.loc[df_s2_['processed_image_class'] == 'num']) + len(df_s2_.loc[df_s2_['processed_image_class'] == 'dot'])\n",
    "            n_s2_loss = len(df_s2_.loc[df_s2_['processed_image_class'] == 'loss'])\n",
    "            n_s2_outlier = len(df_s2_.loc[df_s2_['processed_image_class'] == 'outlier'])\n",
    "            row = pd.DataFrame({\n",
    "                'n_stage2_processed': n_s2_proc,\n",
    "                'n_stage2_loss': n_s2_loss,\n",
    "                'n_stage2_outlier': n_s2_outlier,\n",
    "                'subdir_id': subdir_id\n",
    "            }, index=[0])\n",
    "            df_sum3_ = pd.concat([df_sum3_, row])\n",
    "\n",
    "    df_sum3 = df_sum2.merge(df_sum3_, how='left', on='subdir_id')\n",
    "    df_sum3 = df_sum3[['Directory', 'Subdirectory', 'n_images', 'n_stage1_processed', 'n_stage1_unprocessed', 'n_stage1_loss',\n",
    "                      'n_stage1_outlier', 'process_time_stage1', 'process_time_stage2', 'n_stage2_processed', 'n_stage2_loss',\n",
    "                      'n_stage2_outlier', 'subdir_id']]\n",
    "    \n",
    "    return df_sum3 "
   ]
  },
  {
   "cell_type": "code",
   "execution_count": 17,
   "id": "ff700f92",
   "metadata": {},
   "outputs": [],
   "source": [
    "def construct_process_summary2(df_sum3, resultDir):\n",
    "    \n",
    "    df_pp = pd.read_csv(resultDir + 'result_postprocess_raw.csv', low_memory=False)\n",
    "    df_pp['subdir_id'] = df_pp['Directory'] + '_' + df_pp['Subdirectory']\n",
    "    \n",
    "    df_sum4_ = pd.DataFrame()\n",
    "    for i in range(0, len(df_sum3)):\n",
    "        subdir_id = df_sum3['subdir_id'].iloc[i]\n",
    "        df_pp_ = df_pp[['processed_image_class', 'filename', 'subdir_id']].loc[df_pp['subdir_id'] == subdir_id]\n",
    "        if len(df_pp_) > 0:\n",
    "            n_pp_proc = len(df_pp_.loc[df_pp_['processed_image_class'] == 'num2']) + len(df_pp_.loc[df_pp_['processed_image_class'] == 'num']) + len(df_pp_.loc[df_pp_['processed_image_class'] == 'dot'])\n",
    "            n_pp_loss = len(df_pp_.loc[df_pp_['processed_image_class'] == 'loss'])\n",
    "            n_pp_outlier = len(df_pp_.loc[df_pp_['processed_image_class'] == 'outlier'])\n",
    "            row = pd.DataFrame({\n",
    "                'n_postprocess_processed': n_pp_proc,\n",
    "                'n_postprocess_loss': n_pp_loss,\n",
    "                'n_postprocess_outlier': n_pp_outlier,\n",
    "                'subdir_id': subdir_id\n",
    "            }, index=[0])\n",
    "            df_sum4_ = pd.concat([df_sum4_, row])\n",
    "\n",
    "    df_sum4 = df_sum3.merge(df_sum4_, how='left', on='subdir_id')\n",
    "    df_sum4 = df_sum4[['Directory', 'Subdirectory', 'n_images', 'n_stage1_processed', 'n_stage1_unprocessed', 'n_stage1_loss',\n",
    "                      'n_stage1_outlier', 'process_time_stage1', 'process_time_stage2', 'n_stage2_processed', 'n_stage2_loss',\n",
    "                      'n_stage2_outlier', 'n_postprocess_processed', 'n_postprocess_loss', 'n_postprocess_outlier', 'subdir_id']]\n",
    "    \n",
    "    return df_sum4"
   ]
  },
  {
   "cell_type": "code",
   "execution_count": 18,
   "id": "b2c3c0ee",
   "metadata": {},
   "outputs": [],
   "source": [
    "def construct_process_summary3(df_sum4, resultDir, logDir):\n",
    "    \n",
    "    df_master = pd.read_csv(resultDir + 'result_master.csv', low_memory=False)\n",
    "    df_master['subdir_id'] = df_master['Directory'] + '_' + df_master['Subdirectory']\n",
    "    \n",
    "    df_sum5_ = pd.DataFrame()\n",
    "    for i in range(0, len(df_sum4)):\n",
    "        subdir_id = df_sum4['subdir_id'].iloc[i]\n",
    "        df_master_ = df_master[['processed_image_class', 'filename', 'subdir_id']].loc[df_master['subdir_id'] == subdir_id]\n",
    "        if len(df_master_) > 0:\n",
    "            n_mas = len(df_master_)\n",
    "            n_mas_num2 = len(df_master_.loc[df_master_['processed_image_class'] == 'num2'])\n",
    "            n_mas_num = len(df_master_.loc[df_master_['processed_image_class'] == 'num'])\n",
    "            n_mas_dot = len(df_master_.loc[df_master_['processed_image_class'] == 'dot'])\n",
    "            row = pd.DataFrame({\n",
    "                'n_master': n_mas,\n",
    "                'n_master_num2': n_mas_num2,\n",
    "                'n_master_num': n_mas_num,\n",
    "                'n_master_dot': n_mas_dot,\n",
    "                'subdir_id': subdir_id\n",
    "            }, index=[0])\n",
    "            df_sum5_ = pd.concat([df_sum5_, row])\n",
    "\n",
    "    df_sum5 = df_sum4.merge(df_sum5_, how='left', on='subdir_id')\n",
    "    df_sum5 = df_sum5[['Directory', 'Subdirectory', 'n_images', 'n_stage1_processed', 'n_stage1_unprocessed', 'n_stage1_loss',\n",
    "                      'n_stage1_outlier', 'process_time_stage1', 'process_time_stage2', 'n_stage2_processed', 'n_stage2_loss',\n",
    "                      'n_stage2_outlier', 'n_postprocess_processed', 'n_postprocess_loss', 'n_postprocess_outlier', \n",
    "                      'n_master', 'n_master_num2', 'n_master_num', 'n_master_dot', 'subdir_id']]\n",
    "    print(len(df_sum5))\n",
    "    df_sum5.to_csv(logDir + 'process_summary.csv', index=False)\n",
    "    \n",
    "    return df_sum5"
   ]
  },
  {
   "cell_type": "markdown",
   "id": "050acca5",
   "metadata": {},
   "source": [
    "#  "
   ]
  },
  {
   "cell_type": "markdown",
   "id": "275bfd35",
   "metadata": {},
   "source": [
    "#### Process Summary - LONG STEP, DO NOT RUN if process_summary already created:"
   ]
  },
  {
   "cell_type": "markdown",
   "id": "3b1dca80",
   "metadata": {},
   "source": [
    "BATCH I:"
   ]
  },
  {
   "cell_type": "code",
   "execution_count": 19,
   "id": "7ea3ea05",
   "metadata": {
    "scrolled": true
   },
   "outputs": [
    {
     "name": "stdout",
     "output_type": "stream",
     "text": [
      "2638\n",
      "2639\n",
      "2533\n",
      "2638\n"
     ]
    }
   ],
   "source": [
    "df_sum3 = construct_process_summary(resultDir=resultDir_I, logDir=logDir_I)\n",
    "df_sum4 = construct_process_summary2(df_sum3=df_sum3, resultDir=resultDir_I)\n",
    "df_summary = construct_process_summary3(df_sum4=df_sum4, resultDir=resultDir_I, logDir=logDir_I)"
   ]
  },
  {
   "cell_type": "markdown",
   "id": "85184e92",
   "metadata": {},
   "source": [
    "  "
   ]
  },
  {
   "cell_type": "markdown",
   "id": "5147af8e",
   "metadata": {},
   "source": [
    "BATCH II:"
   ]
  },
  {
   "cell_type": "code",
   "execution_count": 20,
   "id": "723d8d0c",
   "metadata": {},
   "outputs": [
    {
     "name": "stdout",
     "output_type": "stream",
     "text": [
      "2416\n",
      "2417\n",
      "1977\n",
      "2416\n"
     ]
    }
   ],
   "source": [
    "df_sum3 = construct_process_summary(resultDir=resultDir_II, logDir=logDir_II)\n",
    "df_sum4 = construct_process_summary2(df_sum3=df_sum3, resultDir=resultDir_II)\n",
    "df_summary = construct_process_summary3(df_sum4=df_sum4, resultDir=resultDir_II, logDir=logDir_II)"
   ]
  },
  {
   "cell_type": "markdown",
   "id": "5d01c382",
   "metadata": {},
   "source": [
    "#  "
   ]
  },
  {
   "cell_type": "markdown",
   "id": "7c23d356",
   "metadata": {},
   "source": [
    "## Combine BATCH I and II, Analyze:"
   ]
  },
  {
   "cell_type": "code",
   "execution_count": 21,
   "id": "b2bc8faa",
   "metadata": {},
   "outputs": [
    {
     "name": "stdout",
     "output_type": "stream",
     "text": [
      "2638\n",
      "2416\n"
     ]
    }
   ],
   "source": [
    "df_inventory_I = pd.read_csv(logDir_I + 'image_inventory.csv')\n",
    "print(len(df_inventory_I))\n",
    "df_inventory_II = pd.read_csv(logDir_II + 'image_inventory.csv')\n",
    "print(len(df_inventory_II))\n",
    "df_inventory_tot = pd.concat([df_inventory_I, df_inventory_II])\n",
    "df_inventory_tot = df_inventory_tot.sort_values('subdir_id')\n",
    "df_inventory_tot.to_csv(logDir_tot + 'image_inventory.csv', index=False)"
   ]
  },
  {
   "cell_type": "code",
   "execution_count": 22,
   "id": "d2bb30a3",
   "metadata": {},
   "outputs": [
    {
     "name": "stdout",
     "output_type": "stream",
     "text": [
      "841115\n",
      "600621\n"
     ]
    }
   ],
   "source": [
    "df_s1_I = pd.read_csv(resultDir_I + 'result_stage1_raw.csv', low_memory=False)\n",
    "print(len(df_s1_I))\n",
    "df_s1_II = pd.read_csv(resultDir_II + 'result_stage1_raw.csv', low_memory=False)\n",
    "print(len(df_s1_II))\n",
    "df_s1_tot = pd.concat([df_s1_I, df_s1_II])\n",
    "df_s1_tot = df_s1_tot.sort_values(['Directory', 'Subdirectory', 'filename'])\n",
    "df_s1_tot.to_csv(resultDir_tot + 'result_stage1_raw.csv', index=False)"
   ]
  },
  {
   "cell_type": "code",
   "execution_count": 23,
   "id": "c0076e51",
   "metadata": {},
   "outputs": [
    {
     "name": "stdout",
     "output_type": "stream",
     "text": [
      "840652\n",
      "600621\n"
     ]
    }
   ],
   "source": [
    "df_s2_I = pd.read_csv(resultDir_I + 'result_stage2_raw.csv', low_memory=False)\n",
    "print(len(df_s2_I))\n",
    "df_s2_II = pd.read_csv(resultDir_II + 'result_stage2_raw.csv', low_memory=False)\n",
    "print(len(df_s2_II))\n",
    "df_s2_tot = pd.concat([df_s2_I, df_s2_II])\n",
    "df_s2_tot = df_s2_tot.sort_values(['Directory', 'Subdirectory', 'filename'])\n",
    "df_s2_tot.to_csv(resultDir_tot + 'result_stage2_raw.csv', index=False)"
   ]
  },
  {
   "cell_type": "code",
   "execution_count": 24,
   "id": "3fb0eb13",
   "metadata": {},
   "outputs": [
    {
     "name": "stdout",
     "output_type": "stream",
     "text": [
      "775253\n",
      "559032\n"
     ]
    }
   ],
   "source": [
    "df_pp_I = pd.read_csv(resultDir_I + 'result_postprocess_raw.csv', low_memory=False)\n",
    "print(len(df_pp_I))\n",
    "df_pp_II = pd.read_csv(resultDir_II + 'result_postprocess_raw.csv', low_memory=False)\n",
    "print(len(df_pp_II))\n",
    "df_pp_tot = pd.concat([df_pp_I, df_pp_II])\n",
    "df_pp_tot = df_pp_tot.sort_values(['Directory', 'Subdirectory', 'filename'])\n",
    "df_pp_tot.to_csv(resultDir_tot + 'result_postprocess_raw.csv', index=False)"
   ]
  },
  {
   "cell_type": "code",
   "execution_count": 25,
   "id": "8c81545f",
   "metadata": {
    "scrolled": true
   },
   "outputs": [
    {
     "name": "stdout",
     "output_type": "stream",
     "text": [
      "510942\n",
      "206450\n",
      "717392\n"
     ]
    }
   ],
   "source": [
    "df_master_I = pd.read_csv(resultDir_I + 'result_master.csv', low_memory=False)\n",
    "print(len(df_master_I))\n",
    "df_master_II = pd.read_csv(resultDir_II + 'result_master.csv', low_memory=False)\n",
    "print(len(df_master_II))\n",
    "df_master_tot = pd.concat([df_master_I, df_master_II])\n",
    "df_master_tot = df_master_tot.sort_values('Timestamp')\n",
    "df_master_tot.to_csv(resultDir_tot + 'result_master.csv', index=False)\n",
    "print(len(df_master_tot))"
   ]
  },
  {
   "cell_type": "code",
   "execution_count": 26,
   "id": "fb12edf5",
   "metadata": {},
   "outputs": [
    {
     "name": "stdout",
     "output_type": "stream",
     "text": [
      "2638\n",
      "2416\n",
      "5054\n"
     ]
    }
   ],
   "source": [
    "df_summary_I = pd.read_csv(logDir_I + 'process_summary.csv')\n",
    "print(len(df_summary_I))\n",
    "df_summary_II = pd.read_csv(logDir_II + 'process_summary.csv')\n",
    "print(len(df_summary_II))\n",
    "df_summary_tot = pd.concat([df_summary_I, df_summary_II])\n",
    "df_summary_tot = df_summary_tot.sort_values('subdir_id')\n",
    "df_summary_tot.to_csv(logDir_tot + 'process_summary.csv', index=False)\n",
    "print(len(df_summary_tot))"
   ]
  },
  {
   "cell_type": "markdown",
   "id": "bfede37a",
   "metadata": {},
   "source": [
    "  "
   ]
  },
  {
   "cell_type": "markdown",
   "id": "6ec4cd5d",
   "metadata": {},
   "source": [
    "#### Stage 1 - Overall Statistics:"
   ]
  },
  {
   "cell_type": "code",
   "execution_count": 27,
   "id": "b0ee341d",
   "metadata": {},
   "outputs": [
    {
     "name": "stdout",
     "output_type": "stream",
     "text": [
      "# of images: 1612104\n",
      "# of images processed after stage 1 processing: 1219418\n",
      "% of images processed after stage 1 processing: 75.64 %\n",
      "\n",
      "% total loss after stage 1 processing: 24.36 %\n",
      "% of images unprocessed after stage 1 processing: 10.57 %\n",
      "% of images classified as 'loss' after stage 1 processing: 8.55 %\n",
      "% of images classified as 'outlier' after stage 1 processing: 5.24 %\n"
     ]
    }
   ],
   "source": [
    "df_s1 = stage_1_stat(resultDir=resultDir_tot, logDir=logDir_tot)"
   ]
  },
  {
   "cell_type": "code",
   "execution_count": 28,
   "id": "8a849bae",
   "metadata": {},
   "outputs": [
    {
     "data": {
      "text/html": [
       "<div>\n",
       "<style scoped>\n",
       "    .dataframe tbody tr th:only-of-type {\n",
       "        vertical-align: middle;\n",
       "    }\n",
       "\n",
       "    .dataframe tbody tr th {\n",
       "        vertical-align: top;\n",
       "    }\n",
       "\n",
       "    .dataframe thead th {\n",
       "        text-align: right;\n",
       "    }\n",
       "</style>\n",
       "<table border=\"1\" class=\"dataframe\">\n",
       "  <thead>\n",
       "    <tr style=\"text-align: right;\">\n",
       "      <th></th>\n",
       "      <th>filename</th>\n",
       "    </tr>\n",
       "    <tr>\n",
       "      <th>func_name</th>\n",
       "      <th></th>\n",
       "    </tr>\n",
       "  </thead>\n",
       "  <tbody>\n",
       "    <tr>\n",
       "      <th>metadata_translation.determine_leftside_metadata_grid_mapping.extract_centroids_and_determine_type</th>\n",
       "      <td>38122</td>\n",
       "    </tr>\n",
       "    <tr>\n",
       "      <th>ionogram_content_extraction.extract_select_parameters.extract_fmin_and_max_depth</th>\n",
       "      <td>22546</td>\n",
       "    </tr>\n",
       "    <tr>\n",
       "      <th>image_segmentation.trim_raw_metadata.trimming_metadata</th>\n",
       "      <td>10550</td>\n",
       "    </tr>\n",
       "    <tr>\n",
       "      <th>ionogram_content_extraction.extract_all_coordinates_ionogram_trace.extract_coord_subdir</th>\n",
       "      <td>662</td>\n",
       "    </tr>\n",
       "    <tr>\n",
       "      <th>image_segmentation.extract_ionogram_from_scan.extract_ionogram</th>\n",
       "      <td>18</td>\n",
       "    </tr>\n",
       "  </tbody>\n",
       "</table>\n",
       "</div>"
      ],
      "text/plain": [
       "                                                    filename\n",
       "func_name                                                   \n",
       "metadata_translation.determine_leftside_metadat...     38122\n",
       "ionogram_content_extraction.extract_select_para...     22546\n",
       "image_segmentation.trim_raw_metadata.trimming_m...     10550\n",
       "ionogram_content_extraction.extract_all_coordin...       662\n",
       "image_segmentation.extract_ionogram_from_scan.e...        18"
      ]
     },
     "execution_count": 28,
     "metadata": {},
     "output_type": "execute_result"
    }
   ],
   "source": [
    "df_loss_bd = df_s1.loc[df_s1['processed_image_class'] == 'loss'].groupby(['func_name']).count()[['filename']]\n",
    "df_loss_bd.sort_values('filename', ascending=False)"
   ]
  },
  {
   "cell_type": "code",
   "execution_count": 29,
   "id": "e0defaee",
   "metadata": {},
   "outputs": [
    {
     "data": {
      "text/html": [
       "<div>\n",
       "<style scoped>\n",
       "    .dataframe tbody tr th:only-of-type {\n",
       "        vertical-align: middle;\n",
       "    }\n",
       "\n",
       "    .dataframe tbody tr th {\n",
       "        vertical-align: top;\n",
       "    }\n",
       "\n",
       "    .dataframe thead th {\n",
       "        text-align: right;\n",
       "    }\n",
       "</style>\n",
       "<table border=\"1\" class=\"dataframe\">\n",
       "  <thead>\n",
       "    <tr style=\"text-align: right;\">\n",
       "      <th></th>\n",
       "      <th>filename</th>\n",
       "    </tr>\n",
       "    <tr>\n",
       "      <th>func_name</th>\n",
       "      <th></th>\n",
       "    </tr>\n",
       "  </thead>\n",
       "  <tbody>\n",
       "    <tr>\n",
       "      <th>image_segmentation.segment_images_in_subdir.segment_images: iono size outlier</th>\n",
       "      <td>81777</td>\n",
       "    </tr>\n",
       "    <tr>\n",
       "      <th>image_segmentation.segment_images_in_subdir.segment_images: metadata size outlier</th>\n",
       "      <td>2731</td>\n",
       "    </tr>\n",
       "  </tbody>\n",
       "</table>\n",
       "</div>"
      ],
      "text/plain": [
       "                                                    filename\n",
       "func_name                                                   \n",
       "image_segmentation.segment_images_in_subdir.seg...     81777\n",
       "image_segmentation.segment_images_in_subdir.seg...      2731"
      ]
     },
     "execution_count": 29,
     "metadata": {},
     "output_type": "execute_result"
    }
   ],
   "source": [
    "df_outlier_bd = df_s1.loc[df_s1['processed_image_class'] == 'outlier'].groupby(['func_name']).count()[['filename']]\n",
    "df_outlier_bd.sort_values('filename', ascending=False)"
   ]
  },
  {
   "cell_type": "markdown",
   "id": "76a5ab29",
   "metadata": {},
   "source": [
    "####  "
   ]
  },
  {
   "cell_type": "markdown",
   "id": "831ca90b",
   "metadata": {},
   "source": [
    "#### Stage 2 - Overall Statistics:"
   ]
  },
  {
   "cell_type": "code",
   "execution_count": 32,
   "id": "e0df1ce3",
   "metadata": {},
   "outputs": [
    {
     "name": "stdout",
     "output_type": "stream",
     "text": [
      "# of images processed after stage 2 processing: 942093\n",
      "% of images processed after stage 2 processing: 58.44 %\n",
      "\n",
      "% of images classified as 'num2' after stage 2 processing: 9.06 %\n",
      "% of images classified as 'num' after stage 2 processing: 44.81 %\n",
      "% of images classified as 'dot' after stage 2 processing: 4.57 %\n",
      "\n",
      "% total loss after stage 2 processing: 41.56 %\n",
      "% of images classified as 'loss' after stage 2 processing: 25.8 %\n",
      "% of images classified as 'outlier' after stage 2 processing: 5.16 %\n"
     ]
    }
   ],
   "source": [
    "df_s2 = stage_2_stat(resultDir=resultDir_tot, logDir=logDir_tot)"
   ]
  },
  {
   "cell_type": "code",
   "execution_count": 33,
   "id": "12f2ccd9",
   "metadata": {},
   "outputs": [
    {
     "data": {
      "text/html": [
       "<div>\n",
       "<style scoped>\n",
       "    .dataframe tbody tr th:only-of-type {\n",
       "        vertical-align: middle;\n",
       "    }\n",
       "\n",
       "    .dataframe tbody tr th {\n",
       "        vertical-align: top;\n",
       "    }\n",
       "\n",
       "    .dataframe thead th {\n",
       "        text-align: right;\n",
       "    }\n",
       "</style>\n",
       "<table border=\"1\" class=\"dataframe\">\n",
       "  <thead>\n",
       "    <tr style=\"text-align: right;\">\n",
       "      <th></th>\n",
       "      <th>filename</th>\n",
       "    </tr>\n",
       "    <tr>\n",
       "      <th>loss_summary</th>\n",
       "      <th></th>\n",
       "    </tr>\n",
       "  </thead>\n",
       "  <tbody>\n",
       "    <tr>\n",
       "      <th>image_segmentation.segment_images_in_subdir.segment_images: iono size outlier, OCR read metadata contains letters</th>\n",
       "      <td>1213</td>\n",
       "    </tr>\n",
       "    <tr>\n",
       "      <th>ionogram_content_extraction.extract_select_parameters.extract_fmin_and_max_depth, OCR read metadata contains letters</th>\n",
       "      <td>363</td>\n",
       "    </tr>\n",
       "    <tr>\n",
       "      <th>metadata_translation.determine_leftside_metadata_grid_mapping.extract_centroids_and_determine_type, OCR read metadata contains letters</th>\n",
       "      <td>35</td>\n",
       "    </tr>\n",
       "    <tr>\n",
       "      <th>image_segmentation.trim_raw_metadata.trimming_metadata, OCR read metadata contains letters</th>\n",
       "      <td>20</td>\n",
       "    </tr>\n",
       "    <tr>\n",
       "      <th>image_segmentation.segment_images_in_subdir.segment_images: metadata size outlier, OCR read metadata contains letters</th>\n",
       "      <td>9</td>\n",
       "    </tr>\n",
       "    <tr>\n",
       "      <th>ionogram_content_extraction.extract_all_coordinates_ionogram_trace.extract_coord_subdir, OCR read metadata contains letters</th>\n",
       "      <td>6</td>\n",
       "    </tr>\n",
       "  </tbody>\n",
       "</table>\n",
       "</div>"
      ],
      "text/plain": [
       "                                                    filename\n",
       "loss_summary                                                \n",
       "image_segmentation.segment_images_in_subdir.seg...      1213\n",
       "ionogram_content_extraction.extract_select_para...       363\n",
       "metadata_translation.determine_leftside_metadat...        35\n",
       "image_segmentation.trim_raw_metadata.trimming_m...        20\n",
       "image_segmentation.segment_images_in_subdir.seg...         9\n",
       "ionogram_content_extraction.extract_all_coordin...         6"
      ]
     },
     "execution_count": 33,
     "metadata": {},
     "output_type": "execute_result"
    }
   ],
   "source": [
    "df_s2_loss = df_s2.copy(deep=True).loc[df_s2['processed_image_class'] == 'loss']\n",
    "df_s2_loss['loss_summary'] = df_s2_loss['func_name'] + ', ' + df_s2_loss['details'] \n",
    "df_loss_bd = df_s2_loss.groupby(['loss_summary']).count()[['filename']]\n",
    "df_loss_bd.sort_values('filename', ascending=False)"
   ]
  },
  {
   "cell_type": "code",
   "execution_count": 34,
   "id": "20471cd0",
   "metadata": {},
   "outputs": [
    {
     "data": {
      "text/html": [
       "<div>\n",
       "<style scoped>\n",
       "    .dataframe tbody tr th:only-of-type {\n",
       "        vertical-align: middle;\n",
       "    }\n",
       "\n",
       "    .dataframe tbody tr th {\n",
       "        vertical-align: top;\n",
       "    }\n",
       "\n",
       "    .dataframe thead th {\n",
       "        text-align: right;\n",
       "    }\n",
       "</style>\n",
       "<table border=\"1\" class=\"dataframe\">\n",
       "  <thead>\n",
       "    <tr style=\"text-align: right;\">\n",
       "      <th></th>\n",
       "      <th>filename</th>\n",
       "    </tr>\n",
       "    <tr>\n",
       "      <th>details</th>\n",
       "      <th></th>\n",
       "    </tr>\n",
       "  </thead>\n",
       "  <tbody>\n",
       "    <tr>\n",
       "      <th>metadata could not be read by OCR</th>\n",
       "      <td>246360</td>\n",
       "    </tr>\n",
       "    <tr>\n",
       "      <th>OCR read metadata contains letters</th>\n",
       "      <td>23984</td>\n",
       "    </tr>\n",
       "    <tr>\n",
       "      <th>metadata was interpreted to be num type</th>\n",
       "      <td>4087</td>\n",
       "    </tr>\n",
       "    <tr>\n",
       "      <th>metadata was interpreted to be dot type</th>\n",
       "      <td>4073</td>\n",
       "    </tr>\n",
       "  </tbody>\n",
       "</table>\n",
       "</div>"
      ],
      "text/plain": [
       "                                         filename\n",
       "details                                          \n",
       "metadata could not be read by OCR          246360\n",
       "OCR read metadata contains letters          23984\n",
       "metadata was interpreted to be num type      4087\n",
       "metadata was interpreted to be dot type      4073"
      ]
     },
     "execution_count": 34,
     "metadata": {},
     "output_type": "execute_result"
    }
   ],
   "source": [
    "df_s2_loss = df_s2.loc[df_s2['processed_image_class'] == 'loss']\n",
    "df_loss_bd = df_s2_loss.groupby(['details']).count()[['filename']]\n",
    "df_loss_bd.sort_values('filename', ascending=False)"
   ]
  },
  {
   "cell_type": "code",
   "execution_count": 35,
   "id": "a32a5534",
   "metadata": {},
   "outputs": [
    {
     "data": {
      "text/html": [
       "<div>\n",
       "<style scoped>\n",
       "    .dataframe tbody tr th:only-of-type {\n",
       "        vertical-align: middle;\n",
       "    }\n",
       "\n",
       "    .dataframe tbody tr th {\n",
       "        vertical-align: top;\n",
       "    }\n",
       "\n",
       "    .dataframe thead th {\n",
       "        text-align: right;\n",
       "    }\n",
       "</style>\n",
       "<table border=\"1\" class=\"dataframe\">\n",
       "  <thead>\n",
       "    <tr style=\"text-align: right;\">\n",
       "      <th></th>\n",
       "      <th>filename</th>\n",
       "    </tr>\n",
       "    <tr>\n",
       "      <th>func_name</th>\n",
       "      <th></th>\n",
       "    </tr>\n",
       "  </thead>\n",
       "  <tbody>\n",
       "    <tr>\n",
       "      <th>image_segmentation.segment_images_in_subdir.segment_images: iono size outlier</th>\n",
       "      <td>80533</td>\n",
       "    </tr>\n",
       "    <tr>\n",
       "      <th>image_segmentation.segment_images_in_subdir.segment_images: metadata size outlier</th>\n",
       "      <td>2722</td>\n",
       "    </tr>\n",
       "  </tbody>\n",
       "</table>\n",
       "</div>"
      ],
      "text/plain": [
       "                                                    filename\n",
       "func_name                                                   \n",
       "image_segmentation.segment_images_in_subdir.seg...     80533\n",
       "image_segmentation.segment_images_in_subdir.seg...      2722"
      ]
     },
     "execution_count": 35,
     "metadata": {},
     "output_type": "execute_result"
    }
   ],
   "source": [
    "df_s2_outlier = df_s2.loc[df_s2['processed_image_class'] == 'outlier']\n",
    "df_outlier_bd = df_s2_outlier.groupby(['func_name']).count()[['filename']]\n",
    "df_outlier_bd.sort_values('filename', ascending=False)"
   ]
  },
  {
   "cell_type": "markdown",
   "id": "4ce55795",
   "metadata": {},
   "source": [
    "  "
   ]
  },
  {
   "cell_type": "markdown",
   "id": "6505c07c",
   "metadata": {},
   "source": [
    "#### Master - Overall Statistics:"
   ]
  },
  {
   "cell_type": "code",
   "execution_count": 36,
   "id": "fca7fc74",
   "metadata": {},
   "outputs": [
    {
     "name": "stdout",
     "output_type": "stream",
     "text": [
      "# of images fully read after stage 2 processing: 693677\n",
      "% of images fully read after stage 2 processing (yield): 43.03 %\n",
      "\n",
      "% time quality level 1 yield: 43.03 %\n",
      "% at least time quality level 2: 43.33 %\n",
      "% at least time quality level 3: 43.59 %\n",
      "% at least time quality level 4: 44.5 %\n"
     ]
    }
   ],
   "source": [
    "df_master = master_stat(resultDir=resultDir_tot, logDir=logDir_tot)"
   ]
  },
  {
   "cell_type": "markdown",
   "id": "fa3b2c5d",
   "metadata": {},
   "source": [
    "  "
   ]
  },
  {
   "cell_type": "markdown",
   "id": "7617690b",
   "metadata": {},
   "source": [
    "#### Quality by subdirectory:"
   ]
  },
  {
   "cell_type": "code",
   "execution_count": 37,
   "id": "b1abf159",
   "metadata": {
    "scrolled": true
   },
   "outputs": [
    {
     "name": "stdout",
     "output_type": "stream",
     "text": [
      "5054\n"
     ]
    }
   ],
   "source": [
    "df_summary = pd.read_csv(logDir_tot + 'process_summary.csv')\n",
    "print(len(df_summary))"
   ]
  },
  {
   "cell_type": "code",
   "execution_count": 38,
   "id": "3f4e9204",
   "metadata": {},
   "outputs": [
    {
     "data": {
      "text/plain": [
       "<Axes: xlabel='pc_stage1_processed', ylabel='Percent'>"
      ]
     },
     "execution_count": 38,
     "metadata": {},
     "output_type": "execute_result"
    },
    {
     "data": {
      "image/png": "[encoded data removed]",
      "text/plain": [
       "<Figure size 640x480 with 1 Axes>"
      ]
     },
     "metadata": {},
     "output_type": "display_data"
    }
   ],
   "source": [
    "df_summary['pc_stage1_processed'] = df_summary['n_stage1_processed']/df_summary['n_images']\n",
    "sns.histplot(data=df_summary, x='pc_stage1_processed', stat='percent')"
   ]
  },
  {
   "cell_type": "code",
   "execution_count": 39,
   "id": "df1302b9",
   "metadata": {},
   "outputs": [
    {
     "data": {
      "text/plain": [
       "<Axes: xlabel='pc_stage2_processed', ylabel='Percent'>"
      ]
     },
     "execution_count": 39,
     "metadata": {},
     "output_type": "execute_result"
    },
    {
     "data": {
      "image/png": "[encoded data removed]",
      "text/plain": [
       "<Figure size 640x480 with 1 Axes>"
      ]
     },
     "metadata": {},
     "output_type": "display_data"
    }
   ],
   "source": [
    "df_summary['pc_stage2_processed'] = df_summary['n_stage2_processed']/df_summary['n_images']\n",
    "sns.histplot(data=df_summary, x='pc_stage2_processed', stat='percent')"
   ]
  },
  {
   "cell_type": "code",
   "execution_count": 40,
   "id": "380e7c5d",
   "metadata": {},
   "outputs": [
    {
     "data": {
      "text/plain": [
       "<Axes: xlabel='pc_postprocess_processed', ylabel='Percent'>"
      ]
     },
     "execution_count": 40,
     "metadata": {},
     "output_type": "execute_result"
    },
    {
     "data": {
      "image/png": "[encoded data removed]",
      "text/plain": [
       "<Figure size 640x480 with 1 Axes>"
      ]
     },
     "metadata": {},
     "output_type": "display_data"
    }
   ],
   "source": [
    "df_summary['pc_postprocess_processed'] = df_summary['n_postprocess_processed']/df_summary['n_images']\n",
    "sns.histplot(data=df_summary, x='pc_postprocess_processed', stat='percent')"
   ]
  },
  {
   "cell_type": "code",
   "execution_count": 41,
   "id": "348d3c07",
   "metadata": {},
   "outputs": [
    {
     "data": {
      "text/plain": [
       "<Axes: xlabel='yield', ylabel='Percent'>"
      ]
     },
     "execution_count": 41,
     "metadata": {},
     "output_type": "execute_result"
    },
    {
     "data": {
      "image/png": "[encoded data removed]",
      "text/plain": [
       "<Figure size 640x480 with 1 Axes>"
      ]
     },
     "metadata": {},
     "output_type": "display_data"
    }
   ],
   "source": [
    "df_summary['yield'] = df_summary['n_master']/df_summary['n_images']\n",
    "sns.histplot(data=df_summary, x='yield', stat='percent')"
   ]
  },
  {
   "cell_type": "markdown",
   "id": "2667632f",
   "metadata": {},
   "source": [
    "# "
   ]
  },
  {
   "cell_type": "markdown",
   "id": "420b094c",
   "metadata": {},
   "source": [
    "## Compare BATCH I to BATCH II:"
   ]
  },
  {
   "cell_type": "markdown",
   "id": "9e2a1382",
   "metadata": {},
   "source": [
    "#### Stage 1 - Overall Statistics:"
   ]
  },
  {
   "cell_type": "markdown",
   "id": "dc8fcfd6",
   "metadata": {},
   "source": [
    "BATCH I:"
   ]
  },
  {
   "cell_type": "code",
   "execution_count": null,
   "id": "3f4d64de",
   "metadata": {},
   "outputs": [],
   "source": [
    "df_s1 = stage_1_stat(resultDir=resultDir_I, logDir=logDir_I)"
   ]
  },
  {
   "cell_type": "code",
   "execution_count": null,
   "id": "880c964b",
   "metadata": {},
   "outputs": [],
   "source": [
    "df_loss_bd = df_s1.loc[df_s1['processed_image_class'] == 'loss'].groupby(['func_name']).count()[['filename']]\n",
    "df_loss_bd.sort_values('filename', ascending=False)"
   ]
  },
  {
   "cell_type": "code",
   "execution_count": null,
   "id": "50905a0e",
   "metadata": {},
   "outputs": [],
   "source": [
    "df_outlier_bd = df_s1.loc[df_s1['processed_image_class'] == 'outlier'].groupby(['func_name']).count()[['filename']]\n",
    "df_outlier_bd.sort_values('filename', ascending=False)"
   ]
  },
  {
   "cell_type": "markdown",
   "id": "fa797371",
   "metadata": {},
   "source": [
    "  "
   ]
  },
  {
   "cell_type": "markdown",
   "id": "d6f8049a",
   "metadata": {},
   "source": [
    "BATCH II:"
   ]
  },
  {
   "cell_type": "code",
   "execution_count": null,
   "id": "f66cb491",
   "metadata": {},
   "outputs": [],
   "source": [
    "df_s1 = stage_1_stat(resultDir=resultDir_II, logDir=logDir_II)"
   ]
  },
  {
   "cell_type": "code",
   "execution_count": null,
   "id": "353d9107",
   "metadata": {},
   "outputs": [],
   "source": [
    "df_loss_bd = df_s1.loc[df_s1['processed_image_class'] == 'loss'].groupby(['func_name']).count()[['filename']]\n",
    "df_loss_bd.sort_values('filename', ascending=False)"
   ]
  },
  {
   "cell_type": "code",
   "execution_count": null,
   "id": "0906f39e",
   "metadata": {},
   "outputs": [],
   "source": [
    "df_outlier_bd = df_s1.loc[df_s1['processed_image_class'] == 'outlier'].groupby(['func_name']).count()[['filename']]\n",
    "df_outlier_bd.sort_values('filename', ascending=False)"
   ]
  },
  {
   "cell_type": "markdown",
   "id": "1412b43f",
   "metadata": {},
   "source": [
    "  "
   ]
  },
  {
   "cell_type": "markdown",
   "id": "4adee855",
   "metadata": {},
   "source": [
    "#### Stage 2 - Overall Statistics:"
   ]
  },
  {
   "cell_type": "markdown",
   "id": "1391ba2a",
   "metadata": {},
   "source": [
    "BATCH I:"
   ]
  },
  {
   "cell_type": "code",
   "execution_count": null,
   "id": "0429e923",
   "metadata": {},
   "outputs": [],
   "source": [
    "df_s2 = stage_2_stat(resultDir=resultDir_I, logDir=logDir_I)"
   ]
  },
  {
   "cell_type": "code",
   "execution_count": null,
   "id": "e6ef50c9",
   "metadata": {},
   "outputs": [],
   "source": [
    "df_s2_loss = df_s2.copy(deep=True).loc[df_s2['processed_image_class'] == 'loss']\n",
    "df_s2_loss['loss_summary'] = df_s2_loss['func_name'] + ', ' + df_s2_loss['details'] \n",
    "df_loss_bd = df_s2_loss.groupby(['loss_summary']).count()[['filename']]\n",
    "df_loss_bd.sort_values('filename', ascending=False)"
   ]
  },
  {
   "cell_type": "code",
   "execution_count": null,
   "id": "48015eba",
   "metadata": {},
   "outputs": [],
   "source": [
    "df_s2_loss = df_s2.loc[df_s2['processed_image_class'] == 'loss']\n",
    "df_loss_bd = df_s2_loss.groupby(['details']).count()[['filename']]\n",
    "df_loss_bd.sort_values('filename', ascending=False)"
   ]
  },
  {
   "cell_type": "code",
   "execution_count": null,
   "id": "0120eacd",
   "metadata": {},
   "outputs": [],
   "source": [
    "df_s2_outlier = df_s2.loc[df_s2['processed_image_class'] == 'outlier']\n",
    "df_outlier_bd = df_s2_outlier.groupby(['func_name']).count()[['filename']]\n",
    "df_outlier_bd.sort_values('filename', ascending=False)"
   ]
  },
  {
   "cell_type": "markdown",
   "id": "40b7d7f3",
   "metadata": {},
   "source": [
    "  "
   ]
  },
  {
   "cell_type": "markdown",
   "id": "ff07a507",
   "metadata": {},
   "source": [
    "BATCH II:"
   ]
  },
  {
   "cell_type": "code",
   "execution_count": null,
   "id": "fb143321",
   "metadata": {},
   "outputs": [],
   "source": [
    "df_s2 = stage_2_stat(resultDir=resultDir_II, logDir=logDir_II)"
   ]
  },
  {
   "cell_type": "code",
   "execution_count": null,
   "id": "736ccf8e",
   "metadata": {},
   "outputs": [],
   "source": [
    "df_s2_loss = df_s2.copy(deep=True).loc[df_s2['processed_image_class'] == 'loss']\n",
    "df_s2_loss['loss_summary'] = df_s2_loss['func_name'] + ', ' + df_s2_loss['details'] \n",
    "df_loss_bd = df_s2_loss.groupby(['loss_summary']).count()[['filename']]\n",
    "df_loss_bd.sort_values('filename', ascending=False)"
   ]
  },
  {
   "cell_type": "code",
   "execution_count": null,
   "id": "9b867edf",
   "metadata": {},
   "outputs": [],
   "source": [
    "df_s2_loss = df_s2.loc[df_s2['processed_image_class'] == 'loss']\n",
    "df_loss_bd = df_s2_loss.groupby(['details']).count()[['filename']]\n",
    "df_loss_bd.sort_values('filename', ascending=False)"
   ]
  },
  {
   "cell_type": "code",
   "execution_count": null,
   "id": "2cf141ad",
   "metadata": {
    "scrolled": true
   },
   "outputs": [],
   "source": [
    "df_s2_outlier = df_s2.loc[df_s2['processed_image_class'] == 'outlier']\n",
    "df_outlier_bd = df_s2_outlier.groupby(['func_name']).count()[['filename']]\n",
    "df_outlier_bd.sort_values('filename', ascending=False)"
   ]
  },
  {
   "cell_type": "markdown",
   "id": "44f6f5cb",
   "metadata": {},
   "source": [
    "  "
   ]
  },
  {
   "cell_type": "markdown",
   "id": "6ea9a7e3",
   "metadata": {},
   "source": [
    "#### Master - Overall Statistics:"
   ]
  },
  {
   "cell_type": "markdown",
   "id": "a3d5cd13",
   "metadata": {},
   "source": [
    "BATCH I:"
   ]
  },
  {
   "cell_type": "code",
   "execution_count": null,
   "id": "f963feb0",
   "metadata": {},
   "outputs": [],
   "source": [
    "df_master = master_stat(resultDir=resultDir_I, logDir=logDir_I)"
   ]
  },
  {
   "cell_type": "markdown",
   "id": "34dd2ddd",
   "metadata": {},
   "source": [
    "  "
   ]
  },
  {
   "cell_type": "markdown",
   "id": "00c02e2c",
   "metadata": {},
   "source": [
    "BATCH II:"
   ]
  },
  {
   "cell_type": "code",
   "execution_count": null,
   "id": "f6822520",
   "metadata": {},
   "outputs": [],
   "source": [
    "df_master = master_stat(resultDir=resultDir_II, logDir=logDir_II)"
   ]
  },
  {
   "cell_type": "markdown",
   "id": "e0fc24a6",
   "metadata": {},
   "source": [
    "  "
   ]
  },
  {
   "cell_type": "markdown",
   "id": "6990e1fb",
   "metadata": {},
   "source": [
    "#### Quality by subdirectory:"
   ]
  },
  {
   "cell_type": "markdown",
   "id": "3c78a695",
   "metadata": {},
   "source": [
    "BATCH I:"
   ]
  },
  {
   "cell_type": "code",
   "execution_count": null,
   "id": "b295a0aa",
   "metadata": {
    "scrolled": true
   },
   "outputs": [],
   "source": [
    "df_summary = pd.read_csv(logDir_I + 'process_summary.csv')\n",
    "print(len(df_summary))"
   ]
  },
  {
   "cell_type": "code",
   "execution_count": null,
   "id": "3d72b697",
   "metadata": {},
   "outputs": [],
   "source": [
    "df_summary['pc_stage1_processed'] = df_summary['n_stage1_processed']/df_summary['n_images']\n",
    "sns.histplot(data=df_summary, x='pc_stage1_processed', stat='percent')"
   ]
  },
  {
   "cell_type": "code",
   "execution_count": null,
   "id": "a30a539c",
   "metadata": {},
   "outputs": [],
   "source": [
    "df_summary['pc_stage2_processed'] = df_summary['n_stage2_processed']/df_summary['n_images']\n",
    "sns.histplot(data=df_summary, x='pc_stage2_processed', stat='percent')"
   ]
  },
  {
   "cell_type": "code",
   "execution_count": null,
   "id": "7f5a9911",
   "metadata": {},
   "outputs": [],
   "source": [
    "df_summary['pc_postprocess_processed'] = df_summary['n_postprocess_processed']/df_summary['n_images']\n",
    "sns.histplot(data=df_summary, x='pc_postprocess_processed', stat='percent')"
   ]
  },
  {
   "cell_type": "code",
   "execution_count": null,
   "id": "701445e3",
   "metadata": {},
   "outputs": [],
   "source": [
    "df_summary['yield'] = df_summary['n_master']/df_summary['n_images']\n",
    "sns.histplot(data=df_summary, x='yield', stat='percent')"
   ]
  },
  {
   "cell_type": "markdown",
   "id": "d8d359db",
   "metadata": {},
   "source": [
    "  "
   ]
  },
  {
   "cell_type": "markdown",
   "id": "5f4b7bf0",
   "metadata": {},
   "source": [
    "BATCH II:"
   ]
  },
  {
   "cell_type": "code",
   "execution_count": null,
   "id": "17e33771",
   "metadata": {},
   "outputs": [],
   "source": [
    "df_summary = pd.read_csv(logDir_II + 'process_summary.csv')"
   ]
  },
  {
   "cell_type": "code",
   "execution_count": null,
   "id": "17e9d17f",
   "metadata": {},
   "outputs": [],
   "source": [
    "df_summary['pc_stage1_processed'] = df_summary['n_stage1_processed']/df_summary['n_images']\n",
    "sns.histplot(data=df_summary, x='pc_stage1_processed', stat='percent')"
   ]
  },
  {
   "cell_type": "code",
   "execution_count": null,
   "id": "24f76ad3",
   "metadata": {},
   "outputs": [],
   "source": [
    "df_summary['pc_stage2_processed'] = df_summary['n_stage2_processed']/df_summary['n_images']\n",
    "sns.histplot(data=df_summary, x='pc_stage2_processed', stat='percent')"
   ]
  },
  {
   "cell_type": "code",
   "execution_count": null,
   "id": "2718db66",
   "metadata": {},
   "outputs": [],
   "source": [
    "df_summary['pc_postprocess_processed'] = df_summary['n_postprocess_processed']/df_summary['n_images']\n",
    "sns.histplot(data=df_summary, x='pc_postprocess_processed', stat='percent')"
   ]
  },
  {
   "cell_type": "code",
   "execution_count": null,
   "id": "36914242",
   "metadata": {},
   "outputs": [],
   "source": [
    "df_summary['yield'] = df_summary['n_master']/df_summary['n_images']\n",
    "sns.histplot(data=df_summary, x='yield', stat='percent')"
   ]
  },
  {
   "cell_type": "markdown",
   "id": "f09ebf55",
   "metadata": {},
   "source": [
    "#  "
   ]
  },
  {
   "cell_type": "markdown",
   "id": "52322c5a",
   "metadata": {},
   "source": [
    "#  "
   ]
  },
  {
   "cell_type": "markdown",
   "id": "7aa3dee7",
   "metadata": {},
   "source": [
    "#### Data distribution by ground station:"
   ]
  },
  {
   "cell_type": "code",
   "execution_count": null,
   "id": "b6d49a0f",
   "metadata": {},
   "outputs": [],
   "source": [
    "df2 = df_master.copy(deep=True)\n",
    "df2['Station_Number_Station_Code_processed_image_class'] = df2['Station_Number'].astype(int).astype(str) + '_' + df2['Station_Code'] + '_' + df2['processed_image_class']"
   ]
  },
  {
   "cell_type": "code",
   "execution_count": null,
   "id": "83c4bb8e",
   "metadata": {},
   "outputs": [],
   "source": [
    "df_master_by_stn = df2.groupby(['Station_Number']).count()[['filename']].sort_values('filename', ascending=False)\n",
    "df_master_by_stn.head(10)"
   ]
  },
  {
   "cell_type": "code",
   "execution_count": null,
   "id": "40dd822f",
   "metadata": {},
   "outputs": [],
   "source": [
    "df_master_by_stnname = df2.groupby(['Station_Name']).count()[['filename']].sort_values('filename', ascending=False)\n",
    "df_master_by_stnname.head(50)"
   ]
  },
  {
   "cell_type": "code",
   "execution_count": null,
   "id": "281d93d2",
   "metadata": {
    "scrolled": false
   },
   "outputs": [],
   "source": [
    "df_master_by_stn_code = df2.groupby(['Station_Number_Station_Code_processed_image_class']).count()[['filename']].sort_values('filename', ascending=False)\n",
    "df_master_by_stn_code.head(20)"
   ]
  },
  {
   "cell_type": "markdown",
   "id": "4cd60c6f",
   "metadata": {},
   "source": [
    "- show geographic distribution by metatype type \n",
    "- show geographic distribution by year\n",
    "\n",
    "- show how each ground station used the same metadata type over time (metadata composition by ground station over time)\n",
    "\n",
    "\n",
    "- Matplotlib - basemap\n",
    "- cartopy\n",
    "- ipyleaflet (interactive)\n",
    "- plotly "
   ]
  },
  {
   "cell_type": "markdown",
   "id": "28f3522f",
   "metadata": {},
   "source": [
    "- make availability plot for each ground station\n",
    "    - could be sparklines to show amount of data vs time, by ground station"
   ]
  },
  {
   "cell_type": "code",
   "execution_count": null,
   "id": "902c99af",
   "metadata": {},
   "outputs": [],
   "source": [
    "df_master['Station_Code'].unique()"
   ]
  },
  {
   "cell_type": "code",
   "execution_count": null,
   "id": "a293b29b",
   "metadata": {},
   "outputs": [],
   "source": [
    "df_master_stn = df_master.loc[df_master['Station_Code'] == 'COL']\n",
    "len(df_master_stn)"
   ]
  },
  {
   "cell_type": "code",
   "execution_count": null,
   "id": "b8a09758",
   "metadata": {},
   "outputs": [],
   "source": [
    "df_master_stn.head()"
   ]
  },
  {
   "cell_type": "markdown",
   "id": "86324fc8",
   "metadata": {},
   "source": [
    "#  "
   ]
  }
 ],
 "metadata": {
  "kernelspec": {
   "display_name": "Python 3",
   "language": "python",
   "name": "python3"
  },
  "language_info": {
   "codemirror_mode": {
    "name": "ipython",
    "version": 3
   },
   "file_extension": ".py",
   "mimetype": "text/x-python",
   "name": "python",
   "nbconvert_exporter": "python",
   "pygments_lexer": "ipython3",
   "version": "3.8.8"
  }
 },
 "nbformat": 4,
 "nbformat_minor": 5
}
