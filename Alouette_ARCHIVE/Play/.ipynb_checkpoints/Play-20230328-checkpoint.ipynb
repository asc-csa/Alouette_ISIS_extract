{
 "cells": [
  {
   "cell_type": "code",
   "execution_count": 3,
   "id": "b61a0008",
   "metadata": {},
   "outputs": [],
   "source": [
    "import cv2\n",
    "import pytesseract"
   ]
  },
  {
   "cell_type": "code",
   "execution_count": 4,
   "id": "336d06a5",
   "metadata": {},
   "outputs": [],
   "source": [
    "img = cv2.imread('L:/DATA/Alouette_I/BATCH_II_Run1/R014207817/4163-03A/6.png')"
   ]
  },
  {
   "cell_type": "code",
   "execution_count": null,
   "id": "abb4f8b8",
   "metadata": {},
   "outputs": [],
   "source": []
  }
 ],
 "metadata": {
  "kernelspec": {
   "display_name": "Python 3",
   "language": "python",
   "name": "python3"
  },
  "language_info": {
   "codemirror_mode": {
    "name": "ipython",
    "version": 3
   },
   "file_extension": ".py",
   "mimetype": "text/x-python",
   "name": "python",
   "nbconvert_exporter": "python",
   "pygments_lexer": "ipython3",
   "version": "3.8.8"
  }
 },
 "nbformat": 4,
 "nbformat_minor": 5
}
