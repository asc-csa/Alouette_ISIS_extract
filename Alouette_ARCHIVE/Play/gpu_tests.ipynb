{
 "cells": [
  {
   "cell_type": "code",
   "execution_count": 1,
   "id": "9ccb6e79",
   "metadata": {},
   "outputs": [
    {
     "name": "stdout",
     "output_type": "stream",
     "text": [
      "Alouette_on_RavSuperVDI2\n"
     ]
    }
   ],
   "source": [
    "import os\n",
    "\n",
    "print(os.environ['CONDA_DEFAULT_ENV']) # correct env"
   ]
  },
  {
   "cell_type": "code",
   "execution_count": 2,
   "id": "1dd31f96",
   "metadata": {},
   "outputs": [
    {
     "name": "stdout",
     "output_type": "stream",
     "text": [
      "2.12.0\n"
     ]
    }
   ],
   "source": [
    "import tensorflow as tf\n",
    "\n",
    "print(tf.__version__)"
   ]
  },
  {
   "cell_type": "code",
   "execution_count": 1,
   "id": "8b0cab21",
   "metadata": {},
   "outputs": [
    {
     "name": "stdout",
     "output_type": "stream",
     "text": [
      "2.12.0\n"
     ]
    }
   ],
   "source": [
    "# did a kernel restart then run that same thing again\n",
    "import tensorflow as tf\n",
    "\n",
    "print(tf.__version__)\n",
    "# still says 2.12 :(, should be 2.10"
   ]
  },
  {
   "cell_type": "code",
   "execution_count": 5,
   "id": "d749e3d7",
   "metadata": {},
   "outputs": [
    {
     "name": "stdout",
     "output_type": "stream",
     "text": [
      "['U:\\\\temp\\\\rnaidoo\\\\Python\\\\envs\\\\Alouette_on_RavSuperVDI2\\\\lib\\\\site-packages\\\\keras\\\\api\\\\_v2', 'U:\\\\temp\\\\rnaidoo\\\\Python\\\\envs\\\\Alouette_on_RavSuperVDI2\\\\lib\\\\site-packages\\\\tensorflow_estimator\\\\python\\\\estimator\\\\api\\\\_v2', 'U:\\\\temp\\\\rnaidoo\\\\Python\\\\envs\\\\Alouette_on_RavSuperVDI2\\\\lib\\\\site-packages\\\\tensorboard\\\\summary\\\\_tf', 'C:\\\\Users\\\\rnaidoo\\\\AppData\\\\Roaming\\\\Python\\\\Python38\\\\site-packages\\\\tensorflow', 'C:\\\\Users\\\\rnaidoo\\\\AppData\\\\Roaming\\\\Python\\\\Python38\\\\site-packages\\\\tensorflow\\\\_api\\\\v2']\n"
     ]
    }
   ],
   "source": [
    "print(tf.__path__)"
   ]
  },
  {
   "cell_type": "code",
   "execution_count": 6,
   "id": "5cf2dc0c",
   "metadata": {},
   "outputs": [
    {
     "name": "stdout",
     "output_type": "stream",
     "text": [
      "Name: tensorflow\n",
      "Version: 2.10.0\n",
      "Summary: TensorFlow is an open source machine learning framework for everyone.\n",
      "Home-page: https://www.tensorflow.org/\n",
      "Author: Google Inc.\n",
      "Author-email: packages@tensorflow.org\n",
      "License: Apache 2.0\n",
      "Location: \\\\sirius\\home4$\\rnaidoo\\temp\\rnaidoo\\python\\envs\\alouette_on_ravsupervdi2\\lib\\site-packages\n",
      "Requires: absl-py, astunparse, flatbuffers, gast, google-pasta, grpcio, h5py, keras, keras-preprocessing, libclang, numpy, opt-einsum, packaging, protobuf, setuptools, six, tensorboard, tensorflow-estimator, tensorflow-io-gcs-filesystem, termcolor, typing-extensions, wrapt\n",
      "Required-by: \n"
     ]
    }
   ],
   "source": [
    "! pip show tensorflow"
   ]
  },
  {
   "cell_type": "code",
   "execution_count": 7,
   "id": "8f06648e",
   "metadata": {},
   "outputs": [
    {
     "name": "stdout",
     "output_type": "stream",
     "text": [
      "# packages in environment at U:\\temp\\rnaidoo\\Python\\envs\\Alouette_on_RavSuperVDI2:\n",
      "#\n",
      "# Name                    Version                   Build  Channel\n",
      "anyio                     3.5.0            py38haa95532_0  \n",
      "argon2-cffi               21.3.0             pyhd3eb1b0_0  \n",
      "argon2-cffi-bindings      21.2.0           py38h2bbff1b_0  \n",
      "asttokens                 2.0.5              pyhd3eb1b0_0  \n",
      "attrs                     22.1.0           py38haa95532_0  \n",
      "backcall                  0.2.0              pyhd3eb1b0_0  \n",
      "beautifulsoup4            4.11.1           py38haa95532_0  \n",
      "bleach                    4.1.0              pyhd3eb1b0_0  \n",
      "ca-certificates           2023.01.10           haa95532_0  \n",
      "certifi                   2023.5.7         py38haa95532_0  \n",
      "cffi                      1.15.1           py38h2bbff1b_3  \n",
      "colorama                  0.4.6            py38haa95532_0  \n",
      "comm                      0.1.2            py38haa95532_0  \n",
      "contourpy                 1.0.7                    pypi_0    pypi\n",
      "cycler                    0.11.0                   pypi_0    pypi\n",
      "debugpy                   1.5.1            py38hd77b12b_0  \n",
      "decorator                 5.1.1              pyhd3eb1b0_0  \n",
      "defusedxml                0.7.1              pyhd3eb1b0_0  \n",
      "editdistance              0.6.2                    pypi_0    pypi\n",
      "efficientnet              1.0.0                    pypi_0    pypi\n",
      "entrypoints               0.4              py38haa95532_0  \n",
      "essential-generators      1.0                      pypi_0    pypi\n",
      "executing                 0.8.3              pyhd3eb1b0_0  \n",
      "flatbuffers               23.3.3                   pypi_0    pypi\n",
      "flit-core                 3.6.0              pyhd3eb1b0_0  \n",
      "fonttools                 4.39.3                   pypi_0    pypi\n",
      "google-auth-oauthlib      0.4.6                    pypi_0    pypi\n",
      "h5py                      3.8.0                    pypi_0    pypi\n",
      "idna                      3.4              py38haa95532_0  \n",
      "imageio                   2.28.0                   pypi_0    pypi\n",
      "imgaug                    0.4.0                    pypi_0    pypi\n",
      "importlib_resources       5.2.0              pyhd3eb1b0_1  \n",
      "ipykernel                 6.19.2           py38hd4e2768_0  \n",
      "ipython                   8.8.0            py38haa95532_0  \n",
      "ipython_genutils          0.2.0              pyhd3eb1b0_1  \n",
      "jedi                      0.18.1           py38haa95532_1  \n",
      "jinja2                    3.1.2            py38haa95532_0  \n",
      "jsonschema                4.16.0           py38haa95532_0  \n",
      "jupyter_client            7.4.8            py38haa95532_0  \n",
      "jupyter_core              5.1.1            py38haa95532_0  \n",
      "jupyter_server            1.23.4           py38haa95532_0  \n",
      "jupyterlab_pygments       0.1.2                      py_0  \n",
      "keras                     2.10.0                   pypi_0    pypi\n",
      "keras-applications        1.0.8                    pypi_0    pypi\n",
      "keras-ocr                 0.9.2                    pypi_0    pypi\n",
      "keras-preprocessing       1.1.2                    pypi_0    pypi\n",
      "kiwisolver                1.4.4                    pypi_0    pypi\n",
      "lazy-loader               0.2                      pypi_0    pypi\n",
      "libclang                  16.0.0                   pypi_0    pypi\n",
      "libffi                    3.4.2                hd77b12b_6  \n",
      "libiconv                  1.16                 h2bbff1b_2  \n",
      "libprotobuf               3.20.3               h23ce68f_0  \n",
      "libsodium                 1.0.18               h62dcd97_0  \n",
      "libxml2                   2.9.14               h0ad7f3c_0  \n",
      "libxslt                   1.1.35               h2bbff1b_0  \n",
      "lxml                      4.9.1            py38h1985fb9_0  \n",
      "markupsafe                2.1.1            py38h2bbff1b_0  \n",
      "matplotlib                3.7.1                    pypi_0    pypi\n",
      "matplotlib-inline         0.1.6            py38haa95532_0  \n",
      "mistune                   0.8.4           py38he774522_1000  \n",
      "nbclassic                 0.4.8            py38haa95532_0  \n",
      "nbclient                  0.5.13           py38haa95532_0  \n",
      "nbconvert                 6.5.4            py38haa95532_0  \n",
      "nbformat                  5.7.0            py38haa95532_0  \n",
      "nest-asyncio              1.5.6            py38haa95532_0  \n",
      "networkx                  3.1                      pypi_0    pypi\n",
      "notebook                  6.5.2            py38haa95532_0  \n",
      "notebook-shim             0.2.2            py38haa95532_0  \n",
      "numpy                     1.24.1                   pypi_0    pypi\n",
      "oauthlib                  3.2.2                    pypi_0    pypi\n",
      "opencv-python             4.7.0.68                 pypi_0    pypi\n",
      "openssl                   1.1.1t               h2bbff1b_0  \n",
      "packaging                 22.0             py38haa95532_0  \n",
      "pandas                    1.5.3                    pypi_0    pypi\n",
      "pandocfilters             1.5.0              pyhd3eb1b0_0  \n",
      "parso                     0.8.3              pyhd3eb1b0_0  \n",
      "pickleshare               0.7.5           pyhd3eb1b0_1003  \n",
      "pillow                    9.5.0                    pypi_0    pypi\n",
      "pip                       22.3.1           py38haa95532_0  \n",
      "pkgutil-resolve-name      1.3.10           py38haa95532_0  \n",
      "platformdirs              2.5.2            py38haa95532_0  \n",
      "prometheus_client         0.14.1           py38haa95532_0  \n",
      "prompt-toolkit            3.0.36           py38haa95532_0  \n",
      "protobuf                  3.19.6                   pypi_0    pypi\n",
      "psutil                    5.9.0            py38h2bbff1b_0  \n",
      "pure_eval                 0.2.2              pyhd3eb1b0_0  \n",
      "pyasn1                    0.5.0                    pypi_0    pypi\n",
      "pyasn1-modules            0.3.0                    pypi_0    pypi\n",
      "pyclipper                 1.3.0.post4              pypi_0    pypi\n",
      "pycparser                 2.21               pyhd3eb1b0_0  \n",
      "pygments                  2.11.2             pyhd3eb1b0_0  \n",
      "pyparsing                 3.0.9                    pypi_0    pypi\n",
      "pyrsistent                0.18.0           py38h196d8e1_0  \n",
      "python                    3.8.16               h6244533_2  \n",
      "python-dateutil           2.8.2              pyhd3eb1b0_0  \n",
      "python-fastjsonschema     2.16.2           py38haa95532_0  \n",
      "pytz                      2022.7.1                 pypi_0    pypi\n",
      "pywavelets                1.4.1                    pypi_0    pypi\n",
      "pywin32                   305              py38h2bbff1b_0  \n",
      "pywinpty                  2.0.2            py38h5da7b33_0  \n",
      "pyzmq                     23.2.0           py38hd77b12b_0  \n",
      "rsa                       4.9                      pypi_0    pypi\n",
      "scikit-image              0.20.0                   pypi_0    pypi\n",
      "scipy                     1.9.1                    pypi_0    pypi\n",
      "send2trash                1.8.0              pyhd3eb1b0_1  \n",
      "setuptools                65.6.3           py38haa95532_0  \n",
      "shapely                   2.0.1                    pypi_0    pypi\n",
      "six                       1.16.0             pyhd3eb1b0_1  \n",
      "sniffio                   1.2.0            py38haa95532_1  \n",
      "soupsieve                 2.3.2.post1      py38haa95532_0  \n",
      "sqlite                    3.40.1               h2bbff1b_0  \n",
      "stack_data                0.2.0              pyhd3eb1b0_0  \n",
      "tensorboard               2.10.1                   pypi_0    pypi\n",
      "tensorboard-data-server   0.6.1                    pypi_0    pypi\n",
      "tensorboard-plugin-wit    1.8.1                    pypi_0    pypi\n",
      "tensorflow                2.10.0                   pypi_0    pypi\n",
      "tensorflow-estimator      2.10.0                   pypi_0    pypi\n",
      "tensorflow-io-gcs-filesystem 0.31.0                   pypi_0    pypi\n",
      "termcolor                 2.3.0                    pypi_0    pypi\n",
      "terminado                 0.17.1           py38haa95532_0  \n",
      "tifffile                  2023.4.12                pypi_0    pypi\n",
      "tinycss2                  1.2.1            py38haa95532_0  \n",
      "tornado                   6.2              py38h2bbff1b_0  \n",
      "tqdm                      4.65.0                   pypi_0    pypi\n",
      "traitlets                 5.7.1            py38haa95532_0  \n",
      "typing-extensions         4.4.0            py38haa95532_0  \n",
      "typing_extensions         4.4.0            py38haa95532_0  \n",
      "urllib3                   1.26.15                  pypi_0    pypi\n",
      "validators                0.20.0                   pypi_0    pypi\n",
      "vc                        14.2                 h21ff451_1  \n",
      "vs2015_runtime            14.27.29016          h5e58377_2  \n",
      "wcwidth                   0.2.5              pyhd3eb1b0_0  \n",
      "webencodings              0.5.1                    py38_1  \n",
      "websocket-client          0.58.0           py38haa95532_4  \n",
      "werkzeug                  2.3.1                    pypi_0    pypi\n",
      "wheel                     0.37.1             pyhd3eb1b0_0  \n",
      "wincertstore              0.2              py38haa95532_2  \n",
      "winpty                    0.4.3                         4  \n",
      "wrapt                     1.14.1                   pypi_0    pypi\n",
      "zeromq                    4.3.4                hd77b12b_0  \n",
      "zipp                      3.11.0           py38haa95532_0  \n",
      "zlib                      1.2.13               h8cc25b3_0  \n"
     ]
    }
   ],
   "source": [
    "! conda list"
   ]
  },
  {
   "cell_type": "code",
   "execution_count": 8,
   "id": "b13db51e",
   "metadata": {},
   "outputs": [
    {
     "name": "stdout",
     "output_type": "stream",
     "text": [
      "Package                      Version\n",
      "---------------------------- -----------\n",
      "absl-py                      1.4.0\n",
      "anyio                        3.5.0\n",
      "argon2-cffi                  21.3.0\n",
      "argon2-cffi-bindings         21.2.0\n",
      "asttokens                    2.0.5\n",
      "astunparse                   1.6.3\n",
      "attrs                        22.1.0\n",
      "backcall                     0.2.0\n",
      "beautifulsoup4               4.11.1\n",
      "bleach                       4.1.0\n",
      "cachetools                   5.3.0\n",
      "certifi                      2023.5.7\n",
      "cffi                         1.15.1\n",
      "charset-normalizer           3.1.0\n",
      "colorama                     0.4.6\n",
      "comm                         0.1.2\n",
      "contourpy                    1.0.7\n",
      "cycler                       0.11.0\n",
      "debugpy                      1.5.1\n",
      "decorator                    5.1.1\n",
      "defusedxml                   0.7.1\n",
      "editdistance                 0.6.2\n",
      "efficientnet                 1.0.0\n",
      "entrypoints                  0.4\n",
      "essential-generators         1.0\n",
      "executing                    0.8.3\n",
      "fastjsonschema               2.16.2\n",
      "flatbuffers                  23.3.3\n",
      "flit_core                    3.6.0\n",
      "fonttools                    4.39.3\n",
      "gast                         0.4.0\n",
      "google-auth                  2.17.3\n",
      "google-auth-oauthlib         0.4.6\n",
      "google-pasta                 0.2.0\n",
      "grpcio                       1.53.0\n",
      "h5py                         3.8.0\n",
      "idna                         3.4\n",
      "imageio                      2.28.0\n",
      "imgaug                       0.4.0\n",
      "importlib-metadata           6.4.1\n",
      "importlib-resources          5.2.0\n",
      "ipykernel                    6.19.2\n",
      "ipython                      8.8.0\n",
      "ipython-genutils             0.2.0\n",
      "jax                          0.4.8\n",
      "jedi                         0.18.1\n",
      "Jinja2                       3.1.2\n",
      "jsonschema                   4.16.0\n",
      "jupyter_client               7.4.8\n",
      "jupyter_core                 5.1.1\n",
      "jupyter-server               1.23.4\n",
      "jupyterlab-pygments          0.1.2\n",
      "keras                        2.10.0\n",
      "Keras-Applications           1.0.8\n",
      "keras-ocr                    0.9.2\n",
      "Keras-Preprocessing          1.1.2\n",
      "kiwisolver                   1.4.4\n",
      "lazy_loader                  0.2\n",
      "libclang                     16.0.0\n",
      "lxml                         4.9.1\n",
      "Markdown                     3.4.3\n",
      "MarkupSafe                   2.1.1\n",
      "matplotlib                   3.7.1\n",
      "matplotlib-inline            0.1.6\n",
      "mistune                      0.8.4\n",
      "ml-dtypes                    0.1.0\n",
      "nbclassic                    0.4.8\n",
      "nbclient                     0.5.13\n",
      "nbconvert                    6.5.4\n",
      "nbformat                     5.7.0\n",
      "nest-asyncio                 1.5.6\n",
      "networkx                     3.1\n",
      "notebook                     6.5.2\n",
      "notebook_shim                0.2.2\n",
      "numpy                        1.23.5\n",
      "oauthlib                     3.2.2\n",
      "opencv-python                4.7.0.68\n",
      "opt-einsum                   3.3.0\n",
      "packaging                    22.0\n",
      "pandas                       1.5.3\n",
      "pandocfilters                1.5.0\n",
      "parso                        0.8.3\n",
      "pickleshare                  0.7.5\n",
      "Pillow                       9.5.0\n",
      "pip                          22.3.1\n",
      "pkgutil_resolve_name         1.3.10\n",
      "platformdirs                 2.5.2\n",
      "prometheus-client            0.14.1\n",
      "prompt-toolkit               3.0.36\n",
      "protobuf                     3.20.3\n",
      "psutil                       5.9.0\n",
      "pure-eval                    0.2.2\n",
      "pyasn1                       0.5.0\n",
      "pyasn1-modules               0.3.0\n",
      "pyclipper                    1.3.0.post4\n",
      "pycparser                    2.21\n",
      "Pygments                     2.11.2\n",
      "pyparsing                    3.0.9\n",
      "pyrsistent                   0.18.0\n",
      "python-dateutil              2.8.2\n",
      "pytz                         2022.7.1\n",
      "PyWavelets                   1.4.1\n",
      "pywin32                      305.1\n",
      "pywinpty                     2.0.2\n",
      "pyzmq                        23.2.0\n",
      "requests                     2.28.2\n",
      "requests-oauthlib            1.3.1\n",
      "rsa                          4.9\n",
      "scikit-image                 0.20.0\n",
      "scipy                        1.9.1\n",
      "Send2Trash                   1.8.0\n",
      "setuptools                   65.6.3\n",
      "shapely                      2.0.1\n",
      "six                          1.16.0\n",
      "sniffio                      1.2.0\n",
      "soupsieve                    2.3.2.post1\n",
      "stack-data                   0.2.0\n",
      "tensorboard                  2.10.1\n",
      "tensorboard-data-server      0.6.1\n",
      "tensorboard-plugin-wit       1.8.1\n",
      "tensorflow                   2.10.0\n",
      "tensorflow-estimator         2.10.0\n",
      "tensorflow-intel             2.12.0\n",
      "tensorflow-io-gcs-filesystem 0.31.0\n",
      "termcolor                    2.3.0\n",
      "terminado                    0.17.1\n",
      "tifffile                     2023.4.12\n",
      "tinycss2                     1.2.1\n",
      "tornado                      6.2\n",
      "tqdm                         4.65.0\n",
      "traitlets                    5.7.1\n",
      "typing_extensions            4.4.0\n",
      "urllib3                      1.26.15\n",
      "validators                   0.20.0\n",
      "wcwidth                      0.2.5\n",
      "webencodings                 0.5.1\n",
      "websocket-client             0.58.0\n",
      "Werkzeug                     2.3.1\n",
      "wheel                        0.37.1\n",
      "wincertstore                 0.2\n",
      "wrapt                        1.14.1\n",
      "zipp                         3.11.0\n"
     ]
    }
   ],
   "source": [
    "! pip list"
   ]
  },
  {
   "cell_type": "markdown",
   "id": "0abc5714",
   "metadata": {},
   "source": [
    "All of the above show tf==2.10 and I think its just reading it in from the wrong path."
   ]
  },
  {
   "cell_type": "code",
   "execution_count": 1,
   "id": "4167c391",
   "metadata": {},
   "outputs": [
    {
     "ename": "ModuleNotFoundError",
     "evalue": "No module named 'tf_path'",
     "output_type": "error",
     "traceback": [
      "\u001b[1;31m---------------------------------------------------------------------------\u001b[0m",
      "\u001b[1;31mModuleNotFoundError\u001b[0m                       Traceback (most recent call last)",
      "Cell \u001b[1;32mIn[1], line 4\u001b[0m\n\u001b[0;32m      1\u001b[0m \u001b[38;5;66;03m# restarted kernel again here\u001b[39;00m\n\u001b[0;32m      2\u001b[0m tf_path \u001b[38;5;241m=\u001b[39m \u001b[38;5;124m'\u001b[39m\u001b[38;5;124mu:/temp/rnaidoo/python/envs/alouette_on_ravsupervdi2/lib/site-packages/tensorflow\u001b[39m\u001b[38;5;124m'\u001b[39m\n\u001b[1;32m----> 4\u001b[0m \u001b[38;5;28;01mimport\u001b[39;00m \u001b[38;5;21;01mtf_path\u001b[39;00m \u001b[38;5;28;01mas\u001b[39;00m \u001b[38;5;21;01mtf\u001b[39;00m\n",
      "\u001b[1;31mModuleNotFoundError\u001b[0m: No module named 'tf_path'"
     ]
    }
   ],
   "source": [
    "# restarted kernel again here\n",
    "tf_path = 'u:/temp/rnaidoo/python/envs/alouette_on_ravsupervdi2/lib/site-packages/tensorflow'\n",
    "\n",
    "import tf_path as tf"
   ]
  },
  {
   "cell_type": "code",
   "execution_count": 3,
   "id": "7a0a6295",
   "metadata": {},
   "outputs": [
    {
     "ename": "SyntaxError",
     "evalue": "invalid syntax (2289661427.py, line 1)",
     "output_type": "error",
     "traceback": [
      "\u001b[1;36m  Cell \u001b[1;32mIn[3], line 1\u001b[1;36m\u001b[0m\n\u001b[1;33m    import \"u:/temp/rnaidoo/python/envs/alouette_on_ravsupervdi2/lib/site-packages/tensorflow\" as tf\u001b[0m\n\u001b[1;37m           ^\u001b[0m\n\u001b[1;31mSyntaxError\u001b[0m\u001b[1;31m:\u001b[0m invalid syntax\n"
     ]
    }
   ],
   "source": [
    "import \"u:/temp/rnaidoo/python/envs/alouette_on_ravsupervdi2/lib/site-packages/tensorflow\" as tf"
   ]
  },
  {
   "cell_type": "code",
   "execution_count": 4,
   "id": "00b28070",
   "metadata": {
    "scrolled": true
   },
   "outputs": [
    {
     "name": "stderr",
     "output_type": "stream",
     "text": [
      "C:\\Users\\rnaidoo\\AppData\\Local\\Temp\\ipykernel_17432\\3840546969.py:1: DeprecationWarning: the imp module is deprecated in favour of importlib; see the module's documentation for alternative uses\n",
      "  import imp\n"
     ]
    },
    {
     "ename": "PermissionError",
     "evalue": "[Errno 13] Permission denied: 'u:/temp/rnaidoo/python/envs/alouette_on_ravsupervdi2/lib/site-packages/tensorflow'",
     "output_type": "error",
     "traceback": [
      "\u001b[1;31m---------------------------------------------------------------------------\u001b[0m",
      "\u001b[1;31mPermissionError\u001b[0m                           Traceback (most recent call last)",
      "Cell \u001b[1;32mIn[4], line 3\u001b[0m\n\u001b[0;32m      1\u001b[0m \u001b[38;5;28;01mimport\u001b[39;00m \u001b[38;5;21;01mimp\u001b[39;00m\n\u001b[1;32m----> 3\u001b[0m tf \u001b[38;5;241m=\u001b[39m \u001b[43mimp\u001b[49m\u001b[38;5;241;43m.\u001b[39;49m\u001b[43mload_source\u001b[49m\u001b[43m(\u001b[49m\u001b[38;5;124;43m'\u001b[39;49m\u001b[38;5;124;43mtensorflow\u001b[39;49m\u001b[38;5;124;43m'\u001b[39;49m\u001b[43m,\u001b[49m\u001b[43m \u001b[49m\u001b[38;5;124;43m\"\u001b[39;49m\u001b[38;5;124;43mu:/temp/rnaidoo/python/envs/alouette_on_ravsupervdi2/lib/site-packages/tensorflow\u001b[39;49m\u001b[38;5;124;43m\"\u001b[39;49m\u001b[43m)\u001b[49m\n",
      "File \u001b[1;32mU:\\temp\\rnaidoo\\Python\\envs\\Alouette_on_RavSuperVDI2\\lib\\imp.py:171\u001b[0m, in \u001b[0;36mload_source\u001b[1;34m(name, pathname, file)\u001b[0m\n\u001b[0;32m    169\u001b[0m     module \u001b[38;5;241m=\u001b[39m _exec(spec, sys\u001b[38;5;241m.\u001b[39mmodules[name])\n\u001b[0;32m    170\u001b[0m \u001b[38;5;28;01melse\u001b[39;00m:\n\u001b[1;32m--> 171\u001b[0m     module \u001b[38;5;241m=\u001b[39m \u001b[43m_load\u001b[49m\u001b[43m(\u001b[49m\u001b[43mspec\u001b[49m\u001b[43m)\u001b[49m\n\u001b[0;32m    172\u001b[0m \u001b[38;5;66;03m# To allow reloading to potentially work, use a non-hacked loader which\u001b[39;00m\n\u001b[0;32m    173\u001b[0m \u001b[38;5;66;03m# won't rely on a now-closed file object.\u001b[39;00m\n\u001b[0;32m    174\u001b[0m module\u001b[38;5;241m.\u001b[39m__loader__ \u001b[38;5;241m=\u001b[39m machinery\u001b[38;5;241m.\u001b[39mSourceFileLoader(name, pathname)\n",
      "File \u001b[1;32m<frozen importlib._bootstrap>:702\u001b[0m, in \u001b[0;36m_load\u001b[1;34m(spec)\u001b[0m\n",
      "File \u001b[1;32m<frozen importlib._bootstrap>:671\u001b[0m, in \u001b[0;36m_load_unlocked\u001b[1;34m(spec)\u001b[0m\n",
      "File \u001b[1;32m<frozen importlib._bootstrap_external>:839\u001b[0m, in \u001b[0;36mexec_module\u001b[1;34m(self, module)\u001b[0m\n",
      "File \u001b[1;32m<frozen importlib._bootstrap_external>:975\u001b[0m, in \u001b[0;36mget_code\u001b[1;34m(self, fullname)\u001b[0m\n",
      "File \u001b[1;32mU:\\temp\\rnaidoo\\Python\\envs\\Alouette_on_RavSuperVDI2\\lib\\imp.py:157\u001b[0m, in \u001b[0;36m_HackedGetData.get_data\u001b[1;34m(self, path)\u001b[0m\n\u001b[0;32m    155\u001b[0m         \u001b[38;5;28;01mreturn\u001b[39;00m file\u001b[38;5;241m.\u001b[39mread()\n\u001b[0;32m    156\u001b[0m \u001b[38;5;28;01melse\u001b[39;00m:\n\u001b[1;32m--> 157\u001b[0m     \u001b[38;5;28;01mreturn\u001b[39;00m \u001b[38;5;28;43msuper\u001b[39;49m\u001b[43m(\u001b[49m\u001b[43m)\u001b[49m\u001b[38;5;241;43m.\u001b[39;49m\u001b[43mget_data\u001b[49m\u001b[43m(\u001b[49m\u001b[43mpath\u001b[49m\u001b[43m)\u001b[49m\n",
      "File \u001b[1;32m<frozen importlib._bootstrap_external>:1032\u001b[0m, in \u001b[0;36mget_data\u001b[1;34m(self, path)\u001b[0m\n",
      "\u001b[1;31mPermissionError\u001b[0m: [Errno 13] Permission denied: 'u:/temp/rnaidoo/python/envs/alouette_on_ravsupervdi2/lib/site-packages/tensorflow'"
     ]
    }
   ],
   "source": [
    "import imp\n",
    "\n",
    "tf = imp.load_source('tensorflow', \"u:/temp/rnaidoo/python/envs/alouette_on_ravsupervdi2/lib/site-packages/tensorflow\")"
   ]
  },
  {
   "cell_type": "code",
   "execution_count": 1,
   "id": "5d775bdd",
   "metadata": {},
   "outputs": [],
   "source": [
    "# did kernel restart here\n",
    "import sys\n",
    "\n",
    "sys.path.insert(0, \"u:/temp/rnaidoo/python/envs/alouette_on_ravsupervdi2/lib/site-packages/\")"
   ]
  },
  {
   "cell_type": "code",
   "execution_count": 2,
   "id": "f1559324",
   "metadata": {},
   "outputs": [
    {
     "name": "stdout",
     "output_type": "stream",
     "text": [
      "2.10.0\n"
     ]
    }
   ],
   "source": [
    "import tensorflow as tf\n",
    "\n",
    "print(tf.__version__) # ugh! with a restart now yay!"
   ]
  },
  {
   "cell_type": "code",
   "execution_count": null,
   "id": "2e9506cd",
   "metadata": {},
   "outputs": [],
   "source": [
    "print(sys.path)"
   ]
  },
  {
   "cell_type": "code",
   "execution_count": null,
   "id": "338023db",
   "metadata": {},
   "outputs": [],
   "source": []
  },
  {
   "cell_type": "code",
   "execution_count": null,
   "id": "d338c31b",
   "metadata": {},
   "outputs": [],
   "source": []
  },
  {
   "cell_type": "code",
   "execution_count": null,
   "id": "9cf0ebc6",
   "metadata": {},
   "outputs": [],
   "source": []
  },
  {
   "cell_type": "code",
   "execution_count": null,
   "id": "a2b56f3a",
   "metadata": {},
   "outputs": [],
   "source": []
  },
  {
   "cell_type": "code",
   "execution_count": 3,
   "id": "b71890f3",
   "metadata": {},
   "outputs": [
    {
     "name": "stdout",
     "output_type": "stream",
     "text": [
      "/device:GPU:0\n"
     ]
    }
   ],
   "source": [
    "print(tf.test.gpu_device_name())"
   ]
  },
  {
   "cell_type": "code",
   "execution_count": 4,
   "id": "1bef5d9c",
   "metadata": {},
   "outputs": [
    {
     "name": "stdout",
     "output_type": "stream",
     "text": [
      "WARNING:tensorflow:From C:\\Users\\rnaidoo\\AppData\\Local\\Temp\\ipykernel_22744\\2773141869.py:1: is_gpu_available (from tensorflow.python.framework.test_util) is deprecated and will be removed in a future version.\n",
      "Instructions for updating:\n",
      "Use `tf.config.list_physical_devices('GPU')` instead.\n",
      "True\n"
     ]
    }
   ],
   "source": [
    "print(tf.test.is_gpu_available())"
   ]
  },
  {
   "cell_type": "code",
   "execution_count": 5,
   "id": "04a66dd3",
   "metadata": {},
   "outputs": [
    {
     "name": "stdout",
     "output_type": "stream",
     "text": [
      "[PhysicalDevice(name='/physical_device:GPU:0', device_type='GPU')]\n"
     ]
    }
   ],
   "source": [
    "print(tf.config.list_physical_devices('GPU'))"
   ]
  },
  {
   "cell_type": "code",
   "execution_count": null,
   "id": "9586e717",
   "metadata": {},
   "outputs": [],
   "source": []
  },
  {
   "cell_type": "code",
   "execution_count": null,
   "id": "adae0c9b",
   "metadata": {},
   "outputs": [],
   "source": []
  },
  {
   "cell_type": "code",
   "execution_count": null,
   "id": "28309125",
   "metadata": {},
   "outputs": [],
   "source": [
    "! python C:/Users/rnaidoo/Documents/Projects/SuperVDI1/Alouette_extract/Alouette_processor2.py 1 7"
   ]
  }
 ],
 "metadata": {
  "kernelspec": {
   "display_name": "Python 3 (ipykernel)",
   "language": "python",
   "name": "python3"
  },
  "language_info": {
   "codemirror_mode": {
    "name": "ipython",
    "version": 3
   },
   "file_extension": ".py",
   "mimetype": "text/x-python",
   "name": "python",
   "nbconvert_exporter": "python",
   "pygments_lexer": "ipython3",
   "version": "3.8.16"
  }
 },
 "nbformat": 4,
 "nbformat_minor": 5
}
