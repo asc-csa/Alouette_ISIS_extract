{
 "cells": [
  {
   "cell_type": "code",
   "execution_count": 35,
   "id": "c06304c4",
   "metadata": {},
   "outputs": [],
   "source": [
    "import os\n",
    "import numpy as np\n",
    "import pandas as pd\n",
    "import seaborn as sns\n",
    "import matplotlib.pyplot as plt"
   ]
  },
  {
   "cell_type": "code",
   "execution_count": 2,
   "id": "9f62b754",
   "metadata": {},
   "outputs": [],
   "source": [
    "rootDir_I = 'L:/DATA/Alouette_I/BATCH_I_Run2/'\n",
    "resultDir_I = rootDir_I + '05_result/'\n",
    "logDir_I = rootDir_I + '06_log/'"
   ]
  },
  {
   "cell_type": "code",
   "execution_count": 3,
   "id": "ca022b26",
   "metadata": {},
   "outputs": [],
   "source": [
    "rootDir_II = 'L:/DATA/Alouette_I/BATCH_II_Run2/'\n",
    "resultDir_II = rootDir_II + '05_result/'\n",
    "logDir_II = rootDir_II + '06_log/'"
   ]
  },
  {
   "cell_type": "code",
   "execution_count": 4,
   "id": "c8040d0c",
   "metadata": {},
   "outputs": [],
   "source": [
    "rootDir_tot = 'L:/DATA/Alouette_I/Total/'\n",
    "resultDir_tot = rootDir_tot + '05_result/'\n",
    "logDir_tot = rootDir_tot + '06_log/'"
   ]
  },
  {
   "cell_type": "markdown",
   "id": "c4b1e24d",
   "metadata": {},
   "source": [
    "## Num Category"
   ]
  },
  {
   "cell_type": "code",
   "execution_count": 14,
   "id": "9c64fb97",
   "metadata": {},
   "outputs": [
    {
     "name": "stdout",
     "output_type": "stream",
     "text": [
      "Total number of NUM Ionograms in Batch I: 465009\n",
      "Total number of NUM Ionograms in Batch II : 114045\n",
      "Total number of NUM Ionograms in both batches: 579054\n"
     ]
    }
   ],
   "source": [
    "#Total Number of Num Categories\n",
    "df_I = pd.read_csv(resultDir_I + 'result_master.csv') #Batch I\n",
    "filter_df_I = df_I[df_I['processed_image_class']=='num']\n",
    "total_df_I = len(filter_df_I)\n",
    "print ('Total number of NUM Ionograms in Batch I:', total_df_I)\n",
    "\n",
    "df_II = pd.read_csv(resultDir_II + 'result_master.csv') #Batch II\n",
    "filter_df_II = df_II[df_II['processed_image_class']=='num']\n",
    "total_df_II = len(filter_df_II)\n",
    "print ('Total number of NUM Ionograms in Batch II :', total_df_II)\n",
    "\n",
    "Total_num = total_df_I + total_df_II #combining Batch I and Batch II num data\n",
    "print ('Total number of NUM Ionograms in both batches:', Total_num)"
   ]
  },
  {
   "cell_type": "code",
   "execution_count": 42,
   "id": "3ee3c8cd",
   "metadata": {},
   "outputs": [
    {
     "name": "stdout",
     "output_type": "stream",
     "text": [
      "Number of Images Analyzed in BATCH I: 49\n",
      "Number of Ionograms categorized correctly consistently: 45\n",
      "Estimated Success Rate out of BATCH I with 465,009 ionograms: 427049\n"
     ]
    },
    {
     "data": {
      "image/png": "[encoded data removed]",
      "text/plain": [
       "<Figure size 432x288 with 1 Axes>"
      ]
     },
     "metadata": {
      "needs_background": "light"
     },
     "output_type": "display_data"
    },
    {
     "name": "stdout",
     "output_type": "stream",
     "text": [
      "Number of incorrectly analyzed ionograms across all categories: 1\n",
      "     Directory Subdirectory       filename\n",
      "3  R014207909F          713  Image0317.png\n"
     ]
    }
   ],
   "source": [
    "#Batch I\n",
    "df_I = pd.read_csv(\"L:/DATA/Alouette_I/BATCH_I_Run2/07_Accuracy/BatchI_QA.csv\") \n",
    "total_I = len(df_I)\n",
    "print ('Number of Images Analyzed in BATCH I:', total_I)\n",
    "\n",
    "# BATCH I - filtering out correct categories Batch I\n",
    "df_I = df_I.loc[df_I['Issue'] != 'None'] \n",
    "filtered_down_I = len(df_I)\n",
    "print('Number of Ionograms categorized correctly consistently:', total_I - filtered_down_I)\n",
    "\n",
    "#BATCH I - Estimated success rate Batch I\n",
    "success_rate = (total_I - filtered_down_I)/total_I \n",
    "Estimation = round(success_rate*total_df_I)\n",
    "print('Estimated Success Rate out of BATCH I with 465,009 ionograms:', Estimation)\n",
    "\n",
    "#Plotting the variation of issues\n",
    "issue_counts_I = df_I[\"Issue\"].value_counts()\n",
    "plt.bar(issue_counts_I.index, issue_counts_I.values)\n",
    "plt.title (\"Variation of errors in BATCH I analysis\")\n",
    "plt.xlabel(\"Tyoe of Issue\")\n",
    "plt.ylabel(\"Number of Issues\")\n",
    "plt.xticks(rotation=90)\n",
    "plt.show()\n",
    "\n",
    "# Number of All categories error\n",
    "df_I = df_I.loc[df_I['Issue'] == 'All categories']\n",
    "filtered_down_I = len(df_I)\n",
    "print('Number of incorrectly analyzed ionograms across all categories:', filtered_down_I)\n",
    "print(df_I.loc[:,[\"Directory\",\"Subdirectory\", \"filename\"]])"
   ]
  },
  {
   "cell_type": "code",
   "execution_count": 43,
   "id": "c13a0435",
   "metadata": {},
   "outputs": [
    {
     "name": "stdout",
     "output_type": "stream",
     "text": [
      "Number of Images Analyzed in BATCH II: 50\n",
      "Number of Ionograms categorized correctly consistently: 44\n",
      "Estimated Success Rate of BATCH II with 123,975 ionograms: 100360\n"
     ]
    },
    {
     "data": {
      "image/png": "[encoded data removed]",
      "text/plain": [
       "<Figure size 432x288 with 1 Axes>"
      ]
     },
     "metadata": {
      "needs_background": "light"
     },
     "output_type": "display_data"
    },
    {
     "name": "stdout",
     "output_type": "stream",
     "text": [
      "Number of NUM2 ionograms categorized as Num data by the algorithm: 4\n",
      "     Directory Subdirectory filename\n",
      "11  R014207820      2979-5B  109.png\n",
      "16  R014207825     3729-19A  105.png\n",
      "44  R014207808      4575-50   14.png\n",
      "49  R014207819      4757-15   77.png\n"
     ]
    }
   ],
   "source": [
    "#Batch II\n",
    "df_II = pd.read_csv(\"L:/DATA/Alouette_I/BATCH_II_Run2/07_MQA/Batch2_QA_num.csv\") \n",
    "total_II = len(df_II)\n",
    "print ('Number of Images Analyzed in BATCH II:', total_II)\n",
    "\n",
    "# BATCH II - filtering out correct categories\n",
    "df_II = df_II.loc[df_II['Issue'] != 'None']\n",
    "filtered_down_II = len(df_II)\n",
    "print('Number of Ionograms categorized correctly consistently:', total_II - filtered_down_II)\n",
    "\n",
    "#BATCH II - Estimated success rate\n",
    "success_rate = (total_II - filtered_down_II)/total_II\n",
    "Estimation = round(success_rate*total_df_II)\n",
    "print('Estimated Success Rate of BATCH II with 123,975 ionograms:', Estimation)\n",
    "\n",
    "#Plotting the variation of issues\n",
    "issue_counts_II = df_II[\"Issue\"].value_counts()\n",
    "plt.bar(issue_counts_II.index, issue_counts_II.values)\n",
    "plt.title (\"Variation of errors in BATCH II\")\n",
    "plt.xlabel(\"Type of Issue\")\n",
    "plt.ylabel(\"Number of Issues\")\n",
    "plt.xticks(rotation=90)\n",
    "plt.show()\n",
    "\n",
    "# Number of All categories error\n",
    "df_II = df_II.loc[df_II['Issue'] == 'All category']\n",
    "filtered_down_II = len(df_II)\n",
    "print('Number of NUM2 ionograms categorized as Num data by the algorithm:', filtered_down_II)\n",
    "print(df_II.loc[:,[\"Directory\",\"Subdirectory\", \"filename\"]])"
   ]
  },
  {
   "cell_type": "code",
   "execution_count": 46,
   "id": "cd2942e5",
   "metadata": {},
   "outputs": [
    {
     "name": "stdout",
     "output_type": "stream",
     "text": [
      "Total number of NUM Ionograms in BATCH I and II analyzed: 99\n",
      "Total number of NUM Ionograms in BATCH II and II analyzed correctly:  94\n",
      "Estimated Success Rate of Total NUM with 579,054 ionograms: 549809\n",
      "Estimated Percent certainty: 94.94952111547455\n"
     ]
    }
   ],
   "source": [
    "#Total NUM image analysis:\n",
    "Image_total = total_I + total_II\n",
    "print ('Total number of NUM Ionograms in BATCH I and II analyzed:', Image_total)\n",
    "\n",
    "Correct_total = (total_I - filtered_down_I) + (total_II - filtered_down_II)\n",
    "print ('Total number of NUM Ionograms in BATCH II and II analyzed correctly: ', Correct_total)\n",
    "\n",
    "#Estimated success rate\n",
    "success_rate = Correct_total/Image_total\n",
    "Estimation = round(success_rate*Total_num)\n",
    "print('Estimated Success Rate of Total NUM with 579,054 ionograms:', Estimation)\n",
    "\n",
    "#Percent certaintly\n",
    "percent_tot = Estimation*100/Total_num\n",
    "print('Estimated Percent certainty:' , percent_tot)"
   ]
  },
  {
   "cell_type": "markdown",
   "id": "82e3f70d",
   "metadata": {},
   "source": [
    "## Dot category"
   ]
  },
  {
   "cell_type": "code",
   "execution_count": 51,
   "id": "54c5d9e2",
   "metadata": {},
   "outputs": [
    {
     "name": "stdout",
     "output_type": "stream",
     "text": [
      "Total number of dot Ionograms in BATCH I: 7784\n",
      "Total number of dot Ionograms in BATCH II: 4481\n",
      "Total dot ionograms in Batch I and II:  12265\n"
     ]
    }
   ],
   "source": [
    "df_dot_I = pd.read_csv(resultDir_I + 'result_master.csv') #Batch I\n",
    "filter_df_dot_I = df_dot_I[df_dot_I['processed_image_class']=='dot']\n",
    "total_df_dot_I= len(filter_df_dot_I)\n",
    "print ('Total number of dot Ionograms in BATCH I:', total_df_dot_I)\n",
    "\n",
    "df_dot_II = pd.read_csv(resultDir_II + 'result_master.csv') #Batch II\n",
    "filter_df_dot_II = df_dot_II[df_dot_II['processed_image_class']=='dot']\n",
    "total_df_dot_II = len(filter_df_dot_II)\n",
    "print ('Total number of dot Ionograms in BATCH II:', total_df_dot_II)\n",
    "\n",
    "Total_dot = total_df_dot_I + total_df_dot_II  #combining Batch I and Batch II num data\n",
    "print ('Total dot ionograms in Batch I and II: ', Total_dot)"
   ]
  },
  {
   "cell_type": "code",
   "execution_count": 54,
   "id": "9ec91709",
   "metadata": {},
   "outputs": [
    {
     "name": "stdout",
     "output_type": "stream",
     "text": [
      "Number of dot Ionograms Analyzed: 10\n",
      "Number of ionograms categorized correctly: 0\n",
      "Estimated Success Rate out of 7784 with consistent results: 0\n"
     ]
    },
    {
     "data": {
      "image/png": "[encoded data removed]",
      "text/plain": [
       "<Figure size 432x288 with 1 Axes>"
      ]
     },
     "metadata": {
      "needs_background": "light"
     },
     "output_type": "display_data"
    },
    {
     "name": "stdout",
     "output_type": "stream",
     "text": [
      "     Directory  Subdirectory       Filename\n",
      "0  R014207940F           339  Image0150.png\n",
      "1  R014207979F           394  Image0062.png\n",
      "2  R014207929F           480  Image0242.png\n",
      "3  R014207929F           476  Image0003.png\n",
      "4  R014207907F           508      Image0119\n",
      "6  R014207907F           512  Image0353.png\n",
      "7  R014207979F           297  Image0206.png\n",
      "8  R014207979F           291  Image0330.png\n",
      "9  R014207940F           404  Image0224.png\n"
     ]
    }
   ],
   "source": [
    "#Batch I\n",
    "df_dot_I = pd.read_csv(\"L:/DATA/Alouette_I/BATCH_I_Run2/07_Accuracy/BatchI_dot_QA.csv\")\n",
    "total_dot_I = len(df_dot_I)\n",
    "print('Number of dot Ionograms Analyzed:', total_dot_I)\n",
    "\n",
    "# filtering out correct categories\n",
    "df_dot_I= df_dot_I.loc[df_dot_I['Issue'] != 'None']\n",
    "filtered_down_dot_I = len(df_dot_I)\n",
    "print('Number of ionograms categorized correctly:', total_dot_I - filtered_down_dot_I)\n",
    "\n",
    "#Estimated success rate\n",
    "success_rate = (total_dot_I - filtered_down_dot_I)/total_dot_I\n",
    "Estimation = round(success_rate*total_df_dot_I)\n",
    "print('Estimated Success Rate out of 7784 with consistent results:', Estimation)\n",
    "\n",
    "#Plotting the variation of issues\n",
    "issue_counts_dot_I = df_dot_I[\"Issue\"].value_counts()\n",
    "plt.bar(issue_counts_dot_I.index, issue_counts_dot_I.values)\n",
    "plt.title (\"Variation error of Batch I dot ionograms\")\n",
    "plt.xlabel(\"Type of Issue\")\n",
    "plt.ylabel(\"Number of Issues\")\n",
    "plt.xticks(rotation=90)\n",
    "plt.show()\n",
    "\n",
    "# Number of All categories error\n",
    "df_dot_I = df_dot_I.loc[df_dot_I['Issue'] == 'All categories']\n",
    "print(df_dot_I.loc[:,[\"Directory\",\"Subdirectory\", \"Filename\"]])\n"
   ]
  },
  {
   "cell_type": "code",
   "execution_count": 56,
   "id": "f0ce3490",
   "metadata": {},
   "outputs": [
    {
     "name": "stdout",
     "output_type": "stream",
     "text": [
      "Number of Images Analyzed: 15\n",
      "Number of Ionograms Analyzed correctly: 0\n",
      "Estimated Success Rate out of 4481 with consistent results: 0.0\n"
     ]
    },
    {
     "data": {
      "image/png": "[encoded data removed]",
      "text/plain": [
       "<Figure size 432x288 with 1 Axes>"
      ]
     },
     "metadata": {
      "needs_background": "light"
     },
     "output_type": "display_data"
    },
    {
     "name": "stdout",
     "output_type": "stream",
     "text": [
      "Number of NUM/NUM2 ionograms categorized as dot data by the algorithm: 14\n",
      "     Directory Subdirectory filename\n",
      "0   R014207961       1039-1  283.png\n",
      "1   R014207961       1069-A  297.png\n",
      "3   R014207944     1994-12A  131.png\n",
      "4   R014207961       1076-A  288.png\n",
      "5   R014207961       1039-1   19.png\n",
      "6   R014207961       1069-A  263.png\n",
      "7   R014207944      2042-3A  272.png\n",
      "8   R014207961       1058-A  336.png\n",
      "9   R014207961       1029-A  129.png\n",
      "10  R014207961       1031-A  178.png\n",
      "11  R014207944      2042-3A  125.png\n",
      "12  R014207961       1031-A  154.png\n",
      "13  R014207961       1076-A  158.png\n",
      "14  R014207961       1065-A  231.png\n"
     ]
    }
   ],
   "source": [
    "#Batch II\n",
    "df_dot_II = pd.read_csv(\"L:/DATA/Alouette_I/BATCH_II_Run2/07_MQA/Batch2_QA_dot.csv\")\n",
    "total_dot_II = len(df_dot_II)\n",
    "print ('Number of Images Analyzed:', total_dot_II)\n",
    "filtered_down_dot_II = 0 #no ionogram was analyzed correctly\n",
    "print('Number of Ionograms Analyzed correctly:',filtered_down_dot_II)\n",
    "\n",
    "#Estimated success rate\n",
    "success_rate = filtered_down_dot_II/total_dot_II\n",
    "Estimation = success_rate*total_df_dot_II\n",
    "print('Estimated Success Rate out of 4481 with consistent results:', Estimation)\n",
    "\n",
    "#Plotting the variation of issues\n",
    "issue_counts_dot_II = df_dot_II[\"Issue\"].value_counts()\n",
    "plt.bar(issue_counts_dot_II.index, issue_counts_dot_II.values)\n",
    "plt.title (\"Variation error of dot Ionograms in Batch II\")\n",
    "plt.xlabel(\"Type of Issue\")\n",
    "plt.ylabel(\"Number of Issues\")\n",
    "plt.xticks(rotation=90)\n",
    "plt.show()\n",
    "\n",
    "# filtering out correct categories\n",
    "df_dot_II = df_dot_II.loc[df_dot_II['Issue'] == 'All categories']\n",
    "filtered_down_dot_II = len(df_dot_II)\n",
    "print('Number of NUM/NUM2 ionograms categorized as dot data by the algorithm:', filtered_down_dot_II)\n",
    "print(df_dot_II.loc[:,[\"Directory\",\"Subdirectory\", \"filename\"]])"
   ]
  },
  {
   "cell_type": "code",
   "execution_count": 68,
   "id": "b96d6d71",
   "metadata": {},
   "outputs": [
    {
     "name": "stdout",
     "output_type": "stream",
     "text": [
      "Total number of DOT Ionograms in BATCH I and II analyzed: 25\n",
      "Total number of Dot Ionograms in BATCH II and II analyzed correctly:  1\n",
      "Estimated Success Rate of Total Dot with 12,265 ionograms: 0\n",
      "Estimated Percent certainty: 0.0\n"
     ]
    }
   ],
   "source": [
    "#Total Dot image analysis:\n",
    "Image_total_dot = total_dot_I + total_dot_II\n",
    "print ('Total number of DOT Ionograms in BATCH I and II analyzed:', Image_total_dot)\n",
    "\n",
    "Correct_total_dot = (total_dot_I - filtered_down_dot_I) + (total_dot_II - filtered_down_dot_II)\n",
    "print ('Total number of Dot Ionograms in BATCH II and II analyzed correctly: ', Correct_total_dot)\n",
    "\n",
    "#Estimated success rate\n",
    "Estimation  = round(Correct_total_dot*Image_total_dot/Total_dot)\n",
    "print('Estimated Success Rate of Total Dot with 12,265 ionograms:', Estimation)\n",
    "\n",
    "#Percent certaintly\n",
    "percent_tot_dot = Estimation*100/Total_dot\n",
    "print('Estimated Percent certainty:' , percent_tot_dot)"
   ]
  },
  {
   "cell_type": "markdown",
   "id": "65dbda6e",
   "metadata": {},
   "source": [
    "## NUM2 category"
   ]
  },
  {
   "cell_type": "code",
   "execution_count": null,
   "id": "ef0cdb36",
   "metadata": {},
   "outputs": [],
   "source": []
  }
 ],
 "metadata": {
  "kernelspec": {
   "display_name": "Python 3",
   "language": "python",
   "name": "python3"
  },
  "language_info": {
   "codemirror_mode": {
    "name": "ipython",
    "version": 3
   },
   "file_extension": ".py",
   "mimetype": "text/x-python",
   "name": "python",
   "nbconvert_exporter": "python",
   "pygments_lexer": "ipython3",
   "version": "3.8.8"
  }
 },
 "nbformat": 4,
 "nbformat_minor": 5
}
