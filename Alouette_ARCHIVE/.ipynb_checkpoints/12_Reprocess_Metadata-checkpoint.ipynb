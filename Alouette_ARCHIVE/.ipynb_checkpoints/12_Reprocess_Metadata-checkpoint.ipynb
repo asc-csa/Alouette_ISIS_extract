{
 "cells": [
  {
   "cell_type": "markdown",
   "id": "f3517dff",
   "metadata": {},
   "source": [
    "# Reprocess Metadata\n",
    "\n",
    "#### Updated: Jan 14, 2023"
   ]
  },
  {
   "cell_type": "markdown",
   "id": "a7ccce69",
   "metadata": {},
   "source": [
    "#  "
   ]
  },
  {
   "cell_type": "markdown",
   "id": "4d7bcf08",
   "metadata": {},
   "source": [
    "Reprocess metadata from BATCH_I_Run1."
   ]
  },
  {
   "cell_type": "code",
   "execution_count": null,
   "id": "55553503",
   "metadata": {},
   "outputs": [],
   "source": [
    "import pandas as pd\n",
    "import os\n",
    "import shutil\n",
    "import time\n",
    "from datetime import datetime\n",
    "from random import randrange"
   ]
  },
  {
   "cell_type": "code",
   "execution_count": null,
   "id": "cf8c1dba",
   "metadata": {},
   "outputs": [],
   "source": [
    "import warnings\n",
    "warnings.filterwarnings('ignore')"
   ]
  },
  {
   "cell_type": "markdown",
   "id": "78c2f696",
   "metadata": {},
   "source": [
    "Set parameters:"
   ]
  },
  {
   "cell_type": "code",
   "execution_count": null,
   "id": "e969a7ed",
   "metadata": {},
   "outputs": [],
   "source": [
    "user = 'Rav'\n",
    "process_on_VDI = True"
   ]
  },
  {
   "cell_type": "markdown",
   "id": "72d4d00e",
   "metadata": {},
   "source": [
    "Set directories:"
   ]
  },
  {
   "cell_type": "code",
   "execution_count": null,
   "id": "e5f27b39",
   "metadata": {},
   "outputs": [],
   "source": [
    "rootDir_local = 'C:/Users/rnaidoo/Documents/Projects_data/Alouette_I/BATCH_I_Run1_md/' #C: is not persistent on VDI\n",
    "rootDir_L_ = 'L:/DATA/Alouette_I/BATCH_I_Run1/'\n",
    "rootDir_L = 'L:/DATA/Alouette_I/BATCH_I_Run1_md/'\n",
    "processingDir = rootDir_local + '03_processing/'\n",
    "result_localDir = rootDir_local + '05a_result_local/'\n",
    "if process_on_VDI:\n",
    "    processedDir = rootDir_L_ + '04_processed/' \n",
    "    unprocessedDir = rootDir_L_ + '04a_unprocessed/'\n",
    "    resultDir = rootDir_L + '05_result/' \n",
    "    logDir = rootDir_L + '06_log/'\n",
    "    move_to_L = True\n",
    "else:\n",
    "    processedDir = rootDir_local + '04_processed/' \n",
    "    unprocessedDir = rootDir_local + '04a_unprocessed/' \n",
    "    resultDir = rootDir_local + '05_result/' \n",
    "    logDir = rootDir_local + '06_log/'\n",
    "    move_to_L = False"
   ]
  },
  {
   "cell_type": "markdown",
   "id": "71c737cf",
   "metadata": {},
   "source": [
    "#  "
   ]
  },
  {
   "cell_type": "markdown",
   "id": "e43cc1df",
   "metadata": {},
   "source": [
    "#### Functions:"
   ]
  },
  {
   "cell_type": "code",
   "execution_count": null,
   "id": "8e1bd873",
   "metadata": {},
   "outputs": [],
   "source": [
    "def move_images(old_dir, new_dir, roll, subdir, copy_to_other_drive=False):\n",
    "    oldDir = old_dir + roll + '/' + subdir + '/'\n",
    "    newDir = new_dir + roll + '/' + subdir + '/'\n",
    "    os.makedirs(newDir, exist_ok=True)\n",
    "    \n",
    "    if copy_to_other_drive:\n",
    "        if os.path.exists(oldDir):\n",
    "            for file in os.listdir(oldDir):\n",
    "                shutil.copyfile(oldDir+file, newDir+file)\n",
    "    else:\n",
    "        if os.path.exists(oldDir):\n",
    "            for file in os.listdir(oldDir):\n",
    "                os.rename(oldDir+file, newDir+file)\n",
    "    \n",
    "    if os.path.exists(oldDir):\n",
    "        shutil.rmtree(old_dir + roll + '/' + subdir + '/')\n",
    "        if len(os.listdir(old_dir + roll + '/')) == 0:\n",
    "            shutil.rmtree(old_dir + roll + '/')"
   ]
  },
  {
   "cell_type": "markdown",
   "id": "328cc0b3",
   "metadata": {},
   "source": [
    "#  "
   ]
  },
  {
   "cell_type": "markdown",
   "id": "68b3f771",
   "metadata": {},
   "source": [
    "#### Reprocess metadata for all images in batch:"
   ]
  },
  {
   "cell_type": "code",
   "execution_count": null,
   "id": "3b841049",
   "metadata": {},
   "outputs": [],
   "source": [
    "df_reprocess = pd.read_csv(logDir + 'image_inventory.csv')\n",
    "print(len(df_reprocess))\n",
    "df_reprocess.head()"
   ]
  },
  {
   "cell_type": "code",
   "execution_count": null,
   "id": "fdef38b8",
   "metadata": {},
   "outputs": [],
   "source": [
    "reprocess_list = df_reprocess['subdir_id']"
   ]
  },
  {
   "cell_type": "code",
   "execution_count": null,
   "id": "84fee007",
   "metadata": {},
   "outputs": [],
   "source": [
    "for subdir in reprocess_list:\n",
    "    \n",
    "    start = time.time()\n",
    "    \n",
    "    subdir_id_parts = subdir.split('_')\n",
    "    roll = subdir_id_parts[0]\n",
    "    subdirectory = subdir_id_parts[1]\n",
    "    subdir_path_end = roll + '/' + subdirectory + '/'\n",
    "    \n",
    "    #Retrieve subdirectory\n",
    "    if os.path.exists(processedDir + subdir_path_end):\n",
    "        move_images(old_dir=processedDir, new_dir=processingDir, roll=roll, subdir=subdirectory, copy_to_other_drive=True)\n",
    "    elif os.path.exists(unprocessedDir + subdir_path_end):\n",
    "        move_images(old_dir=unprocessedDir, new_dir=processingDir, roll=roll, subdir=subdirectory, copy_to_other_drive=True)\n",
    "    else:\n",
    "        print('Cannot find subdirectory ' + subdir + '!')\n",
    "        continue\n",
    "    \n",
    "    #Clear intermediate results in result_localDir\n",
    "    for file in os.listdir(result_localDir):\n",
    "        if 'df' in file:\n",
    "            os.remove(result_localDir + file)\n",
    "        else:\n",
    "            shutil.rmtree(result_localDir + file)\n",
    "            \n",
    "    #Process\n",
    "    print('')\n",
    "    print('Processing ' + subdir_path_end + ' subdirectory...')\n",
    "    !python scan2data/user_input_md.py $processingDir $result_localDir\n",
    "    \n",
    "    #Consolidate results\n",
    "    if os.path.exists(result_localDir + 'df_dot.csv'):\n",
    "        df_dot = pd.read_csv(result_localDir + 'df_dot.csv')\n",
    "        n_dot = len(df_dot)\n",
    "        df_dot['processed_image_class'] = 'dot'\n",
    "        os.remove(result_localDir + 'df_dot.csv')\n",
    "    else:\n",
    "        df_dot = pd.DataFrame()\n",
    "        n_dot = 0\n",
    "\n",
    "    if os.path.exists(result_localDir + 'df_num.csv'):\n",
    "        df_num = pd.read_csv(result_localDir + 'df_num.csv')\n",
    "        n_num = len(df_num)\n",
    "        df_num['processed_image_class'] = 'num'\n",
    "        os.remove(result_localDir + 'df_num.csv')\n",
    "    else:\n",
    "        df_num = pd.DataFrame()\n",
    "        n_num = 0\n",
    "\n",
    "    if os.path.exists(result_localDir + 'df_loss.csv'):\n",
    "        df_loss = pd.read_csv(result_localDir + 'df_loss.csv')\n",
    "        n_loss = len(df_loss)\n",
    "        df_loss['processed_image_class'] = 'loss'\n",
    "        os.remove(result_localDir + 'df_loss.csv')\n",
    "    else:\n",
    "        df_loss = pd.DataFrame()\n",
    "        n_loss = 0\n",
    "\n",
    "    if os.path.exists(result_localDir + 'df_outlier.csv'):\n",
    "        df_outlier = pd.read_csv(result_localDir + 'df_outlier.csv')\n",
    "        n_outlier = len(df_outlier)\n",
    "        df_outlier['processed_image_class'] = 'outlier'\n",
    "        os.remove(result_localDir + 'df_outlier.csv')\n",
    "    else:\n",
    "        df_outlier = pd.DataFrame()\n",
    "        n_outlier = 0\n",
    "\n",
    "    df_tot = pd.concat([df_dot, df_num, df_loss, df_outlier])\n",
    "    if len(df_tot) > 0:\n",
    "        df_tot['Roll'] = roll\n",
    "        df_tot['Subdirectory'] = subdirectory\n",
    "        if 'file_name' in df_tot.columns:\n",
    "            df_tot['filename'] = df_tot['file_name'].str.replace(processingDir + roll + '/' + subdirectory, '')\n",
    "            df_tot['filename'] = df_tot['filename'].str.replace('\\\\', '')\n",
    "            df_tot['filename'] = df_tot['filename'].str.replace('/', '')\n",
    "        else:\n",
    "            df_tot['filename'] = 'unknown'\n",
    "        df_tot = df_tot.drop(columns=['file_name', 'mapped_coord', 'subdir_name', 'raw', 'ionogram', 'raw_metadata', \n",
    "                                      'trimmed_metadata', 'padded', 'dilated_metadata'], errors='ignore')\n",
    "    os.makedirs(resultDir + roll + '/', exist_ok=True)\n",
    "    df_tot.to_csv(resultDir + roll + '/' + 'result-' + roll + '_' + subdirectory + '.csv', index=False)\n",
    "\n",
    "    end = time.time()\n",
    "    t = end - start\n",
    "    print('Processing time for subdirectory: ' + str(round(t/60, 1)) + ' min')\n",
    "    print('')\n",
    "\n",
    "    #Record performance\n",
    "    n_processed = n_dot + n_num + n_loss + n_outlier\n",
    "    df_result_ = pd.DataFrame({\n",
    "        'Roll': roll,\n",
    "        'Subdirectory': subdirectory,\n",
    "        'Images_processed': n_processed,\n",
    "        'Images_dot': n_dot,\n",
    "        'Images_num': n_num,\n",
    "        'Images_loss': n_loss,\n",
    "        'Images_outlier': n_outlier,\n",
    "        'Process_time': t,\n",
    "        'Process_timestamp': datetime.fromtimestamp(end),\n",
    "        'User': user,\n",
    "        'subdir_id': roll + '_' + subdirectory\n",
    "    }, index=[0])\n",
    "    if os.path.exists(logDir + 'process_log.csv'):\n",
    "        df_log = pd.read_csv(logDir + 'process_log.csv')\n",
    "        df_update = pd.concat([df_log, df_result_], axis=0, ignore_index=True)\n",
    "        df_update.to_csv(logDir + 'process_log.csv', index=False)\n",
    "    else:\n",
    "        if len(df_result_) > 0:\n",
    "            df_result_.to_csv(logDir + 'process_log.csv', index=False)\n",
    "\n",
    "    #Backup 'process_log' (10% of the time)\n",
    "    if randrange(10) == 7:\n",
    "        df_log = pd.read_csv(logDir + 'process_log.csv')\n",
    "        datetime_str = datetime.now().strftime(\"%Y%m%d_%Hh%M\")\n",
    "        os.makedirs(logDir + 'backups/', exist_ok=True)\n",
    "        df_log.to_csv(logDir + 'backups/' + 'process_log-' + datetime_str + '.csv', index=False)\n",
    "\n",
    "    #Move to '04_processed' or '04a_unprocessed'\n",
    "    if n_processed > 0:\n",
    "        move_images(old_dir=processingDir, new_dir=processedDir, roll=roll, subdir=subdirectory, copy_to_other_drive=move_to_L)\n",
    "    else:\n",
    "        move_images(old_dir=processingDir, new_dir=unprocessedDir, roll=roll, subdir=subdirectory, copy_to_other_drive=move_to_L)\n",
    "    "
   ]
  }
 ],
 "metadata": {
  "kernelspec": {
   "display_name": "Python 3",
   "language": "python",
   "name": "python3"
  },
  "language_info": {
   "codemirror_mode": {
    "name": "ipython",
    "version": 3
   },
   "file_extension": ".py",
   "mimetype": "text/x-python",
   "name": "python",
   "nbconvert_exporter": "python",
   "pygments_lexer": "ipython3",
   "version": "3.8.8"
  }
 },
 "nbformat": 4,
 "nbformat_minor": 5
}
