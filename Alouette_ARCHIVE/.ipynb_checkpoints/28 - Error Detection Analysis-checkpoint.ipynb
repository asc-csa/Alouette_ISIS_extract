{
 "cells": [
  {
   "cell_type": "markdown",
   "id": "842c0114",
   "metadata": {},
   "source": [
    "# Alouette-Error-Detection-Analysis\n",
    "***\n",
    "While browsing and processing Alouette's ionograms, the team found images with weird shapes (irregularly cropped), images with two ionograms (out of phase) or images with parts of ionograms (cropped too soon or out of phase). The goal of the following script is to find those ionograms and verify how big of an issue it is.\n",
    "\n",
    "Before running this script, you need to run error_detection/scan_error_processor.py on your images. Depending on the size of your sample, it could take a couple of days. The present notebook use the BATCH_II ionograms, but a similar code can be use for BATCH_I and ISIS.\n",
    "\n",
    "Once it's done, you'll need to concatenate all the results file together. Depending on the number of csv to concatenate, it could take several minutes."
   ]
  },
  {
   "cell_type": "code",
   "execution_count": 1,
   "id": "c6eb4d29",
   "metadata": {},
   "outputs": [],
   "source": [
    "import pandas as pd\n",
    "import os\n",
    "import numpy as np\n",
    "import matplotlib.pyplot as plt\n",
    "from matplotlib.ticker import PercentFormatter\n",
    "pd.options.mode.chained_assignment = None  # Remove Setting with copy warning in pandas"
   ]
  },
  {
   "cell_type": "code",
   "execution_count": 2,
   "id": "8c19a775",
   "metadata": {},
   "outputs": [],
   "source": [
    "def concatResults(rootDir,resultDir):\n",
    "    \n",
    "    df_result = pd.DataFrame()\n",
    "    i = 0\n",
    "    for file in os.listdir(resultDir):\n",
    "        if 'R' in file:\n",
    "            directory = file\n",
    "            for file2 in os.listdir(resultDir + directory + '/'):\n",
    "                if 'result_scan_error_detect-' in file2:\n",
    "                    fn_parts = file2.split('_')\n",
    "                    subdirectory = fn_parts[1].replace('.csv', '')\n",
    "                    if i > 0:\n",
    "                        if i % 100 == 0:\n",
    "                            df_result = pd.read_csv(resultDir + 'result_BATCH_II_raw.csv', low_memory=False)\n",
    "                            print(len(df_result))\n",
    "                    try:\n",
    "                        df_load = pd.read_csv(resultDir + directory + '/' + file2, sep=',')\n",
    "                        n = len(df_load)\n",
    "                    except pd.errors.EmptyDataError:\n",
    "                        n = 0\n",
    "                        df_load = pd.DataFrame()\n",
    "                    df_result = pd.concat([df_result, df_load])\n",
    "                    i += 1\n",
    "                    if i % 100 == 0:\n",
    "                        print('Now saving the ' + str(i) + 'th result...')\n",
    "                        df_result.to_csv(resultDir + 'result_BATCH_II_raw.csv', index=False)\n",
    "    return(df_result)\n",
    "\n",
    "rootDir = 'L:/DATA/Alouette_I/BATCH_II_scan_error_detection_Run1/'\n",
    "resultDir = rootDir + '01_result/'\n",
    "\n",
    "#df_result = concatResults(rootDir,resultDir)\n",
    "# I suggest to save it so you don't have to re-do this operation\n",
    "#df_result.to_csv(resultDir + 'result_BATCH_II_raw_final.csv', index=False)"
   ]
  },
  {
   "cell_type": "markdown",
   "id": "c114dd01",
   "metadata": {},
   "source": [
    "Part of the following code was taken from Ashley's work, which is in *24_Scan Error Detection Results Analysis.ipynb*. It gives us an idea of how many programming errors there are and if there are ISIS subdirectories in the sample."
   ]
  },
  {
   "cell_type": "code",
   "execution_count": 3,
   "id": "749776e9",
   "metadata": {},
   "outputs": [
    {
     "name": "stderr",
     "output_type": "stream",
     "text": [
      "c:\\DevSoftware\\Anaconda38\\lib\\site-packages\\IPython\\core\\interactiveshell.py:3165: DtypeWarning: Columns (3,4,5,6) have mixed types.Specify dtype option on import or set low_memory=False.\n",
      "  has_raised = await self.run_ast_nodes(code_ast.body, cell_name,\n"
     ]
    },
    {
     "name": "stdout",
     "output_type": "stream",
     "text": [
      "rows filtered out due to errors: 212\n",
      "rows filtered out due to dupplicates: 0\n",
      "total number of images: 726365\n",
      "number of images with flagged ISIS text: 252\n",
      "percentatge of ionogram images with flagged ISIS text: 0.035 %\n",
      "\n",
      "\n",
      "total number of subdirectories: 2416\n",
      "number of subdirectories with flagges ISIS text: 38\n",
      "percentatge of subdirectories with flagged ISIS text: 1.573 %\n",
      "\n",
      "\n"
     ]
    }
   ],
   "source": [
    "df_result = pd.read_csv(resultDir + 'result_BATCH_II_raw_final.csv')\n",
    "total_len = len(df_result)\n",
    "\n",
    "# filter out error rows\n",
    "df_result = df_result.loc[df_result['says_isis'] != 'ERR']\n",
    "filtered_down_len_1 = len(df_result)\n",
    "print('rows filtered out due to errors:', total_len - filtered_down_len_1)\n",
    "\n",
    "# drop dupplicates\n",
    "df_result.drop_duplicates(inplace=True)\n",
    "filtered_down_len_2 = len(df_result)\n",
    "print('rows filtered out due to dupplicates:', filtered_down_len_1 - filtered_down_len_2)\n",
    "    \n",
    "# ISIS text on images\n",
    "df_isis = df_result.loc[df_result['says_isis'] == 'True']\n",
    "isis_img_pct = 100*len(df_isis)/filtered_down_len_2\n",
    "print('total number of images:', filtered_down_len_2)\n",
    "print('number of images with flagged ISIS text:', len(df_isis))\n",
    "print('percentatge of ionogram images with flagged ISIS text:', round(isis_img_pct,  3), '%\\n\\n')\n",
    "    \n",
    "# unique ISIS subdirectories\n",
    "subdirs_isis = df_isis['Subdirectory']\n",
    "unique_subdirs_isis = set(subdirs_isis)\n",
    "subdirs_tot = df_result['Subdirectory']\n",
    "unique_subdirs_tot = set(subdirs_tot)\n",
    "isis_subdir_pct = 100*len(unique_subdirs_isis)/len(unique_subdirs_tot)\n",
    "print('total number of subdirectories:', len(unique_subdirs_tot))\n",
    "print('number of subdirectories with flagges ISIS text:', len(unique_subdirs_isis))\n",
    "print('percentatge of subdirectories with flagged ISIS text:', round(isis_subdir_pct,  3), '%\\n\\n')"
   ]
  },
  {
   "cell_type": "markdown",
   "id": "86b6e4ca",
   "metadata": {},
   "source": [
    "Let's see how the results look like with histograms for aspect ratio and the number of digits on each images."
   ]
  },
  {
   "cell_type": "code",
   "execution_count": 4,
   "id": "35c7ffd3",
   "metadata": {},
   "outputs": [],
   "source": [
    "def aspectPlot(df,ylabel,title,percent=False):\n",
    "    \n",
    "    # calculate aspect ratios\n",
    "    aspect_ratios = df['aspect']\n",
    "    \n",
    "    fig, ax = plt.subplots()\n",
    "    \n",
    "    # make histogram data more clear (larger bins and more zoomed in)\n",
    "    if percent : \n",
    "        ax.hist(aspect_ratios, bins=np.arange(0.0, 10.0, 0.20), alpha=0.8, weights=np.ones(len(df)) / len(df))\n",
    "        plt.gca().yaxis.set_major_formatter(PercentFormatter(1))\n",
    "    else :\n",
    "        ax.hist(aspect_ratios, bins=np.arange(0.0, 10.0, 0.20), alpha=0.8)\n",
    "    \n",
    "    ax.set_xlabel('width/height [pixels]')\n",
    "    ax.set_ylabel(ylabel)\n",
    "    ax.set_xlim(0,10)\n",
    "    ax.set_xticks(np.arange(0.0, 10.0, 1.0),minor=True)\n",
    "    ax.grid(which='both',axis='x',alpha=0.7,ls='--')\n",
    "    \n",
    "    # add vertical line at w/h = 1.2\n",
    "    #plt.vlines(x=1.2, ymin=0, ymax=120000, colors='purple', linestyles='--', label='width / height =1.2')\n",
    "    #plt.legend()\n",
    "    \n",
    "    mu = aspect_ratios.mean()\n",
    "    med = aspect_ratios.median()\n",
    "    sigma = aspect_ratios.std()\n",
    "    \n",
    "    textstr = '\\n'.join((\n",
    "        r'$\\mathrm{average}=%.2f$' % (mu, ),\n",
    "        r'$\\mathrm{median}=%.2f$' % (med, ),\n",
    "        r'$\\mathrm{std}=%.2f$' % (sigma, )))\n",
    "    \n",
    "    # these are matplotlib.patch.Patch properties\n",
    "    props = dict(boxstyle='round', facecolor='white', edgecolor='lightgrey')\n",
    "    \n",
    "    # place a text box in upper left in axes coords\n",
    "    fig.text(0.7, 0.8, textstr,va='top', bbox=props)\n",
    "    fig.suptitle(title)\n",
    "    \n",
    "    n = len([ x for x in aspect_ratios if x < 2 ])\n",
    "    print(round(100*n/filtered_down_len_2,2), '% of ionograms have w/h < 2')\n",
    "    n = len([ x for x in aspect_ratios if x >= 3 ])\n",
    "    print(round(100*n/filtered_down_len_2,2), '% of ionograms have w/h >= 3')\n",
    "    \n",
    "    return()\n",
    "\n",
    "def digitPlot(df,ylabel,title,percent=False):\n",
    "    \n",
    "    # log histogram of metadata readings\n",
    "    digit_counts = df['digit_count'].astype(float)\n",
    "    \n",
    "    fig, ax = plt.subplots()\n",
    "    \n",
    "    if percent :\n",
    "        ax.hist(digit_counts, bins=np.arange(0., 60., 5.), alpha=0.8, weights=np.ones(len(df)) / len(df))\n",
    "        plt.gca().yaxis.set_major_formatter(PercentFormatter(1))\n",
    "    else :\n",
    "        ax.hist(digit_counts, bins=np.arange(0., 60., 5.), alpha=0.8)\n",
    "    ax.set_xlabel('total digits detected in ionogram [count]')\n",
    "    ax.set_ylabel(ylabel)\n",
    "    ax.set_xticks(np.arange(0., 60., 5.),minor=True)\n",
    "    ax.grid(which='both',axis='x',alpha=0.7,ls='--')\n",
    "    \n",
    "    mu = digit_counts.mean()\n",
    "    med = digit_counts.median()\n",
    "    sigma = digit_counts.std()\n",
    "    \n",
    "    textstr = '\\n'.join((\n",
    "        r'$\\mathrm{average}=%.2f$' % (mu, ),\n",
    "        r'$\\mathrm{median}=%.2f$' % (med, ),\n",
    "        r'$\\mathrm{std}=%.2f$' % (sigma, )))\n",
    "    \n",
    "    props = dict(boxstyle='round', facecolor='white', edgecolor='lightgrey')\n",
    "    fig.text(0.7, 0.8, textstr,va='top', bbox=props)\n",
    "    fig.suptitle(title)\n",
    "    \n",
    "    # percentage with digit_count > 15 and <= 10\n",
    "    n = len([ x for x in digit_counts if x >= 16 ])\n",
    "    print(round(100*n/filtered_down_len_2,2), '% of ionograms have digit_count > 15')\n",
    "    n = len([ x for x in digit_counts if x < 10 ])\n",
    "    print(round(100*n/filtered_down_len_2,2), '% of ionograms have digit_count < 10')\n",
    "\n",
    "    return()"
   ]
  },
  {
   "cell_type": "code",
   "execution_count": 5,
   "id": "e87e3fcf",
   "metadata": {},
   "outputs": [
    {
     "name": "stdout",
     "output_type": "stream",
     "text": [
      "15.0 % of ionograms have w/h < 2\n",
      "20.18 % of ionograms have w/h >= 3\n",
      "7.59 % of ionograms have digit_count > 15\n",
      "47.25 % of ionograms have digit_count < 10\n"
     ]
    },
    {
     "data": {
      "text/plain": [
       "()"
      ]
     },
     "execution_count": 5,
     "metadata": {},
     "output_type": "execute_result"
    },
    {
     "data": {
      "image/png": "[encoded data removed]",
      "text/plain": [
       "<Figure size 432x288 with 1 Axes>"
      ]
     },
     "metadata": {
      "needs_background": "light"
     },
     "output_type": "display_data"
    },
    {
     "data": {
      "image/png": "[encoded data removed]",
      "text/plain": [
       "<Figure size 432x288 with 1 Axes>"
      ]
     },
     "metadata": {
      "needs_background": "light"
     },
     "output_type": "display_data"
    }
   ],
   "source": [
    "# Make sure everything is an integer\n",
    "df_result['width']=df_result['width'].astype(int)\n",
    "df_result['height']=df_result['height'].astype(int)\n",
    "df_result['digit_count']=df_result['digit_count'].astype(int)\n",
    "df_result['aspect']=df_result['width']/df_result['height']\n",
    "\n",
    "aspectPlot(df_result,'Number of ionograms [count]','Aspect of all ionograms')\n",
    "digitPlot(df_result,'Number of ionograms [count]','Number of digits of all ionograms')"
   ]
  },
  {
   "cell_type": "code",
   "execution_count": 6,
   "id": "f9bc4ef7",
   "metadata": {},
   "outputs": [
    {
     "name": "stdout",
     "output_type": "stream",
     "text": [
      "15.0 % of ionograms have w/h < 2\n",
      "20.18 % of ionograms have w/h >= 3\n",
      "7.59 % of ionograms have digit_count > 15\n",
      "47.25 % of ionograms have digit_count < 10\n"
     ]
    },
    {
     "data": {
      "text/plain": [
       "()"
      ]
     },
     "execution_count": 6,
     "metadata": {},
     "output_type": "execute_result"
    },
    {
     "data": {
      "image/png": "[encoded data removed]",
      "text/plain": [
       "<Figure size 432x288 with 1 Axes>"
      ]
     },
     "metadata": {
      "needs_background": "light"
     },
     "output_type": "display_data"
    },
    {
     "data": {
      "image/png": "[encoded data removed]",
      "text/plain": [
       "<Figure size 432x288 with 1 Axes>"
      ]
     },
     "metadata": {
      "needs_background": "light"
     },
     "output_type": "display_data"
    }
   ],
   "source": [
    "aspectPlot(df_result,'Percentage of ionograms (%)','Aspect of all ionograms',percent=True)\n",
    "digitPlot(df_result,'Percentage of ionograms (%)','Number of digits of all ionograms',percent=True)"
   ]
  },
  {
   "cell_type": "markdown",
   "id": "56ae4a25",
   "metadata": {},
   "source": [
    "Instead of looking at ionograms, we can look at the overall look of a subdirectory. When there's an error, whether it's out of phase, cropped too soon or irregularly cropped, there's a good chance that more than one image has that error in the subdirectory, which would influence the average and standard deviation metric of the subdirectory. However, if there's less than 10-15 images out of 300-400 with an error (less than 5%), it might look normal. The following code will most likely detect almost all subdirectories with more than 10-15 images containing errors. It will also detect normal subdirectories with no errors, since sometimes there's images of only the metadata, images of the in-between ionograms which don't have normal aspect ratio or digit count and images with no metadata (it was cropped). Low quality subdirectories will also be detected, since it's difficult to read numbers on those."
   ]
  },
  {
   "cell_type": "code",
   "execution_count": 7,
   "id": "f535c68e",
   "metadata": {},
   "outputs": [
    {
     "name": "stderr",
     "output_type": "stream",
     "text": [
      "<ipython-input-7-1da2c9b6a0fa>:2: FutureWarning: Indexing with multiple keys (implicitly converted to a tuple of keys) will be deprecated, use a list instead.\n",
      "  df_av = df_result.groupby(['Directory','Subdirectory'])['aspect','digit_count'].mean()\n"
     ]
    },
    {
     "name": "stdout",
     "output_type": "stream",
     "text": [
      "0.04 % of ionograms have w/h < 2\n",
      "0.08 % of ionograms have w/h >= 3\n",
      "0.01 % of ionograms have digit_count > 15\n",
      "0.15 % of ionograms have digit_count < 10\n"
     ]
    },
    {
     "data": {
      "text/plain": [
       "()"
      ]
     },
     "execution_count": 7,
     "metadata": {},
     "output_type": "execute_result"
    },
    {
     "data": {
      "image/png": "[encoded data removed]",
      "text/plain": [
       "<Figure size 432x288 with 1 Axes>"
      ]
     },
     "metadata": {
      "needs_background": "light"
     },
     "output_type": "display_data"
    },
    {
     "data": {
      "image/png": "[encoded data removed]",
      "text/plain": [
       "<Figure size 432x288 with 1 Axes>"
      ]
     },
     "metadata": {
      "needs_background": "light"
     },
     "output_type": "display_data"
    }
   ],
   "source": [
    "# Calculate mean of metrics for every subdirectory\n",
    "df_av = df_result.groupby(['Directory','Subdirectory'])['aspect','digit_count'].mean()\n",
    "df_av.reset_index(inplace=True)\n",
    "\n",
    "aspectPlot(df_av,'Number of subdirectories [count]','Mean aspect for all subdirectories')\n",
    "digitPlot(df_av,'Number of subdirectories [count]','Mean count of digits for all subdirectories')"
   ]
  },
  {
   "cell_type": "code",
   "execution_count": 8,
   "id": "b583c52b",
   "metadata": {},
   "outputs": [
    {
     "name": "stdout",
     "output_type": "stream",
     "text": [
      "0.04 % of ionograms have w/h < 2\n",
      "0.08 % of ionograms have w/h >= 3\n",
      "0.01 % of ionograms have digit_count > 15\n",
      "0.15 % of ionograms have digit_count < 10\n"
     ]
    },
    {
     "data": {
      "text/plain": [
       "()"
      ]
     },
     "execution_count": 8,
     "metadata": {},
     "output_type": "execute_result"
    },
    {
     "data": {
      "image/png": "[encoded data removed]",
      "text/plain": [
       "<Figure size 432x288 with 1 Axes>"
      ]
     },
     "metadata": {
      "needs_background": "light"
     },
     "output_type": "display_data"
    },
    {
     "data": {
      "image/png": "[encoded data removed]",
      "text/plain": [
       "<Figure size 432x288 with 1 Axes>"
      ]
     },
     "metadata": {
      "needs_background": "light"
     },
     "output_type": "display_data"
    }
   ],
   "source": [
    "aspectPlot(df_av,'Percentage of subdirectories (%)','Mean aspect for all subdirectories',percent=True)\n",
    "digitPlot(df_av,'Percentage of subdirectories (%)','Mean count of digits for all subdirectories',percent=True)"
   ]
  },
  {
   "cell_type": "markdown",
   "id": "724043e8",
   "metadata": {},
   "source": [
    "The next step is to decide the tresholds indicating that there might be a problem with a subdirectory. We make the assumption that errors happen a minority of the time, so we will extract the subdirectories with extreme values only.\n",
    "\n",
    "For the aspect ratio, anything between 2 and 3 is probably normal, unless there's a lot of numbers or none. As for the digit count, since we are in BATCH_II and it's mostly num2 data, anything with less than 12 might or more than 18 contain errors. We'll first apply a filter of the digits."
   ]
  },
  {
   "cell_type": "code",
   "execution_count": 76,
   "id": "60793364",
   "metadata": {},
   "outputs": [
    {
     "data": {
      "text/plain": [
       "1226"
      ]
     },
     "execution_count": 76,
     "metadata": {},
     "output_type": "execute_result"
    }
   ],
   "source": [
    "error = df_av.loc[(df_av['digit_count'] <= 12) | (df_av['digit_count'] >= 18)]\n",
    "error.reset_index(inplace=True,drop=True)\n",
    "len(error)"
   ]
  },
  {
   "cell_type": "markdown",
   "id": "21ca0606",
   "metadata": {},
   "source": [
    "To help the users, we add a column with the problems to look for in those subdirectory."
   ]
  },
  {
   "cell_type": "code",
   "execution_count": 77,
   "id": "9bd7e394",
   "metadata": {},
   "outputs": [
    {
     "data": {
      "text/html": [
       "<div>\n",
       "<style scoped>\n",
       "    .dataframe tbody tr th:only-of-type {\n",
       "        vertical-align: middle;\n",
       "    }\n",
       "\n",
       "    .dataframe tbody tr th {\n",
       "        vertical-align: top;\n",
       "    }\n",
       "\n",
       "    .dataframe thead th {\n",
       "        text-align: right;\n",
       "    }\n",
       "</style>\n",
       "<table border=\"1\" class=\"dataframe\">\n",
       "  <thead>\n",
       "    <tr style=\"text-align: right;\">\n",
       "      <th></th>\n",
       "      <th>Directory</th>\n",
       "      <th>Subdirectory</th>\n",
       "      <th>aspect</th>\n",
       "      <th>digit_count</th>\n",
       "      <th>Possible_problem</th>\n",
       "    </tr>\n",
       "  </thead>\n",
       "  <tbody>\n",
       "    <tr>\n",
       "      <th>0</th>\n",
       "      <td>R014207709</td>\n",
       "      <td>145</td>\n",
       "      <td>3.037448</td>\n",
       "      <td>8.641509</td>\n",
       "      <td></td>\n",
       "    </tr>\n",
       "    <tr>\n",
       "      <th>1</th>\n",
       "      <td>R014207709</td>\n",
       "      <td>146</td>\n",
       "      <td>3.405808</td>\n",
       "      <td>5.095238</td>\n",
       "      <td></td>\n",
       "    </tr>\n",
       "    <tr>\n",
       "      <th>2</th>\n",
       "      <td>R014207709</td>\n",
       "      <td>147</td>\n",
       "      <td>2.758684</td>\n",
       "      <td>6.960000</td>\n",
       "      <td></td>\n",
       "    </tr>\n",
       "    <tr>\n",
       "      <th>3</th>\n",
       "      <td>R014207709</td>\n",
       "      <td>148</td>\n",
       "      <td>4.863991</td>\n",
       "      <td>0.000000</td>\n",
       "      <td></td>\n",
       "    </tr>\n",
       "    <tr>\n",
       "      <th>4</th>\n",
       "      <td>R014207709</td>\n",
       "      <td>149</td>\n",
       "      <td>5.398642</td>\n",
       "      <td>0.000000</td>\n",
       "      <td></td>\n",
       "    </tr>\n",
       "  </tbody>\n",
       "</table>\n",
       "</div>"
      ],
      "text/plain": [
       "    Directory Subdirectory    aspect  digit_count Possible_problem\n",
       "0  R014207709          145  3.037448     8.641509                 \n",
       "1  R014207709          146  3.405808     5.095238                 \n",
       "2  R014207709          147  2.758684     6.960000                 \n",
       "3  R014207709          148  4.863991     0.000000                 \n",
       "4  R014207709          149  5.398642     0.000000                 "
      ]
     },
     "execution_count": 77,
     "metadata": {},
     "output_type": "execute_result"
    }
   ],
   "source": [
    "error[\"Possible_problem\"]=''\n",
    "error.head(5)"
   ]
  },
  {
   "cell_type": "code",
   "execution_count": 78,
   "id": "1eb2c617",
   "metadata": {},
   "outputs": [
    {
     "data": {
      "text/html": [
       "<div>\n",
       "<style scoped>\n",
       "    .dataframe tbody tr th:only-of-type {\n",
       "        vertical-align: middle;\n",
       "    }\n",
       "\n",
       "    .dataframe tbody tr th {\n",
       "        vertical-align: top;\n",
       "    }\n",
       "\n",
       "    .dataframe thead th {\n",
       "        text-align: right;\n",
       "    }\n",
       "</style>\n",
       "<table border=\"1\" class=\"dataframe\">\n",
       "  <thead>\n",
       "    <tr style=\"text-align: right;\">\n",
       "      <th></th>\n",
       "      <th>Directory</th>\n",
       "      <th>Subdirectory</th>\n",
       "      <th>aspect</th>\n",
       "      <th>digit_count</th>\n",
       "      <th>Possible_problem</th>\n",
       "    </tr>\n",
       "  </thead>\n",
       "  <tbody>\n",
       "    <tr>\n",
       "      <th>1063</th>\n",
       "      <td>R014207961</td>\n",
       "      <td>1077-B</td>\n",
       "      <td>2.610524</td>\n",
       "      <td>1.085492</td>\n",
       "      <td>No metadata, ISIS metadata, num type metadata,...</td>\n",
       "    </tr>\n",
       "    <tr>\n",
       "      <th>274</th>\n",
       "      <td>R014207807</td>\n",
       "      <td>4950</td>\n",
       "      <td>2.746753</td>\n",
       "      <td>0.488281</td>\n",
       "      <td>No metadata, ISIS metadata, num type metadata,...</td>\n",
       "    </tr>\n",
       "    <tr>\n",
       "      <th>644</th>\n",
       "      <td>R014207886</td>\n",
       "      <td>B-2487</td>\n",
       "      <td>2.574074</td>\n",
       "      <td>3.632812</td>\n",
       "      <td>No metadata, ISIS metadata, num type metadata,...</td>\n",
       "    </tr>\n",
       "    <tr>\n",
       "      <th>953</th>\n",
       "      <td>R014207952</td>\n",
       "      <td>2708-13B</td>\n",
       "      <td>2.640106</td>\n",
       "      <td>0.074303</td>\n",
       "      <td>No metadata, ISIS metadata, num type metadata,...</td>\n",
       "    </tr>\n",
       "    <tr>\n",
       "      <th>765</th>\n",
       "      <td>R014207941</td>\n",
       "      <td>1798-5B</td>\n",
       "      <td>2.562806</td>\n",
       "      <td>0.016393</td>\n",
       "      <td>No metadata, ISIS metadata, num type metadata,...</td>\n",
       "    </tr>\n",
       "    <tr>\n",
       "      <th>1130</th>\n",
       "      <td>R014207963</td>\n",
       "      <td>1566-1B</td>\n",
       "      <td>2.820241</td>\n",
       "      <td>0.028090</td>\n",
       "      <td>No metadata, ISIS metadata, num type metadata,...</td>\n",
       "    </tr>\n",
       "    <tr>\n",
       "      <th>788</th>\n",
       "      <td>R014207944</td>\n",
       "      <td>2001-5A</td>\n",
       "      <td>2.857982</td>\n",
       "      <td>0.130699</td>\n",
       "      <td>No metadata, ISIS metadata, num type metadata,...</td>\n",
       "    </tr>\n",
       "    <tr>\n",
       "      <th>528</th>\n",
       "      <td>R014207825</td>\n",
       "      <td>3729-19A</td>\n",
       "      <td>1.807178</td>\n",
       "      <td>8.223368</td>\n",
       "      <td>Cropped too soon, low quality, Irregularly cro...</td>\n",
       "    </tr>\n",
       "    <tr>\n",
       "      <th>585</th>\n",
       "      <td>R014207836</td>\n",
       "      <td>4723-A</td>\n",
       "      <td>3.504172</td>\n",
       "      <td>9.469534</td>\n",
       "      <td>Cropped too soon, low quality, Out of phase,</td>\n",
       "    </tr>\n",
       "    <tr>\n",
       "      <th>1124</th>\n",
       "      <td>R014207963</td>\n",
       "      <td>1560-1B</td>\n",
       "      <td>2.792442</td>\n",
       "      <td>0.103659</td>\n",
       "      <td>No metadata, ISIS metadata, num type metadata,...</td>\n",
       "    </tr>\n",
       "  </tbody>\n",
       "</table>\n",
       "</div>"
      ],
      "text/plain": [
       "       Directory Subdirectory    aspect  digit_count  \\\n",
       "1063  R014207961       1077-B  2.610524     1.085492   \n",
       "274   R014207807         4950  2.746753     0.488281   \n",
       "644   R014207886       B-2487  2.574074     3.632812   \n",
       "953   R014207952     2708-13B  2.640106     0.074303   \n",
       "765   R014207941      1798-5B  2.562806     0.016393   \n",
       "1130  R014207963      1566-1B  2.820241     0.028090   \n",
       "788   R014207944      2001-5A  2.857982     0.130699   \n",
       "528   R014207825     3729-19A  1.807178     8.223368   \n",
       "585   R014207836       4723-A  3.504172     9.469534   \n",
       "1124  R014207963      1560-1B  2.792442     0.103659   \n",
       "\n",
       "                                       Possible_problem  \n",
       "1063  No metadata, ISIS metadata, num type metadata,...  \n",
       "274   No metadata, ISIS metadata, num type metadata,...  \n",
       "644   No metadata, ISIS metadata, num type metadata,...  \n",
       "953   No metadata, ISIS metadata, num type metadata,...  \n",
       "765   No metadata, ISIS metadata, num type metadata,...  \n",
       "1130  No metadata, ISIS metadata, num type metadata,...  \n",
       "788   No metadata, ISIS metadata, num type metadata,...  \n",
       "528   Cropped too soon, low quality, Irregularly cro...  \n",
       "585       Cropped too soon, low quality, Out of phase,   \n",
       "1124  No metadata, ISIS metadata, num type metadata,...  "
      ]
     },
     "execution_count": 78,
     "metadata": {},
     "output_type": "execute_result"
    }
   ],
   "source": [
    "error['Possible_problem']=np.where(error['digit_count']<=5,\n",
    "                                   error['Possible_problem'] + 'No metadata, ISIS metadata, num type metadata, low quality, ',\n",
    "                                   error['Possible_problem'])\n",
    "error['Possible_problem']=np.where(error['digit_count']>=18,\n",
    "                                   error['Possible_problem'] + 'Out of phase, Too much noise, ',\n",
    "                                   error['Possible_problem'])\n",
    "error['Possible_problem']=np.where((error['digit_count']>5) & (error['digit_count']<=12),\n",
    "                                   error['Possible_problem'] + 'Cropped too soon, low quality, ',\n",
    "                                   error['Possible_problem'])\n",
    "error['Possible_problem']=np.where(error['aspect']<2,\n",
    "                                   error['Possible_problem'] + 'Irregularly cropped, Cropped too soon, ',\n",
    "                                   error['Possible_problem'])\n",
    "error['Possible_problem']=np.where(error['aspect']>3,\n",
    "                                   error['Possible_problem'] + 'Out of phase, ',\n",
    "                                   error['Possible_problem'])\n",
    "\n",
    "error.sample(10)"
   ]
  },
  {
   "cell_type": "markdown",
   "id": "cb671d7c",
   "metadata": {},
   "source": [
    "Before saving the csv file, we'll add the metadata type per subdirectory from the total image_inventory.csv. It could be usefull to better classify the errors."
   ]
  },
  {
   "cell_type": "code",
   "execution_count": 91,
   "id": "e60779d4",
   "metadata": {},
   "outputs": [
    {
     "data": {
      "text/html": [
       "<div>\n",
       "<style scoped>\n",
       "    .dataframe tbody tr th:only-of-type {\n",
       "        vertical-align: middle;\n",
       "    }\n",
       "\n",
       "    .dataframe tbody tr th {\n",
       "        vertical-align: top;\n",
       "    }\n",
       "\n",
       "    .dataframe thead th {\n",
       "        text-align: right;\n",
       "    }\n",
       "</style>\n",
       "<table border=\"1\" class=\"dataframe\">\n",
       "  <thead>\n",
       "    <tr style=\"text-align: right;\">\n",
       "      <th></th>\n",
       "      <th>Directory</th>\n",
       "      <th>Subdirectory</th>\n",
       "      <th>images</th>\n",
       "      <th>subdir_id</th>\n",
       "      <th>metadata_class</th>\n",
       "      <th>Comment</th>\n",
       "    </tr>\n",
       "  </thead>\n",
       "  <tbody>\n",
       "    <tr>\n",
       "      <th>0</th>\n",
       "      <td>R014207709</td>\n",
       "      <td>145</td>\n",
       "      <td>53</td>\n",
       "      <td>R014207709_145</td>\n",
       "      <td>NaN</td>\n",
       "      <td>NaN</td>\n",
       "    </tr>\n",
       "    <tr>\n",
       "      <th>1</th>\n",
       "      <td>R014207709</td>\n",
       "      <td>146</td>\n",
       "      <td>63</td>\n",
       "      <td>R014207709_146</td>\n",
       "      <td>NaN</td>\n",
       "      <td>NaN</td>\n",
       "    </tr>\n",
       "    <tr>\n",
       "      <th>2</th>\n",
       "      <td>R014207709</td>\n",
       "      <td>147</td>\n",
       "      <td>50</td>\n",
       "      <td>R014207709_147</td>\n",
       "      <td>NaN</td>\n",
       "      <td>NaN</td>\n",
       "    </tr>\n",
       "    <tr>\n",
       "      <th>3</th>\n",
       "      <td>R014207709</td>\n",
       "      <td>148</td>\n",
       "      <td>16</td>\n",
       "      <td>R014207709_148</td>\n",
       "      <td>NaN</td>\n",
       "      <td>NaN</td>\n",
       "    </tr>\n",
       "    <tr>\n",
       "      <th>4</th>\n",
       "      <td>R014207709</td>\n",
       "      <td>149</td>\n",
       "      <td>28</td>\n",
       "      <td>R014207709_149</td>\n",
       "      <td>NaN</td>\n",
       "      <td>NaN</td>\n",
       "    </tr>\n",
       "  </tbody>\n",
       "</table>\n",
       "</div>"
      ],
      "text/plain": [
       "    Directory Subdirectory  images       subdir_id metadata_class Comment\n",
       "0  R014207709          145      53  R014207709_145            NaN     NaN\n",
       "1  R014207709          146      63  R014207709_146            NaN     NaN\n",
       "2  R014207709          147      50  R014207709_147            NaN     NaN\n",
       "3  R014207709          148      16  R014207709_148            NaN     NaN\n",
       "4  R014207709          149      28  R014207709_149            NaN     NaN"
      ]
     },
     "execution_count": 91,
     "metadata": {},
     "output_type": "execute_result"
    }
   ],
   "source": [
    "img_inv = pd.read_csv('L:/DATA/Alouette_I/Total/06_log/image_inventory.csv')\n",
    "img_inv.head(5)"
   ]
  },
  {
   "cell_type": "code",
   "execution_count": 92,
   "id": "8847a18b",
   "metadata": {},
   "outputs": [
    {
     "data": {
      "text/html": [
       "<div>\n",
       "<style scoped>\n",
       "    .dataframe tbody tr th:only-of-type {\n",
       "        vertical-align: middle;\n",
       "    }\n",
       "\n",
       "    .dataframe tbody tr th {\n",
       "        vertical-align: top;\n",
       "    }\n",
       "\n",
       "    .dataframe thead th {\n",
       "        text-align: right;\n",
       "    }\n",
       "</style>\n",
       "<table border=\"1\" class=\"dataframe\">\n",
       "  <thead>\n",
       "    <tr style=\"text-align: right;\">\n",
       "      <th></th>\n",
       "      <th>Directory</th>\n",
       "      <th>Subdirectory</th>\n",
       "      <th>images</th>\n",
       "      <th>subdir_id</th>\n",
       "      <th>metadata_class</th>\n",
       "      <th>Comment</th>\n",
       "    </tr>\n",
       "  </thead>\n",
       "  <tbody>\n",
       "    <tr>\n",
       "      <th>0</th>\n",
       "      <td>R014207709</td>\n",
       "      <td>145</td>\n",
       "      <td>53</td>\n",
       "      <td>R014207709_145</td>\n",
       "      <td>NaN</td>\n",
       "      <td>NaN</td>\n",
       "    </tr>\n",
       "    <tr>\n",
       "      <th>1</th>\n",
       "      <td>R014207709</td>\n",
       "      <td>146</td>\n",
       "      <td>63</td>\n",
       "      <td>R014207709_146</td>\n",
       "      <td>NaN</td>\n",
       "      <td>NaN</td>\n",
       "    </tr>\n",
       "    <tr>\n",
       "      <th>2</th>\n",
       "      <td>R014207709</td>\n",
       "      <td>147</td>\n",
       "      <td>50</td>\n",
       "      <td>R014207709_147</td>\n",
       "      <td>NaN</td>\n",
       "      <td>NaN</td>\n",
       "    </tr>\n",
       "    <tr>\n",
       "      <th>3</th>\n",
       "      <td>R014207709</td>\n",
       "      <td>148</td>\n",
       "      <td>16</td>\n",
       "      <td>R014207709_148</td>\n",
       "      <td>NaN</td>\n",
       "      <td>NaN</td>\n",
       "    </tr>\n",
       "    <tr>\n",
       "      <th>4</th>\n",
       "      <td>R014207709</td>\n",
       "      <td>149</td>\n",
       "      <td>28</td>\n",
       "      <td>R014207709_149</td>\n",
       "      <td>NaN</td>\n",
       "      <td>NaN</td>\n",
       "    </tr>\n",
       "  </tbody>\n",
       "</table>\n",
       "</div>"
      ],
      "text/plain": [
       "    Directory Subdirectory  images       subdir_id metadata_class Comment\n",
       "0  R014207709          145      53  R014207709_145            NaN     NaN\n",
       "1  R014207709          146      63  R014207709_146            NaN     NaN\n",
       "2  R014207709          147      50  R014207709_147            NaN     NaN\n",
       "3  R014207709          148      16  R014207709_148            NaN     NaN\n",
       "4  R014207709          149      28  R014207709_149            NaN     NaN"
      ]
     },
     "execution_count": 92,
     "metadata": {},
     "output_type": "execute_result"
    }
   ],
   "source": [
    "batch_II_error = img_inv.loc[(img_inv['Directory'].isin(error['Directory'].to_list())) & \n",
    "                             (img_inv['Subdirectory'].isin(error['Subdirectory'].to_list()))]\n",
    "batch_II_error.head(5)"
   ]
  },
  {
   "cell_type": "code",
   "execution_count": 93,
   "id": "70b8992f",
   "metadata": {},
   "outputs": [
    {
     "data": {
      "text/html": [
       "<div>\n",
       "<style scoped>\n",
       "    .dataframe tbody tr th:only-of-type {\n",
       "        vertical-align: middle;\n",
       "    }\n",
       "\n",
       "    .dataframe tbody tr th {\n",
       "        vertical-align: top;\n",
       "    }\n",
       "\n",
       "    .dataframe thead th {\n",
       "        text-align: right;\n",
       "    }\n",
       "</style>\n",
       "<table border=\"1\" class=\"dataframe\">\n",
       "  <thead>\n",
       "    <tr style=\"text-align: right;\">\n",
       "      <th></th>\n",
       "      <th>Directory</th>\n",
       "      <th>Subdirectory</th>\n",
       "      <th>aspect</th>\n",
       "      <th>digit_count</th>\n",
       "      <th>Possible_problem</th>\n",
       "      <th>processed_image_class</th>\n",
       "    </tr>\n",
       "  </thead>\n",
       "  <tbody>\n",
       "    <tr>\n",
       "      <th>370</th>\n",
       "      <td>R014207811</td>\n",
       "      <td>5076</td>\n",
       "      <td>3.277691</td>\n",
       "      <td>5.512255</td>\n",
       "      <td>Cropped too soon, low quality, Out of phase,</td>\n",
       "      <td>loss</td>\n",
       "    </tr>\n",
       "    <tr>\n",
       "      <th>306</th>\n",
       "      <td>R014207808</td>\n",
       "      <td>4609-72</td>\n",
       "      <td>2.709044</td>\n",
       "      <td>11.792332</td>\n",
       "      <td>Cropped too soon, low quality,</td>\n",
       "      <td>loss</td>\n",
       "    </tr>\n",
       "    <tr>\n",
       "      <th>141</th>\n",
       "      <td>R014207766</td>\n",
       "      <td>DEC-17-TO-DEC-31-1964</td>\n",
       "      <td>3.233381</td>\n",
       "      <td>0.428571</td>\n",
       "      <td>No metadata, ISIS metadata, num type metadata,...</td>\n",
       "      <td>NaN</td>\n",
       "    </tr>\n",
       "    <tr>\n",
       "      <th>58</th>\n",
       "      <td>R014207711</td>\n",
       "      <td>42</td>\n",
       "      <td>4.054035</td>\n",
       "      <td>18.880000</td>\n",
       "      <td>Out of phase, Too much noise, Out of phase,</td>\n",
       "      <td>NaN</td>\n",
       "    </tr>\n",
       "    <tr>\n",
       "      <th>1014</th>\n",
       "      <td>R014207961</td>\n",
       "      <td>1028-A</td>\n",
       "      <td>2.620575</td>\n",
       "      <td>0.010811</td>\n",
       "      <td>No metadata, ISIS metadata, num type metadata,...</td>\n",
       "      <td>dot</td>\n",
       "    </tr>\n",
       "    <tr>\n",
       "      <th>396</th>\n",
       "      <td>R014207811</td>\n",
       "      <td>5103</td>\n",
       "      <td>3.317976</td>\n",
       "      <td>7.554156</td>\n",
       "      <td>Cropped too soon, low quality, Out of phase,</td>\n",
       "      <td>loss</td>\n",
       "    </tr>\n",
       "    <tr>\n",
       "      <th>147</th>\n",
       "      <td>R014207766</td>\n",
       "      <td>FEB-28-TO-MAR-7-1965</td>\n",
       "      <td>3.657767</td>\n",
       "      <td>0.696751</td>\n",
       "      <td>No metadata, ISIS metadata, num type metadata,...</td>\n",
       "      <td>NaN</td>\n",
       "    </tr>\n",
       "    <tr>\n",
       "      <th>719</th>\n",
       "      <td>R014207941</td>\n",
       "      <td>1750-1</td>\n",
       "      <td>2.801009</td>\n",
       "      <td>0.033898</td>\n",
       "      <td>No metadata, ISIS metadata, num type metadata,...</td>\n",
       "      <td>num</td>\n",
       "    </tr>\n",
       "    <tr>\n",
       "      <th>131</th>\n",
       "      <td>R014207763</td>\n",
       "      <td>SEPT-27-TO-OCT-16-1966</td>\n",
       "      <td>2.902074</td>\n",
       "      <td>0.015152</td>\n",
       "      <td>No metadata, ISIS metadata, num type metadata,...</td>\n",
       "      <td>NaN</td>\n",
       "    </tr>\n",
       "    <tr>\n",
       "      <th>227</th>\n",
       "      <td>R014207769</td>\n",
       "      <td>MAR-2-TO-MAR-6-1965</td>\n",
       "      <td>5.210900</td>\n",
       "      <td>0.434599</td>\n",
       "      <td>No metadata, ISIS metadata, num type metadata,...</td>\n",
       "      <td>NaN</td>\n",
       "    </tr>\n",
       "  </tbody>\n",
       "</table>\n",
       "</div>"
      ],
      "text/plain": [
       "       Directory            Subdirectory    aspect  digit_count  \\\n",
       "370   R014207811                    5076  3.277691     5.512255   \n",
       "306   R014207808                 4609-72  2.709044    11.792332   \n",
       "141   R014207766   DEC-17-TO-DEC-31-1964  3.233381     0.428571   \n",
       "58    R014207711                      42  4.054035    18.880000   \n",
       "1014  R014207961                  1028-A  2.620575     0.010811   \n",
       "396   R014207811                    5103  3.317976     7.554156   \n",
       "147   R014207766    FEB-28-TO-MAR-7-1965  3.657767     0.696751   \n",
       "719   R014207941                  1750-1  2.801009     0.033898   \n",
       "131   R014207763  SEPT-27-TO-OCT-16-1966  2.902074     0.015152   \n",
       "227   R014207769     MAR-2-TO-MAR-6-1965  5.210900     0.434599   \n",
       "\n",
       "                                       Possible_problem processed_image_class  \n",
       "370       Cropped too soon, low quality, Out of phase,                   loss  \n",
       "306                     Cropped too soon, low quality,                   loss  \n",
       "141   No metadata, ISIS metadata, num type metadata,...                   NaN  \n",
       "58         Out of phase, Too much noise, Out of phase,                    NaN  \n",
       "1014  No metadata, ISIS metadata, num type metadata,...                   dot  \n",
       "396       Cropped too soon, low quality, Out of phase,                   loss  \n",
       "147   No metadata, ISIS metadata, num type metadata,...                   NaN  \n",
       "719   No metadata, ISIS metadata, num type metadata,...                   num  \n",
       "131   No metadata, ISIS metadata, num type metadata,...                   NaN  \n",
       "227   No metadata, ISIS metadata, num type metadata,...                   NaN  "
      ]
     },
     "execution_count": 93,
     "metadata": {},
     "output_type": "execute_result"
    }
   ],
   "source": [
    "error['processed_image_class'] = ''\n",
    "for i in range(len(img_inv)):\n",
    "    directory = str(img_inv['Directory'][i])\n",
    "    subdirectory = str(img_inv['Subdirectory'][i])\n",
    "    error['processed_image_class'].loc[(error['Directory']==directory) & (error['Subdirectory']==subdirectory)] = img_inv['metadata_class'][i]\n",
    "error.sample(10)   "
   ]
  },
  {
   "cell_type": "code",
   "execution_count": 96,
   "id": "e2bb9ca2",
   "metadata": {},
   "outputs": [],
   "source": [
    "error.to_csv('C:/Users/mfortier/Documents/error_analysis_BATCH_II.csv', index=False)"
   ]
  },
  {
   "cell_type": "markdown",
   "id": "b8d32216",
   "metadata": {},
   "source": [
    "1226 is a lot of subdirectories. However, with the accuracy of our processor, it's difficult to filter out more subdirectories with the certainty there will be no error. Still, to identify the errors correctly and to be as efficient as possible, here's the order I suggest :\n",
    "\n",
    "1. Open the csv in Excel\n",
    "\n",
    "2. Apply a filter to check the ISIS metadata, num type metadata and low quality ionograms. We can quickly classify those and there's a good chance a bunch of subdirectories from the same directory have the same problem.\n",
    "\n",
    "3. Look for the irregurlarly cropped subdirectories. Those are the easiest to spot.\n",
    "\n",
    "4. Finish with the out of phase subdirectories. With the metrics we have, those are the ones that look the most normal first hand. It's the longest step, but at least you should have filter out the others problems above.\n",
    "\n",
    "For each step, you will need to look the directories and subdirectories manually on the L:/ drive. You can also use the processed_image_class column to see which subdirectories are num and num2 type. If the subdirectory is loss or outlier, there's a chance the quality of the subdirectory is too low or there's too much noise to even process the ionograms. You sould still consider those cases. For example, with the irregurlarly cropped ionograms, the processor put the subdictories to loss or outlier, but it is a scanning issue which could be resolved."
   ]
  }
 ],
 "metadata": {
  "kernelspec": {
   "display_name": "Python 3",
   "language": "python",
   "name": "python3"
  },
  "language_info": {
   "codemirror_mode": {
    "name": "ipython",
    "version": 3
   },
   "file_extension": ".py",
   "mimetype": "text/x-python",
   "name": "python",
   "nbconvert_exporter": "python",
   "pygments_lexer": "ipython3",
   "version": "3.8.8"
  }
 },
 "nbformat": 4,
 "nbformat_minor": 5
}
