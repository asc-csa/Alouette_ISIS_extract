{
 "cells": [
  {
   "cell_type": "markdown",
   "id": "ddd8e19d",
   "metadata": {},
   "source": [
    "# OCR Read 'num2' Metadata\n",
    "\n",
    "#### Updated: May 12, 2023"
   ]
  },
  {
   "cell_type": "markdown",
   "id": "058a15dd",
   "metadata": {},
   "source": [
    "#  "
   ]
  },
  {
   "cell_type": "markdown",
   "id": "6c659ca6",
   "metadata": {},
   "source": [
    "Test post-processing a subdirectory, to first detect if the image is of 'num2' metadata type, and then to read and record that metadata. "
   ]
  },
  {
   "cell_type": "code",
   "execution_count": 92,
   "id": "80454f51",
   "metadata": {},
   "outputs": [],
   "source": [
    "import pandas as pd\n",
    "import numpy as np\n",
    "import os\n",
    "from random import randrange\n",
    "import time\n",
    "import keras_ocr"
   ]
  },
  {
   "cell_type": "code",
   "execution_count": 93,
   "id": "fc0e2dba",
   "metadata": {},
   "outputs": [],
   "source": [
    "rootDir = 'L:/DATA/Alouette_I/BATCH_II_Run1/'\n",
    "processedDir = rootDir + '04_processed/'\n",
    "resultDir = rootDir + '05_result/'"
   ]
  },
  {
   "cell_type": "code",
   "execution_count": 94,
   "id": "7aa02eae",
   "metadata": {},
   "outputs": [
    {
     "name": "stdout",
     "output_type": "stream",
     "text": [
      "Looking for C:\\Users\\rnaidoo\\.keras-ocr\\craft_mlt_25k.h5\n",
      "Looking for C:\\Users\\rnaidoo\\.keras-ocr\\crnn_kurapan.h5\n"
     ]
    }
   ],
   "source": [
    "pipeline = keras_ocr.pipeline.Pipeline()"
   ]
  },
  {
   "cell_type": "markdown",
   "id": "1298064e",
   "metadata": {},
   "source": [
    "#  "
   ]
  },
  {
   "cell_type": "markdown",
   "id": "7c4cb58e",
   "metadata": {},
   "source": [
    "#### Functions:"
   ]
  },
  {
   "cell_type": "code",
   "execution_count": 95,
   "id": "764139b8",
   "metadata": {},
   "outputs": [],
   "source": [
    "def read_num2_metadata(prediction_groups, subdir_path, batch_i, img_fns):\n",
    "    \n",
    "    df_read = pd.DataFrame()\n",
    "    df_notread = pd.DataFrame()\n",
    "    for i in range(0, len(prediction_groups)):\n",
    "        df_ocr = pd.DataFrame()\n",
    "        predicted_image = prediction_groups[i]\n",
    "        if len(predicted_image) > 0:\n",
    "            for text, box in predicted_image:\n",
    "                row = pd.DataFrame({\n",
    "                    'number': text,\n",
    "                    'x': box[1][0],\n",
    "                    'y': box[1][1]\n",
    "                }, index=[0])\n",
    "                df_ocr = pd.concat([df_ocr, row])\n",
    "            df_ocr = df_ocr.sort_values('x').reset_index(drop=True)\n",
    "        \n",
    "            #String concatenate, fix string\n",
    "            read_str = ''\n",
    "            for j in range(0, len(df_ocr)):\n",
    "                read_str_ = df_ocr['number'].iloc[j]\n",
    "                read_str += read_str_\n",
    "            read_str = read_str.replace('o', '0')\n",
    "\n",
    "            #Test for num2\n",
    "            if len(read_str) == 15:\n",
    "                if read_str[0:2] == '10':\n",
    "                    row2 = pd.DataFrame({\n",
    "                        'station_number_OCR': read_str[2:4],\n",
    "                        'year_OCR': read_str[4:6],\n",
    "                        'day_of_year_OCR': read_str[6:9],\n",
    "                        'hour_OCR': read_str[9:11],\n",
    "                        'minute_OCR': read_str[11:13],\n",
    "                        'second_OCR': read_str[13:15],\n",
    "                        'filename': img_fns[batch_i + i].replace(subdir_path, '')\n",
    "                    }, index=[i])\n",
    "                    df_read = pd.concat([df_read, row2])\n",
    "                else:\n",
    "                    df_ocr['filename'] = img_fns[batch_i + i].replace(subdir_path, '')\n",
    "                    df_notread = pd.concat([df_notread, df_ocr])\n",
    "            else:\n",
    "                df_ocr['filename'] = img_fns[batch_i + i].replace(subdir_path, '')\n",
    "                df_notread = pd.concat([df_notread, df_ocr])\n",
    "    \n",
    "    return df_read, df_notread"
   ]
  },
  {
   "cell_type": "markdown",
   "id": "bbcd391e",
   "metadata": {},
   "source": [
    "# "
   ]
  },
  {
   "cell_type": "markdown",
   "id": "ced2001a",
   "metadata": {},
   "source": [
    "#### Process subdirectory:"
   ]
  },
  {
   "cell_type": "code",
   "execution_count": 76,
   "id": "96fcc2c2",
   "metadata": {
    "scrolled": true
   },
   "outputs": [
    {
     "name": "stdout",
     "output_type": "stream",
     "text": [
      "R014207945/2266-13B/\n"
     ]
    }
   ],
   "source": [
    "#Draw random subdirectory\n",
    "directory_list = os.listdir(processedDir)\n",
    "directory = directory_list[randrange(len(directory_list))]\n",
    "subdirectory_list = os.listdir(processedDir + directory + '/')\n",
    "subdirectory = subdirectory_list[randrange(len(subdirectory_list))]\n",
    "print(directory + '/' + subdirectory + '/')"
   ]
  },
  {
   "cell_type": "code",
   "execution_count": 122,
   "id": "6f66f767",
   "metadata": {},
   "outputs": [],
   "source": [
    "#Manual subdirectory:\n",
    "directory = 'R014207833'\n",
    "subdirectory = '4330-12'\n",
    "\n",
    "#Manual subdirectory (num):\n",
    "#directory = 'R014207941'\n",
    "#subdirectory = '1765-5'"
   ]
  },
  {
   "cell_type": "code",
   "execution_count": 123,
   "id": "21a2836a",
   "metadata": {},
   "outputs": [],
   "source": [
    "testDir = processedDir + directory + '/' + subdirectory + '/'"
   ]
  },
  {
   "cell_type": "code",
   "execution_count": 124,
   "id": "94bec88c",
   "metadata": {},
   "outputs": [],
   "source": [
    "batch_size = 8 # > 9 seems to lead to a 'dead kernel'"
   ]
  },
  {
   "cell_type": "code",
   "execution_count": 125,
   "id": "724b0f17",
   "metadata": {},
   "outputs": [
    {
     "data": {
      "text/plain": [
       "278"
      ]
     },
     "execution_count": 125,
     "metadata": {},
     "output_type": "execute_result"
    }
   ],
   "source": [
    "img_fns = []\n",
    "for file in os.listdir(testDir):\n",
    "    img_fns.append(testDir + file)\n",
    "len(img_fns)"
   ]
  },
  {
   "cell_type": "code",
   "execution_count": 126,
   "id": "640fd57f",
   "metadata": {},
   "outputs": [
    {
     "data": {
      "text/plain": [
       "34"
      ]
     },
     "execution_count": 126,
     "metadata": {},
     "output_type": "execute_result"
    }
   ],
   "source": [
    "n_batches = int(np.floor(len(img_fns)/batch_size))\n",
    "n_batches"
   ]
  },
  {
   "cell_type": "code",
   "execution_count": 127,
   "id": "ad885716",
   "metadata": {},
   "outputs": [
    {
     "data": {
      "text/plain": [
       "6"
      ]
     },
     "execution_count": 127,
     "metadata": {},
     "output_type": "execute_result"
    }
   ],
   "source": [
    "batch_remainder = len(img_fns)%batch_size\n",
    "batch_remainder"
   ]
  },
  {
   "cell_type": "code",
   "execution_count": null,
   "id": "959f4249",
   "metadata": {
    "scrolled": false
   },
   "outputs": [
    {
     "name": "stdout",
     "output_type": "stream",
     "text": [
      "Starting batch... 0\n",
      "1/1 [==============================] - 33s 33s/step\n",
      "2/2 [==============================] - 1s 302ms/step\n",
      "Starting batch... 1\n",
      "1/1 [==============================] - 22s 22s/step\n",
      "2/2 [==============================] - 1s 370ms/step\n",
      "Starting batch... 2\n",
      "1/1 [==============================] - 21s 21s/step\n",
      "2/2 [==============================] - 1s 378ms/step\n",
      "Starting batch... 3\n",
      "1/1 [==============================] - 28s 28s/step\n",
      "2/2 [==============================] - 1s 322ms/step\n",
      "Starting batch... 4\n",
      "1/1 [==============================] - 40s 40s/step\n",
      "2/2 [==============================] - 1s 612ms/step\n",
      "Starting batch... 5\n"
     ]
    }
   ],
   "source": [
    "start = time.time()\n",
    "\n",
    "df_read = pd.DataFrame()\n",
    "df_notread = pd.DataFrame()\n",
    "for i in range(0, n_batches):\n",
    "    print('Starting batch... ' + str(i))\n",
    "    batch_i = i*batch_size\n",
    "    batch_f = batch_i + batch_size\n",
    "    prediction_groups = pipeline.recognize(img_fns[batch_i:batch_f])\n",
    "    df_read_, df_notread_ = read_num2_metadata(prediction_groups=prediction_groups, subdir_path=testDir, batch_i=batch_i, \n",
    "                                               img_fns=img_fns)\n",
    "    df_read = pd.concat([df_read, df_read_])\n",
    "    df_notread = pd.concat([df_notread, df_notread_])\n",
    "    \n",
    "#Remainder\n",
    "print('Finishing up...')\n",
    "if batch_remainder > 0:\n",
    "    batch_i = n_batches*batch_size\n",
    "    batch_f = batch_i + batch_remainder\n",
    "    prediction_groups = pipeline.recognize(img_fns[batch_i:batch_f])\n",
    "    df_read_, df_notread_ = read_num2_metadata(prediction_groups=prediction_groups, subdir_path=testDir, batch_i=batch_i, \n",
    "                                              img_fns=img_fns)\n",
    "    df_read = pd.concat([df_read, df_read_])\n",
    "    df_notread = pd.concat([df_notread, df_notread_])\n",
    "     \n",
    "end = time.time()\n",
    "t = end - start\n",
    "print('Time to OCR read all images in subdirectory: ' + str(round(t/60, 1)) + ' min')"
   ]
  },
  {
   "cell_type": "code",
   "execution_count": null,
   "id": "5abb6cf5",
   "metadata": {},
   "outputs": [],
   "source": [
    "print(len(df_read))\n",
    "df_read.head(30)"
   ]
  },
  {
   "cell_type": "code",
   "execution_count": null,
   "id": "88d93405",
   "metadata": {},
   "outputs": [],
   "source": [
    "print(len(df_notread))\n",
    "df_notread.head(30)"
   ]
  },
  {
   "cell_type": "markdown",
   "id": "f4db64fb",
   "metadata": {},
   "source": [
    "#  "
   ]
  },
  {
   "cell_type": "markdown",
   "id": "d2dea7dc",
   "metadata": {},
   "source": [
    "#### Integrate OCR read metadata into existing results data for subdirectory:"
   ]
  },
  {
   "cell_type": "code",
   "execution_count": 105,
   "id": "891e8e5a",
   "metadata": {},
   "outputs": [
    {
     "name": "stdout",
     "output_type": "stream",
     "text": [
      "201\n"
     ]
    },
    {
     "data": {
      "text/html": [
       "<div>\n",
       "<style scoped>\n",
       "    .dataframe tbody tr th:only-of-type {\n",
       "        vertical-align: middle;\n",
       "    }\n",
       "\n",
       "    .dataframe tbody tr th {\n",
       "        vertical-align: top;\n",
       "    }\n",
       "\n",
       "    .dataframe thead th {\n",
       "        text-align: right;\n",
       "    }\n",
       "</style>\n",
       "<table border=\"1\" class=\"dataframe\">\n",
       "  <thead>\n",
       "    <tr style=\"text-align: right;\">\n",
       "      <th></th>\n",
       "      <th>fmin</th>\n",
       "      <th>max_depth</th>\n",
       "      <th>satellite_number</th>\n",
       "      <th>year</th>\n",
       "      <th>day_1</th>\n",
       "      <th>day_2</th>\n",
       "      <th>day_3</th>\n",
       "      <th>hour_1</th>\n",
       "      <th>hour_2</th>\n",
       "      <th>minute_1</th>\n",
       "      <th>...</th>\n",
       "      <th>second_1</th>\n",
       "      <th>second_2</th>\n",
       "      <th>station_number_1</th>\n",
       "      <th>station_number_2</th>\n",
       "      <th>processed_image_class</th>\n",
       "      <th>func_name</th>\n",
       "      <th>details</th>\n",
       "      <th>Directory</th>\n",
       "      <th>Subdirectory</th>\n",
       "      <th>filename</th>\n",
       "    </tr>\n",
       "  </thead>\n",
       "  <tbody>\n",
       "    <tr>\n",
       "      <th>0</th>\n",
       "      <td>1.5</td>\n",
       "      <td>1743.750</td>\n",
       "      <td>2.0</td>\n",
       "      <td>2.0</td>\n",
       "      <td>2.0</td>\n",
       "      <td>2.0</td>\n",
       "      <td>0.0</td>\n",
       "      <td>4.0</td>\n",
       "      <td>3.0</td>\n",
       "      <td>2.0</td>\n",
       "      <td>...</td>\n",
       "      <td>2.0</td>\n",
       "      <td>2.0</td>\n",
       "      <td>2.0</td>\n",
       "      <td>2.0</td>\n",
       "      <td>num</td>\n",
       "      <td>NaN</td>\n",
       "      <td>NaN</td>\n",
       "      <td>R014207833</td>\n",
       "      <td>4361-50A</td>\n",
       "      <td>1.png</td>\n",
       "    </tr>\n",
       "    <tr>\n",
       "      <th>1</th>\n",
       "      <td>1.5</td>\n",
       "      <td>1528.125</td>\n",
       "      <td>2.0</td>\n",
       "      <td>2.0</td>\n",
       "      <td>2.0</td>\n",
       "      <td>2.0</td>\n",
       "      <td>0.0</td>\n",
       "      <td>4.0</td>\n",
       "      <td>2.0</td>\n",
       "      <td>0.0</td>\n",
       "      <td>...</td>\n",
       "      <td>3.0</td>\n",
       "      <td>2.0</td>\n",
       "      <td>2.0</td>\n",
       "      <td>2.0</td>\n",
       "      <td>num</td>\n",
       "      <td>NaN</td>\n",
       "      <td>NaN</td>\n",
       "      <td>R014207833</td>\n",
       "      <td>4361-50A</td>\n",
       "      <td>10.png</td>\n",
       "    </tr>\n",
       "    <tr>\n",
       "      <th>2</th>\n",
       "      <td>1.5</td>\n",
       "      <td>1196.875</td>\n",
       "      <td>2.0</td>\n",
       "      <td>2.0</td>\n",
       "      <td>2.0</td>\n",
       "      <td>2.0</td>\n",
       "      <td>0.0</td>\n",
       "      <td>4.0</td>\n",
       "      <td>1.0</td>\n",
       "      <td>2.0</td>\n",
       "      <td>...</td>\n",
       "      <td>0.0</td>\n",
       "      <td>2.0</td>\n",
       "      <td>4.0</td>\n",
       "      <td>2.0</td>\n",
       "      <td>num</td>\n",
       "      <td>NaN</td>\n",
       "      <td>NaN</td>\n",
       "      <td>R014207833</td>\n",
       "      <td>4361-50A</td>\n",
       "      <td>100.png</td>\n",
       "    </tr>\n",
       "    <tr>\n",
       "      <th>3</th>\n",
       "      <td>1.5</td>\n",
       "      <td>1196.875</td>\n",
       "      <td>2.0</td>\n",
       "      <td>2.0</td>\n",
       "      <td>2.0</td>\n",
       "      <td>2.0</td>\n",
       "      <td>0.0</td>\n",
       "      <td>4.0</td>\n",
       "      <td>2.0</td>\n",
       "      <td>0.0</td>\n",
       "      <td>...</td>\n",
       "      <td>3.0</td>\n",
       "      <td>2.0</td>\n",
       "      <td>2.0</td>\n",
       "      <td>2.0</td>\n",
       "      <td>num</td>\n",
       "      <td>NaN</td>\n",
       "      <td>NaN</td>\n",
       "      <td>R014207833</td>\n",
       "      <td>4361-50A</td>\n",
       "      <td>101.png</td>\n",
       "    </tr>\n",
       "    <tr>\n",
       "      <th>4</th>\n",
       "      <td>1.5</td>\n",
       "      <td>800.000</td>\n",
       "      <td>2.0</td>\n",
       "      <td>2.0</td>\n",
       "      <td>2.0</td>\n",
       "      <td>3.0</td>\n",
       "      <td>0.0</td>\n",
       "      <td>4.0</td>\n",
       "      <td>2.0</td>\n",
       "      <td>0.0</td>\n",
       "      <td>...</td>\n",
       "      <td>2.0</td>\n",
       "      <td>2.0</td>\n",
       "      <td>2.0</td>\n",
       "      <td>2.0</td>\n",
       "      <td>num</td>\n",
       "      <td>NaN</td>\n",
       "      <td>NaN</td>\n",
       "      <td>R014207833</td>\n",
       "      <td>4361-50A</td>\n",
       "      <td>102.png</td>\n",
       "    </tr>\n",
       "  </tbody>\n",
       "</table>\n",
       "<p>5 rows × 21 columns</p>\n",
       "</div>"
      ],
      "text/plain": [
       "   fmin  max_depth  satellite_number  year  day_1  day_2  day_3  hour_1  \\\n",
       "0   1.5   1743.750               2.0   2.0    2.0    2.0    0.0     4.0   \n",
       "1   1.5   1528.125               2.0   2.0    2.0    2.0    0.0     4.0   \n",
       "2   1.5   1196.875               2.0   2.0    2.0    2.0    0.0     4.0   \n",
       "3   1.5   1196.875               2.0   2.0    2.0    2.0    0.0     4.0   \n",
       "4   1.5    800.000               2.0   2.0    2.0    3.0    0.0     4.0   \n",
       "\n",
       "   hour_2  minute_1  ...  second_1  second_2  station_number_1  \\\n",
       "0     3.0       2.0  ...       2.0       2.0               2.0   \n",
       "1     2.0       0.0  ...       3.0       2.0               2.0   \n",
       "2     1.0       2.0  ...       0.0       2.0               4.0   \n",
       "3     2.0       0.0  ...       3.0       2.0               2.0   \n",
       "4     2.0       0.0  ...       2.0       2.0               2.0   \n",
       "\n",
       "   station_number_2  processed_image_class func_name details   Directory  \\\n",
       "0               2.0                    num       NaN     NaN  R014207833   \n",
       "1               2.0                    num       NaN     NaN  R014207833   \n",
       "2               2.0                    num       NaN     NaN  R014207833   \n",
       "3               2.0                    num       NaN     NaN  R014207833   \n",
       "4               2.0                    num       NaN     NaN  R014207833   \n",
       "\n",
       "  Subdirectory filename  \n",
       "0     4361-50A    1.png  \n",
       "1     4361-50A   10.png  \n",
       "2     4361-50A  100.png  \n",
       "3     4361-50A  101.png  \n",
       "4     4361-50A  102.png  \n",
       "\n",
       "[5 rows x 21 columns]"
      ]
     },
     "execution_count": 105,
     "metadata": {},
     "output_type": "execute_result"
    }
   ],
   "source": [
    "df_result = pd.read_csv(resultDir + directory + '/' + 'result-' + directory + '_' + subdirectory + '.csv')\n",
    "#Change 'Roll' to 'Directory':\n",
    "df_result = df_result.rename(columns={\n",
    "    'Roll': 'Directory'\n",
    "})\n",
    "print(len(df_result))\n",
    "df_result.head()"
   ]
  },
  {
   "cell_type": "code",
   "execution_count": 106,
   "id": "3f824cb2",
   "metadata": {},
   "outputs": [
    {
     "data": {
      "text/plain": [
       "Index(['fmin', 'max_depth', 'satellite_number', 'year', 'day_1', 'day_2',\n",
       "       'day_3', 'hour_1', 'hour_2', 'minute_1', 'minute_2', 'second_1',\n",
       "       'second_2', 'station_number_1', 'station_number_2',\n",
       "       'processed_image_class', 'func_name', 'details', 'Directory',\n",
       "       'Subdirectory', 'filename'],\n",
       "      dtype='object')"
      ]
     },
     "execution_count": 106,
     "metadata": {},
     "output_type": "execute_result"
    }
   ],
   "source": [
    "df_result.columns"
   ]
  },
  {
   "cell_type": "code",
   "execution_count": 107,
   "id": "f21d0067",
   "metadata": {
    "scrolled": false
   },
   "outputs": [
    {
     "name": "stdout",
     "output_type": "stream",
     "text": [
      "201\n"
     ]
    },
    {
     "name": "stderr",
     "output_type": "stream",
     "text": [
      "C:\\Users\\rnaidoo\\AppData\\Local\\Temp\\ipykernel_11912\\2187510041.py:8: SettingWithCopyWarning: \n",
      "A value is trying to be set on a copy of a slice from a DataFrame\n",
      "\n",
      "See the caveats in the documentation: https://pandas.pydata.org/pandas-docs/stable/user_guide/indexing.html#returning-a-view-versus-a-copy\n",
      "  df_merge['processed_image_class'].iloc[i] = 'num2'\n"
     ]
    },
    {
     "data": {
      "text/html": [
       "<div>\n",
       "<style scoped>\n",
       "    .dataframe tbody tr th:only-of-type {\n",
       "        vertical-align: middle;\n",
       "    }\n",
       "\n",
       "    .dataframe tbody tr th {\n",
       "        vertical-align: top;\n",
       "    }\n",
       "\n",
       "    .dataframe thead th {\n",
       "        text-align: right;\n",
       "    }\n",
       "</style>\n",
       "<table border=\"1\" class=\"dataframe\">\n",
       "  <thead>\n",
       "    <tr style=\"text-align: right;\">\n",
       "      <th></th>\n",
       "      <th>fmin</th>\n",
       "      <th>max_depth</th>\n",
       "      <th>satellite_number</th>\n",
       "      <th>year</th>\n",
       "      <th>day_1</th>\n",
       "      <th>day_2</th>\n",
       "      <th>day_3</th>\n",
       "      <th>hour_1</th>\n",
       "      <th>hour_2</th>\n",
       "      <th>minute_1</th>\n",
       "      <th>...</th>\n",
       "      <th>details</th>\n",
       "      <th>Directory</th>\n",
       "      <th>Subdirectory</th>\n",
       "      <th>filename</th>\n",
       "      <th>station_number_OCR</th>\n",
       "      <th>year_OCR</th>\n",
       "      <th>day_of_year_OCR</th>\n",
       "      <th>hour_OCR</th>\n",
       "      <th>minute_OCR</th>\n",
       "      <th>second_OCR</th>\n",
       "    </tr>\n",
       "  </thead>\n",
       "  <tbody>\n",
       "    <tr>\n",
       "      <th>147</th>\n",
       "      <td>1.907258</td>\n",
       "      <td>884.375</td>\n",
       "      <td>2.0</td>\n",
       "      <td>2.0</td>\n",
       "      <td>2.0</td>\n",
       "      <td>2.0</td>\n",
       "      <td>2.0</td>\n",
       "      <td>2.0</td>\n",
       "      <td>0.0</td>\n",
       "      <td>4.0</td>\n",
       "      <td>...</td>\n",
       "      <td>NaN</td>\n",
       "      <td>R014207833</td>\n",
       "      <td>4361-50A</td>\n",
       "      <td>49.png</td>\n",
       "      <td>50</td>\n",
       "      <td>67</td>\n",
       "      <td>358</td>\n",
       "      <td>05</td>\n",
       "      <td>16</td>\n",
       "      <td>52</td>\n",
       "    </tr>\n",
       "    <tr>\n",
       "      <th>175</th>\n",
       "      <td>1.544355</td>\n",
       "      <td>2046.875</td>\n",
       "      <td>2.0</td>\n",
       "      <td>2.0</td>\n",
       "      <td>2.0</td>\n",
       "      <td>2.0</td>\n",
       "      <td>0.0</td>\n",
       "      <td>4.0</td>\n",
       "      <td>3.0</td>\n",
       "      <td>0.0</td>\n",
       "      <td>...</td>\n",
       "      <td>NaN</td>\n",
       "      <td>R014207833</td>\n",
       "      <td>4361-50A</td>\n",
       "      <td>74.png</td>\n",
       "      <td>50</td>\n",
       "      <td>67</td>\n",
       "      <td>358</td>\n",
       "      <td>16</td>\n",
       "      <td>20</td>\n",
       "      <td>07</td>\n",
       "    </tr>\n",
       "    <tr>\n",
       "      <th>111</th>\n",
       "      <td>1.592742</td>\n",
       "      <td>1509.375</td>\n",
       "      <td>2.0</td>\n",
       "      <td>2.0</td>\n",
       "      <td>2.0</td>\n",
       "      <td>2.0</td>\n",
       "      <td>0.0</td>\n",
       "      <td>4.0</td>\n",
       "      <td>3.0</td>\n",
       "      <td>2.0</td>\n",
       "      <td>...</td>\n",
       "      <td>NaN</td>\n",
       "      <td>R014207833</td>\n",
       "      <td>4361-50A</td>\n",
       "      <td>216.png</td>\n",
       "      <td>50</td>\n",
       "      <td>67</td>\n",
       "      <td>363</td>\n",
       "      <td>15</td>\n",
       "      <td>54</td>\n",
       "      <td>27</td>\n",
       "    </tr>\n",
       "    <tr>\n",
       "      <th>61</th>\n",
       "      <td>1.705645</td>\n",
       "      <td>884.375</td>\n",
       "      <td>4.0</td>\n",
       "      <td>0.0</td>\n",
       "      <td>4.0</td>\n",
       "      <td>0.0</td>\n",
       "      <td>2.0</td>\n",
       "      <td>4.0</td>\n",
       "      <td>0.0</td>\n",
       "      <td>3.0</td>\n",
       "      <td>...</td>\n",
       "      <td>NaN</td>\n",
       "      <td>R014207833</td>\n",
       "      <td>4361-50A</td>\n",
       "      <td>170.png</td>\n",
       "      <td>50</td>\n",
       "      <td>67</td>\n",
       "      <td>363</td>\n",
       "      <td>04</td>\n",
       "      <td>50</td>\n",
       "      <td>a0</td>\n",
       "    </tr>\n",
       "    <tr>\n",
       "      <th>128</th>\n",
       "      <td>1.500000</td>\n",
       "      <td>1334.375</td>\n",
       "      <td>2.0</td>\n",
       "      <td>2.0</td>\n",
       "      <td>2.0</td>\n",
       "      <td>2.0</td>\n",
       "      <td>0.0</td>\n",
       "      <td>4.0</td>\n",
       "      <td>3.0</td>\n",
       "      <td>0.0</td>\n",
       "      <td>...</td>\n",
       "      <td>NaN</td>\n",
       "      <td>R014207833</td>\n",
       "      <td>4361-50A</td>\n",
       "      <td>31.png</td>\n",
       "      <td>NaN</td>\n",
       "      <td>NaN</td>\n",
       "      <td>NaN</td>\n",
       "      <td>NaN</td>\n",
       "      <td>NaN</td>\n",
       "      <td>NaN</td>\n",
       "    </tr>\n",
       "    <tr>\n",
       "      <th>138</th>\n",
       "      <td>1.500000</td>\n",
       "      <td>884.375</td>\n",
       "      <td>2.0</td>\n",
       "      <td>2.0</td>\n",
       "      <td>2.0</td>\n",
       "      <td>3.0</td>\n",
       "      <td>2.0</td>\n",
       "      <td>2.0</td>\n",
       "      <td>2.0</td>\n",
       "      <td>2.0</td>\n",
       "      <td>...</td>\n",
       "      <td>NaN</td>\n",
       "      <td>R014207833</td>\n",
       "      <td>4361-50A</td>\n",
       "      <td>40.png</td>\n",
       "      <td>50</td>\n",
       "      <td>67</td>\n",
       "      <td>358</td>\n",
       "      <td>05</td>\n",
       "      <td>14</td>\n",
       "      <td>18</td>\n",
       "    </tr>\n",
       "    <tr>\n",
       "      <th>131</th>\n",
       "      <td>2.459677</td>\n",
       "      <td>884.375</td>\n",
       "      <td>2.0</td>\n",
       "      <td>2.0</td>\n",
       "      <td>2.0</td>\n",
       "      <td>2.0</td>\n",
       "      <td>0.0</td>\n",
       "      <td>4.0</td>\n",
       "      <td>2.0</td>\n",
       "      <td>0.0</td>\n",
       "      <td>...</td>\n",
       "      <td>NaN</td>\n",
       "      <td>R014207833</td>\n",
       "      <td>4361-50A</td>\n",
       "      <td>34.png</td>\n",
       "      <td>50</td>\n",
       "      <td>67</td>\n",
       "      <td>358</td>\n",
       "      <td>05</td>\n",
       "      <td>12</td>\n",
       "      <td>36</td>\n",
       "    </tr>\n",
       "    <tr>\n",
       "      <th>116</th>\n",
       "      <td>1.500000</td>\n",
       "      <td>1509.375</td>\n",
       "      <td>2.0</td>\n",
       "      <td>2.0</td>\n",
       "      <td>2.0</td>\n",
       "      <td>2.0</td>\n",
       "      <td>0.0</td>\n",
       "      <td>4.0</td>\n",
       "      <td>2.0</td>\n",
       "      <td>2.0</td>\n",
       "      <td>...</td>\n",
       "      <td>NaN</td>\n",
       "      <td>R014207833</td>\n",
       "      <td>4361-50A</td>\n",
       "      <td>220.png</td>\n",
       "      <td>50</td>\n",
       "      <td>67</td>\n",
       "      <td>363</td>\n",
       "      <td>15</td>\n",
       "      <td>55</td>\n",
       "      <td>36</td>\n",
       "    </tr>\n",
       "    <tr>\n",
       "      <th>76</th>\n",
       "      <td>1.604839</td>\n",
       "      <td>1431.250</td>\n",
       "      <td>2.0</td>\n",
       "      <td>2.0</td>\n",
       "      <td>2.0</td>\n",
       "      <td>3.0</td>\n",
       "      <td>2.0</td>\n",
       "      <td>2.0</td>\n",
       "      <td>2.0</td>\n",
       "      <td>2.0</td>\n",
       "      <td>...</td>\n",
       "      <td>NaN</td>\n",
       "      <td>R014207833</td>\n",
       "      <td>4361-50A</td>\n",
       "      <td>184.png</td>\n",
       "      <td>50</td>\n",
       "      <td>61</td>\n",
       "      <td>363</td>\n",
       "      <td>04</td>\n",
       "      <td>54</td>\n",
       "      <td>38</td>\n",
       "    </tr>\n",
       "    <tr>\n",
       "      <th>113</th>\n",
       "      <td>1.500000</td>\n",
       "      <td>1431.250</td>\n",
       "      <td>2.0</td>\n",
       "      <td>2.0</td>\n",
       "      <td>2.0</td>\n",
       "      <td>2.0</td>\n",
       "      <td>0.0</td>\n",
       "      <td>4.0</td>\n",
       "      <td>3.0</td>\n",
       "      <td>2.0</td>\n",
       "      <td>...</td>\n",
       "      <td>NaN</td>\n",
       "      <td>R014207833</td>\n",
       "      <td>4361-50A</td>\n",
       "      <td>218.png</td>\n",
       "      <td>50</td>\n",
       "      <td>67</td>\n",
       "      <td>363</td>\n",
       "      <td>15</td>\n",
       "      <td>55</td>\n",
       "      <td>02</td>\n",
       "    </tr>\n",
       "  </tbody>\n",
       "</table>\n",
       "<p>10 rows × 27 columns</p>\n",
       "</div>"
      ],
      "text/plain": [
       "         fmin  max_depth  satellite_number  year  day_1  day_2  day_3  hour_1  \\\n",
       "147  1.907258    884.375               2.0   2.0    2.0    2.0    2.0     2.0   \n",
       "175  1.544355   2046.875               2.0   2.0    2.0    2.0    0.0     4.0   \n",
       "111  1.592742   1509.375               2.0   2.0    2.0    2.0    0.0     4.0   \n",
       "61   1.705645    884.375               4.0   0.0    4.0    0.0    2.0     4.0   \n",
       "128  1.500000   1334.375               2.0   2.0    2.0    2.0    0.0     4.0   \n",
       "138  1.500000    884.375               2.0   2.0    2.0    3.0    2.0     2.0   \n",
       "131  2.459677    884.375               2.0   2.0    2.0    2.0    0.0     4.0   \n",
       "116  1.500000   1509.375               2.0   2.0    2.0    2.0    0.0     4.0   \n",
       "76   1.604839   1431.250               2.0   2.0    2.0    3.0    2.0     2.0   \n",
       "113  1.500000   1431.250               2.0   2.0    2.0    2.0    0.0     4.0   \n",
       "\n",
       "     hour_2  minute_1  ...  details   Directory  Subdirectory  filename  \\\n",
       "147     0.0       4.0  ...      NaN  R014207833      4361-50A    49.png   \n",
       "175     3.0       0.0  ...      NaN  R014207833      4361-50A    74.png   \n",
       "111     3.0       2.0  ...      NaN  R014207833      4361-50A   216.png   \n",
       "61      0.0       3.0  ...      NaN  R014207833      4361-50A   170.png   \n",
       "128     3.0       0.0  ...      NaN  R014207833      4361-50A    31.png   \n",
       "138     2.0       2.0  ...      NaN  R014207833      4361-50A    40.png   \n",
       "131     2.0       0.0  ...      NaN  R014207833      4361-50A    34.png   \n",
       "116     2.0       2.0  ...      NaN  R014207833      4361-50A   220.png   \n",
       "76      2.0       2.0  ...      NaN  R014207833      4361-50A   184.png   \n",
       "113     3.0       2.0  ...      NaN  R014207833      4361-50A   218.png   \n",
       "\n",
       "     station_number_OCR year_OCR day_of_year_OCR hour_OCR minute_OCR  \\\n",
       "147                  50       67             358       05         16   \n",
       "175                  50       67             358       16         20   \n",
       "111                  50       67             363       15         54   \n",
       "61                   50       67             363       04         50   \n",
       "128                 NaN      NaN             NaN      NaN        NaN   \n",
       "138                  50       67             358       05         14   \n",
       "131                  50       67             358       05         12   \n",
       "116                  50       67             363       15         55   \n",
       "76                   50       61             363       04         54   \n",
       "113                  50       67             363       15         55   \n",
       "\n",
       "    second_OCR  \n",
       "147         52  \n",
       "175         07  \n",
       "111         27  \n",
       "61          a0  \n",
       "128        NaN  \n",
       "138         18  \n",
       "131         36  \n",
       "116         36  \n",
       "76          38  \n",
       "113         02  \n",
       "\n",
       "[10 rows x 27 columns]"
      ]
     },
     "execution_count": 107,
     "metadata": {},
     "output_type": "execute_result"
    }
   ],
   "source": [
    "if len(df_result) > 0:\n",
    "    if len(df_read) > 0:\n",
    "        df_merge = df_result.merge(df_read, how='left', on='filename')\n",
    "        for i in range(0, len(df_merge)):\n",
    "            if df_merge['processed_image_class'].iloc[i] != 'loss':\n",
    "                if df_merge['processed_image_class'].iloc[i] != 'outlier':\n",
    "                    if pd.isna(df_merge['day_of_year_OCR'].iloc[i]) == False:\n",
    "                        df_merge['processed_image_class'].iloc[i] = 'num2'\n",
    "        #df_merge.loc[~pd.isna(df_merge['day_of_year_OCR']), 'processed_image_class'] = 'num2'\n",
    "        #df_merge.loc[df_merge['day_of_year_OCR'] > 0, 'processed_image_class'] = 'num2'\n",
    "    else:\n",
    "        df_merge = df_result\n",
    "else:\n",
    "    df_merge = df_result\n",
    "    \n",
    "print(len(df_merge))\n",
    "df_merge.sample(10)"
   ]
  },
  {
   "cell_type": "code",
   "execution_count": 108,
   "id": "161b5047",
   "metadata": {},
   "outputs": [],
   "source": [
    "#df_merge[['day_of_year_OCR', 'processed_image_class']].sample(10)"
   ]
  },
  {
   "cell_type": "markdown",
   "id": "8fc31093",
   "metadata": {},
   "source": [
    "   "
   ]
  },
  {
   "cell_type": "markdown",
   "id": "f26c55fb",
   "metadata": {},
   "source": [
    "Classify rows with OCR letters read as 'loss' and clear metadata:"
   ]
  },
  {
   "cell_type": "code",
   "execution_count": 109,
   "id": "c805322f",
   "metadata": {},
   "outputs": [],
   "source": [
    "OCR_cols = ['station_number_OCR', 'year_OCR', 'day_of_year_OCR', 'hour_OCR', 'minute_OCR', 'second_OCR']\n",
    "md_cols = ['satellite_number', 'year', 'day_1', 'day_2', 'day_3', 'hour_1', 'hour_2', 'minute_1', 'minute_2', 'second_1', \n",
    "           'second_2', 'station_number_1', 'station_number_2']"
   ]
  },
  {
   "cell_type": "code",
   "execution_count": 110,
   "id": "69c95515",
   "metadata": {},
   "outputs": [],
   "source": [
    "if len(df_read) > 0:\n",
    "    for col in OCR_cols:\n",
    "        df_merge[col] = df_merge[col].astype('string')\n",
    "        df_merge.loc[df_merge[col].str.contains(\"[a-zA-Z]\"), 'processed_image_class'] = 'loss'\n",
    "        df_merge.loc[df_merge[col].str.contains(\"[a-zA-Z]\"), 'details'] = 'OCR read metadata contains letters'   "
   ]
  },
  {
   "cell_type": "code",
   "execution_count": 111,
   "id": "e61eaad5",
   "metadata": {},
   "outputs": [
    {
     "name": "stderr",
     "output_type": "stream",
     "text": [
      "C:\\Users\\rnaidoo\\AppData\\Local\\Temp\\ipykernel_11912\\2746242759.py:9: SettingWithCopyWarning: \n",
      "A value is trying to be set on a copy of a slice from a DataFrame\n",
      "\n",
      "See the caveats in the documentation: https://pandas.pydata.org/pandas-docs/stable/user_guide/indexing.html#returning-a-view-versus-a-copy\n",
      "  df_merge[col].iloc[i] = np.nan\n",
      "C:\\Users\\rnaidoo\\AppData\\Local\\Temp\\ipykernel_11912\\2746242759.py:6: SettingWithCopyWarning: \n",
      "A value is trying to be set on a copy of a slice from a DataFrame\n",
      "\n",
      "See the caveats in the documentation: https://pandas.pydata.org/pandas-docs/stable/user_guide/indexing.html#returning-a-view-versus-a-copy\n",
      "  df_merge[col].iloc[i] = np.nan\n"
     ]
    }
   ],
   "source": [
    "n_OCR_read = 0\n",
    "for i in range(0, len(df_merge)):\n",
    "    if df_merge['processed_image_class'].iloc[i] == 'loss':\n",
    "        if df_merge['details'].iloc[i] == 'OCR read metadata contains letters':\n",
    "            for col in md_cols:\n",
    "                df_merge[col].iloc[i] = np.nan\n",
    "    elif df_merge['processed_image_class'].iloc[i] == 'num2':\n",
    "        for col in md_cols:\n",
    "            df_merge[col].iloc[i] = np.nan\n",
    "        n_OCR_read += 1"
   ]
  },
  {
   "cell_type": "code",
   "execution_count": 112,
   "id": "1c2b4dc9",
   "metadata": {},
   "outputs": [
    {
     "data": {
      "text/html": [
       "<div>\n",
       "<style scoped>\n",
       "    .dataframe tbody tr th:only-of-type {\n",
       "        vertical-align: middle;\n",
       "    }\n",
       "\n",
       "    .dataframe tbody tr th {\n",
       "        vertical-align: top;\n",
       "    }\n",
       "\n",
       "    .dataframe thead th {\n",
       "        text-align: right;\n",
       "    }\n",
       "</style>\n",
       "<table border=\"1\" class=\"dataframe\">\n",
       "  <thead>\n",
       "    <tr style=\"text-align: right;\">\n",
       "      <th></th>\n",
       "      <th>fmin</th>\n",
       "      <th>max_depth</th>\n",
       "      <th>satellite_number</th>\n",
       "      <th>year</th>\n",
       "      <th>day_1</th>\n",
       "      <th>day_2</th>\n",
       "      <th>day_3</th>\n",
       "      <th>hour_1</th>\n",
       "      <th>hour_2</th>\n",
       "      <th>minute_1</th>\n",
       "      <th>...</th>\n",
       "      <th>details</th>\n",
       "      <th>Directory</th>\n",
       "      <th>Subdirectory</th>\n",
       "      <th>filename</th>\n",
       "      <th>station_number_OCR</th>\n",
       "      <th>year_OCR</th>\n",
       "      <th>day_of_year_OCR</th>\n",
       "      <th>hour_OCR</th>\n",
       "      <th>minute_OCR</th>\n",
       "      <th>second_OCR</th>\n",
       "    </tr>\n",
       "  </thead>\n",
       "  <tbody>\n",
       "    <tr>\n",
       "      <th>0</th>\n",
       "      <td>1.500000</td>\n",
       "      <td>1743.750</td>\n",
       "      <td>2.0</td>\n",
       "      <td>2.0</td>\n",
       "      <td>2.0</td>\n",
       "      <td>2.0</td>\n",
       "      <td>0.0</td>\n",
       "      <td>4.0</td>\n",
       "      <td>3.0</td>\n",
       "      <td>2.0</td>\n",
       "      <td>...</td>\n",
       "      <td>NaN</td>\n",
       "      <td>R014207833</td>\n",
       "      <td>4361-50A</td>\n",
       "      <td>1.png</td>\n",
       "      <td>&lt;NA&gt;</td>\n",
       "      <td>&lt;NA&gt;</td>\n",
       "      <td>&lt;NA&gt;</td>\n",
       "      <td>&lt;NA&gt;</td>\n",
       "      <td>&lt;NA&gt;</td>\n",
       "      <td>&lt;NA&gt;</td>\n",
       "    </tr>\n",
       "    <tr>\n",
       "      <th>2</th>\n",
       "      <td>1.500000</td>\n",
       "      <td>1196.875</td>\n",
       "      <td>2.0</td>\n",
       "      <td>2.0</td>\n",
       "      <td>2.0</td>\n",
       "      <td>2.0</td>\n",
       "      <td>0.0</td>\n",
       "      <td>4.0</td>\n",
       "      <td>1.0</td>\n",
       "      <td>2.0</td>\n",
       "      <td>...</td>\n",
       "      <td>NaN</td>\n",
       "      <td>R014207833</td>\n",
       "      <td>4361-50A</td>\n",
       "      <td>100.png</td>\n",
       "      <td>&lt;NA&gt;</td>\n",
       "      <td>&lt;NA&gt;</td>\n",
       "      <td>&lt;NA&gt;</td>\n",
       "      <td>&lt;NA&gt;</td>\n",
       "      <td>&lt;NA&gt;</td>\n",
       "      <td>&lt;NA&gt;</td>\n",
       "    </tr>\n",
       "    <tr>\n",
       "      <th>3</th>\n",
       "      <td>1.500000</td>\n",
       "      <td>1196.875</td>\n",
       "      <td>2.0</td>\n",
       "      <td>2.0</td>\n",
       "      <td>2.0</td>\n",
       "      <td>2.0</td>\n",
       "      <td>0.0</td>\n",
       "      <td>4.0</td>\n",
       "      <td>2.0</td>\n",
       "      <td>0.0</td>\n",
       "      <td>...</td>\n",
       "      <td>NaN</td>\n",
       "      <td>R014207833</td>\n",
       "      <td>4361-50A</td>\n",
       "      <td>101.png</td>\n",
       "      <td>&lt;NA&gt;</td>\n",
       "      <td>&lt;NA&gt;</td>\n",
       "      <td>&lt;NA&gt;</td>\n",
       "      <td>&lt;NA&gt;</td>\n",
       "      <td>&lt;NA&gt;</td>\n",
       "      <td>&lt;NA&gt;</td>\n",
       "    </tr>\n",
       "    <tr>\n",
       "      <th>4</th>\n",
       "      <td>1.500000</td>\n",
       "      <td>800.000</td>\n",
       "      <td>2.0</td>\n",
       "      <td>2.0</td>\n",
       "      <td>2.0</td>\n",
       "      <td>3.0</td>\n",
       "      <td>0.0</td>\n",
       "      <td>4.0</td>\n",
       "      <td>2.0</td>\n",
       "      <td>0.0</td>\n",
       "      <td>...</td>\n",
       "      <td>NaN</td>\n",
       "      <td>R014207833</td>\n",
       "      <td>4361-50A</td>\n",
       "      <td>102.png</td>\n",
       "      <td>&lt;NA&gt;</td>\n",
       "      <td>&lt;NA&gt;</td>\n",
       "      <td>&lt;NA&gt;</td>\n",
       "      <td>&lt;NA&gt;</td>\n",
       "      <td>&lt;NA&gt;</td>\n",
       "      <td>&lt;NA&gt;</td>\n",
       "    </tr>\n",
       "    <tr>\n",
       "      <th>5</th>\n",
       "      <td>1.500000</td>\n",
       "      <td>1096.875</td>\n",
       "      <td>3.0</td>\n",
       "      <td>2.0</td>\n",
       "      <td>2.0</td>\n",
       "      <td>2.0</td>\n",
       "      <td>0.0</td>\n",
       "      <td>4.0</td>\n",
       "      <td>0.0</td>\n",
       "      <td>2.0</td>\n",
       "      <td>...</td>\n",
       "      <td>NaN</td>\n",
       "      <td>R014207833</td>\n",
       "      <td>4361-50A</td>\n",
       "      <td>104.png</td>\n",
       "      <td>&lt;NA&gt;</td>\n",
       "      <td>&lt;NA&gt;</td>\n",
       "      <td>&lt;NA&gt;</td>\n",
       "      <td>&lt;NA&gt;</td>\n",
       "      <td>&lt;NA&gt;</td>\n",
       "      <td>&lt;NA&gt;</td>\n",
       "    </tr>\n",
       "    <tr>\n",
       "      <th>...</th>\n",
       "      <td>...</td>\n",
       "      <td>...</td>\n",
       "      <td>...</td>\n",
       "      <td>...</td>\n",
       "      <td>...</td>\n",
       "      <td>...</td>\n",
       "      <td>...</td>\n",
       "      <td>...</td>\n",
       "      <td>...</td>\n",
       "      <td>...</td>\n",
       "      <td>...</td>\n",
       "      <td>...</td>\n",
       "      <td>...</td>\n",
       "      <td>...</td>\n",
       "      <td>...</td>\n",
       "      <td>...</td>\n",
       "      <td>...</td>\n",
       "      <td>...</td>\n",
       "      <td>...</td>\n",
       "      <td>...</td>\n",
       "      <td>...</td>\n",
       "    </tr>\n",
       "    <tr>\n",
       "      <th>171</th>\n",
       "      <td>1.552419</td>\n",
       "      <td>1431.250</td>\n",
       "      <td>2.0</td>\n",
       "      <td>2.0</td>\n",
       "      <td>2.0</td>\n",
       "      <td>3.0</td>\n",
       "      <td>0.0</td>\n",
       "      <td>4.0</td>\n",
       "      <td>2.0</td>\n",
       "      <td>0.0</td>\n",
       "      <td>...</td>\n",
       "      <td>NaN</td>\n",
       "      <td>R014207833</td>\n",
       "      <td>4361-50A</td>\n",
       "      <td>70.png</td>\n",
       "      <td>&lt;NA&gt;</td>\n",
       "      <td>&lt;NA&gt;</td>\n",
       "      <td>&lt;NA&gt;</td>\n",
       "      <td>&lt;NA&gt;</td>\n",
       "      <td>&lt;NA&gt;</td>\n",
       "      <td>&lt;NA&gt;</td>\n",
       "    </tr>\n",
       "    <tr>\n",
       "      <th>182</th>\n",
       "      <td>1.532258</td>\n",
       "      <td>1334.375</td>\n",
       "      <td>2.0</td>\n",
       "      <td>2.0</td>\n",
       "      <td>2.0</td>\n",
       "      <td>2.0</td>\n",
       "      <td>2.0</td>\n",
       "      <td>2.0</td>\n",
       "      <td>2.0</td>\n",
       "      <td>2.0</td>\n",
       "      <td>...</td>\n",
       "      <td>NaN</td>\n",
       "      <td>R014207833</td>\n",
       "      <td>4361-50A</td>\n",
       "      <td>80.png</td>\n",
       "      <td>&lt;NA&gt;</td>\n",
       "      <td>&lt;NA&gt;</td>\n",
       "      <td>&lt;NA&gt;</td>\n",
       "      <td>&lt;NA&gt;</td>\n",
       "      <td>&lt;NA&gt;</td>\n",
       "      <td>&lt;NA&gt;</td>\n",
       "    </tr>\n",
       "    <tr>\n",
       "      <th>184</th>\n",
       "      <td>1.524194</td>\n",
       "      <td>1096.875</td>\n",
       "      <td>3.0</td>\n",
       "      <td>2.0</td>\n",
       "      <td>2.0</td>\n",
       "      <td>2.0</td>\n",
       "      <td>0.0</td>\n",
       "      <td>4.0</td>\n",
       "      <td>2.0</td>\n",
       "      <td>0.0</td>\n",
       "      <td>...</td>\n",
       "      <td>NaN</td>\n",
       "      <td>R014207833</td>\n",
       "      <td>4361-50A</td>\n",
       "      <td>82.png</td>\n",
       "      <td>&lt;NA&gt;</td>\n",
       "      <td>&lt;NA&gt;</td>\n",
       "      <td>&lt;NA&gt;</td>\n",
       "      <td>&lt;NA&gt;</td>\n",
       "      <td>&lt;NA&gt;</td>\n",
       "      <td>&lt;NA&gt;</td>\n",
       "    </tr>\n",
       "    <tr>\n",
       "      <th>186</th>\n",
       "      <td>1.500000</td>\n",
       "      <td>1587.500</td>\n",
       "      <td>3.0</td>\n",
       "      <td>2.0</td>\n",
       "      <td>2.0</td>\n",
       "      <td>2.0</td>\n",
       "      <td>2.0</td>\n",
       "      <td>2.0</td>\n",
       "      <td>2.0</td>\n",
       "      <td>2.0</td>\n",
       "      <td>...</td>\n",
       "      <td>NaN</td>\n",
       "      <td>R014207833</td>\n",
       "      <td>4361-50A</td>\n",
       "      <td>9.png</td>\n",
       "      <td>&lt;NA&gt;</td>\n",
       "      <td>&lt;NA&gt;</td>\n",
       "      <td>&lt;NA&gt;</td>\n",
       "      <td>&lt;NA&gt;</td>\n",
       "      <td>&lt;NA&gt;</td>\n",
       "      <td>&lt;NA&gt;</td>\n",
       "    </tr>\n",
       "    <tr>\n",
       "      <th>187</th>\n",
       "      <td>1.504032</td>\n",
       "      <td>1665.625</td>\n",
       "      <td>2.0</td>\n",
       "      <td>2.0</td>\n",
       "      <td>2.0</td>\n",
       "      <td>2.0</td>\n",
       "      <td>0.0</td>\n",
       "      <td>4.0</td>\n",
       "      <td>0.0</td>\n",
       "      <td>2.0</td>\n",
       "      <td>...</td>\n",
       "      <td>NaN</td>\n",
       "      <td>R014207833</td>\n",
       "      <td>4361-50A</td>\n",
       "      <td>90.png</td>\n",
       "      <td>&lt;NA&gt;</td>\n",
       "      <td>&lt;NA&gt;</td>\n",
       "      <td>&lt;NA&gt;</td>\n",
       "      <td>&lt;NA&gt;</td>\n",
       "      <td>&lt;NA&gt;</td>\n",
       "      <td>&lt;NA&gt;</td>\n",
       "    </tr>\n",
       "  </tbody>\n",
       "</table>\n",
       "<p>61 rows × 27 columns</p>\n",
       "</div>"
      ],
      "text/plain": [
       "         fmin  max_depth  satellite_number  year  day_1  day_2  day_3  hour_1  \\\n",
       "0    1.500000   1743.750               2.0   2.0    2.0    2.0    0.0     4.0   \n",
       "2    1.500000   1196.875               2.0   2.0    2.0    2.0    0.0     4.0   \n",
       "3    1.500000   1196.875               2.0   2.0    2.0    2.0    0.0     4.0   \n",
       "4    1.500000    800.000               2.0   2.0    2.0    3.0    0.0     4.0   \n",
       "5    1.500000   1096.875               3.0   2.0    2.0    2.0    0.0     4.0   \n",
       "..        ...        ...               ...   ...    ...    ...    ...     ...   \n",
       "171  1.552419   1431.250               2.0   2.0    2.0    3.0    0.0     4.0   \n",
       "182  1.532258   1334.375               2.0   2.0    2.0    2.0    2.0     2.0   \n",
       "184  1.524194   1096.875               3.0   2.0    2.0    2.0    0.0     4.0   \n",
       "186  1.500000   1587.500               3.0   2.0    2.0    2.0    2.0     2.0   \n",
       "187  1.504032   1665.625               2.0   2.0    2.0    2.0    0.0     4.0   \n",
       "\n",
       "     hour_2  minute_1  ...  details   Directory  Subdirectory  filename  \\\n",
       "0       3.0       2.0  ...      NaN  R014207833      4361-50A     1.png   \n",
       "2       1.0       2.0  ...      NaN  R014207833      4361-50A   100.png   \n",
       "3       2.0       0.0  ...      NaN  R014207833      4361-50A   101.png   \n",
       "4       2.0       0.0  ...      NaN  R014207833      4361-50A   102.png   \n",
       "5       0.0       2.0  ...      NaN  R014207833      4361-50A   104.png   \n",
       "..      ...       ...  ...      ...         ...           ...       ...   \n",
       "171     2.0       0.0  ...      NaN  R014207833      4361-50A    70.png   \n",
       "182     2.0       2.0  ...      NaN  R014207833      4361-50A    80.png   \n",
       "184     2.0       0.0  ...      NaN  R014207833      4361-50A    82.png   \n",
       "186     2.0       2.0  ...      NaN  R014207833      4361-50A     9.png   \n",
       "187     0.0       2.0  ...      NaN  R014207833      4361-50A    90.png   \n",
       "\n",
       "     station_number_OCR year_OCR day_of_year_OCR hour_OCR minute_OCR  \\\n",
       "0                  <NA>     <NA>            <NA>     <NA>       <NA>   \n",
       "2                  <NA>     <NA>            <NA>     <NA>       <NA>   \n",
       "3                  <NA>     <NA>            <NA>     <NA>       <NA>   \n",
       "4                  <NA>     <NA>            <NA>     <NA>       <NA>   \n",
       "5                  <NA>     <NA>            <NA>     <NA>       <NA>   \n",
       "..                  ...      ...             ...      ...        ...   \n",
       "171                <NA>     <NA>            <NA>     <NA>       <NA>   \n",
       "182                <NA>     <NA>            <NA>     <NA>       <NA>   \n",
       "184                <NA>     <NA>            <NA>     <NA>       <NA>   \n",
       "186                <NA>     <NA>            <NA>     <NA>       <NA>   \n",
       "187                <NA>     <NA>            <NA>     <NA>       <NA>   \n",
       "\n",
       "    second_OCR  \n",
       "0         <NA>  \n",
       "2         <NA>  \n",
       "3         <NA>  \n",
       "4         <NA>  \n",
       "5         <NA>  \n",
       "..         ...  \n",
       "171       <NA>  \n",
       "182       <NA>  \n",
       "184       <NA>  \n",
       "186       <NA>  \n",
       "187       <NA>  \n",
       "\n",
       "[61 rows x 27 columns]"
      ]
     },
     "execution_count": 112,
     "metadata": {},
     "output_type": "execute_result"
    }
   ],
   "source": [
    "df_merge.loc[df_merge['processed_image_class'] == 'num']"
   ]
  },
  {
   "cell_type": "markdown",
   "id": "53ac4179",
   "metadata": {},
   "source": [
    "  "
   ]
  },
  {
   "cell_type": "markdown",
   "id": "45c54e1f",
   "metadata": {},
   "source": [
    "If num2 metadata type is detected, classify images with all other metadata types as loss:\n",
    "\n",
    "#### Assumption: film rolls are unlikely to have mixed metadata - assume that if num2 metadata type is detected, that there is no other images on the film roll with other types of metadata."
   ]
  },
  {
   "cell_type": "code",
   "execution_count": 113,
   "id": "b8bc1fcb",
   "metadata": {},
   "outputs": [
    {
     "name": "stderr",
     "output_type": "stream",
     "text": [
      "C:\\Users\\rnaidoo\\AppData\\Local\\Temp\\ipykernel_11912\\799099438.py:4: SettingWithCopyWarning: \n",
      "A value is trying to be set on a copy of a slice from a DataFrame\n",
      "\n",
      "See the caveats in the documentation: https://pandas.pydata.org/pandas-docs/stable/user_guide/indexing.html#returning-a-view-versus-a-copy\n",
      "  df_merge['processed_image_class'].iloc[i] = 'loss'\n",
      "C:\\Users\\rnaidoo\\AppData\\Local\\Temp\\ipykernel_11912\\799099438.py:5: SettingWithCopyWarning: \n",
      "A value is trying to be set on a copy of a slice from a DataFrame\n",
      "\n",
      "See the caveats in the documentation: https://pandas.pydata.org/pandas-docs/stable/user_guide/indexing.html#returning-a-view-versus-a-copy\n",
      "  df_merge['details'].iloc[i] = 'metadata could not be read by OCR'\n",
      "C:\\Users\\rnaidoo\\AppData\\Local\\Temp\\ipykernel_11912\\799099438.py:7: SettingWithCopyWarning: \n",
      "A value is trying to be set on a copy of a slice from a DataFrame\n",
      "\n",
      "See the caveats in the documentation: https://pandas.pydata.org/pandas-docs/stable/user_guide/indexing.html#returning-a-view-versus-a-copy\n",
      "  df_merge[col].iloc[i] = np.nan\n"
     ]
    }
   ],
   "source": [
    "if len(df_read) > 0:\n",
    "    for i in range(0, len(df_merge)):\n",
    "        if df_merge['processed_image_class'].iloc[i] == 'num':\n",
    "            df_merge['processed_image_class'].iloc[i] = 'loss'\n",
    "            df_merge['details'].iloc[i] = 'metadata could not be read by OCR'\n",
    "            for col in md_cols:\n",
    "                df_merge[col].iloc[i] = np.nan\n",
    "        if df_merge['processed_image_class'].iloc[i] == 'dot':\n",
    "            df_merge['processed_image_class'].iloc[i] = 'loss'\n",
    "            df_merge['details'].iloc[i] = 'metadata could not be read by OCR'\n",
    "            for col in md_cols:\n",
    "                df_merge[col].iloc[i] = np.nan"
   ]
  },
  {
   "cell_type": "code",
   "execution_count": 114,
   "id": "dbc568ab",
   "metadata": {},
   "outputs": [
    {
     "data": {
      "text/html": [
       "<div>\n",
       "<style scoped>\n",
       "    .dataframe tbody tr th:only-of-type {\n",
       "        vertical-align: middle;\n",
       "    }\n",
       "\n",
       "    .dataframe tbody tr th {\n",
       "        vertical-align: top;\n",
       "    }\n",
       "\n",
       "    .dataframe thead th {\n",
       "        text-align: right;\n",
       "    }\n",
       "</style>\n",
       "<table border=\"1\" class=\"dataframe\">\n",
       "  <thead>\n",
       "    <tr style=\"text-align: right;\">\n",
       "      <th></th>\n",
       "      <th>fmin</th>\n",
       "      <th>max_depth</th>\n",
       "      <th>satellite_number</th>\n",
       "      <th>year</th>\n",
       "      <th>day_1</th>\n",
       "      <th>day_2</th>\n",
       "      <th>day_3</th>\n",
       "      <th>hour_1</th>\n",
       "      <th>hour_2</th>\n",
       "      <th>minute_1</th>\n",
       "      <th>...</th>\n",
       "      <th>details</th>\n",
       "      <th>Directory</th>\n",
       "      <th>Subdirectory</th>\n",
       "      <th>filename</th>\n",
       "      <th>station_number_OCR</th>\n",
       "      <th>year_OCR</th>\n",
       "      <th>day_of_year_OCR</th>\n",
       "      <th>hour_OCR</th>\n",
       "      <th>minute_OCR</th>\n",
       "      <th>second_OCR</th>\n",
       "    </tr>\n",
       "  </thead>\n",
       "  <tbody>\n",
       "  </tbody>\n",
       "</table>\n",
       "<p>0 rows × 27 columns</p>\n",
       "</div>"
      ],
      "text/plain": [
       "Empty DataFrame\n",
       "Columns: [fmin, max_depth, satellite_number, year, day_1, day_2, day_3, hour_1, hour_2, minute_1, minute_2, second_1, second_2, station_number_1, station_number_2, processed_image_class, func_name, details, Directory, Subdirectory, filename, station_number_OCR, year_OCR, day_of_year_OCR, hour_OCR, minute_OCR, second_OCR]\n",
       "Index: []\n",
       "\n",
       "[0 rows x 27 columns]"
      ]
     },
     "execution_count": 114,
     "metadata": {},
     "output_type": "execute_result"
    }
   ],
   "source": [
    "df_merge.loc[df_merge['processed_image_class'] == 'num']"
   ]
  },
  {
   "cell_type": "code",
   "execution_count": 115,
   "id": "c75a3303",
   "metadata": {},
   "outputs": [
    {
     "name": "stdout",
     "output_type": "stream",
     "text": [
      "Percent of OCR read images that read only numbers, for test subdirectory: 83.0 %\n"
     ]
    }
   ],
   "source": [
    "if n_OCR_read > 0:\n",
    "    print('Percent of OCR read images that read only numbers, for test subdirectory: ' + str(round((n_OCR_read/len(df_read))*100, 1)) + ' %')"
   ]
  },
  {
   "cell_type": "markdown",
   "id": "ec432d44",
   "metadata": {},
   "source": [
    "  "
   ]
  },
  {
   "cell_type": "markdown",
   "id": "573c0861",
   "metadata": {},
   "source": [
    "#### If num2 metadata type is not detected:"
   ]
  },
  {
   "cell_type": "code",
   "execution_count": 116,
   "id": "327e950a",
   "metadata": {},
   "outputs": [],
   "source": [
    "if len(df_read) == 0:\n",
    "    n_num = len(df_merge.loc[df_merge['processed_image_class'] == 'num'])\n",
    "    n_dot = len(df_merge.loc[df_merge['processed_image_class'] == 'dot'])"
   ]
  },
  {
   "cell_type": "code",
   "execution_count": 117,
   "id": "5c785060",
   "metadata": {},
   "outputs": [
    {
     "ename": "NameError",
     "evalue": "name 'n_num' is not defined",
     "output_type": "error",
     "traceback": [
      "\u001b[1;31m---------------------------------------------------------------------------\u001b[0m",
      "\u001b[1;31mNameError\u001b[0m                                 Traceback (most recent call last)",
      "Cell \u001b[1;32mIn[117], line 1\u001b[0m\n\u001b[1;32m----> 1\u001b[0m \u001b[43mn_num\u001b[49m\n",
      "\u001b[1;31mNameError\u001b[0m: name 'n_num' is not defined"
     ]
    }
   ],
   "source": [
    "n_num"
   ]
  },
  {
   "cell_type": "code",
   "execution_count": 118,
   "id": "106afabd",
   "metadata": {},
   "outputs": [
    {
     "ename": "NameError",
     "evalue": "name 'n_dot' is not defined",
     "output_type": "error",
     "traceback": [
      "\u001b[1;31m---------------------------------------------------------------------------\u001b[0m",
      "\u001b[1;31mNameError\u001b[0m                                 Traceback (most recent call last)",
      "Cell \u001b[1;32mIn[118], line 1\u001b[0m\n\u001b[1;32m----> 1\u001b[0m \u001b[43mn_dot\u001b[49m\n",
      "\u001b[1;31mNameError\u001b[0m: name 'n_dot' is not defined"
     ]
    }
   ],
   "source": [
    "n_dot"
   ]
  },
  {
   "cell_type": "markdown",
   "id": "3e9b8088",
   "metadata": {},
   "source": [
    "If num type metadata is the majority, classify dot type images as loss:"
   ]
  },
  {
   "cell_type": "code",
   "execution_count": 119,
   "id": "5e9b1df7",
   "metadata": {},
   "outputs": [
    {
     "ename": "NameError",
     "evalue": "name 'n_num' is not defined",
     "output_type": "error",
     "traceback": [
      "\u001b[1;31m---------------------------------------------------------------------------\u001b[0m",
      "\u001b[1;31mNameError\u001b[0m                                 Traceback (most recent call last)",
      "Cell \u001b[1;32mIn[119], line 1\u001b[0m\n\u001b[1;32m----> 1\u001b[0m \u001b[38;5;28;01mif\u001b[39;00m \u001b[43mn_num\u001b[49m \u001b[38;5;241m>\u001b[39m n_dot:\n\u001b[0;32m      2\u001b[0m     \u001b[38;5;28;01mfor\u001b[39;00m i \u001b[38;5;129;01min\u001b[39;00m \u001b[38;5;28mrange\u001b[39m(\u001b[38;5;241m0\u001b[39m, \u001b[38;5;28mlen\u001b[39m(df_merge)):\n\u001b[0;32m      3\u001b[0m         \u001b[38;5;28;01mif\u001b[39;00m df_merge[\u001b[38;5;124m'\u001b[39m\u001b[38;5;124mprocessed_image_class\u001b[39m\u001b[38;5;124m'\u001b[39m]\u001b[38;5;241m.\u001b[39miloc[i] \u001b[38;5;241m==\u001b[39m \u001b[38;5;124m'\u001b[39m\u001b[38;5;124mdot\u001b[39m\u001b[38;5;124m'\u001b[39m:\n",
      "\u001b[1;31mNameError\u001b[0m: name 'n_num' is not defined"
     ]
    }
   ],
   "source": [
    "if n_num > n_dot:\n",
    "    for i in range(0, len(df_merge)):\n",
    "        if df_merge['processed_image_class'].iloc[i] == 'dot':\n",
    "            df_merge['processed_image_class'].iloc[i] = 'loss'\n",
    "            df_merge['details'].iloc[i] = 'metadata was interpreted to be dot type'\n",
    "            for col in md_cols:\n",
    "                df_merge[col].iloc[i] = np.nan"
   ]
  },
  {
   "cell_type": "markdown",
   "id": "2b791245",
   "metadata": {},
   "source": [
    "If dot type metadata is the majority, classify num type images as loss:"
   ]
  },
  {
   "cell_type": "code",
   "execution_count": 120,
   "id": "dab3c95a",
   "metadata": {},
   "outputs": [
    {
     "ename": "NameError",
     "evalue": "name 'n_dot' is not defined",
     "output_type": "error",
     "traceback": [
      "\u001b[1;31m---------------------------------------------------------------------------\u001b[0m",
      "\u001b[1;31mNameError\u001b[0m                                 Traceback (most recent call last)",
      "Cell \u001b[1;32mIn[120], line 1\u001b[0m\n\u001b[1;32m----> 1\u001b[0m \u001b[38;5;28;01mif\u001b[39;00m \u001b[43mn_dot\u001b[49m \u001b[38;5;241m>\u001b[39m n_num:\n\u001b[0;32m      2\u001b[0m     \u001b[38;5;28;01mfor\u001b[39;00m i \u001b[38;5;129;01min\u001b[39;00m \u001b[38;5;28mrange\u001b[39m(\u001b[38;5;241m0\u001b[39m, \u001b[38;5;28mlen\u001b[39m(df_merge)):\n\u001b[0;32m      3\u001b[0m         \u001b[38;5;28;01mif\u001b[39;00m df_merge[\u001b[38;5;124m'\u001b[39m\u001b[38;5;124mprocessed_image_class\u001b[39m\u001b[38;5;124m'\u001b[39m]\u001b[38;5;241m.\u001b[39miloc[i] \u001b[38;5;241m==\u001b[39m \u001b[38;5;124m'\u001b[39m\u001b[38;5;124mnum\u001b[39m\u001b[38;5;124m'\u001b[39m:\n",
      "\u001b[1;31mNameError\u001b[0m: name 'n_dot' is not defined"
     ]
    }
   ],
   "source": [
    "if n_dot > n_num:\n",
    "    for i in range(0, len(df_merge)):\n",
    "        if df_merge['processed_image_class'].iloc[i] == 'num':\n",
    "            df_merge['processed_image_class'].iloc[i] = 'loss'\n",
    "            df_merge['details'].iloc[i] = 'metadata was interpreted to be num type'\n",
    "            for col in md_cols:\n",
    "                df_merge[col].iloc[i] = np.nan   "
   ]
  },
  {
   "cell_type": "markdown",
   "id": "09272c49",
   "metadata": {},
   "source": [
    "#  "
   ]
  },
  {
   "cell_type": "markdown",
   "id": "7647163d",
   "metadata": {},
   "source": [
    "#### Save:"
   ]
  },
  {
   "cell_type": "code",
   "execution_count": 121,
   "id": "c8e5f717",
   "metadata": {},
   "outputs": [],
   "source": [
    "df_merge.to_csv(resultDir + directory + '/' + 'result_OCRpass-' + directory + '_' + subdirectory + '.csv', index=False)"
   ]
  },
  {
   "cell_type": "markdown",
   "id": "3c2aef76",
   "metadata": {},
   "source": [
    "#  "
   ]
  },
  {
   "cell_type": "markdown",
   "id": "c7b6e3f8",
   "metadata": {},
   "source": [
    "#### Development:"
   ]
  },
  {
   "cell_type": "code",
   "execution_count": 4,
   "id": "7e318d73",
   "metadata": {},
   "outputs": [],
   "source": [
    "a = np.nan"
   ]
  },
  {
   "cell_type": "code",
   "execution_count": 5,
   "id": "3515336b",
   "metadata": {},
   "outputs": [],
   "source": [
    "b = 265"
   ]
  },
  {
   "cell_type": "code",
   "execution_count": 6,
   "id": "1c0776fc",
   "metadata": {},
   "outputs": [
    {
     "data": {
      "text/plain": [
       "False"
      ]
     },
     "execution_count": 6,
     "metadata": {},
     "output_type": "execute_result"
    }
   ],
   "source": [
    "~np.isnan(a)"
   ]
  },
  {
   "cell_type": "code",
   "execution_count": 11,
   "id": "580a36c8",
   "metadata": {},
   "outputs": [
    {
     "data": {
      "text/plain": [
       "-2"
      ]
     },
     "execution_count": 11,
     "metadata": {},
     "output_type": "execute_result"
    }
   ],
   "source": [
    "~pd.isna(a)"
   ]
  },
  {
   "cell_type": "code",
   "execution_count": 15,
   "id": "9fbc80e5",
   "metadata": {},
   "outputs": [
    {
     "data": {
      "text/plain": [
       "True"
      ]
     },
     "execution_count": 15,
     "metadata": {},
     "output_type": "execute_result"
    }
   ],
   "source": [
    "pd.isna(a)"
   ]
  },
  {
   "cell_type": "code",
   "execution_count": 7,
   "id": "3f6aff31",
   "metadata": {},
   "outputs": [
    {
     "data": {
      "text/plain": [
       "True"
      ]
     },
     "execution_count": 7,
     "metadata": {},
     "output_type": "execute_result"
    }
   ],
   "source": [
    "~np.isnan(b)"
   ]
  },
  {
   "cell_type": "code",
   "execution_count": 12,
   "id": "59c5a797",
   "metadata": {},
   "outputs": [
    {
     "data": {
      "text/plain": [
       "-1"
      ]
     },
     "execution_count": 12,
     "metadata": {},
     "output_type": "execute_result"
    }
   ],
   "source": [
    "~pd.isna(b)"
   ]
  },
  {
   "cell_type": "code",
   "execution_count": 16,
   "id": "e61b2010",
   "metadata": {},
   "outputs": [
    {
     "data": {
      "text/plain": [
       "False"
      ]
     },
     "execution_count": 16,
     "metadata": {},
     "output_type": "execute_result"
    }
   ],
   "source": [
    "pd.isna(b)"
   ]
  },
  {
   "cell_type": "code",
   "execution_count": 8,
   "id": "782794e9",
   "metadata": {},
   "outputs": [
    {
     "data": {
      "text/plain": [
       "nan"
      ]
     },
     "execution_count": 8,
     "metadata": {},
     "output_type": "execute_result"
    }
   ],
   "source": [
    "a + b"
   ]
  },
  {
   "cell_type": "code",
   "execution_count": 17,
   "id": "61bffa4f",
   "metadata": {},
   "outputs": [
    {
     "name": "stdout",
     "output_type": "stream",
     "text": [
      "b is not NaN!\n"
     ]
    }
   ],
   "source": [
    "if ~pd.isna(b):\n",
    "    print('b is not NaN!')"
   ]
  },
  {
   "cell_type": "code",
   "execution_count": 18,
   "id": "5a4d6968",
   "metadata": {},
   "outputs": [
    {
     "name": "stdout",
     "output_type": "stream",
     "text": [
      "a is NaN!\n"
     ]
    }
   ],
   "source": [
    "if pd.isna(a):\n",
    "    print('a is NaN!')"
   ]
  },
  {
   "cell_type": "code",
   "execution_count": null,
   "id": "31da7a1e",
   "metadata": {},
   "outputs": [],
   "source": []
  }
 ],
 "metadata": {
  "kernelspec": {
   "display_name": "Python 3 (ipykernel)",
   "language": "python",
   "name": "python3"
  },
  "language_info": {
   "codemirror_mode": {
    "name": "ipython",
    "version": 3
   },
   "file_extension": ".py",
   "mimetype": "text/x-python",
   "name": "python",
   "nbconvert_exporter": "python",
   "pygments_lexer": "ipython3",
   "version": "3.8.16"
  }
 },
 "nbformat": 4,
 "nbformat_minor": 5
}
