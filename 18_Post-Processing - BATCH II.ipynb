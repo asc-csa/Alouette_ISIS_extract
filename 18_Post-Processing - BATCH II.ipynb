{
 "cells": [
  {
   "cell_type": "markdown",
   "metadata": {},
   "source": [
    "# Post-Processing (BATCH II)\n",
    "\n",
    "#### Updated: May 15, 2023"
   ]
  },
  {
   "cell_type": "markdown",
   "metadata": {},
   "source": [
    "#  "
   ]
  },
  {
   "cell_type": "code",
   "execution_count": 21,
   "metadata": {},
   "outputs": [],
   "source": [
    "import os\n",
    "import pandas as pd\n",
    "import seaborn as sns"
   ]
  },
  {
   "cell_type": "code",
   "execution_count": 22,
   "metadata": {},
   "outputs": [],
   "source": [
    "rootDir = 'L:/DATA/Alouette_I/BATCH_II_Run2/'\n",
    "processedDir = rootDir + '04_processed/'\n",
    "resultDir = rootDir + '05_result/'\n",
    "logDir = rootDir + '06_log/'"
   ]
  },
  {
   "cell_type": "markdown",
   "metadata": {},
   "source": [
    "#  "
   ]
  },
  {
   "cell_type": "markdown",
   "metadata": {},
   "source": [
    "#### Generate list of unprocessed subdirectories, for further qualitative inspection:"
   ]
  },
  {
   "cell_type": "code",
   "execution_count": 10,
   "metadata": {},
   "outputs": [
    {
     "name": "stdout",
     "output_type": "stream",
     "text": [
      "2416\n"
     ]
    },
    {
     "data": {
      "text/html": [
       "<div>\n",
       "<style scoped>\n",
       "    .dataframe tbody tr th:only-of-type {\n",
       "        vertical-align: middle;\n",
       "    }\n",
       "\n",
       "    .dataframe tbody tr th {\n",
       "        vertical-align: top;\n",
       "    }\n",
       "\n",
       "    .dataframe thead th {\n",
       "        text-align: right;\n",
       "    }\n",
       "</style>\n",
       "<table border=\"1\" class=\"dataframe\">\n",
       "  <thead>\n",
       "    <tr style=\"text-align: right;\">\n",
       "      <th></th>\n",
       "      <th>Directory</th>\n",
       "      <th>Subdirectory</th>\n",
       "      <th>images</th>\n",
       "      <th>subdir_id</th>\n",
       "    </tr>\n",
       "  </thead>\n",
       "  <tbody>\n",
       "    <tr>\n",
       "      <th>0</th>\n",
       "      <td>R014207709</td>\n",
       "      <td>145</td>\n",
       "      <td>53</td>\n",
       "      <td>R014207709_145</td>\n",
       "    </tr>\n",
       "    <tr>\n",
       "      <th>1</th>\n",
       "      <td>R014207709</td>\n",
       "      <td>146</td>\n",
       "      <td>63</td>\n",
       "      <td>R014207709_146</td>\n",
       "    </tr>\n",
       "    <tr>\n",
       "      <th>2</th>\n",
       "      <td>R014207709</td>\n",
       "      <td>147</td>\n",
       "      <td>50</td>\n",
       "      <td>R014207709_147</td>\n",
       "    </tr>\n",
       "    <tr>\n",
       "      <th>3</th>\n",
       "      <td>R014207709</td>\n",
       "      <td>148</td>\n",
       "      <td>16</td>\n",
       "      <td>R014207709_148</td>\n",
       "    </tr>\n",
       "    <tr>\n",
       "      <th>4</th>\n",
       "      <td>R014207709</td>\n",
       "      <td>149</td>\n",
       "      <td>28</td>\n",
       "      <td>R014207709_149</td>\n",
       "    </tr>\n",
       "  </tbody>\n",
       "</table>\n",
       "</div>"
      ],
      "text/plain": [
       "    Directory Subdirectory  images       subdir_id\n",
       "0  R014207709          145      53  R014207709_145\n",
       "1  R014207709          146      63  R014207709_146\n",
       "2  R014207709          147      50  R014207709_147\n",
       "3  R014207709          148      16  R014207709_148\n",
       "4  R014207709          149      28  R014207709_149"
      ]
     },
     "execution_count": 10,
     "metadata": {},
     "output_type": "execute_result"
    }
   ],
   "source": [
    "df_inventory = pd.read_csv(logDir + 'image_inventory.csv')\n",
    "print(len(df_inventory))\n",
    "df_inventory.head()"
   ]
  },
  {
   "cell_type": "code",
   "execution_count": 5,
   "metadata": {},
   "outputs": [
    {
     "name": "stdout",
     "output_type": "stream",
     "text": [
      "2416\n"
     ]
    },
    {
     "data": {
      "text/html": [
       "<div>\n",
       "<style scoped>\n",
       "    .dataframe tbody tr th:only-of-type {\n",
       "        vertical-align: middle;\n",
       "    }\n",
       "\n",
       "    .dataframe tbody tr th {\n",
       "        vertical-align: top;\n",
       "    }\n",
       "\n",
       "    .dataframe thead th {\n",
       "        text-align: right;\n",
       "    }\n",
       "</style>\n",
       "<table border=\"1\" class=\"dataframe\">\n",
       "  <thead>\n",
       "    <tr style=\"text-align: right;\">\n",
       "      <th></th>\n",
       "      <th>Roll</th>\n",
       "      <th>Subdirectory</th>\n",
       "      <th>Images_processed</th>\n",
       "      <th>Images_dot</th>\n",
       "      <th>Images_num</th>\n",
       "      <th>Images_loss</th>\n",
       "      <th>Images_outlier</th>\n",
       "      <th>Process_time</th>\n",
       "      <th>Process_timestamp</th>\n",
       "      <th>User</th>\n",
       "      <th>subdir_id</th>\n",
       "      <th>Directory</th>\n",
       "    </tr>\n",
       "  </thead>\n",
       "  <tbody>\n",
       "    <tr>\n",
       "      <th>792</th>\n",
       "      <td>R014207813</td>\n",
       "      <td>5031</td>\n",
       "      <td>416</td>\n",
       "      <td>0</td>\n",
       "      <td>117</td>\n",
       "      <td>247</td>\n",
       "      <td>52</td>\n",
       "      <td>286.101392</td>\n",
       "      <td>00:02.4</td>\n",
       "      <td>Rav Super3</td>\n",
       "      <td>R014207813_5031</td>\n",
       "      <td>NaN</td>\n",
       "    </tr>\n",
       "    <tr>\n",
       "      <th>573</th>\n",
       "      <td>R014207825</td>\n",
       "      <td>3760-38A</td>\n",
       "      <td>174</td>\n",
       "      <td>0</td>\n",
       "      <td>83</td>\n",
       "      <td>86</td>\n",
       "      <td>5</td>\n",
       "      <td>388.078494</td>\n",
       "      <td>00:05.8</td>\n",
       "      <td>Rav Super11</td>\n",
       "      <td>R014207825_3760-38A</td>\n",
       "      <td>NaN</td>\n",
       "    </tr>\n",
       "    <tr>\n",
       "      <th>723</th>\n",
       "      <td>R014207763</td>\n",
       "      <td>AUG-6-TO-AUG-13-1965</td>\n",
       "      <td>0</td>\n",
       "      <td>0</td>\n",
       "      <td>0</td>\n",
       "      <td>0</td>\n",
       "      <td>0</td>\n",
       "      <td>161.170390</td>\n",
       "      <td>00:06.2</td>\n",
       "      <td>Rav Super3</td>\n",
       "      <td>R014207763_AUG-6-TO-AUG-13-1965</td>\n",
       "      <td>NaN</td>\n",
       "    </tr>\n",
       "    <tr>\n",
       "      <th>20</th>\n",
       "      <td>R014207807</td>\n",
       "      <td>4953</td>\n",
       "      <td>0</td>\n",
       "      <td>0</td>\n",
       "      <td>0</td>\n",
       "      <td>0</td>\n",
       "      <td>0</td>\n",
       "      <td>186.827210</td>\n",
       "      <td>00:09.2</td>\n",
       "      <td>Rav Super11</td>\n",
       "      <td>R014207807_4953</td>\n",
       "      <td>NaN</td>\n",
       "    </tr>\n",
       "    <tr>\n",
       "      <th>654</th>\n",
       "      <td>R014207817</td>\n",
       "      <td>May-87</td>\n",
       "      <td>344</td>\n",
       "      <td>0</td>\n",
       "      <td>321</td>\n",
       "      <td>4</td>\n",
       "      <td>19</td>\n",
       "      <td>638.494545</td>\n",
       "      <td>00:10.3</td>\n",
       "      <td>Rav Super10</td>\n",
       "      <td>R014207817_4187-5</td>\n",
       "      <td>NaN</td>\n",
       "    </tr>\n",
       "  </tbody>\n",
       "</table>\n",
       "</div>"
      ],
      "text/plain": [
       "           Roll          Subdirectory  Images_processed  Images_dot  \\\n",
       "792  R014207813                  5031               416           0   \n",
       "573  R014207825              3760-38A               174           0   \n",
       "723  R014207763  AUG-6-TO-AUG-13-1965                 0           0   \n",
       "20   R014207807                  4953                 0           0   \n",
       "654  R014207817                May-87               344           0   \n",
       "\n",
       "     Images_num  Images_loss  Images_outlier  Process_time Process_timestamp  \\\n",
       "792         117          247              52    286.101392           00:02.4   \n",
       "573          83           86               5    388.078494           00:05.8   \n",
       "723           0            0               0    161.170390           00:06.2   \n",
       "20            0            0               0    186.827210           00:09.2   \n",
       "654         321            4              19    638.494545           00:10.3   \n",
       "\n",
       "            User                        subdir_id Directory  \n",
       "792   Rav Super3                  R014207813_5031       NaN  \n",
       "573  Rav Super11              R014207825_3760-38A       NaN  \n",
       "723   Rav Super3  R014207763_AUG-6-TO-AUG-13-1965       NaN  \n",
       "20   Rav Super11                  R014207807_4953       NaN  \n",
       "654  Rav Super10                R014207817_4187-5       NaN  "
      ]
     },
     "execution_count": 5,
     "metadata": {},
     "output_type": "execute_result"
    }
   ],
   "source": [
    "df_process_log = pd.read_csv(logDir + 'process_log.csv')\n",
    "df_p1 = df_process_log.sort_values('Process_timestamp', ascending=True)\n",
    "df_p1 = df_p1.drop_duplicates(subset=['subdir_id'], keep='last') \n",
    "print(len(df_p1))\n",
    "df_p1.head()"
   ]
  },
  {
   "cell_type": "code",
   "execution_count": 6,
   "metadata": {},
   "outputs": [
    {
     "name": "stdout",
     "output_type": "stream",
     "text": [
      "760\n"
     ]
    }
   ],
   "source": [
    "df1 = df_p1.loc[df_p1['Images_processed'] == 0]\n",
    "print(len(df1))"
   ]
  },
  {
   "cell_type": "code",
   "execution_count": 7,
   "metadata": {},
   "outputs": [
    {
     "data": {
      "text/html": [
       "<div>\n",
       "<style scoped>\n",
       "    .dataframe tbody tr th:only-of-type {\n",
       "        vertical-align: middle;\n",
       "    }\n",
       "\n",
       "    .dataframe tbody tr th {\n",
       "        vertical-align: top;\n",
       "    }\n",
       "\n",
       "    .dataframe thead th {\n",
       "        text-align: right;\n",
       "    }\n",
       "</style>\n",
       "<table border=\"1\" class=\"dataframe\">\n",
       "  <thead>\n",
       "    <tr style=\"text-align: right;\">\n",
       "      <th></th>\n",
       "      <th>Directory</th>\n",
       "      <th>Subdirectory</th>\n",
       "      <th>Images_processed</th>\n",
       "    </tr>\n",
       "  </thead>\n",
       "  <tbody>\n",
       "    <tr>\n",
       "      <th>0</th>\n",
       "      <td>R014207763</td>\n",
       "      <td>OCT-11-TO-OCT-24-1965</td>\n",
       "      <td>0</td>\n",
       "    </tr>\n",
       "    <tr>\n",
       "      <th>1</th>\n",
       "      <td>R014207769</td>\n",
       "      <td>MAY-22-TO-MAY-28-1965</td>\n",
       "      <td>0</td>\n",
       "    </tr>\n",
       "    <tr>\n",
       "      <th>2</th>\n",
       "      <td>R014207810</td>\n",
       "      <td>5127</td>\n",
       "      <td>0</td>\n",
       "    </tr>\n",
       "    <tr>\n",
       "      <th>3</th>\n",
       "      <td>R014207811</td>\n",
       "      <td>5070</td>\n",
       "      <td>0</td>\n",
       "    </tr>\n",
       "    <tr>\n",
       "      <th>4</th>\n",
       "      <td>R014207826</td>\n",
       "      <td>3866-8A</td>\n",
       "      <td>0</td>\n",
       "    </tr>\n",
       "    <tr>\n",
       "      <th>...</th>\n",
       "      <td>...</td>\n",
       "      <td>...</td>\n",
       "      <td>...</td>\n",
       "    </tr>\n",
       "    <tr>\n",
       "      <th>755</th>\n",
       "      <td>NaN</td>\n",
       "      <td>SEPT-3-TO-SEPT-5-1964</td>\n",
       "      <td>0</td>\n",
       "    </tr>\n",
       "    <tr>\n",
       "      <th>756</th>\n",
       "      <td>NaN</td>\n",
       "      <td>SEPT-5-TO-SEPT-7-1964</td>\n",
       "      <td>0</td>\n",
       "    </tr>\n",
       "    <tr>\n",
       "      <th>757</th>\n",
       "      <td>NaN</td>\n",
       "      <td>SEPT-6-TO-SEPT-14-1965</td>\n",
       "      <td>0</td>\n",
       "    </tr>\n",
       "    <tr>\n",
       "      <th>758</th>\n",
       "      <td>NaN</td>\n",
       "      <td>SEPT-7-TO-SEPT-8-1964</td>\n",
       "      <td>0</td>\n",
       "    </tr>\n",
       "    <tr>\n",
       "      <th>759</th>\n",
       "      <td>NaN</td>\n",
       "      <td>SEPT-8-TO-SEPT-10-1964</td>\n",
       "      <td>0</td>\n",
       "    </tr>\n",
       "  </tbody>\n",
       "</table>\n",
       "<p>760 rows × 3 columns</p>\n",
       "</div>"
      ],
      "text/plain": [
       "      Directory            Subdirectory  Images_processed\n",
       "0    R014207763   OCT-11-TO-OCT-24-1965                 0\n",
       "1    R014207769   MAY-22-TO-MAY-28-1965                 0\n",
       "2    R014207810                    5127                 0\n",
       "3    R014207811                    5070                 0\n",
       "4    R014207826                 3866-8A                 0\n",
       "..          ...                     ...               ...\n",
       "755         NaN   SEPT-3-TO-SEPT-5-1964                 0\n",
       "756         NaN   SEPT-5-TO-SEPT-7-1964                 0\n",
       "757         NaN  SEPT-6-TO-SEPT-14-1965                 0\n",
       "758         NaN   SEPT-7-TO-SEPT-8-1964                 0\n",
       "759         NaN  SEPT-8-TO-SEPT-10-1964                 0\n",
       "\n",
       "[760 rows x 3 columns]"
      ]
     },
     "execution_count": 7,
     "metadata": {},
     "output_type": "execute_result"
    }
   ],
   "source": [
    "df2 = df1[['Directory', 'Subdirectory', 'Images_processed']]\n",
    "#df2 = df2.rename(columns={\n",
    "#    'Roll': 'Directory'\n",
    "#})\n",
    "df2 = df2.sort_values(['Directory', 'Subdirectory']).reset_index(drop=True)\n",
    "df2"
   ]
  },
  {
   "cell_type": "code",
   "execution_count": 8,
   "metadata": {},
   "outputs": [],
   "source": [
    "df2.to_csv(logDir + 'unprocessed_subdirs-BATCHII.csv', index=False)"
   ]
  },
  {
   "cell_type": "code",
   "execution_count": 9,
   "metadata": {},
   "outputs": [
    {
     "data": {
      "text/html": [
       "<div>\n",
       "<style scoped>\n",
       "    .dataframe tbody tr th:only-of-type {\n",
       "        vertical-align: middle;\n",
       "    }\n",
       "\n",
       "    .dataframe tbody tr th {\n",
       "        vertical-align: top;\n",
       "    }\n",
       "\n",
       "    .dataframe thead th {\n",
       "        text-align: right;\n",
       "    }\n",
       "</style>\n",
       "<table border=\"1\" class=\"dataframe\">\n",
       "  <thead>\n",
       "    <tr style=\"text-align: right;\">\n",
       "      <th></th>\n",
       "      <th>Directory</th>\n",
       "      <th>Subdirectory</th>\n",
       "      <th>Images_processed</th>\n",
       "    </tr>\n",
       "  </thead>\n",
       "  <tbody>\n",
       "    <tr>\n",
       "      <th>423</th>\n",
       "      <td>NaN</td>\n",
       "      <td>5055</td>\n",
       "      <td>0</td>\n",
       "    </tr>\n",
       "    <tr>\n",
       "      <th>8</th>\n",
       "      <td>R014207826</td>\n",
       "      <td>3880-69A-2</td>\n",
       "      <td>0</td>\n",
       "    </tr>\n",
       "    <tr>\n",
       "      <th>593</th>\n",
       "      <td>NaN</td>\n",
       "      <td>C-137-43</td>\n",
       "      <td>0</td>\n",
       "    </tr>\n",
       "    <tr>\n",
       "      <th>492</th>\n",
       "      <td>NaN</td>\n",
       "      <td>5128</td>\n",
       "      <td>0</td>\n",
       "    </tr>\n",
       "    <tr>\n",
       "      <th>757</th>\n",
       "      <td>NaN</td>\n",
       "      <td>SEPT-6-TO-SEPT-14-1965</td>\n",
       "      <td>0</td>\n",
       "    </tr>\n",
       "    <tr>\n",
       "      <th>356</th>\n",
       "      <td>NaN</td>\n",
       "      <td>4976</td>\n",
       "      <td>0</td>\n",
       "    </tr>\n",
       "    <tr>\n",
       "      <th>283</th>\n",
       "      <td>NaN</td>\n",
       "      <td>4193-05A</td>\n",
       "      <td>0</td>\n",
       "    </tr>\n",
       "    <tr>\n",
       "      <th>502</th>\n",
       "      <td>NaN</td>\n",
       "      <td>5140</td>\n",
       "      <td>0</td>\n",
       "    </tr>\n",
       "    <tr>\n",
       "      <th>313</th>\n",
       "      <td>NaN</td>\n",
       "      <td>4932</td>\n",
       "      <td>0</td>\n",
       "    </tr>\n",
       "    <tr>\n",
       "      <th>61</th>\n",
       "      <td>R014207838</td>\n",
       "      <td>4510-43-2</td>\n",
       "      <td>0</td>\n",
       "    </tr>\n",
       "  </tbody>\n",
       "</table>\n",
       "</div>"
      ],
      "text/plain": [
       "      Directory            Subdirectory  Images_processed\n",
       "423         NaN                    5055                 0\n",
       "8    R014207826              3880-69A-2                 0\n",
       "593         NaN                C-137-43                 0\n",
       "492         NaN                    5128                 0\n",
       "757         NaN  SEPT-6-TO-SEPT-14-1965                 0\n",
       "356         NaN                    4976                 0\n",
       "283         NaN                4193-05A                 0\n",
       "502         NaN                    5140                 0\n",
       "313         NaN                    4932                 0\n",
       "61   R014207838               4510-43-2                 0"
      ]
     },
     "execution_count": 9,
     "metadata": {},
     "output_type": "execute_result"
    }
   ],
   "source": [
    "df2.sample(10)"
   ]
  },
  {
   "cell_type": "markdown",
   "metadata": {},
   "source": [
    "#  "
   ]
  },
  {
   "cell_type": "markdown",
   "metadata": {},
   "source": [
    "#### Fix process_log:"
   ]
  },
  {
   "cell_type": "code",
   "execution_count": 8,
   "metadata": {},
   "outputs": [
    {
     "name": "stdout",
     "output_type": "stream",
     "text": [
      "2527\n"
     ]
    },
    {
     "data": {
      "text/html": [
       "<div>\n",
       "<style scoped>\n",
       "    .dataframe tbody tr th:only-of-type {\n",
       "        vertical-align: middle;\n",
       "    }\n",
       "\n",
       "    .dataframe tbody tr th {\n",
       "        vertical-align: top;\n",
       "    }\n",
       "\n",
       "    .dataframe thead th {\n",
       "        text-align: right;\n",
       "    }\n",
       "</style>\n",
       "<table border=\"1\" class=\"dataframe\">\n",
       "  <thead>\n",
       "    <tr style=\"text-align: right;\">\n",
       "      <th></th>\n",
       "      <th>Roll</th>\n",
       "      <th>Subdirectory</th>\n",
       "      <th>Images_processed</th>\n",
       "      <th>Images_dot</th>\n",
       "      <th>Images_num</th>\n",
       "      <th>Images_loss</th>\n",
       "      <th>Images_outlier</th>\n",
       "      <th>Process_time</th>\n",
       "      <th>Process_timestamp</th>\n",
       "      <th>User</th>\n",
       "      <th>subdir_id</th>\n",
       "      <th>Directory</th>\n",
       "    </tr>\n",
       "  </thead>\n",
       "  <tbody>\n",
       "    <tr>\n",
       "      <th>0</th>\n",
       "      <td>R014207766</td>\n",
       "      <td>SEPT-5-TO-SEPT-7-1964</td>\n",
       "      <td>0</td>\n",
       "      <td>0</td>\n",
       "      <td>0</td>\n",
       "      <td>0</td>\n",
       "      <td>0</td>\n",
       "      <td>150.818172</td>\n",
       "      <td>2023-03-05 17:42</td>\n",
       "      <td>Rav Super1</td>\n",
       "      <td>R014207766_SEPT-5-TO-SEPT-7-1964</td>\n",
       "      <td>NaN</td>\n",
       "    </tr>\n",
       "    <tr>\n",
       "      <th>1</th>\n",
       "      <td>R014207709</td>\n",
       "      <td>C-109-06</td>\n",
       "      <td>0</td>\n",
       "      <td>0</td>\n",
       "      <td>0</td>\n",
       "      <td>0</td>\n",
       "      <td>0</td>\n",
       "      <td>153.643195</td>\n",
       "      <td>2023-03-05 17:45</td>\n",
       "      <td>Rav Super1</td>\n",
       "      <td>R014207709_C-109-06</td>\n",
       "      <td>NaN</td>\n",
       "    </tr>\n",
       "    <tr>\n",
       "      <th>2</th>\n",
       "      <td>R014207819</td>\n",
       "      <td>4763-50</td>\n",
       "      <td>370</td>\n",
       "      <td>0</td>\n",
       "      <td>242</td>\n",
       "      <td>1</td>\n",
       "      <td>127</td>\n",
       "      <td>552.268329</td>\n",
       "      <td>2023-03-05 17:45</td>\n",
       "      <td>Rav Super2</td>\n",
       "      <td>R014207819_4763-50</td>\n",
       "      <td>NaN</td>\n",
       "    </tr>\n",
       "    <tr>\n",
       "      <th>3</th>\n",
       "      <td>R014207807</td>\n",
       "      <td>4954</td>\n",
       "      <td>0</td>\n",
       "      <td>0</td>\n",
       "      <td>0</td>\n",
       "      <td>0</td>\n",
       "      <td>0</td>\n",
       "      <td>193.770520</td>\n",
       "      <td>2023-03-05 17:46</td>\n",
       "      <td>Rav Super3</td>\n",
       "      <td>R014207807_4954</td>\n",
       "      <td>NaN</td>\n",
       "    </tr>\n",
       "    <tr>\n",
       "      <th>4</th>\n",
       "      <td>R014207763</td>\n",
       "      <td>SEPT-23-TO-OCT-2-1965</td>\n",
       "      <td>0</td>\n",
       "      <td>0</td>\n",
       "      <td>0</td>\n",
       "      <td>0</td>\n",
       "      <td>0</td>\n",
       "      <td>275.782856</td>\n",
       "      <td>50:46.9</td>\n",
       "      <td>Rav Super5</td>\n",
       "      <td>R014207763_SEPT-23-TO-OCT-2-1965</td>\n",
       "      <td>NaN</td>\n",
       "    </tr>\n",
       "  </tbody>\n",
       "</table>\n",
       "</div>"
      ],
      "text/plain": [
       "         Roll           Subdirectory  Images_processed  Images_dot  \\\n",
       "0  R014207766  SEPT-5-TO-SEPT-7-1964                 0           0   \n",
       "1  R014207709               C-109-06                 0           0   \n",
       "2  R014207819                4763-50               370           0   \n",
       "3  R014207807                   4954                 0           0   \n",
       "4  R014207763  SEPT-23-TO-OCT-2-1965                 0           0   \n",
       "\n",
       "   Images_num  Images_loss  Images_outlier  Process_time Process_timestamp  \\\n",
       "0           0            0               0    150.818172  2023-03-05 17:42   \n",
       "1           0            0               0    153.643195  2023-03-05 17:45   \n",
       "2         242            1             127    552.268329  2023-03-05 17:45   \n",
       "3           0            0               0    193.770520  2023-03-05 17:46   \n",
       "4           0            0               0    275.782856           50:46.9   \n",
       "\n",
       "         User                         subdir_id Directory  \n",
       "0  Rav Super1  R014207766_SEPT-5-TO-SEPT-7-1964       NaN  \n",
       "1  Rav Super1               R014207709_C-109-06       NaN  \n",
       "2  Rav Super2                R014207819_4763-50       NaN  \n",
       "3  Rav Super3                   R014207807_4954       NaN  \n",
       "4  Rav Super5  R014207763_SEPT-23-TO-OCT-2-1965       NaN  "
      ]
     },
     "execution_count": 8,
     "metadata": {},
     "output_type": "execute_result"
    }
   ],
   "source": [
    "df_process_log = pd.read_csv(logDir + 'process_log.csv')\n",
    "print(len(df_process_log))\n",
    "df_process_log.head()"
   ]
  },
  {
   "cell_type": "code",
   "execution_count": 9,
   "metadata": {},
   "outputs": [
    {
     "name": "stdout",
     "output_type": "stream",
     "text": [
      "2527\n"
     ]
    },
    {
     "data": {
      "text/html": [
       "<div>\n",
       "<style scoped>\n",
       "    .dataframe tbody tr th:only-of-type {\n",
       "        vertical-align: middle;\n",
       "    }\n",
       "\n",
       "    .dataframe tbody tr th {\n",
       "        vertical-align: top;\n",
       "    }\n",
       "\n",
       "    .dataframe thead th {\n",
       "        text-align: right;\n",
       "    }\n",
       "</style>\n",
       "<table border=\"1\" class=\"dataframe\">\n",
       "  <thead>\n",
       "    <tr style=\"text-align: right;\">\n",
       "      <th></th>\n",
       "      <th>Roll</th>\n",
       "      <th>Subdirectory</th>\n",
       "      <th>Images_processed</th>\n",
       "      <th>Images_dot</th>\n",
       "      <th>Images_num</th>\n",
       "      <th>Images_loss</th>\n",
       "      <th>Images_outlier</th>\n",
       "      <th>Process_time</th>\n",
       "      <th>Process_timestamp</th>\n",
       "      <th>User</th>\n",
       "      <th>subdir_id</th>\n",
       "      <th>Directory</th>\n",
       "    </tr>\n",
       "  </thead>\n",
       "  <tbody>\n",
       "    <tr>\n",
       "      <th>0</th>\n",
       "      <td>R014207766</td>\n",
       "      <td>SEPT-5-TO-SEPT-7-1964</td>\n",
       "      <td>0</td>\n",
       "      <td>0</td>\n",
       "      <td>0</td>\n",
       "      <td>0</td>\n",
       "      <td>0</td>\n",
       "      <td>150.818172</td>\n",
       "      <td>2023-03-05 17:42</td>\n",
       "      <td>Rav Super1</td>\n",
       "      <td>R014207766_SEPT-5-TO-SEPT-7-1964</td>\n",
       "      <td>R014207766</td>\n",
       "    </tr>\n",
       "    <tr>\n",
       "      <th>1</th>\n",
       "      <td>R014207709</td>\n",
       "      <td>C-109-06</td>\n",
       "      <td>0</td>\n",
       "      <td>0</td>\n",
       "      <td>0</td>\n",
       "      <td>0</td>\n",
       "      <td>0</td>\n",
       "      <td>153.643195</td>\n",
       "      <td>2023-03-05 17:45</td>\n",
       "      <td>Rav Super1</td>\n",
       "      <td>R014207709_C-109-06</td>\n",
       "      <td>R014207709</td>\n",
       "    </tr>\n",
       "    <tr>\n",
       "      <th>2</th>\n",
       "      <td>R014207819</td>\n",
       "      <td>4763-50</td>\n",
       "      <td>370</td>\n",
       "      <td>0</td>\n",
       "      <td>242</td>\n",
       "      <td>1</td>\n",
       "      <td>127</td>\n",
       "      <td>552.268329</td>\n",
       "      <td>2023-03-05 17:45</td>\n",
       "      <td>Rav Super2</td>\n",
       "      <td>R014207819_4763-50</td>\n",
       "      <td>R014207819</td>\n",
       "    </tr>\n",
       "    <tr>\n",
       "      <th>3</th>\n",
       "      <td>R014207807</td>\n",
       "      <td>4954</td>\n",
       "      <td>0</td>\n",
       "      <td>0</td>\n",
       "      <td>0</td>\n",
       "      <td>0</td>\n",
       "      <td>0</td>\n",
       "      <td>193.770520</td>\n",
       "      <td>2023-03-05 17:46</td>\n",
       "      <td>Rav Super3</td>\n",
       "      <td>R014207807_4954</td>\n",
       "      <td>R014207807</td>\n",
       "    </tr>\n",
       "    <tr>\n",
       "      <th>4</th>\n",
       "      <td>R014207763</td>\n",
       "      <td>SEPT-23-TO-OCT-2-1965</td>\n",
       "      <td>0</td>\n",
       "      <td>0</td>\n",
       "      <td>0</td>\n",
       "      <td>0</td>\n",
       "      <td>0</td>\n",
       "      <td>275.782856</td>\n",
       "      <td>50:46.9</td>\n",
       "      <td>Rav Super5</td>\n",
       "      <td>R014207763_SEPT-23-TO-OCT-2-1965</td>\n",
       "      <td>R014207763</td>\n",
       "    </tr>\n",
       "  </tbody>\n",
       "</table>\n",
       "</div>"
      ],
      "text/plain": [
       "         Roll           Subdirectory  Images_processed  Images_dot  \\\n",
       "0  R014207766  SEPT-5-TO-SEPT-7-1964                 0           0   \n",
       "1  R014207709               C-109-06                 0           0   \n",
       "2  R014207819                4763-50               370           0   \n",
       "3  R014207807                   4954                 0           0   \n",
       "4  R014207763  SEPT-23-TO-OCT-2-1965                 0           0   \n",
       "\n",
       "   Images_num  Images_loss  Images_outlier  Process_time Process_timestamp  \\\n",
       "0           0            0               0    150.818172  2023-03-05 17:42   \n",
       "1           0            0               0    153.643195  2023-03-05 17:45   \n",
       "2         242            1             127    552.268329  2023-03-05 17:45   \n",
       "3           0            0               0    193.770520  2023-03-05 17:46   \n",
       "4           0            0               0    275.782856           50:46.9   \n",
       "\n",
       "         User                         subdir_id   Directory  \n",
       "0  Rav Super1  R014207766_SEPT-5-TO-SEPT-7-1964  R014207766  \n",
       "1  Rav Super1               R014207709_C-109-06  R014207709  \n",
       "2  Rav Super2                R014207819_4763-50  R014207819  \n",
       "3  Rav Super3                   R014207807_4954  R014207807  \n",
       "4  Rav Super5  R014207763_SEPT-23-TO-OCT-2-1965  R014207763  "
      ]
     },
     "execution_count": 9,
     "metadata": {},
     "output_type": "execute_result"
    }
   ],
   "source": [
    "df_process_log.loc[pd.isna(df_process_log['Directory']), 'Directory'] = df_process_log['Roll']\n",
    "print(len(df_process_log))\n",
    "df_process_log.head()"
   ]
  },
  {
   "cell_type": "code",
   "execution_count": 10,
   "metadata": {},
   "outputs": [
    {
     "data": {
      "text/html": [
       "<div>\n",
       "<style scoped>\n",
       "    .dataframe tbody tr th:only-of-type {\n",
       "        vertical-align: middle;\n",
       "    }\n",
       "\n",
       "    .dataframe tbody tr th {\n",
       "        vertical-align: top;\n",
       "    }\n",
       "\n",
       "    .dataframe thead th {\n",
       "        text-align: right;\n",
       "    }\n",
       "</style>\n",
       "<table border=\"1\" class=\"dataframe\">\n",
       "  <thead>\n",
       "    <tr style=\"text-align: right;\">\n",
       "      <th></th>\n",
       "      <th>Roll</th>\n",
       "      <th>Subdirectory</th>\n",
       "      <th>Images_processed</th>\n",
       "      <th>Images_dot</th>\n",
       "      <th>Images_num</th>\n",
       "      <th>Images_loss</th>\n",
       "      <th>Images_outlier</th>\n",
       "      <th>Process_time</th>\n",
       "      <th>Process_timestamp</th>\n",
       "      <th>User</th>\n",
       "      <th>subdir_id</th>\n",
       "      <th>Directory</th>\n",
       "    </tr>\n",
       "  </thead>\n",
       "  <tbody>\n",
       "  </tbody>\n",
       "</table>\n",
       "</div>"
      ],
      "text/plain": [
       "Empty DataFrame\n",
       "Columns: [Roll, Subdirectory, Images_processed, Images_dot, Images_num, Images_loss, Images_outlier, Process_time, Process_timestamp, User, subdir_id, Directory]\n",
       "Index: []"
      ]
     },
     "execution_count": 10,
     "metadata": {},
     "output_type": "execute_result"
    }
   ],
   "source": [
    "df_process_log.loc[pd.isna(df_process_log['Directory'])]"
   ]
  },
  {
   "cell_type": "code",
   "execution_count": 11,
   "metadata": {
    "scrolled": true
   },
   "outputs": [
    {
     "name": "stdout",
     "output_type": "stream",
     "text": [
      "2527\n"
     ]
    },
    {
     "data": {
      "text/html": [
       "<div>\n",
       "<style scoped>\n",
       "    .dataframe tbody tr th:only-of-type {\n",
       "        vertical-align: middle;\n",
       "    }\n",
       "\n",
       "    .dataframe tbody tr th {\n",
       "        vertical-align: top;\n",
       "    }\n",
       "\n",
       "    .dataframe thead th {\n",
       "        text-align: right;\n",
       "    }\n",
       "</style>\n",
       "<table border=\"1\" class=\"dataframe\">\n",
       "  <thead>\n",
       "    <tr style=\"text-align: right;\">\n",
       "      <th></th>\n",
       "      <th>Directory</th>\n",
       "      <th>Subdirectory</th>\n",
       "      <th>Images_processed</th>\n",
       "      <th>Images_dot</th>\n",
       "      <th>Images_num</th>\n",
       "      <th>Images_loss</th>\n",
       "      <th>Images_outlier</th>\n",
       "      <th>Process_time</th>\n",
       "      <th>Process_timestamp</th>\n",
       "      <th>User</th>\n",
       "      <th>subdir_id</th>\n",
       "    </tr>\n",
       "  </thead>\n",
       "  <tbody>\n",
       "    <tr>\n",
       "      <th>0</th>\n",
       "      <td>R014207766</td>\n",
       "      <td>SEPT-5-TO-SEPT-7-1964</td>\n",
       "      <td>0</td>\n",
       "      <td>0</td>\n",
       "      <td>0</td>\n",
       "      <td>0</td>\n",
       "      <td>0</td>\n",
       "      <td>150.818172</td>\n",
       "      <td>2023-03-05 17:42</td>\n",
       "      <td>Rav Super1</td>\n",
       "      <td>R014207766_SEPT-5-TO-SEPT-7-1964</td>\n",
       "    </tr>\n",
       "    <tr>\n",
       "      <th>1</th>\n",
       "      <td>R014207709</td>\n",
       "      <td>C-109-06</td>\n",
       "      <td>0</td>\n",
       "      <td>0</td>\n",
       "      <td>0</td>\n",
       "      <td>0</td>\n",
       "      <td>0</td>\n",
       "      <td>153.643195</td>\n",
       "      <td>2023-03-05 17:45</td>\n",
       "      <td>Rav Super1</td>\n",
       "      <td>R014207709_C-109-06</td>\n",
       "    </tr>\n",
       "    <tr>\n",
       "      <th>2</th>\n",
       "      <td>R014207819</td>\n",
       "      <td>4763-50</td>\n",
       "      <td>370</td>\n",
       "      <td>0</td>\n",
       "      <td>242</td>\n",
       "      <td>1</td>\n",
       "      <td>127</td>\n",
       "      <td>552.268329</td>\n",
       "      <td>2023-03-05 17:45</td>\n",
       "      <td>Rav Super2</td>\n",
       "      <td>R014207819_4763-50</td>\n",
       "    </tr>\n",
       "    <tr>\n",
       "      <th>3</th>\n",
       "      <td>R014207807</td>\n",
       "      <td>4954</td>\n",
       "      <td>0</td>\n",
       "      <td>0</td>\n",
       "      <td>0</td>\n",
       "      <td>0</td>\n",
       "      <td>0</td>\n",
       "      <td>193.770520</td>\n",
       "      <td>2023-03-05 17:46</td>\n",
       "      <td>Rav Super3</td>\n",
       "      <td>R014207807_4954</td>\n",
       "    </tr>\n",
       "    <tr>\n",
       "      <th>4</th>\n",
       "      <td>R014207763</td>\n",
       "      <td>SEPT-23-TO-OCT-2-1965</td>\n",
       "      <td>0</td>\n",
       "      <td>0</td>\n",
       "      <td>0</td>\n",
       "      <td>0</td>\n",
       "      <td>0</td>\n",
       "      <td>275.782856</td>\n",
       "      <td>50:46.9</td>\n",
       "      <td>Rav Super5</td>\n",
       "      <td>R014207763_SEPT-23-TO-OCT-2-1965</td>\n",
       "    </tr>\n",
       "  </tbody>\n",
       "</table>\n",
       "</div>"
      ],
      "text/plain": [
       "    Directory           Subdirectory  Images_processed  Images_dot  \\\n",
       "0  R014207766  SEPT-5-TO-SEPT-7-1964                 0           0   \n",
       "1  R014207709               C-109-06                 0           0   \n",
       "2  R014207819                4763-50               370           0   \n",
       "3  R014207807                   4954                 0           0   \n",
       "4  R014207763  SEPT-23-TO-OCT-2-1965                 0           0   \n",
       "\n",
       "   Images_num  Images_loss  Images_outlier  Process_time Process_timestamp  \\\n",
       "0           0            0               0    150.818172  2023-03-05 17:42   \n",
       "1           0            0               0    153.643195  2023-03-05 17:45   \n",
       "2         242            1             127    552.268329  2023-03-05 17:45   \n",
       "3           0            0               0    193.770520  2023-03-05 17:46   \n",
       "4           0            0               0    275.782856           50:46.9   \n",
       "\n",
       "         User                         subdir_id  \n",
       "0  Rav Super1  R014207766_SEPT-5-TO-SEPT-7-1964  \n",
       "1  Rav Super1               R014207709_C-109-06  \n",
       "2  Rav Super2                R014207819_4763-50  \n",
       "3  Rav Super3                   R014207807_4954  \n",
       "4  Rav Super5  R014207763_SEPT-23-TO-OCT-2-1965  "
      ]
     },
     "execution_count": 11,
     "metadata": {},
     "output_type": "execute_result"
    }
   ],
   "source": [
    "df_process_log = df_process_log[['Directory', 'Subdirectory', 'Images_processed', 'Images_dot', 'Images_num', 'Images_loss',\n",
    "                                'Images_outlier', 'Process_time', 'Process_timestamp', 'User', 'subdir_id']]\n",
    "print(len(df_process_log))\n",
    "df_process_log.head()"
   ]
  },
  {
   "cell_type": "code",
   "execution_count": 12,
   "metadata": {},
   "outputs": [],
   "source": [
    "df_process_log.to_csv(logDir + 'process_log.csv', index=False)"
   ]
  },
  {
   "cell_type": "markdown",
   "metadata": {},
   "source": [
    "#  "
   ]
  },
  {
   "cell_type": "markdown",
   "metadata": {},
   "source": [
    "#### Generate processed_inventory:"
   ]
  },
  {
   "cell_type": "code",
   "execution_count": 23,
   "metadata": {},
   "outputs": [
    {
     "name": "stdout",
     "output_type": "stream",
     "text": [
      "R014207711\n",
      "R014207807\n",
      "R014207808\n",
      "R014207810\n",
      "R014207811\n",
      "R014207813\n",
      "R014207817\n",
      "R014207818\n",
      "R014207819\n",
      "R014207820\n",
      "R014207822\n",
      "R014207825\n",
      "R014207826\n",
      "R014207827\n",
      "R014207828\n",
      "R014207829\n",
      "R014207830\n",
      "R014207831\n",
      "R014207833\n",
      "R014207834\n",
      "R014207835\n",
      "R014207836\n",
      "R014207837\n",
      "R014207838\n",
      "R014207839\n",
      "R014207843\n",
      "R014207886\n",
      "R014207892\n",
      "R014207941\n",
      "R014207944\n",
      "R014207945\n",
      "R014207950\n",
      "R014207952\n",
      "R014207961\n",
      "R014207963\n",
      "R014207969\n",
      "R028224481\n"
     ]
    }
   ],
   "source": [
    "df_inventory = pd.DataFrame()\n",
    "for directory in os.listdir(processedDir):\n",
    "    print(directory)\n",
    "    for subdirectory in os.listdir(processedDir + directory):\n",
    "        n_images = len(os.listdir(processedDir + directory + '/' + subdirectory))\n",
    "        df_inventory_ = pd.DataFrame({\n",
    "            'Directory': directory, \n",
    "            'Subdirectory': subdirectory,\n",
    "            'images': n_images,\n",
    "            'subdir_id': directory + '_' + subdirectory\n",
    "        }, index=[0])\n",
    "        df_inventory = pd.concat([df_inventory, df_inventory_], axis=0, ignore_index=True)"
   ]
  },
  {
   "cell_type": "code",
   "execution_count": 24,
   "metadata": {},
   "outputs": [
    {
     "name": "stdout",
     "output_type": "stream",
     "text": [
      "1656\n"
     ]
    },
    {
     "data": {
      "text/html": [
       "<div>\n",
       "<style scoped>\n",
       "    .dataframe tbody tr th:only-of-type {\n",
       "        vertical-align: middle;\n",
       "    }\n",
       "\n",
       "    .dataframe tbody tr th {\n",
       "        vertical-align: top;\n",
       "    }\n",
       "\n",
       "    .dataframe thead th {\n",
       "        text-align: right;\n",
       "    }\n",
       "</style>\n",
       "<table border=\"1\" class=\"dataframe\">\n",
       "  <thead>\n",
       "    <tr style=\"text-align: right;\">\n",
       "      <th></th>\n",
       "      <th>Directory</th>\n",
       "      <th>Subdirectory</th>\n",
       "      <th>images</th>\n",
       "      <th>subdir_id</th>\n",
       "    </tr>\n",
       "  </thead>\n",
       "  <tbody>\n",
       "    <tr>\n",
       "      <th>0</th>\n",
       "      <td>R014207711</td>\n",
       "      <td>25</td>\n",
       "      <td>499</td>\n",
       "      <td>R014207711_25</td>\n",
       "    </tr>\n",
       "    <tr>\n",
       "      <th>1</th>\n",
       "      <td>R014207711</td>\n",
       "      <td>30</td>\n",
       "      <td>220</td>\n",
       "      <td>R014207711_30</td>\n",
       "    </tr>\n",
       "    <tr>\n",
       "      <th>2</th>\n",
       "      <td>R014207711</td>\n",
       "      <td>34</td>\n",
       "      <td>180</td>\n",
       "      <td>R014207711_34</td>\n",
       "    </tr>\n",
       "    <tr>\n",
       "      <th>3</th>\n",
       "      <td>R014207711</td>\n",
       "      <td>35</td>\n",
       "      <td>104</td>\n",
       "      <td>R014207711_35</td>\n",
       "    </tr>\n",
       "    <tr>\n",
       "      <th>4</th>\n",
       "      <td>R014207711</td>\n",
       "      <td>39</td>\n",
       "      <td>217</td>\n",
       "      <td>R014207711_39</td>\n",
       "    </tr>\n",
       "  </tbody>\n",
       "</table>\n",
       "</div>"
      ],
      "text/plain": [
       "    Directory Subdirectory  images      subdir_id\n",
       "0  R014207711           25     499  R014207711_25\n",
       "1  R014207711           30     220  R014207711_30\n",
       "2  R014207711           34     180  R014207711_34\n",
       "3  R014207711           35     104  R014207711_35\n",
       "4  R014207711           39     217  R014207711_39"
      ]
     },
     "execution_count": 24,
     "metadata": {},
     "output_type": "execute_result"
    }
   ],
   "source": [
    "print(len(df_inventory))\n",
    "df_inventory.head()"
   ]
  },
  {
   "cell_type": "code",
   "execution_count": 25,
   "metadata": {},
   "outputs": [],
   "source": [
    "df_inventory.to_csv(f'{logDir}image_inventory_processed.csv', index=False)"
   ]
  },
  {
   "cell_type": "markdown",
   "metadata": {},
   "source": [
    "#  "
   ]
  },
  {
   "cell_type": "markdown",
   "metadata": {},
   "source": [
    "#### Identify outstanding subdirectories to process:"
   ]
  },
  {
   "cell_type": "markdown",
   "metadata": {},
   "source": [
    "Check from process_log:"
   ]
  },
  {
   "cell_type": "markdown",
   "metadata": {},
   "source": [
    "Look at duplicates:"
   ]
  },
  {
   "cell_type": "code",
   "execution_count": null,
   "metadata": {},
   "outputs": [],
   "source": [
    "df_p1_ = df_process_log[df_process_log.duplicated(subset=['subdir_id'], keep=False)]\n",
    "df_p1_ = df_p1_.sort_values(['subdir_id', 'Process_timestamp'])\n",
    "print(len(df_p1_))\n",
    "df_p1_.head(10)"
   ]
  },
  {
   "cell_type": "markdown",
   "metadata": {},
   "source": [
    "Find any subdirectories that have not been processed:"
   ]
  },
  {
   "cell_type": "code",
   "execution_count": null,
   "metadata": {},
   "outputs": [],
   "source": [
    "df_inventory = pd.read_csv(f'{logDir}image_inventory.csv')\r\n",
    "print(len(df_inventory))\r\n",
    "df_inventory.head()"
   ]
  },
  {
   "cell_type": "code",
   "execution_count": null,
   "metadata": {},
   "outputs": [],
   "source": [
    "subdir_ids_tot = df_inventory['subdir_id'].unique()\n",
    "subdir_ids_proc = df_p1['subdir_id'].unique()\n",
    "subdir_ids_rem = list(set(subdir_ids_tot) - set(subdir_ids_proc))\n",
    "subdir_ids_rem"
   ]
  },
  {
   "cell_type": "markdown",
   "metadata": {},
   "source": [
    "  "
   ]
  },
  {
   "cell_type": "markdown",
   "metadata": {},
   "source": [
    "Check from resultDir:"
   ]
  },
  {
   "cell_type": "code",
   "execution_count": null,
   "metadata": {},
   "outputs": [],
   "source": [
    "df_result = pd.DataFrame()\r\n",
    "i = 0\r\n",
    "for file in os.listdir(resultDir):\r\n",
    "    if 'R' in file:\r\n",
    "        directory = file\r\n",
    "        for file2 in os.listdir(resultDir + directory + '/'):\r\n",
    "            if 'result' in file2:\r\n",
    "                fn_parts = file2.split('_')\r\n",
    "                subdirectory = fn_parts[1].replace('.csv', '')\r\n",
    "                try:\r\n",
    "                    df_load = pd.read_csv(resultDir + directory + '/' + file2, sep=',')\r\n",
    "                    n = len(df_load)\r\n",
    "                except pd.errors.EmptyDataError:\r\n",
    "                    n = 0\r\n",
    "                row = pd.DataFrame({'Directory': directory, 'Subdirectory': subdirectory, 'images_result': n, 'subdir_id': f'{directory}_{subdirectory}'}, index=[i])\r\n",
    "\r\n",
    "                df_result = pd.concat([df_result, row])\r\n",
    "                i += 1\r\n",
    "                if i % 100 == 0:\r\n",
    "                    print(f'{i}: Now inspecting...{directory}/{subdirectory}')"
   ]
  },
  {
   "cell_type": "code",
   "execution_count": null,
   "metadata": {},
   "outputs": [],
   "source": [
    "print(len(df_result))\n",
    "df_result.head()"
   ]
  },
  {
   "cell_type": "code",
   "execution_count": null,
   "metadata": {},
   "outputs": [],
   "source": [
    "subdir_ids_tot = df_inventory['subdir_id'].unique()\n",
    "subdir_ids_res = df_result['subdir_id'].unique()\n",
    "subdir_ids_rem = list(set(subdir_ids_tot) - set(subdir_ids_res))\n",
    "subdir_ids_rem"
   ]
  },
  {
   "cell_type": "code",
   "execution_count": null,
   "metadata": {},
   "outputs": [],
   "source": [
    "df_p1_res = df_p1.merge(df_result, on=['Directory', 'Subdirectory', 'subdir_id'], how='left')\n",
    "print(len(df_p1_res))\n",
    "df_p1_res.head()"
   ]
  },
  {
   "cell_type": "code",
   "execution_count": null,
   "metadata": {},
   "outputs": [],
   "source": [
    "df1 = df_p1_res.loc[df_p1_res['Images_processed'] == 0]\n",
    "df2 = df_p1_res.loc[df_p1_res['images_result'] == 0]\n",
    "df3 = df_p1_res.loc[(df_p1_res['Images_processed'] == 0) | (df_p1_res['images_result'] == 0)]\n",
    "print(len(df1))\n",
    "print(len(df2))\n",
    "print(len(df3))\n",
    "df3.head()"
   ]
  },
  {
   "cell_type": "code",
   "execution_count": null,
   "metadata": {},
   "outputs": [],
   "source": [
    "#df3.to_csv(logDir + 'reprocess_list.csv', index=False)"
   ]
  },
  {
   "cell_type": "markdown",
   "metadata": {},
   "source": [
    "  "
   ]
  },
  {
   "cell_type": "markdown",
   "metadata": {},
   "source": [
    "Check mapped_coords:"
   ]
  },
  {
   "cell_type": "code",
   "execution_count": null,
   "metadata": {},
   "outputs": [],
   "source": [
    "df_mc = pd.DataFrame()\r\n",
    "i = 0\r\n",
    "for file in os.listdir(f'{resultDir}mapped_coords/'):\r\n",
    "    if 'R' in file:\r\n",
    "        directory = file\r\n",
    "        for file2 in os.listdir(f'{resultDir}mapped_coords/{directory}/'):\r\n",
    "            subdirectory = file2\r\n",
    "            n = sum('mapped_coords' in file3 for file3 in os.listdir(f'{resultDir}mapped_coords/{directory}/{subdirectory}/'))\r\n",
    "\r\n",
    "            row = pd.DataFrame({'Directory': directory, 'Subdirectory': subdirectory, 'mapped_coords_result': n, 'subdir_id': f'{directory}_{subdirectory}'}, index=[i])\r\n",
    "\r\n",
    "            df_mc = pd.concat([df_mc, row])\r\n",
    "            i += 1\r\n",
    "            if i % 100 == 0:\r\n",
    "                print(f'{i}: Now inspecting...{directory}/{subdirectory}')"
   ]
  },
  {
   "cell_type": "code",
   "execution_count": null,
   "metadata": {},
   "outputs": [],
   "source": [
    "print(len(df_mc))\n",
    "df_mc.head()"
   ]
  },
  {
   "cell_type": "code",
   "execution_count": null,
   "metadata": {},
   "outputs": [],
   "source": [
    "df_p1_mc = df_p1.merge(df_mc, on=['Directory', 'Subdirectory', 'subdir_id'], how='left')\n",
    "print(len(df_p1_mc))\n",
    "df_p1_mc.head()"
   ]
  },
  {
   "cell_type": "code",
   "execution_count": null,
   "metadata": {},
   "outputs": [],
   "source": [
    "df1 = df_p1_mc.loc[df_p1_mc['Images_processed'] == 0]\n",
    "df2 = df_p1_mc.loc[df_p1_mc['mapped_coords_result'] == 0]\n",
    "df2a = df_p1_mc.loc[df_p1_mc['mapped_coords_result'].isnull()]\n",
    "df3 = df_p1_mc.loc[(df_p1_mc['Images_processed'] == 0) | (df_p1_mc['mapped_coords_result'] == 0)]\n",
    "print(len(df1))\n",
    "print(len(df2))\n",
    "print(len(df2a))\n",
    "print(len(df3))\n",
    "df3"
   ]
  },
  {
   "cell_type": "code",
   "execution_count": null,
   "metadata": {},
   "outputs": [],
   "source": [
    "df4 = df_p1_mc.loc[(df_p1_mc['Images_processed'] != 0) & (df_p1_mc['mapped_coords_result'].isnull())]\n",
    "print(len(df4))\n",
    "df4"
   ]
  },
  {
   "cell_type": "code",
   "execution_count": null,
   "metadata": {},
   "outputs": [],
   "source": [
    "#df4.to_csv(logDir + 'reprocess_list.csv', index=False)"
   ]
  },
  {
   "cell_type": "markdown",
   "metadata": {},
   "source": [
    "#  "
   ]
  },
  {
   "cell_type": "markdown",
   "metadata": {},
   "source": [
    "#### Concatenate results:"
   ]
  },
  {
   "cell_type": "code",
   "execution_count": null,
   "metadata": {},
   "outputs": [],
   "source": [
    "df_result = pd.DataFrame()\r\n",
    "i = 0\r\n",
    "for file in os.listdir(resultDir):\r\n",
    "    if 'R' in file:\r\n",
    "        directory = file\r\n",
    "        for file2 in os.listdir(resultDir + directory + '/'):\r\n",
    "            if 'result' in file2:\r\n",
    "                fn_parts = file2.split('_')\r\n",
    "                subdirectory = fn_parts[1].replace('.csv', '')\r\n",
    "                if i > 0 and i % 100 == 0:\r\n",
    "                    df_result = pd.read_csv(f'{resultDir}result_total.csv')\r\n",
    "                    print(len(df_result))\r\n",
    "                try:\r\n",
    "                    df_load = pd.read_csv(resultDir + directory + '/' + file2, sep=',')\r\n",
    "                    n = len(df_load)\r\n",
    "                except pd.errors.EmptyDataError:\r\n",
    "                    n = 0\r\n",
    "                df_result = pd.concat([df_result, df_load])\r\n",
    "                i += 1\r\n",
    "                if i % 100 == 0:\r\n",
    "                    print(f'Now saving the {i}th result...')\r\n",
    "                    df_result.to_csv(f'{resultDir}result_total.csv', index=False)"
   ]
  },
  {
   "cell_type": "markdown",
   "metadata": {},
   "source": [
    "#  "
   ]
  },
  {
   "cell_type": "markdown",
   "metadata": {},
   "source": [
    "#### Reduce columns:"
   ]
  },
  {
   "cell_type": "code",
   "execution_count": null,
   "metadata": {},
   "outputs": [],
   "source": [
    "df_result = pd.read_csv(f'{resultDir}result_total.csv')\r\n",
    "print(len(df_result))\r\n",
    "df_result.head()"
   ]
  },
  {
   "cell_type": "code",
   "execution_count": null,
   "metadata": {},
   "outputs": [],
   "source": [
    "df_result = df_result[['Directory', 'Subdirectory', 'filename', 'processed_image_class', 'fmin', 'max_depth', 'year', 'day', \n",
    "                       'hour', 'minute', 'second', 'station_number', 'satellite_number', 'day_1', 'day_2', 'day_3', \n",
    "                       'hour_1', 'hour_2', 'minute_1', 'minute_2', 'second_1', 'second_2', 'station_number_1', \n",
    "                       'station_number_2', 'metadata_type', 'is_dot', 'func_name', 'limits']] \n",
    "df_result.head()"
   ]
  },
  {
   "cell_type": "markdown",
   "metadata": {},
   "source": [
    "#  "
   ]
  },
  {
   "cell_type": "markdown",
   "metadata": {},
   "source": [
    "#### Adjust year to baseline 1962:"
   ]
  },
  {
   "cell_type": "code",
   "execution_count": null,
   "metadata": {},
   "outputs": [],
   "source": [
    "df_result['year'] = df_result['year'] + 1962"
   ]
  },
  {
   "cell_type": "code",
   "execution_count": null,
   "metadata": {},
   "outputs": [],
   "source": [
    "df1 = df_result.copy(deep=True)\n",
    "df1['count'] = 1\n",
    "df1 = df1.groupby(['year']).sum()\n",
    "df1 = df1.reset_index()\n",
    "df1[['year', 'count']]"
   ]
  },
  {
   "cell_type": "markdown",
   "metadata": {},
   "source": [
    "#  "
   ]
  },
  {
   "cell_type": "markdown",
   "metadata": {},
   "source": [
    "#### Check day digits are < 10, reprocess day of the year:"
   ]
  },
  {
   "cell_type": "code",
   "execution_count": null,
   "metadata": {},
   "outputs": [],
   "source": [
    "df_result[['day_1', 'day_2', 'day_3', 'day']].sample(10)"
   ]
  },
  {
   "cell_type": "code",
   "execution_count": null,
   "metadata": {},
   "outputs": [],
   "source": [
    "sns.histplot(data=df_result, x='day_1')"
   ]
  },
  {
   "cell_type": "code",
   "execution_count": null,
   "metadata": {},
   "outputs": [],
   "source": [
    "df_result['day_1'] = df_result['day_1'].apply(lambda x: np.nan if x>9 else x)\n",
    "df_result['day_1'] = df_result['day_1'].astype('Int64')"
   ]
  },
  {
   "cell_type": "code",
   "execution_count": null,
   "metadata": {},
   "outputs": [],
   "source": [
    "sns.histplot(data=df_result, x='day_1')"
   ]
  },
  {
   "cell_type": "code",
   "execution_count": null,
   "metadata": {},
   "outputs": [],
   "source": [
    "sns.histplot(data=df_result, x='day_2')"
   ]
  },
  {
   "cell_type": "code",
   "execution_count": null,
   "metadata": {},
   "outputs": [],
   "source": [
    "df_result['day_2'] = df_result['day_2'].apply(lambda x: np.nan if x>9 else x)\n",
    "df_result['day_2'] = df_result['day_2'].astype('Int64')"
   ]
  },
  {
   "cell_type": "code",
   "execution_count": null,
   "metadata": {},
   "outputs": [],
   "source": [
    "sns.histplot(data=df_result, x='day_2')"
   ]
  },
  {
   "cell_type": "code",
   "execution_count": null,
   "metadata": {},
   "outputs": [],
   "source": [
    "sns.histplot(data=df_result, x='day_3')"
   ]
  },
  {
   "cell_type": "code",
   "execution_count": null,
   "metadata": {},
   "outputs": [],
   "source": [
    "df_result['day_3'] = df_result['day_3'].apply(lambda x: np.nan if x>9 else x)\n",
    "df_result['day_3'] = df_result['day_3'].astype('Int64')"
   ]
  },
  {
   "cell_type": "code",
   "execution_count": null,
   "metadata": {},
   "outputs": [],
   "source": [
    "sns.histplot(data=df_result, x='day_3')"
   ]
  },
  {
   "cell_type": "code",
   "execution_count": null,
   "metadata": {},
   "outputs": [],
   "source": [
    "df_result_daycheck = df_result[~pd.isna(df_result['day_1'])]\n",
    "df_result_daycheck = df_result_daycheck[~pd.isna(df_result_daycheck['day_2'])]\n",
    "df_result_daycheck = df_result_daycheck[~pd.isna(df_result_daycheck['day_3'])]\n",
    "df_result_daycheck['day'] = df_result_daycheck['day_1'].astype(str) + df_result_daycheck['day_2'].astype(str) + df_result_daycheck['day_3'].astype(str)\n",
    "df_result_daycheck['day'] = df_result_daycheck['day'].astype(int)"
   ]
  },
  {
   "cell_type": "code",
   "execution_count": null,
   "metadata": {},
   "outputs": [],
   "source": [
    "print(len(df_result_daycheck))\n",
    "df_result_daycheck[['day_1', 'day_2', 'day_3', 'day']].sample(10)"
   ]
  },
  {
   "cell_type": "code",
   "execution_count": null,
   "metadata": {},
   "outputs": [],
   "source": [
    "df_result_nullday = df_result.loc[pd.isna(df_result['day_1']) | pd.isna(df_result['day_2']) | pd.isna(df_result['day_3'])]"
   ]
  },
  {
   "cell_type": "code",
   "execution_count": null,
   "metadata": {},
   "outputs": [],
   "source": [
    "print(len(df_result_nullday))\n",
    "df_result_nullday[['day_1', 'day_2', 'day_3', 'day']].sample(10)"
   ]
  },
  {
   "cell_type": "code",
   "execution_count": null,
   "metadata": {},
   "outputs": [],
   "source": [
    "df_result_nullday['day'] = np.nan\n",
    "df_result_nullday[['day_1', 'day_2', 'day_3', 'day']].sample(10)"
   ]
  },
  {
   "cell_type": "code",
   "execution_count": null,
   "metadata": {},
   "outputs": [],
   "source": [
    "df_result2 = pd.concat([df_result_daycheck, df_result_nullday])\n",
    "print(len(df_result2))\n",
    "df_result2.head()"
   ]
  },
  {
   "cell_type": "markdown",
   "metadata": {},
   "source": [
    "#  "
   ]
  },
  {
   "cell_type": "markdown",
   "metadata": {},
   "source": [
    "#### Check hour digits are < 10, reprocess hour:"
   ]
  },
  {
   "cell_type": "code",
   "execution_count": null,
   "metadata": {},
   "outputs": [],
   "source": [
    "df_result2[['hour_1', 'hour_2', 'hour']].sample(10)"
   ]
  },
  {
   "cell_type": "code",
   "execution_count": null,
   "metadata": {},
   "outputs": [],
   "source": [
    "sns.histplot(data=df_result2, x='hour_1')"
   ]
  },
  {
   "cell_type": "code",
   "execution_count": null,
   "metadata": {},
   "outputs": [],
   "source": [
    "df_result2['hour_1'] = df_result2['hour_1'].apply(lambda x: np.nan if x>9 else x)\n",
    "df_result2['hour_1'] = df_result2['hour_1'].astype('Int64')"
   ]
  },
  {
   "cell_type": "code",
   "execution_count": null,
   "metadata": {},
   "outputs": [],
   "source": [
    "sns.histplot(data=df_result2, x='hour_1')"
   ]
  },
  {
   "cell_type": "code",
   "execution_count": null,
   "metadata": {},
   "outputs": [],
   "source": [
    "sns.histplot(data=df_result2, x='hour_2')"
   ]
  },
  {
   "cell_type": "code",
   "execution_count": null,
   "metadata": {},
   "outputs": [],
   "source": [
    "df_result2['hour_2'] = df_result2['hour_2'].apply(lambda x: np.nan if x>9 else x)\n",
    "df_result2['hour_2'] = df_result2['hour_2'].astype('Int64')"
   ]
  },
  {
   "cell_type": "code",
   "execution_count": null,
   "metadata": {},
   "outputs": [],
   "source": [
    "sns.histplot(data=df_result2, x='hour_2')"
   ]
  },
  {
   "cell_type": "code",
   "execution_count": null,
   "metadata": {},
   "outputs": [],
   "source": [
    "df_result_hourcheck = df_result2[~pd.isna(df_result2['hour_1'])]\n",
    "df_result_hourcheck = df_result_hourcheck[~pd.isna(df_result_hourcheck['hour_2'])]\n",
    "df_result_hourcheck['hour'] = df_result_hourcheck['hour_1'].astype(str) + df_result_hourcheck['hour_2'].astype(str)\n",
    "df_result_hourcheck['hour'] = df_result_hourcheck['hour'].astype(int)"
   ]
  },
  {
   "cell_type": "code",
   "execution_count": null,
   "metadata": {},
   "outputs": [],
   "source": [
    "print(len(df_result_hourcheck))\n",
    "df_result_hourcheck[['hour_1', 'hour_2', 'hour']].sample(10)"
   ]
  },
  {
   "cell_type": "code",
   "execution_count": null,
   "metadata": {},
   "outputs": [],
   "source": [
    "print(len(df_result_hourcheck))\n",
    "df_result_hourcheck[['hour_1', 'hour_2', 'hour']].sample(10)"
   ]
  },
  {
   "cell_type": "code",
   "execution_count": null,
   "metadata": {},
   "outputs": [],
   "source": [
    "df_result_nullhour = df_result2.loc[pd.isna(df_result2['hour_1']) | pd.isna(df_result2['hour_2'])]"
   ]
  },
  {
   "cell_type": "code",
   "execution_count": null,
   "metadata": {},
   "outputs": [],
   "source": [
    "print(len(df_result_nullhour))\n",
    "df_result_nullhour[['hour_1', 'hour_2', 'hour']].sample(10)"
   ]
  },
  {
   "cell_type": "code",
   "execution_count": null,
   "metadata": {},
   "outputs": [],
   "source": [
    "df_result3 = pd.concat([df_result_hourcheck, df_result_nullhour])\n",
    "print(len(df_result3))\n",
    "df_result3.head()"
   ]
  },
  {
   "cell_type": "markdown",
   "metadata": {},
   "source": [
    "#  "
   ]
  },
  {
   "cell_type": "markdown",
   "metadata": {},
   "source": [
    "#### Check minute digits are < 10, reprocess minute:"
   ]
  },
  {
   "cell_type": "code",
   "execution_count": null,
   "metadata": {},
   "outputs": [],
   "source": [
    "df_result3[['minute_1', 'minute_2', 'minute']].sample(10)"
   ]
  },
  {
   "cell_type": "code",
   "execution_count": null,
   "metadata": {},
   "outputs": [],
   "source": [
    "sns.histplot(data=df_result3, x='minute_1')"
   ]
  },
  {
   "cell_type": "code",
   "execution_count": null,
   "metadata": {},
   "outputs": [],
   "source": [
    "df_result3['minute_1'] = df_result3['minute_1'].apply(lambda x: np.nan if x>9 else x)\n",
    "df_result3['minute_1'] = df_result3['minute_1'].astype('Int64')"
   ]
  },
  {
   "cell_type": "code",
   "execution_count": null,
   "metadata": {},
   "outputs": [],
   "source": [
    "sns.histplot(data=df_result3, x='minute_1')"
   ]
  },
  {
   "cell_type": "code",
   "execution_count": null,
   "metadata": {},
   "outputs": [],
   "source": [
    "sns.histplot(data=df_result3, x='minute_2')"
   ]
  },
  {
   "cell_type": "code",
   "execution_count": null,
   "metadata": {},
   "outputs": [],
   "source": [
    "df_result3['minute_2'] = df_result3['minute_2'].apply(lambda x: np.nan if x>9 else x)\n",
    "df_result3['minute_2'] = df_result3['minute_2'].astype('Int64')"
   ]
  },
  {
   "cell_type": "code",
   "execution_count": null,
   "metadata": {},
   "outputs": [],
   "source": [
    "sns.histplot(data=df_result3, x='minute_2')"
   ]
  },
  {
   "cell_type": "code",
   "execution_count": null,
   "metadata": {},
   "outputs": [],
   "source": [
    "df_result_minutecheck = df_result3[~pd.isna(df_result3['minute_1'])]\n",
    "df_result_minutecheck = df_result_minutecheck[~pd.isna(df_result_minutecheck['minute_2'])]\n",
    "df_result_minutecheck['minute'] = df_result_minutecheck['minute_1'].astype(str) + df_result_minutecheck['minute_2'].astype(str)\n",
    "df_result_minutecheck['minute'] = df_result_minutecheck['minute'].astype(int)"
   ]
  },
  {
   "cell_type": "code",
   "execution_count": null,
   "metadata": {},
   "outputs": [],
   "source": [
    "print(len(df_result_minutecheck))\n",
    "df_result_minutecheck[['minute_1', 'minute_2', 'minute']].sample(10)"
   ]
  },
  {
   "cell_type": "code",
   "execution_count": null,
   "metadata": {},
   "outputs": [],
   "source": [
    "df_result_nullminute = df_result3.loc[pd.isna(df_result3['minute_1']) | pd.isna(df_result3['minute_2'])]"
   ]
  },
  {
   "cell_type": "code",
   "execution_count": null,
   "metadata": {},
   "outputs": [],
   "source": [
    "print(len(df_result_nullminute))\n",
    "df_result_nullminute[['minute_1', 'minute_2', 'minute']].sample(10)"
   ]
  },
  {
   "cell_type": "code",
   "execution_count": null,
   "metadata": {},
   "outputs": [],
   "source": [
    "df_result4 = pd.concat([df_result_minutecheck, df_result_nullminute])\n",
    "print(len(df_result4))\n",
    "df_result4.head()"
   ]
  },
  {
   "cell_type": "markdown",
   "metadata": {},
   "source": [
    "#  "
   ]
  },
  {
   "cell_type": "markdown",
   "metadata": {},
   "source": [
    "#### Check second digits are < 10, reprocess second:"
   ]
  },
  {
   "cell_type": "code",
   "execution_count": null,
   "metadata": {},
   "outputs": [],
   "source": [
    "df_result4[['second_1', 'second_2', 'second']].sample(10)"
   ]
  },
  {
   "cell_type": "code",
   "execution_count": null,
   "metadata": {},
   "outputs": [],
   "source": [
    "sns.histplot(data=df_result4, x='second_1')"
   ]
  },
  {
   "cell_type": "code",
   "execution_count": null,
   "metadata": {},
   "outputs": [],
   "source": [
    "df_result4['second_1'] = df_result4['second_1'].apply(lambda x: np.nan if x>9 else x)\n",
    "df_result4['second_1'] = df_result4['second_1'].astype('Int64')"
   ]
  },
  {
   "cell_type": "code",
   "execution_count": null,
   "metadata": {},
   "outputs": [],
   "source": [
    "sns.histplot(data=df_result4, x='second_1')"
   ]
  },
  {
   "cell_type": "code",
   "execution_count": null,
   "metadata": {},
   "outputs": [],
   "source": [
    "sns.histplot(data=df_result4, x='second_2')"
   ]
  },
  {
   "cell_type": "code",
   "execution_count": null,
   "metadata": {},
   "outputs": [],
   "source": [
    "df_result4['second_2'] = df_result4['second_2'].apply(lambda x: np.nan if x>9 else x)\n",
    "df_result4['second_2'] = df_result4['second_2'].astype('Int64')"
   ]
  },
  {
   "cell_type": "code",
   "execution_count": null,
   "metadata": {},
   "outputs": [],
   "source": [
    "sns.histplot(data=df_result4, x='second_2')"
   ]
  },
  {
   "cell_type": "code",
   "execution_count": null,
   "metadata": {},
   "outputs": [],
   "source": [
    "df_result_secondcheck = df_result4[~pd.isna(df_result4['second_1'])]\n",
    "df_result_secondcheck = df_result_secondcheck[~pd.isna(df_result_secondcheck['second_2'])]\n",
    "df_result_secondcheck['second'] = df_result_secondcheck['second_1'].astype(str) + df_result_secondcheck['second_2'].astype(str)\n",
    "df_result_secondcheck['second'] = df_result_secondcheck['second'].astype(int)"
   ]
  },
  {
   "cell_type": "code",
   "execution_count": null,
   "metadata": {},
   "outputs": [],
   "source": [
    "print(len(df_result_secondcheck))\n",
    "df_result_secondcheck[['second_1', 'second_2', 'second']].sample(10)"
   ]
  },
  {
   "cell_type": "code",
   "execution_count": null,
   "metadata": {},
   "outputs": [],
   "source": [
    "df_result_nullsecond = df_result4.loc[pd.isna(df_result4['second_1']) | pd.isna(df_result4['second_2'])]"
   ]
  },
  {
   "cell_type": "code",
   "execution_count": null,
   "metadata": {},
   "outputs": [],
   "source": [
    "print(len(df_result_nullsecond))\n",
    "df_result_nullsecond[['second_1', 'second_2', 'second']].sample(10)"
   ]
  },
  {
   "cell_type": "code",
   "execution_count": null,
   "metadata": {},
   "outputs": [],
   "source": [
    "df_result5 = pd.concat([df_result_secondcheck, df_result_nullsecond])\n",
    "print(len(df_result5))\n",
    "df_result5.head()"
   ]
  },
  {
   "cell_type": "markdown",
   "metadata": {},
   "source": [
    "#  "
   ]
  },
  {
   "cell_type": "markdown",
   "metadata": {},
   "source": [
    "#### Get year for 'dot' type images:"
   ]
  },
  {
   "cell_type": "code",
   "execution_count": null,
   "metadata": {},
   "outputs": [],
   "source": [
    "df_dot = df_result5.loc[df_result5['processed_image_class'] == 'dot']\n",
    "print(len(df_dot))\n",
    "df_dot[['day_1', 'day_2', 'day_3', 'day', 'year']].sample(10)"
   ]
  },
  {
   "cell_type": "code",
   "execution_count": null,
   "metadata": {},
   "outputs": [],
   "source": [
    "sns.histplot(data=df_dot, x='day')"
   ]
  },
  {
   "cell_type": "markdown",
   "metadata": {},
   "source": [
    "Assuming that 'day' should be between 1 and 365:"
   ]
  },
  {
   "cell_type": "code",
   "execution_count": null,
   "metadata": {},
   "outputs": [],
   "source": [
    "for i in range(len(df_dot)):\r\n",
    "    day = df_dot['day'].iloc[i]\r\n",
    "    if (day < 366) & (day > 0):\r\n",
    "        df_dot['year'].iloc[i] = 1962 if day > 271 else 1963"
   ]
  },
  {
   "cell_type": "code",
   "execution_count": null,
   "metadata": {},
   "outputs": [],
   "source": [
    "df_dot[['day_1', 'day_2', 'day_3', 'day', 'year']].sample(10)"
   ]
  },
  {
   "cell_type": "code",
   "execution_count": null,
   "metadata": {},
   "outputs": [],
   "source": [
    "df_not_dot = df_result5.loc[df_result5['processed_image_class'] != 'dot']\n",
    "print(len(df_not_dot))"
   ]
  },
  {
   "cell_type": "code",
   "execution_count": null,
   "metadata": {},
   "outputs": [],
   "source": [
    "df_result6 = pd.concat([df_dot, df_not_dot])\n",
    "print(len(df_result6))\n",
    "df_result6.head()"
   ]
  },
  {
   "cell_type": "markdown",
   "metadata": {},
   "source": [
    "#  "
   ]
  },
  {
   "cell_type": "markdown",
   "metadata": {},
   "source": [
    "#### Construct timestamp:¶"
   ]
  },
  {
   "cell_type": "markdown",
   "metadata": {},
   "source": [
    "OCR read overwrite:"
   ]
  },
  {
   "cell_type": "code",
   "execution_count": null,
   "metadata": {},
   "outputs": [],
   "source": []
  },
  {
   "cell_type": "markdown",
   "metadata": {},
   "source": [
    "  "
   ]
  },
  {
   "cell_type": "code",
   "execution_count": null,
   "metadata": {},
   "outputs": [],
   "source": [
    "df_result6['day_of_year'] = df_result6['day']\n",
    "df_result6['day_of_year'] = df_result6['day_of_year'].apply(lambda x: np.nan if x==0 else x)\n",
    "df_result6['day_of_year'] = df_result6['day_of_year'].apply(lambda x: np.nan if x>365 else x)\n",
    "df_result6['month_day'] = pd.to_datetime(df_result6['day_of_year'], format='%j').dt.strftime('%m-%d')\n",
    "df_result6['month'] = df_result6['month_day'].str.split('-').str[0]\n",
    "df_result6['day'] = df_result6['month_day'].str.split('-').str[1]\n",
    "df_result6['hour'] = df_result6['hour'].apply(lambda x: np.nan if x>24 else x)\n",
    "df_result6['minute'] = df_result6['minute'].apply(lambda x: np.nan if x>60 else x)\n",
    "df_result6['second'] = df_result6['second'].apply(lambda x: np.nan if x>60 else x)\n",
    "df_result6['Timestamp'] = pd.to_datetime(df_result6[['year', 'month', 'day', 'hour', 'minute', 'second']], format='%Y-%m-%d %H:%M:%S')"
   ]
  },
  {
   "cell_type": "code",
   "execution_count": null,
   "metadata": {},
   "outputs": [],
   "source": [
    "df_result6[['year', 'month', 'day', 'hour', 'minute', 'second', 'Timestamp']].sample(10)"
   ]
  },
  {
   "cell_type": "markdown",
   "metadata": {},
   "source": [
    "#  "
   ]
  },
  {
   "cell_type": "markdown",
   "metadata": {},
   "source": [
    "#### Check station number digits are < 10, reprocess station number:"
   ]
  },
  {
   "cell_type": "code",
   "execution_count": null,
   "metadata": {},
   "outputs": [],
   "source": [
    "df_result6[['station_number_1', 'station_number_2', 'station_number']].sample(10)"
   ]
  },
  {
   "cell_type": "code",
   "execution_count": null,
   "metadata": {},
   "outputs": [],
   "source": [
    "sns.histplot(data=df_result6, x='station_number_1')"
   ]
  },
  {
   "cell_type": "code",
   "execution_count": null,
   "metadata": {},
   "outputs": [],
   "source": [
    "df_result6['station_number_1'] = df_result6['station_number_1'].apply(lambda x: np.nan if x>9 else x)\n",
    "df_result6['station_number_1'] = df_result6['station_number_1'].astype('Int64')"
   ]
  },
  {
   "cell_type": "code",
   "execution_count": null,
   "metadata": {},
   "outputs": [],
   "source": [
    "sns.histplot(data=df_result6, x='station_number_1')"
   ]
  },
  {
   "cell_type": "code",
   "execution_count": null,
   "metadata": {},
   "outputs": [],
   "source": [
    "sns.histplot(data=df_result6, x='station_number_2')"
   ]
  },
  {
   "cell_type": "code",
   "execution_count": null,
   "metadata": {},
   "outputs": [],
   "source": [
    "df_result6['station_number_2'] = df_result6['station_number_2'].apply(lambda x: np.nan if x>9 else x)\n",
    "df_result6['station_number_2'] = df_result6['station_number_2'].astype('Int64')"
   ]
  },
  {
   "cell_type": "code",
   "execution_count": null,
   "metadata": {},
   "outputs": [],
   "source": [
    "sns.histplot(data=df_result6, x='station_number_2')"
   ]
  },
  {
   "cell_type": "code",
   "execution_count": null,
   "metadata": {},
   "outputs": [],
   "source": [
    "df_result_stnnumcheck = df_result6[~pd.isna(df_result6['station_number_1'])]\n",
    "df_result_stnnumcheck = df_result_stnnumcheck[~pd.isna(df_result_stnnumcheck['station_number_2'])]\n",
    "df_result_stnnumcheck['station_number'] = df_result_stnnumcheck['station_number_1'].astype(str) + df_result_stnnumcheck['station_number_2'].astype(str)\n",
    "df_result_stnnumcheck['station_number'] = df_result_stnnumcheck['station_number'].astype(int)"
   ]
  },
  {
   "cell_type": "code",
   "execution_count": null,
   "metadata": {},
   "outputs": [],
   "source": [
    "print(len(df_result_stnnumcheck))\n",
    "df_result_stnnumcheck[['station_number_1', 'station_number_2', 'station_number']].sample(10)"
   ]
  },
  {
   "cell_type": "code",
   "execution_count": null,
   "metadata": {},
   "outputs": [],
   "source": [
    "df_result_nullstnnum = df_result6.loc[pd.isna(df_result6['station_number_1']) | pd.isna(df_result6['station_number_2'])]"
   ]
  },
  {
   "cell_type": "code",
   "execution_count": null,
   "metadata": {},
   "outputs": [],
   "source": [
    "print(len(df_result_nullstnnum))\n",
    "df_result_nullstnnum[['station_number_1', 'station_number_2', 'station_number']].sample(10)"
   ]
  },
  {
   "cell_type": "code",
   "execution_count": null,
   "metadata": {},
   "outputs": [],
   "source": [
    "df_result7 = pd.concat([df_result_stnnumcheck, df_result_nullstnnum])\n",
    "print(len(df_result7))\n",
    "df_result7.head()"
   ]
  },
  {
   "cell_type": "markdown",
   "metadata": {},
   "source": [
    "#  "
   ]
  },
  {
   "cell_type": "markdown",
   "metadata": {},
   "source": [
    "#### Retrieve correct station code:"
   ]
  },
  {
   "cell_type": "code",
   "execution_count": null,
   "metadata": {},
   "outputs": [],
   "source": [
    "df_stn_nums = pd.read_excel(f'{dataDir}station_number_changes.xlsx')\r\n",
    "df_stn_nums.head()"
   ]
  },
  {
   "cell_type": "markdown",
   "metadata": {},
   "source": [
    "Partition results by the change dates, and merge in Station_Code:"
   ]
  },
  {
   "cell_type": "code",
   "execution_count": null,
   "metadata": {},
   "outputs": [],
   "source": [
    "change_dates = df_stn_nums['Start_Date'].drop_duplicates().sort_values().reset_index(drop=True)\n",
    "change_dates"
   ]
  },
  {
   "cell_type": "code",
   "execution_count": null,
   "metadata": {},
   "outputs": [],
   "source": [
    "stn_nums = df_stn_nums['Station_Number'].unique()\n",
    "stn_nums"
   ]
  },
  {
   "cell_type": "code",
   "execution_count": null,
   "metadata": {},
   "outputs": [],
   "source": [
    "df_result8 = pd.DataFrame()\r\n",
    "for i in range(len(change_dates)):\r\n",
    "    #Before the first change date - Assume there are no station numbers before launch\r\n",
    "    if i == 0:\r\n",
    "        print(change_dates[i])\r\n",
    "        df_part = df_result7.loc[df_result7['Timestamp'] < change_dates[i]]\r\n",
    "        df_result8 = pd.concat([df_result8, df_part])\r\n",
    "        print(len(df_result8))\r\n",
    "\r\n",
    "    elif i > 0:\r\n",
    "        print(change_dates[i])\r\n",
    "        df_part_ = df_result7.loc[df_result7['Timestamp'] < change_dates[i]]\r\n",
    "        df_part_ = df_part_.loc[df_part_['Timestamp'] >= change_dates[i-1]]\r\n",
    "\r\n",
    "        df_sns = pd.DataFrame()\r\n",
    "        for sn in stn_nums:\r\n",
    "            df_sn = df_stn_nums.loc[df_stn_nums['Station_Number'] == sn]\r\n",
    "            df_sn = df_sn.loc[df_sn['Start_Date'] < change_dates[i]]\r\n",
    "            if len(df_sn) > 1:\r\n",
    "                df_sn = df_sn.sort_values('Start_Date', ascending=False)\r\n",
    "                df_sn = df_sn.iloc[:1]\r\n",
    "            df_sns = pd.concat([df_sns, df_sn])\r\n",
    "\r\n",
    "        df_part = df_part_.merge(df_sns[['Station_Number', 'Station_Code']], how='left', left_on='station_number', right_on='Station_Number')\r\n",
    "        df_result8 = pd.concat([df_result8, df_part])\r\n",
    "        print(len(df_result8))\r\n",
    "\r\n",
    "#After last change date\r\n",
    "last_change_date = change_dates[len(change_dates)-1]\r\n",
    "print(f'After {str(last_change_date)}')\r\n",
    "df_part_ = df_result7.loc[df_result7['Timestamp'] > last_change_date]\r\n",
    "\r\n",
    "df_sns = pd.DataFrame()\r\n",
    "for sn in stn_nums:\r\n",
    "    df_sn = df_stn_nums.loc[df_stn_nums['Station_Number'] == sn]\r\n",
    "    if len(df_sn) > 1:\r\n",
    "        df_sn = df_sn.sort_values('Start_Date', ascending=False)\r\n",
    "        df_sn = df_sn.iloc[:1]\r\n",
    "    df_sns = pd.concat([df_sns, df_sn])\r\n",
    "\r\n",
    "df_part = df_part_.merge(df_sns[['Station_Number', 'Station_Code']], how='left', left_on='station_number', right_on='Station_Number')\r\n",
    "df_result8 = pd.concat([df_result8, df_part])\r\n",
    "print(len(df_result8))"
   ]
  },
  {
   "cell_type": "code",
   "execution_count": null,
   "metadata": {},
   "outputs": [],
   "source": [
    "print(len(df_result8))\n",
    "df_result8[['station_number', 'Station_Number', 'Timestamp', 'Station_Code']].sample(10)"
   ]
  },
  {
   "cell_type": "markdown",
   "metadata": {},
   "source": [
    "Add part with null Timestamp:"
   ]
  },
  {
   "cell_type": "code",
   "execution_count": null,
   "metadata": {},
   "outputs": [],
   "source": [
    "df_part_null = df_result7.loc[pd.isna(df_result7['Timestamp'])]\n",
    "print(len(df_part_null))\n",
    "df_part_null.head()"
   ]
  },
  {
   "cell_type": "code",
   "execution_count": null,
   "metadata": {},
   "outputs": [],
   "source": [
    "df_result8 = pd.concat([df_result8, df_part_null])"
   ]
  },
  {
   "cell_type": "code",
   "execution_count": null,
   "metadata": {},
   "outputs": [],
   "source": [
    "print(len(df_result8))\n",
    "df_result8[['station_number', 'Station_Number', 'Timestamp', 'Station_Code']].sample(10)"
   ]
  },
  {
   "cell_type": "markdown",
   "metadata": {},
   "source": [
    "#  "
   ]
  },
  {
   "cell_type": "markdown",
   "metadata": {},
   "source": [
    "#### Get station details:¶"
   ]
  },
  {
   "cell_type": "code",
   "execution_count": 1,
   "metadata": {},
   "outputs": [
    {
     "ename": "NameError",
     "evalue": "name 'pd' is not defined",
     "output_type": "error",
     "traceback": [
      "\u001b[1;31m---------------------------------------------------------------------------\u001b[0m",
      "\u001b[1;31mNameError\u001b[0m                                 Traceback (most recent call last)",
      "\u001b[1;32m<ipython-input-1-c420879a6f36>\u001b[0m in \u001b[0;36m<module>\u001b[1;34m\u001b[0m\n\u001b[1;32m----> 1\u001b[1;33m \u001b[0mdf_stns\u001b[0m \u001b[1;33m=\u001b[0m \u001b[0mpd\u001b[0m\u001b[1;33m.\u001b[0m\u001b[0mread_csv\u001b[0m\u001b[1;33m(\u001b[0m\u001b[0mdataDir\u001b[0m \u001b[1;33m+\u001b[0m \u001b[1;34m'ground_stations.csv'\u001b[0m\u001b[1;33m)\u001b[0m\u001b[1;33m\u001b[0m\u001b[1;33m\u001b[0m\u001b[0m\n\u001b[0m\u001b[0;32m      2\u001b[0m \u001b[0mdf_stns\u001b[0m\u001b[1;33m.\u001b[0m\u001b[0mhead\u001b[0m\u001b[1;33m(\u001b[0m\u001b[1;33m)\u001b[0m\u001b[1;33m\u001b[0m\u001b[1;33m\u001b[0m\u001b[0m\n",
      "\u001b[1;31mNameError\u001b[0m: name 'pd' is not defined"
     ]
    }
   ],
   "source": [
    "df_stns = pd.read_csv(f'{dataDir}ground_stations.csv')\r\n",
    "df_stns.head()"
   ]
  },
  {
   "cell_type": "code",
   "execution_count": null,
   "metadata": {},
   "outputs": [],
   "source": [
    "df_result9 = df_result8.merge(df_stns[['Station_Code', 'Station_Name', 'Lat', 'Lng']], how='left', on='Station_Code')"
   ]
  },
  {
   "cell_type": "code",
   "execution_count": null,
   "metadata": {},
   "outputs": [],
   "source": [
    "print(len(df_result9))\n",
    "df_result9[['Station_Number', 'Timestamp', 'Station_Code', 'Station_Name', 'Lat', 'Lng']].sample(10)"
   ]
  },
  {
   "cell_type": "markdown",
   "metadata": {},
   "source": [
    "#  "
   ]
  },
  {
   "cell_type": "markdown",
   "metadata": {},
   "source": [
    "#### Save:"
   ]
  },
  {
   "cell_type": "code",
   "execution_count": null,
   "metadata": {},
   "outputs": [],
   "source": [
    "df_result9 = df_result9.sort_values('Timestamp').reset_index(drop=True)\r\n",
    "df_result9.to_csv(f'{resultDir}result_total2.csv', index=False)"
   ]
  }
 ],
 "metadata": {
  "kernelspec": {
   "display_name": "Python 3.8.8 64-bit ('venv')",
   "name": "python388jvsc74a57bd0744cc85ee56360baa38e39602d8a67e9d02d0b549901d0bb9c15ab8e8228b2da"
  },
  "language_info": {
   "name": "python",
   "version": ""
  },
  "metadata": {
   "interpreter": {
    "hash": "744cc85ee56360baa38e39602d8a67e9d02d0b549901d0bb9c15ab8e8228b2da"
   }
  }
 },
 "nbformat": 4,
 "nbformat_minor": 5
}