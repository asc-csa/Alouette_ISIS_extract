{
 "cells": [
  {
   "cell_type": "markdown",
   "id": "2233f4a8",
   "metadata": {},
   "source": [
    "# How to train keras_OCR with synthetic data\n",
    "\n",
    "## 1. Generating synthetic data\n",
    "\n",
    "### Backgrounds\n",
    "I did a little google search with keywords like \"film roll texture\", \"old film texture\", \"grey texture\", \"black texture\", \"scratch\", etc. to find something similar to the ionogram. I downloaded 30 images."
   ]
  },
  {
   "cell_type": "code",
   "execution_count": 1,
   "id": "48d40315",
   "metadata": {},
   "outputs": [
    {
     "data": {
      "text/plain": [
       "['L:/DATA/ISIS/keras_ocr/backgrounds/background_1.jpg',\n",
       " 'L:/DATA/ISIS/keras_ocr/backgrounds/background_10.jpg',\n",
       " 'L:/DATA/ISIS/keras_ocr/backgrounds/background_11.jpg',\n",
       " 'L:/DATA/ISIS/keras_ocr/backgrounds/background_12.jpg',\n",
       " 'L:/DATA/ISIS/keras_ocr/backgrounds/background_13.jpg',\n",
       " 'L:/DATA/ISIS/keras_ocr/backgrounds/background_14.jpg',\n",
       " 'L:/DATA/ISIS/keras_ocr/backgrounds/background_15.png',\n",
       " 'L:/DATA/ISIS/keras_ocr/backgrounds/background_16.jpg',\n",
       " 'L:/DATA/ISIS/keras_ocr/backgrounds/background_17.jpg',\n",
       " 'L:/DATA/ISIS/keras_ocr/backgrounds/background_18.jpg',\n",
       " 'L:/DATA/ISIS/keras_ocr/backgrounds/background_19.jpg',\n",
       " 'L:/DATA/ISIS/keras_ocr/backgrounds/background_2.jpg',\n",
       " 'L:/DATA/ISIS/keras_ocr/backgrounds/background_20.jpg',\n",
       " 'L:/DATA/ISIS/keras_ocr/backgrounds/background_21.jpg',\n",
       " 'L:/DATA/ISIS/keras_ocr/backgrounds/background_22.jpg',\n",
       " 'L:/DATA/ISIS/keras_ocr/backgrounds/background_23.jpg',\n",
       " 'L:/DATA/ISIS/keras_ocr/backgrounds/background_24.jpg',\n",
       " 'L:/DATA/ISIS/keras_ocr/backgrounds/background_25.jpg',\n",
       " 'L:/DATA/ISIS/keras_ocr/backgrounds/background_26.jpg',\n",
       " 'L:/DATA/ISIS/keras_ocr/backgrounds/background_27.jpg',\n",
       " 'L:/DATA/ISIS/keras_ocr/backgrounds/background_28.jpg',\n",
       " 'L:/DATA/ISIS/keras_ocr/backgrounds/background_29.jpg',\n",
       " 'L:/DATA/ISIS/keras_ocr/backgrounds/background_3.jpg',\n",
       " 'L:/DATA/ISIS/keras_ocr/backgrounds/background_30.jpg',\n",
       " 'L:/DATA/ISIS/keras_ocr/backgrounds/background_4.jpg',\n",
       " 'L:/DATA/ISIS/keras_ocr/backgrounds/background_5.jpg',\n",
       " 'L:/DATA/ISIS/keras_ocr/backgrounds/background_6.jpg',\n",
       " 'L:/DATA/ISIS/keras_ocr/backgrounds/background_7.jpg',\n",
       " 'L:/DATA/ISIS/keras_ocr/backgrounds/background_8.jpg',\n",
       " 'L:/DATA/ISIS/keras_ocr/backgrounds/background_9.jpg']"
      ]
     },
     "execution_count": 1,
     "metadata": {},
     "output_type": "execute_result"
    }
   ],
   "source": [
    "import tensorflow as tf\n",
    "import keras_ocr\n",
    "import os\n",
    "\n",
    "background_dir = 'L:/DATA/ISIS/keras_ocr/backgrounds/'\n",
    "backgrounds = os.listdir(background_dir)\n",
    "backgrounds = [background_dir + x for x in backgrounds]\n",
    "backgrounds"
   ]
  },
  {
   "cell_type": "markdown",
   "id": "485770e9",
   "metadata": {},
   "source": [
    "### Font and Alphabet\n",
    "The font on the ISIS ionograms is similar to a digital clock. I did a little research and found a font very similar and free. The only characters we have on the ionograms are numbers. We need to train keras_ocr with numbers and no letters to stop it from identifying letters. We'll also verify that our font has the characters we need."
   ]
  },
  {
   "cell_type": "code",
   "execution_count": 2,
   "id": "7ab65d1f",
   "metadata": {},
   "outputs": [
    {
     "data": {
      "text/plain": [
       "True"
      ]
     },
     "execution_count": 2,
     "metadata": {},
     "output_type": "execute_result"
    }
   ],
   "source": [
    "import string\n",
    "\n",
    "font_dir = 'L:/DATA/ISIS/keras_ocr/digital-7/digital-7.ttf'\n",
    "alphabet = string.digits\n",
    "#recognizer_alphabet = ''.join(sorted(set(alphabet.lower())))\n",
    "\n",
    "keras_ocr.data_generation.font_supports_alphabet(font_dir,alphabet)"
   ]
  },
  {
   "cell_type": "markdown",
   "id": "0c97ba88",
   "metadata": {},
   "source": [
    "### Text and image generation\n",
    "To proprely train keras_ocr, we'll need to divide our generators into train, validation and test. Since we only have one font, we will use the same one for all three steps."
   ]
  },
  {
   "cell_type": "code",
   "execution_count": 3,
   "id": "b88d07c2",
   "metadata": {},
   "outputs": [
    {
     "name": "stdout",
     "output_type": "stream",
     "text": [
      "The first generated text is: 8905919765\n"
     ]
    },
    {
     "data": {
      "text/plain": [
       "(['L:/DATA/ISIS/keras_ocr/digital-7/digital-7.ttf',\n",
       "  'L:/DATA/ISIS/keras_ocr/digital-7/digital-7.ttf',\n",
       "  'L:/DATA/ISIS/keras_ocr/digital-7/digital-7.ttf',\n",
       "  'L:/DATA/ISIS/keras_ocr/digital-7/digital-7.ttf',\n",
       "  'L:/DATA/ISIS/keras_ocr/digital-7/digital-7.ttf',\n",
       "  'L:/DATA/ISIS/keras_ocr/digital-7/digital-7.ttf',\n",
       "  'L:/DATA/ISIS/keras_ocr/digital-7/digital-7.ttf',\n",
       "  'L:/DATA/ISIS/keras_ocr/digital-7/digital-7.ttf',\n",
       "  'L:/DATA/ISIS/keras_ocr/digital-7/digital-7.ttf',\n",
       "  'L:/DATA/ISIS/keras_ocr/digital-7/digital-7.ttf',\n",
       "  'L:/DATA/ISIS/keras_ocr/digital-7/digital-7.ttf',\n",
       "  'L:/DATA/ISIS/keras_ocr/digital-7/digital-7.ttf',\n",
       "  'L:/DATA/ISIS/keras_ocr/digital-7/digital-7.ttf',\n",
       "  'L:/DATA/ISIS/keras_ocr/digital-7/digital-7.ttf',\n",
       "  'L:/DATA/ISIS/keras_ocr/digital-7/digital-7.ttf',\n",
       "  'L:/DATA/ISIS/keras_ocr/digital-7/digital-7.ttf',\n",
       "  'L:/DATA/ISIS/keras_ocr/digital-7/digital-7.ttf',\n",
       "  'L:/DATA/ISIS/keras_ocr/digital-7/digital-7.ttf',\n",
       "  'L:/DATA/ISIS/keras_ocr/digital-7/digital-7.ttf',\n",
       "  'L:/DATA/ISIS/keras_ocr/digital-7/digital-7.ttf',\n",
       "  'L:/DATA/ISIS/keras_ocr/digital-7/digital-7.ttf'],\n",
       " ['L:/DATA/ISIS/keras_ocr/digital-7/digital-7.ttf',\n",
       "  'L:/DATA/ISIS/keras_ocr/digital-7/digital-7.ttf',\n",
       "  'L:/DATA/ISIS/keras_ocr/digital-7/digital-7.ttf',\n",
       "  'L:/DATA/ISIS/keras_ocr/digital-7/digital-7.ttf'],\n",
       " ['L:/DATA/ISIS/keras_ocr/digital-7/digital-7.ttf',\n",
       "  'L:/DATA/ISIS/keras_ocr/digital-7/digital-7.ttf',\n",
       "  'L:/DATA/ISIS/keras_ocr/digital-7/digital-7.ttf',\n",
       "  'L:/DATA/ISIS/keras_ocr/digital-7/digital-7.ttf',\n",
       "  'L:/DATA/ISIS/keras_ocr/digital-7/digital-7.ttf'])"
      ]
     },
     "execution_count": 3,
     "metadata": {},
     "output_type": "execute_result"
    }
   ],
   "source": [
    "import sklearn.model_selection\n",
    "import random\n",
    "\n",
    "def my_numbers_generator(_alphabet):\n",
    "    while True:\n",
    "        _sentence = \"\".join([_alphabet[random.randint(0, len(_alphabet) -1)] for i in range(random.randint(1,20))])\n",
    "        yield _sentence\n",
    "\n",
    "text_generator = my_numbers_generator(alphabet)\n",
    "print('The first generated text is:', next(text_generator))\n",
    "\n",
    "def get_train_val_test_split(arr):\n",
    "    train, valtest = sklearn.model_selection.train_test_split(arr, train_size=0.7, random_state=42)\n",
    "    val, test = sklearn.model_selection.train_test_split(valtest, train_size=0.5, random_state=42)\n",
    "    return train, val, test\n",
    "\n",
    "background_splits = get_train_val_test_split(backgrounds)\n",
    "font_splits = []\n",
    "for i in range(3):\n",
    "    n = len(background_splits[i])\n",
    "    font_splits.append([font_dir] * n)\n",
    "\n",
    "font_splits=tuple(font_splits)\n",
    "font_splits"
   ]
  },
  {
   "cell_type": "code",
   "execution_count": 4,
   "id": "a610d0b3",
   "metadata": {},
   "outputs": [
    {
     "data": {
      "text/plain": [
       "(['L:/DATA/ISIS/keras_ocr/backgrounds/background_1.jpg',\n",
       "  'L:/DATA/ISIS/keras_ocr/backgrounds/background_13.jpg',\n",
       "  'L:/DATA/ISIS/keras_ocr/backgrounds/background_24.jpg',\n",
       "  'L:/DATA/ISIS/keras_ocr/backgrounds/background_14.jpg',\n",
       "  'L:/DATA/ISIS/keras_ocr/backgrounds/background_21.jpg',\n",
       "  'L:/DATA/ISIS/keras_ocr/backgrounds/background_2.jpg',\n",
       "  'L:/DATA/ISIS/keras_ocr/backgrounds/background_3.jpg',\n",
       "  'L:/DATA/ISIS/keras_ocr/backgrounds/background_10.jpg',\n",
       "  'L:/DATA/ISIS/keras_ocr/backgrounds/background_11.jpg',\n",
       "  'L:/DATA/ISIS/keras_ocr/backgrounds/background_5.jpg',\n",
       "  'L:/DATA/ISIS/keras_ocr/backgrounds/background_12.jpg',\n",
       "  'L:/DATA/ISIS/keras_ocr/backgrounds/background_29.jpg',\n",
       "  'L:/DATA/ISIS/keras_ocr/backgrounds/background_6.jpg',\n",
       "  'L:/DATA/ISIS/keras_ocr/backgrounds/background_26.jpg',\n",
       "  'L:/DATA/ISIS/keras_ocr/backgrounds/background_9.jpg',\n",
       "  'L:/DATA/ISIS/keras_ocr/backgrounds/background_28.jpg',\n",
       "  'L:/DATA/ISIS/keras_ocr/backgrounds/background_16.jpg',\n",
       "  'L:/DATA/ISIS/keras_ocr/backgrounds/background_19.jpg',\n",
       "  'L:/DATA/ISIS/keras_ocr/backgrounds/background_22.jpg',\n",
       "  'L:/DATA/ISIS/keras_ocr/backgrounds/background_27.jpg',\n",
       "  'L:/DATA/ISIS/keras_ocr/backgrounds/background_15.png'],\n",
       " ['L:/DATA/ISIS/keras_ocr/backgrounds/background_30.jpg',\n",
       "  'L:/DATA/ISIS/keras_ocr/backgrounds/background_17.jpg',\n",
       "  'L:/DATA/ISIS/keras_ocr/backgrounds/background_25.jpg',\n",
       "  'L:/DATA/ISIS/keras_ocr/backgrounds/background_8.jpg'],\n",
       " ['L:/DATA/ISIS/keras_ocr/backgrounds/background_4.jpg',\n",
       "  'L:/DATA/ISIS/keras_ocr/backgrounds/background_23.jpg',\n",
       "  'L:/DATA/ISIS/keras_ocr/backgrounds/background_18.jpg',\n",
       "  'L:/DATA/ISIS/keras_ocr/backgrounds/background_7.jpg',\n",
       "  'L:/DATA/ISIS/keras_ocr/backgrounds/background_20.jpg'])"
      ]
     },
     "execution_count": 4,
     "metadata": {},
     "output_type": "execute_result"
    }
   ],
   "source": [
    "background_splits"
   ]
  },
  {
   "cell_type": "code",
   "execution_count": 5,
   "id": "abd271e5",
   "metadata": {},
   "outputs": [],
   "source": [
    "image_generators = [\n",
    "    keras_ocr.data_generation.get_image_generator(\n",
    "        height=400,\n",
    "        width=1000,\n",
    "        text_generator=text_generator,\n",
    "        font_groups={\n",
    "            alphabet: current_fonts\n",
    "        },\n",
    "        backgrounds=current_backgrounds,\n",
    "        font_size=(60, 120),\n",
    "        margin=0,\n",
    "        rotationX=(-0.05, 0.05),\n",
    "        rotationY=(-0.05, 0.05),\n",
    "        rotationZ=(-15, 15)\n",
    "    )  for current_fonts, current_backgrounds in zip(\n",
    "        font_splits,\n",
    "        background_splits\n",
    "    )\n",
    "]"
   ]
  },
  {
   "cell_type": "code",
   "execution_count": 6,
   "id": "f8227a90",
   "metadata": {},
   "outputs": [
    {
     "name": "stdout",
     "output_type": "stream",
     "text": [
      "the first generated validation image (below) contrains: 4334\n"
     ]
    },
    {
     "data": {
      "text/plain": [
       "<matplotlib.image.AxesImage at 0x1ccd0e6f430>"
      ]
     },
     "execution_count": 6,
     "metadata": {},
     "output_type": "execute_result"
    },
    {
     "data": {
      "image/png": "[encoded data removed]",
      "text/plain": [
       "<Figure size 432x288 with 1 Axes>"
      ]
     },
     "metadata": {
      "needs_background": "light"
     },
     "output_type": "display_data"
    }
   ],
   "source": [
    "import matplotlib.pyplot as plt\n",
    "\n",
    "image, lines = next(image_generators[1])\n",
    "text = keras_ocr.data_generation.convert_lines_to_paragraph(lines)\n",
    "print('the first generated validation image (below) contrains:', text)\n",
    "plt.imshow(image)"
   ]
  },
  {
   "cell_type": "markdown",
   "id": "7d08cc5d",
   "metadata": {},
   "source": [
    "## 2. Train the detector"
   ]
  },
  {
   "cell_type": "code",
   "execution_count": 7,
   "id": "709501cc",
   "metadata": {},
   "outputs": [
    {
     "name": "stdout",
     "output_type": "stream",
     "text": [
      "Looking for C:\\Users\\mfortier\\.keras-ocr\\craft_mlt_25k.h5\n",
      "Provided alphabet does not match pretrained alphabet. Using backbone weights only.\n",
      "Looking for C:\\Users\\mfortier\\.keras-ocr\\crnn_kurapan_notop.h5\n"
     ]
    }
   ],
   "source": [
    "detector = keras_ocr.detection.Detector()\n",
    "recognizer = keras_ocr.recognition.Recognizer(\n",
    "    alphabet=alphabet,\n",
    "    weights='kurapan'\n",
    ")\n",
    "recognizer.compile()\n",
    "for layer in recognizer.backbone.layers:\n",
    "    layer.trainable = False"
   ]
  },
  {
   "cell_type": "code",
   "execution_count": 8,
   "id": "0e8855e0",
   "metadata": {},
   "outputs": [
    {
     "name": "stdout",
     "output_type": "stream",
     "text": [
      "Epoch 1/250\n",
      "21/21 [==============================] - 37s 1s/step - loss: 0.0117 - val_loss: 0.0065\n",
      "Epoch 2/250\n",
      "21/21 [==============================] - 28s 1s/step - loss: 0.0047 - val_loss: 0.1234\n",
      "Epoch 3/250\n",
      "21/21 [==============================] - 27s 1s/step - loss: 0.0102 - val_loss: 0.0042\n",
      "Epoch 4/250\n",
      "21/21 [==============================] - 28s 1s/step - loss: 0.0159 - val_loss: 0.0474\n",
      "Epoch 5/250\n",
      "21/21 [==============================] - 20s 954ms/step - loss: 0.0133 - val_loss: 0.0043\n",
      "Epoch 6/250\n",
      "21/21 [==============================] - 19s 914ms/step - loss: 0.0162 - val_loss: 0.0034\n",
      "Epoch 7/250\n",
      "21/21 [==============================] - 21s 1s/step - loss: 0.0146 - val_loss: 0.0064\n",
      "Epoch 8/250\n",
      "21/21 [==============================] - 15s 728ms/step - loss: 0.0111 - val_loss: 0.0036\n",
      "Epoch 9/250\n",
      "21/21 [==============================] - 19s 908ms/step - loss: 0.0087 - val_loss: 0.0014\n",
      "Epoch 10/250\n",
      "21/21 [==============================] - 15s 705ms/step - loss: 0.0170 - val_loss: 0.0043\n",
      "Epoch 11/250\n",
      "21/21 [==============================] - 19s 933ms/step - loss: 0.0091 - val_loss: 0.0024\n",
      "Epoch 12/250\n",
      "21/21 [==============================] - 17s 817ms/step - loss: 0.0130 - val_loss: 0.0017\n",
      "Epoch 13/250\n",
      "21/21 [==============================] - 16s 758ms/step - loss: 0.0111 - val_loss: 0.0041\n",
      "Epoch 14/250\n",
      "21/21 [==============================] - 15s 702ms/step - loss: 0.0088 - val_loss: 0.0264\n"
     ]
    },
    {
     "data": {
      "text/plain": [
       "<keras.callbacks.History at 0x1cc8db0ab80>"
      ]
     },
     "execution_count": 8,
     "metadata": {},
     "output_type": "execute_result"
    }
   ],
   "source": [
    "import datetime\n",
    "import math\n",
    "\n",
    "detector_batch_size = 1\n",
    "detector_basepath = os.path.join('L:/DATA/ISIS/keras_ocr/', f'detector_{datetime.datetime.now().isoformat()}')\n",
    "detection_train_generator, detection_val_generator, detection_test_generator = [\n",
    "    detector.get_batch_generator(\n",
    "        image_generator=image_generator,\n",
    "        batch_size=detector_batch_size\n",
    "    ) for image_generator in image_generators\n",
    "]\n",
    "\n",
    "detector.model.fit(\n",
    "    detection_train_generator,\n",
    "    steps_per_epoch=math.ceil(len(background_splits[0]) / detector_batch_size),\n",
    "    epochs=250,\n",
    "    workers=0,\n",
    "    callbacks=[\n",
    "        tf.keras.callbacks.EarlyStopping(restore_best_weights=True, patience=5),\n",
    "        tf.keras.callbacks.CSVLogger(f'{detector_basepath}.csv'),\n",
    "        tf.keras.callbacks.ModelCheckpoint(filepath=f'{detector_basepath}.h5')\n",
    "    ],\n",
    "    validation_data=detection_val_generator,\n",
    "    validation_steps=math.ceil(len(background_splits[1]) / detector_batch_size),\n",
    "    batch_size=detector_batch_size\n",
    ")"
   ]
  },
  {
   "cell_type": "markdown",
   "id": "bbed4456",
   "metadata": {},
   "source": [
    "## 3. Train the recognizer"
   ]
  },
  {
   "cell_type": "code",
   "execution_count": 9,
   "id": "25a3f7fd",
   "metadata": {},
   "outputs": [],
   "source": [
    "max_length = 20\n",
    "recognition_image_generators = [\n",
    "    keras_ocr.data_generation.convert_image_generator_to_recognizer_input(\n",
    "        image_generator=image_generator,\n",
    "        max_string_length=min(recognizer.training_model.input_shape[1][1], max_length),\n",
    "        target_width=recognizer.model.input_shape[2],\n",
    "        target_height=recognizer.model.input_shape[1],\n",
    "        margin=1\n",
    "    ) for image_generator in image_generators\n",
    "]"
   ]
  },
  {
   "cell_type": "code",
   "execution_count": 10,
   "id": "dd130712",
   "metadata": {},
   "outputs": [
    {
     "name": "stdout",
     "output_type": "stream",
     "text": [
      "This image contains: 99\n"
     ]
    },
    {
     "data": {
      "text/plain": [
       "<matplotlib.image.AxesImage at 0x1cc9030ca90>"
      ]
     },
     "execution_count": 10,
     "metadata": {},
     "output_type": "execute_result"
    },
    {
     "data": {
      "image/png": "[encoded data removed]",
      "text/plain": [
       "<Figure size 432x288 with 1 Axes>"
      ]
     },
     "metadata": {
      "needs_background": "light"
     },
     "output_type": "display_data"
    }
   ],
   "source": [
    "image, text = next(recognition_image_generators[1])\n",
    "print('This image contains:', text)\n",
    "plt.imshow(image)"
   ]
  },
  {
   "cell_type": "code",
   "execution_count": 11,
   "id": "7b086e81",
   "metadata": {},
   "outputs": [
    {
     "name": "stdout",
     "output_type": "stream",
     "text": [
      "Epoch 1/250\n",
      "21/21 [==============================] - 22s 623ms/step - loss: 19.7741 - val_loss: 26.9398\n",
      "Epoch 2/250\n",
      "21/21 [==============================] - 11s 536ms/step - loss: 19.0996 - val_loss: 9.9378\n",
      "Epoch 3/250\n",
      "21/21 [==============================] - 11s 515ms/step - loss: 17.4310 - val_loss: 22.1931\n",
      "Epoch 4/250\n",
      "21/21 [==============================] - 11s 531ms/step - loss: 16.7715 - val_loss: 29.6989\n",
      "Epoch 5/250\n",
      "21/21 [==============================] - 10s 478ms/step - loss: 20.2224 - val_loss: 18.2107\n",
      "Epoch 6/250\n",
      "21/21 [==============================] - 11s 502ms/step - loss: 16.1136 - val_loss: 16.8040\n",
      "Epoch 7/250\n",
      "21/21 [==============================] - 11s 500ms/step - loss: 14.0337 - val_loss: 22.1679\n",
      "Epoch 8/250\n",
      "21/21 [==============================] - 9s 441ms/step - loss: 14.7670 - val_loss: 25.7557\n",
      "Epoch 9/250\n",
      "21/21 [==============================] - 11s 531ms/step - loss: 16.8970 - val_loss: 8.7062\n",
      "Epoch 10/250\n",
      "21/21 [==============================] - 10s 494ms/step - loss: 17.7297 - val_loss: 14.9102\n",
      "Epoch 11/250\n",
      "21/21 [==============================] - 11s 557ms/step - loss: 9.4697 - val_loss: 12.9049\n",
      "Epoch 12/250\n",
      "21/21 [==============================] - 9s 429ms/step - loss: 12.0257 - val_loss: 12.7098\n",
      "Epoch 13/250\n",
      "21/21 [==============================] - 10s 491ms/step - loss: 9.1786 - val_loss: 4.4223\n",
      "Epoch 14/250\n",
      "21/21 [==============================] - 14s 680ms/step - loss: 13.5616 - val_loss: 11.1622\n",
      "Epoch 15/250\n",
      "21/21 [==============================] - 11s 510ms/step - loss: 7.5208 - val_loss: 4.0145\n",
      "Epoch 16/250\n",
      "21/21 [==============================] - 11s 559ms/step - loss: 5.6881 - val_loss: 4.6541\n",
      "Epoch 17/250\n",
      "21/21 [==============================] - 14s 673ms/step - loss: 6.8735 - val_loss: 8.2980\n",
      "Epoch 18/250\n",
      "21/21 [==============================] - 15s 702ms/step - loss: 4.7830 - val_loss: 8.0917\n",
      "Epoch 19/250\n",
      "21/21 [==============================] - 15s 729ms/step - loss: 3.3344 - val_loss: 16.7284\n",
      "Epoch 20/250\n",
      "21/21 [==============================] - 11s 502ms/step - loss: 4.3810 - val_loss: 8.1779\n",
      "Epoch 21/250\n",
      "21/21 [==============================] - 11s 519ms/step - loss: 4.1489 - val_loss: 1.3193\n",
      "Epoch 22/250\n",
      "21/21 [==============================] - 12s 555ms/step - loss: 4.1613 - val_loss: 14.8347\n",
      "Epoch 23/250\n",
      "21/21 [==============================] - 10s 500ms/step - loss: 4.0330 - val_loss: 13.8515\n",
      "Epoch 24/250\n",
      "21/21 [==============================] - 11s 512ms/step - loss: 1.9568 - val_loss: 0.4192\n",
      "Epoch 25/250\n",
      "21/21 [==============================] - 10s 492ms/step - loss: 1.3884 - val_loss: 6.5517\n",
      "Epoch 26/250\n",
      "21/21 [==============================] - 11s 523ms/step - loss: 2.6889 - val_loss: 0.6943\n",
      "Epoch 27/250\n",
      "21/21 [==============================] - 10s 480ms/step - loss: 7.0703 - val_loss: 2.8937\n",
      "Epoch 28/250\n",
      "21/21 [==============================] - 11s 541ms/step - loss: 1.3291 - val_loss: 0.3830\n",
      "Epoch 29/250\n",
      "21/21 [==============================] - 11s 504ms/step - loss: 2.6098 - val_loss: 0.1947\n",
      "Epoch 30/250\n",
      "21/21 [==============================] - 10s 500ms/step - loss: 2.7806 - val_loss: 2.4030\n",
      "Epoch 31/250\n",
      "21/21 [==============================] - 11s 528ms/step - loss: 3.7157 - val_loss: 1.3972\n",
      "Epoch 32/250\n",
      "21/21 [==============================] - 9s 423ms/step - loss: 1.5583 - val_loss: 3.0111\n",
      "Epoch 33/250\n",
      "21/21 [==============================] - 10s 502ms/step - loss: 1.8320 - val_loss: 2.5589\n",
      "Epoch 34/250\n",
      "21/21 [==============================] - 10s 499ms/step - loss: 3.5813 - val_loss: 1.1201\n",
      "Epoch 35/250\n",
      "21/21 [==============================] - 11s 501ms/step - loss: 1.9311 - val_loss: 3.3646\n",
      "Epoch 36/250\n",
      "21/21 [==============================] - 11s 558ms/step - loss: 3.8466 - val_loss: 1.4924\n",
      "Epoch 37/250\n",
      "21/21 [==============================] - 12s 560ms/step - loss: 3.0857 - val_loss: 1.2841\n",
      "Epoch 38/250\n",
      "21/21 [==============================] - 10s 475ms/step - loss: 2.3820 - val_loss: 7.3469\n",
      "Epoch 39/250\n",
      "21/21 [==============================] - 10s 514ms/step - loss: 0.9180 - val_loss: 10.4806\n",
      "Epoch 40/250\n",
      "21/21 [==============================] - 11s 535ms/step - loss: 3.2678 - val_loss: 0.1368\n",
      "Epoch 41/250\n",
      "21/21 [==============================] - 11s 514ms/step - loss: 2.8674 - val_loss: 2.0512\n",
      "Epoch 42/250\n",
      "21/21 [==============================] - 13s 605ms/step - loss: 1.6182 - val_loss: 21.9063\n",
      "Epoch 43/250\n",
      "21/21 [==============================] - 14s 694ms/step - loss: 3.7265 - val_loss: 1.0609\n",
      "Epoch 44/250\n",
      "21/21 [==============================] - 11s 526ms/step - loss: 1.2175 - val_loss: 0.1660\n",
      "Epoch 45/250\n",
      "21/21 [==============================] - 10s 507ms/step - loss: 1.9850 - val_loss: 9.0603\n",
      "Epoch 46/250\n",
      "21/21 [==============================] - 11s 550ms/step - loss: 4.2609 - val_loss: 1.8808\n",
      "Epoch 47/250\n",
      "21/21 [==============================] - 10s 457ms/step - loss: 2.2703 - val_loss: 5.3871\n",
      "Epoch 48/250\n",
      "21/21 [==============================] - 11s 525ms/step - loss: 2.1455 - val_loss: 0.9502\n",
      "Epoch 49/250\n",
      "21/21 [==============================] - 11s 544ms/step - loss: 1.5338 - val_loss: 3.5459\n",
      "Epoch 50/250\n",
      "21/21 [==============================] - 10s 473ms/step - loss: 3.0393 - val_loss: 1.9057\n",
      "Epoch 51/250\n",
      "21/21 [==============================] - 11s 511ms/step - loss: 5.0425 - val_loss: 2.5915\n",
      "Epoch 52/250\n",
      "21/21 [==============================] - 9s 455ms/step - loss: 3.0468 - val_loss: 7.7155\n",
      "Epoch 53/250\n",
      "21/21 [==============================] - 9s 449ms/step - loss: 3.3376 - val_loss: 2.7149\n",
      "Epoch 54/250\n",
      "21/21 [==============================] - 8s 408ms/step - loss: 2.4084 - val_loss: 2.6577\n",
      "Epoch 55/250\n",
      "21/21 [==============================] - 9s 465ms/step - loss: 1.6625 - val_loss: 0.5176\n",
      "Epoch 56/250\n",
      "21/21 [==============================] - 11s 521ms/step - loss: 0.5743 - val_loss: 1.8788\n",
      "Epoch 57/250\n",
      "21/21 [==============================] - 9s 424ms/step - loss: 3.1431 - val_loss: 0.2678\n",
      "Epoch 58/250\n",
      "21/21 [==============================] - 9s 410ms/step - loss: 1.0232 - val_loss: 1.7522\n",
      "Epoch 59/250\n",
      "21/21 [==============================] - 9s 452ms/step - loss: 3.0209 - val_loss: 0.1117\n",
      "Epoch 60/250\n",
      "21/21 [==============================] - 8s 369ms/step - loss: 3.1528 - val_loss: 0.4025\n",
      "Epoch 61/250\n",
      "21/21 [==============================] - 10s 497ms/step - loss: 1.4374 - val_loss: 1.5960\n",
      "Epoch 62/250\n",
      "21/21 [==============================] - 8s 410ms/step - loss: 1.4697 - val_loss: 0.2249\n",
      "Epoch 63/250\n",
      "21/21 [==============================] - 10s 477ms/step - loss: 0.4401 - val_loss: 1.7770\n",
      "Epoch 64/250\n",
      "21/21 [==============================] - 8s 382ms/step - loss: 0.3737 - val_loss: 4.0935\n",
      "Epoch 65/250\n",
      "21/21 [==============================] - 9s 434ms/step - loss: 2.1784 - val_loss: 0.0710\n",
      "Epoch 66/250\n",
      "21/21 [==============================] - 9s 424ms/step - loss: 4.3570 - val_loss: 6.4680\n",
      "Epoch 67/250\n",
      "21/21 [==============================] - 8s 387ms/step - loss: 2.2929 - val_loss: 5.0223\n",
      "Epoch 68/250\n",
      "21/21 [==============================] - 8s 404ms/step - loss: 2.9509 - val_loss: 7.9837\n",
      "Epoch 69/250\n",
      "21/21 [==============================] - 8s 393ms/step - loss: 1.2035 - val_loss: 5.9546\n",
      "Epoch 70/250\n",
      "21/21 [==============================] - 9s 442ms/step - loss: 1.3643 - val_loss: 10.5070\n",
      "Epoch 71/250\n",
      "21/21 [==============================] - 9s 420ms/step - loss: 2.6374 - val_loss: 1.5262\n",
      "Epoch 72/250\n",
      "21/21 [==============================] - 8s 392ms/step - loss: 0.9433 - val_loss: 6.5301\n",
      "Epoch 73/250\n",
      "21/21 [==============================] - 8s 397ms/step - loss: 1.6170 - val_loss: 0.9135\n",
      "Epoch 74/250\n",
      "21/21 [==============================] - 7s 355ms/step - loss: 1.7271 - val_loss: 0.3944\n",
      "Epoch 75/250\n",
      "21/21 [==============================] - 7s 355ms/step - loss: 1.7349 - val_loss: 18.0046\n",
      "Epoch 76/250\n",
      "21/21 [==============================] - 8s 385ms/step - loss: 4.6155 - val_loss: 2.1493\n",
      "Epoch 77/250\n",
      "21/21 [==============================] - 9s 442ms/step - loss: 4.6211 - val_loss: 2.0247\n",
      "Epoch 78/250\n",
      "21/21 [==============================] - 8s 386ms/step - loss: 2.4037 - val_loss: 0.8225\n",
      "Epoch 79/250\n",
      "21/21 [==============================] - 8s 385ms/step - loss: 2.2667 - val_loss: 1.5435\n",
      "Epoch 80/250\n",
      "21/21 [==============================] - 8s 402ms/step - loss: 1.3813 - val_loss: 2.5966\n",
      "Epoch 81/250\n",
      "21/21 [==============================] - 8s 393ms/step - loss: 0.9283 - val_loss: 4.8153\n",
      "Epoch 82/250\n",
      "21/21 [==============================] - 8s 388ms/step - loss: 3.0072 - val_loss: 1.5520\n",
      "Epoch 83/250\n",
      "21/21 [==============================] - 9s 417ms/step - loss: 1.9800 - val_loss: 0.3340\n",
      "Epoch 84/250\n",
      "21/21 [==============================] - 9s 426ms/step - loss: 1.6167 - val_loss: 1.0384\n",
      "Epoch 85/250\n",
      "21/21 [==============================] - 8s 391ms/step - loss: 2.0069 - val_loss: 1.8662\n",
      "Epoch 86/250\n",
      "21/21 [==============================] - 8s 393ms/step - loss: 0.6761 - val_loss: 0.1014\n",
      "Epoch 87/250\n",
      "21/21 [==============================] - 8s 383ms/step - loss: 3.7191 - val_loss: 0.4752\n",
      "Epoch 88/250\n",
      "21/21 [==============================] - 8s 367ms/step - loss: 0.0818 - val_loss: 0.2486\n",
      "Epoch 89/250\n",
      "21/21 [==============================] - 9s 416ms/step - loss: 3.2969 - val_loss: 2.5851\n",
      "Epoch 90/250\n",
      "21/21 [==============================] - 8s 389ms/step - loss: 0.6213 - val_loss: 0.0418\n",
      "Epoch 91/250\n",
      "21/21 [==============================] - 7s 359ms/step - loss: 0.8112 - val_loss: 0.4612\n",
      "Epoch 92/250\n",
      "21/21 [==============================] - 8s 385ms/step - loss: 0.7077 - val_loss: 0.0369\n",
      "Epoch 93/250\n",
      "21/21 [==============================] - 8s 378ms/step - loss: 0.9939 - val_loss: 0.1959\n",
      "Epoch 94/250\n",
      "21/21 [==============================] - 10s 483ms/step - loss: 2.2700 - val_loss: 1.5804\n",
      "Epoch 95/250\n",
      "21/21 [==============================] - 8s 359ms/step - loss: 3.4923 - val_loss: 0.3825\n",
      "Epoch 96/250\n",
      "21/21 [==============================] - 8s 390ms/step - loss: 2.4726 - val_loss: 0.0381\n",
      "Epoch 97/250\n",
      "21/21 [==============================] - 9s 434ms/step - loss: 1.0166 - val_loss: 1.6754\n",
      "Epoch 98/250\n",
      "21/21 [==============================] - 8s 383ms/step - loss: 1.6670 - val_loss: 0.8172\n",
      "Epoch 99/250\n",
      "21/21 [==============================] - 8s 397ms/step - loss: 1.3824 - val_loss: 2.3662\n",
      "Epoch 100/250\n",
      "21/21 [==============================] - 7s 340ms/step - loss: 1.7830 - val_loss: 4.0785\n",
      "Epoch 101/250\n",
      "21/21 [==============================] - 9s 429ms/step - loss: 1.3423 - val_loss: 6.9428\n",
      "Epoch 102/250\n",
      "21/21 [==============================] - 7s 351ms/step - loss: 2.9890 - val_loss: 0.5393\n",
      "Epoch 103/250\n",
      "21/21 [==============================] - 8s 363ms/step - loss: 0.1586 - val_loss: 0.0565\n",
      "Epoch 104/250\n",
      "21/21 [==============================] - 8s 369ms/step - loss: 0.2366 - val_loss: 0.0737\n",
      "Epoch 105/250\n",
      "21/21 [==============================] - 8s 388ms/step - loss: 3.4484 - val_loss: 1.2055\n",
      "Epoch 106/250\n",
      "21/21 [==============================] - 7s 357ms/step - loss: 0.8565 - val_loss: 3.0480\n",
      "Epoch 107/250\n",
      "21/21 [==============================] - 9s 434ms/step - loss: 2.0451 - val_loss: 5.2786\n",
      "Epoch 108/250\n",
      "21/21 [==============================] - 9s 418ms/step - loss: 2.5671 - val_loss: 1.4643\n",
      "Epoch 109/250\n",
      "21/21 [==============================] - 7s 351ms/step - loss: 3.0160 - val_loss: 0.7542\n",
      "Epoch 110/250\n",
      "21/21 [==============================] - 8s 374ms/step - loss: 1.2647 - val_loss: 1.3720\n",
      "Epoch 111/250\n",
      "21/21 [==============================] - 8s 388ms/step - loss: 0.8361 - val_loss: 0.4182\n",
      "Epoch 112/250\n",
      "21/21 [==============================] - 8s 374ms/step - loss: 1.9826 - val_loss: 0.3372\n",
      "Epoch 113/250\n",
      "21/21 [==============================] - 8s 401ms/step - loss: 0.6105 - val_loss: 0.0095\n",
      "Epoch 114/250\n",
      "21/21 [==============================] - 7s 353ms/step - loss: 2.6859 - val_loss: 0.2285\n",
      "Epoch 115/250\n",
      "21/21 [==============================] - 8s 389ms/step - loss: 0.5285 - val_loss: 2.2014\n",
      "Epoch 116/250\n",
      "21/21 [==============================] - 7s 350ms/step - loss: 1.6100 - val_loss: 0.0509\n",
      "Epoch 117/250\n",
      "21/21 [==============================] - 8s 397ms/step - loss: 3.9659 - val_loss: 35.0194\n",
      "Epoch 118/250\n",
      "21/21 [==============================] - 7s 336ms/step - loss: 4.4882 - val_loss: 1.3763\n",
      "Epoch 119/250\n",
      "21/21 [==============================] - 8s 383ms/step - loss: 1.1796 - val_loss: 0.0677\n",
      "Epoch 120/250\n",
      "21/21 [==============================] - 7s 345ms/step - loss: 0.5872 - val_loss: 16.5835\n",
      "Epoch 121/250\n",
      "21/21 [==============================] - 8s 389ms/step - loss: 1.6832 - val_loss: 0.0255\n",
      "Epoch 122/250\n",
      "21/21 [==============================] - 9s 419ms/step - loss: 1.2456 - val_loss: 11.7327\n",
      "Epoch 123/250\n",
      "21/21 [==============================] - 7s 360ms/step - loss: 1.0654 - val_loss: 0.0309\n",
      "Epoch 124/250\n",
      "21/21 [==============================] - 9s 408ms/step - loss: 2.8612 - val_loss: 0.6651\n",
      "Epoch 125/250\n",
      "21/21 [==============================] - 7s 351ms/step - loss: 0.6740 - val_loss: 0.4793\n",
      "Epoch 126/250\n",
      "21/21 [==============================] - 9s 406ms/step - loss: 2.6454 - val_loss: 0.2567\n",
      "Epoch 127/250\n",
      "21/21 [==============================] - 8s 390ms/step - loss: 1.6765 - val_loss: 0.0765\n",
      "Epoch 128/250\n",
      "21/21 [==============================] - 7s 364ms/step - loss: 2.3837 - val_loss: 0.0277\n",
      "Epoch 129/250\n",
      "21/21 [==============================] - 10s 471ms/step - loss: 3.2353 - val_loss: 10.1922\n",
      "Epoch 130/250\n",
      "21/21 [==============================] - 10s 478ms/step - loss: 2.2708 - val_loss: 0.1084\n",
      "Epoch 131/250\n",
      "21/21 [==============================] - 8s 400ms/step - loss: 1.9960 - val_loss: 0.7680\n",
      "Epoch 132/250\n",
      "21/21 [==============================] - 10s 465ms/step - loss: 1.0907 - val_loss: 0.0580\n",
      "Epoch 133/250\n",
      "21/21 [==============================] - 9s 404ms/step - loss: 2.4819 - val_loss: 0.2265\n",
      "Epoch 134/250\n",
      "21/21 [==============================] - 9s 427ms/step - loss: 3.3366 - val_loss: 5.4530\n",
      "Epoch 135/250\n",
      "21/21 [==============================] - 9s 430ms/step - loss: 0.6669 - val_loss: 0.0227\n",
      "Epoch 136/250\n",
      "21/21 [==============================] - 8s 361ms/step - loss: 1.3394 - val_loss: 4.0389\n",
      "Epoch 137/250\n",
      "21/21 [==============================] - 9s 440ms/step - loss: 2.0208 - val_loss: 0.5921\n",
      "Epoch 138/250\n",
      "21/21 [==============================] - 8s 389ms/step - loss: 0.9020 - val_loss: 0.4944\n"
     ]
    },
    {
     "data": {
      "text/plain": [
       "<keras.callbacks.History at 0x1cc9043cbb0>"
      ]
     },
     "execution_count": 11,
     "metadata": {},
     "output_type": "execute_result"
    }
   ],
   "source": [
    "recognition_batch_size = 1\n",
    "recognizer_basepath = os.path.join('L:/DATA/ISIS/keras_ocr/', f'detector_{datetime.datetime.now().isoformat()}')\n",
    "recognition_train_generator, recognition_val_generator, recognition_test_generator = [\n",
    "    recognizer.get_batch_generator(\n",
    "        image_generator=image_generator,\n",
    "        batch_size=recognition_batch_size\n",
    "    ) for image_generator in recognition_image_generators\n",
    "]\n",
    "\n",
    "recognizer.training_model.fit(\n",
    "    recognition_train_generator,\n",
    "    epochs=250,\n",
    "    steps_per_epoch=math.ceil(len(background_splits[0]) / recognition_batch_size),\n",
    "    callbacks=[\n",
    "        tf.keras.callbacks.EarlyStopping(restore_best_weights=True, patience=25),\n",
    "        tf.keras.callbacks.CSVLogger(f'{recognizer_basepath}.csv', append=True),\n",
    "        tf.keras.callbacks.ModelCheckpoint(filepath=f'{recognizer_basepath}.h5')        \n",
    "    ],\n",
    "    validation_data=recognition_val_generator,\n",
    "    validation_steps=math.ceil(len(background_splits[1]) / recognition_batch_size),\n",
    "    workers=0,\n",
    "    batch_size=recognition_batch_size\n",
    ")"
   ]
  },
  {
   "cell_type": "markdown",
   "id": "099e7c30",
   "metadata": {},
   "source": [
    "## 4. Test the model"
   ]
  },
  {
   "cell_type": "code",
   "execution_count": 16,
   "id": "5493b8a5",
   "metadata": {},
   "outputs": [
    {
     "name": "stdout",
     "output_type": "stream",
     "text": [
      "1/1 [==============================] - 0s 41ms/step\n",
      "1/1 [==============================] - 0s 42ms/step\n",
      "Actual: 0 4 8 Predicted: ['048']\n"
     ]
    },
    {
     "data": {
      "text/plain": [
       "<matplotlib.image.AxesImage at 0x1ccdfdac8b0>"
      ]
     },
     "execution_count": 16,
     "metadata": {},
     "output_type": "execute_result"
    },
    {
     "data": {
      "image/png": "[encoded data removed]",
      "text/plain": [
       "<Figure size 432x288 with 1 Axes>"
      ]
     },
     "metadata": {
      "needs_background": "light"
     },
     "output_type": "display_data"
    }
   ],
   "source": [
    "pipeline = keras_ocr.pipeline.Pipeline(detector=detector, recognizer=recognizer)\n",
    "\n",
    "\n",
    "image, lines = next(image_generators[0])\n",
    "predictions = pipeline.recognize(images=[image])[0]\n",
    "drawn = keras_ocr.tools.drawBoxes(\n",
    "    image=image, boxes=predictions, boxes_format='predictions'\n",
    ")\n",
    "print(\n",
    "    'Actual:', '\\n'.join([' '.join([character for _, character in line]) for line in lines]),\n",
    "    'Predicted:', [text for text, box in predictions]\n",
    ")\n",
    "plt.imshow(drawn)"
   ]
  },
  {
   "cell_type": "code",
   "execution_count": null,
   "id": "00d6babf",
   "metadata": {},
   "outputs": [],
   "source": []
  }
 ],
 "metadata": {
  "kernelspec": {
   "display_name": "Python 3",
   "language": "python",
   "name": "python3"
  },
  "language_info": {
   "codemirror_mode": {
    "name": "ipython",
    "version": 3
   },
   "file_extension": ".py",
   "mimetype": "text/x-python",
   "name": "python",
   "nbconvert_exporter": "python",
   "pygments_lexer": "ipython3",
   "version": "3.8.8"
  }
 },
 "nbformat": 4,
 "nbformat_minor": 5
}
