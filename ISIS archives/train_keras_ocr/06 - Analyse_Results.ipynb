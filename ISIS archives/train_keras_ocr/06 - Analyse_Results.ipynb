{
 "cells": [
  {
   "cell_type": "markdown",
   "id": "b6e679f7",
   "metadata": {},
   "source": [
    "# Analyse the results"
   ]
  },
  {
   "cell_type": "code",
   "execution_count": 1,
   "id": "2d556357",
   "metadata": {},
   "outputs": [],
   "source": [
    "import os\n",
    "import numpy as np\n",
    "import pandas as pd\n",
    "from datetime import datetime"
   ]
  },
  {
   "cell_type": "markdown",
   "id": "501d83bd",
   "metadata": {},
   "source": [
    "Create one big result file for stage 2 processing."
   ]
  },
  {
   "cell_type": "code",
   "execution_count": 2,
   "id": "ec91ca6b",
   "metadata": {},
   "outputs": [],
   "source": [
    "def concat_result(resultDir):\n",
    "    df_result = pd.DataFrame()\n",
    "    i = 0\n",
    "    for file in os.listdir(resultDir):\n",
    "        if 'R' in file:\n",
    "            directory = file\n",
    "            for file2 in os.listdir(resultDir + directory + '/'):\n",
    "                if 'result_OCRpass' in file2:\n",
    "                    fn_parts = file2.split('_')\n",
    "                    subdirectory = fn_parts[2].replace('.csv', '')\n",
    "                    if i > 0:\n",
    "                        if i % 100 == 0:\n",
    "                            df_result = pd.read_csv(resultDir + 'result_stage2_raw.csv', low_memory=False)\n",
    "                            print(len(df_result))\n",
    "                    try:\n",
    "                        df_load = pd.read_csv(resultDir + directory + '/' + file2, sep=',')\n",
    "                        n = len(df_load)\n",
    "                    except pd.errors.EmptyDataError:\n",
    "                        n = 0\n",
    "                    df_result = pd.concat([df_result, df_load])\n",
    "                    i += 1\n",
    "                    if i % 100 == 0:\n",
    "                        print('Now saving the ' + str(i) + 'th result...')\n",
    "                        df_result.to_csv(resultDir + 'result_stage2_raw.csv', index=False)\n",
    "    \n",
    "    return(df_result)"
   ]
  },
  {
   "cell_type": "code",
   "execution_count": 3,
   "id": "7f0b0b1f",
   "metadata": {},
   "outputs": [],
   "source": [
    "resultDir = 'L:/DATA/ISIS/ISIS_test_Run/05_result/'\n",
    "#df_result = concat_result(resultDir)\n",
    "#df_result.to_csv(resultDir + 'result_stage2_raw.csv', index=False)"
   ]
  },
  {
   "cell_type": "code",
   "execution_count": 4,
   "id": "feb1d8f9",
   "metadata": {},
   "outputs": [],
   "source": [
    "df_total = pd.read_csv(resultDir + 'result_stage2_raw.csv',\n",
    "                          usecols=['Directory','Subdirectory','filename','string_read_OCR'])"
   ]
  },
  {
   "cell_type": "code",
   "execution_count": 5,
   "id": "0148bd09",
   "metadata": {},
   "outputs": [
    {
     "data": {
      "text/html": [
       "<div>\n",
       "<style scoped>\n",
       "    .dataframe tbody tr th:only-of-type {\n",
       "        vertical-align: middle;\n",
       "    }\n",
       "\n",
       "    .dataframe tbody tr th {\n",
       "        vertical-align: top;\n",
       "    }\n",
       "\n",
       "    .dataframe thead th {\n",
       "        text-align: right;\n",
       "    }\n",
       "</style>\n",
       "<table border=\"1\" class=\"dataframe\">\n",
       "  <thead>\n",
       "    <tr style=\"text-align: right;\">\n",
       "      <th></th>\n",
       "      <th>Directory</th>\n",
       "      <th>Subdirectory</th>\n",
       "      <th>filename</th>\n",
       "      <th>string_read_OCR</th>\n",
       "    </tr>\n",
       "  </thead>\n",
       "  <tbody>\n",
       "    <tr>\n",
       "      <th>0</th>\n",
       "      <td>R014207767</td>\n",
       "      <td>B1-35-26 ISIS B D-769</td>\n",
       "      <td>Image0195.png</td>\n",
       "      <td>(72, 5, 10, , 1, 1)</td>\n",
       "    </tr>\n",
       "    <tr>\n",
       "      <th>1</th>\n",
       "      <td>R014207767</td>\n",
       "      <td>B1-35-26 ISIS B D-769</td>\n",
       "      <td>Image0196.png</td>\n",
       "      <td>(0, 51, 5, 3, 5, )</td>\n",
       "    </tr>\n",
       "    <tr>\n",
       "      <th>2</th>\n",
       "      <td>R014207767</td>\n",
       "      <td>B1-35-26 ISIS B D-769</td>\n",
       "      <td>Image0197.png</td>\n",
       "      <td>(00, , 11)</td>\n",
       "    </tr>\n",
       "    <tr>\n",
       "      <th>3</th>\n",
       "      <td>R014207767</td>\n",
       "      <td>B1-35-26 ISIS B D-769</td>\n",
       "      <td>Image0297.png</td>\n",
       "      <td>(, 1, 1)</td>\n",
       "    </tr>\n",
       "    <tr>\n",
       "      <th>4</th>\n",
       "      <td>R014207767</td>\n",
       "      <td>B1-35-26 ISIS B D-769</td>\n",
       "      <td>Image0311.png</td>\n",
       "      <td>(069, 12, 124)</td>\n",
       "    </tr>\n",
       "  </tbody>\n",
       "</table>\n",
       "</div>"
      ],
      "text/plain": [
       "    Directory           Subdirectory       filename      string_read_OCR\n",
       "0  R014207767  B1-35-26 ISIS B D-769  Image0195.png  (72, 5, 10, , 1, 1)\n",
       "1  R014207767  B1-35-26 ISIS B D-769  Image0196.png   (0, 51, 5, 3, 5, )\n",
       "2  R014207767  B1-35-26 ISIS B D-769  Image0197.png           (00, , 11)\n",
       "3  R014207767  B1-35-26 ISIS B D-769  Image0297.png             (, 1, 1)\n",
       "4  R014207767  B1-35-26 ISIS B D-769  Image0311.png       (069, 12, 124)"
      ]
     },
     "execution_count": 5,
     "metadata": {},
     "output_type": "execute_result"
    }
   ],
   "source": [
    "df_total.head()"
   ]
  },
  {
   "cell_type": "code",
   "execution_count": 6,
   "id": "2410fa97",
   "metadata": {},
   "outputs": [],
   "source": [
    "def create_sample(df_total):\n",
    "    df_to_analyse = df_total.sample(100)\n",
    "    df_to_analyse.reset_index(drop=True,inplace=True)\n",
    "    df_to_analyse['string_length_OCR']=''\n",
    "    for i in range(len(df_to_analyse)):\n",
    "        df_to_analyse.at[i,'string_length_OCR'] = sum(str(n).isdigit() for n in str(df_to_analyse['string_read_OCR'][i]))\n",
    "    df_to_analyse['length_15'] = np.where(df_to_analyse['string_length_OCR']==15,True,False)\n",
    "    return(df_to_analyse)"
   ]
  },
  {
   "cell_type": "code",
   "execution_count": 7,
   "id": "ed3af3f8",
   "metadata": {},
   "outputs": [],
   "source": [
    "df_to_analyse = create_sample(df_total)"
   ]
  },
  {
   "cell_type": "code",
   "execution_count": 8,
   "id": "8dad468a",
   "metadata": {},
   "outputs": [
    {
     "data": {
      "text/html": [
       "<div>\n",
       "<style scoped>\n",
       "    .dataframe tbody tr th:only-of-type {\n",
       "        vertical-align: middle;\n",
       "    }\n",
       "\n",
       "    .dataframe tbody tr th {\n",
       "        vertical-align: top;\n",
       "    }\n",
       "\n",
       "    .dataframe thead th {\n",
       "        text-align: right;\n",
       "    }\n",
       "</style>\n",
       "<table border=\"1\" class=\"dataframe\">\n",
       "  <thead>\n",
       "    <tr style=\"text-align: right;\">\n",
       "      <th></th>\n",
       "      <th>Directory</th>\n",
       "      <th>Subdirectory</th>\n",
       "      <th>filename</th>\n",
       "      <th>string_read_OCR</th>\n",
       "      <th>string_length_OCR</th>\n",
       "      <th>length_15</th>\n",
       "    </tr>\n",
       "  </thead>\n",
       "  <tbody>\n",
       "    <tr>\n",
       "      <th>0</th>\n",
       "      <td>R014207779</td>\n",
       "      <td>B1-35-25 ISIS B D-717</td>\n",
       "      <td>Image0199.png</td>\n",
       "      <td>(095728, 13, 013, 1, 50, 0)</td>\n",
       "      <td>15</td>\n",
       "      <td>True</td>\n",
       "    </tr>\n",
       "    <tr>\n",
       "      <th>1</th>\n",
       "      <td>R014207852</td>\n",
       "      <td>B1-35-16 ISIS B D-174</td>\n",
       "      <td>Image0010.png</td>\n",
       "      <td>(241, 032, 4, 3, 2)</td>\n",
       "      <td>9</td>\n",
       "      <td>False</td>\n",
       "    </tr>\n",
       "    <tr>\n",
       "      <th>2</th>\n",
       "      <td>R014207779</td>\n",
       "      <td>B1-35-25 ISIS B D-751</td>\n",
       "      <td>Image0537.png</td>\n",
       "      <td>(, 54, 11)</td>\n",
       "      <td>4</td>\n",
       "      <td>False</td>\n",
       "    </tr>\n",
       "    <tr>\n",
       "      <th>3</th>\n",
       "      <td>R014207869</td>\n",
       "      <td>B1-34-49 ISIS-A C-247-03</td>\n",
       "      <td>Image0112.png</td>\n",
       "      <td>(154, 65, 13, 11)</td>\n",
       "      <td>9</td>\n",
       "      <td>False</td>\n",
       "    </tr>\n",
       "    <tr>\n",
       "      <th>4</th>\n",
       "      <td>R014207767</td>\n",
       "      <td>B1-35-26 ISIS B D-817</td>\n",
       "      <td>Image0421.png</td>\n",
       "      <td>(6972, 016, 0113, 42)</td>\n",
       "      <td>13</td>\n",
       "      <td>False</td>\n",
       "    </tr>\n",
       "  </tbody>\n",
       "</table>\n",
       "</div>"
      ],
      "text/plain": [
       "    Directory              Subdirectory       filename  \\\n",
       "0  R014207779     B1-35-25 ISIS B D-717  Image0199.png   \n",
       "1  R014207852     B1-35-16 ISIS B D-174  Image0010.png   \n",
       "2  R014207779     B1-35-25 ISIS B D-751  Image0537.png   \n",
       "3  R014207869  B1-34-49 ISIS-A C-247-03  Image0112.png   \n",
       "4  R014207767     B1-35-26 ISIS B D-817  Image0421.png   \n",
       "\n",
       "               string_read_OCR string_length_OCR  length_15  \n",
       "0  (095728, 13, 013, 1, 50, 0)                15       True  \n",
       "1          (241, 032, 4, 3, 2)                 9      False  \n",
       "2                   (, 54, 11)                 4      False  \n",
       "3            (154, 65, 13, 11)                 9      False  \n",
       "4        (6972, 016, 0113, 42)                13      False  "
      ]
     },
     "execution_count": 8,
     "metadata": {},
     "output_type": "execute_result"
    }
   ],
   "source": [
    "df_to_analyse.head()"
   ]
  },
  {
   "cell_type": "code",
   "execution_count": 9,
   "id": "612c4c7a",
   "metadata": {},
   "outputs": [],
   "source": [
    "#df_to_analyse.to_csv('L:/DATA/ISIS/keras_ocr_training/sample_to_analyse.csv', index=False)"
   ]
  },
  {
   "cell_type": "markdown",
   "id": "0302f8da",
   "metadata": {},
   "source": [
    "Manually, I will look at the images and the string read by keras OCR to give us an idea for the accuracy. Three columns will be added : left_to_right_order, accurate_numbers, perfect. \n",
    "**The column perfect means there are 15 digits and they are the correct ones, but they might not be in the right order in the string.**\n",
    "Now, I'll upload the file I used for my tests to create some plots."
   ]
  },
  {
   "cell_type": "code",
   "execution_count": 10,
   "id": "fe248fcd",
   "metadata": {},
   "outputs": [
    {
     "data": {
      "text/html": [
       "<div>\n",
       "<style scoped>\n",
       "    .dataframe tbody tr th:only-of-type {\n",
       "        vertical-align: middle;\n",
       "    }\n",
       "\n",
       "    .dataframe tbody tr th {\n",
       "        vertical-align: top;\n",
       "    }\n",
       "\n",
       "    .dataframe thead th {\n",
       "        text-align: right;\n",
       "    }\n",
       "</style>\n",
       "<table border=\"1\" class=\"dataframe\">\n",
       "  <thead>\n",
       "    <tr style=\"text-align: right;\">\n",
       "      <th></th>\n",
       "      <th>Directory</th>\n",
       "      <th>Subdirectory</th>\n",
       "      <th>filename</th>\n",
       "      <th>string_read_OCR</th>\n",
       "      <th>string_length_OCR</th>\n",
       "      <th>length_15</th>\n",
       "      <th>left_to_right_order</th>\n",
       "      <th>accurate_numbers</th>\n",
       "      <th>perfect</th>\n",
       "    </tr>\n",
       "  </thead>\n",
       "  <tbody>\n",
       "    <tr>\n",
       "      <th>0</th>\n",
       "      <td>R014207767</td>\n",
       "      <td>B1-35-26 ISIS B D-772</td>\n",
       "      <td>Image0264.png</td>\n",
       "      <td>(1972, 115, 315)</td>\n",
       "      <td>10</td>\n",
       "      <td>False</td>\n",
       "      <td>True</td>\n",
       "      <td>7.0</td>\n",
       "      <td>False</td>\n",
       "    </tr>\n",
       "    <tr>\n",
       "      <th>1</th>\n",
       "      <td>R014207852</td>\n",
       "      <td>B1-35-16 ISIS B D-172</td>\n",
       "      <td>Image0195.png</td>\n",
       "      <td>(00, 0256, 0, 3)</td>\n",
       "      <td>8</td>\n",
       "      <td>False</td>\n",
       "      <td>False</td>\n",
       "      <td>7.0</td>\n",
       "      <td>False</td>\n",
       "    </tr>\n",
       "    <tr>\n",
       "      <th>2</th>\n",
       "      <td>R014207852</td>\n",
       "      <td>B1-35-16 ISIS B D-175</td>\n",
       "      <td>Image0475.png</td>\n",
       "      <td>(71, 50, 303, 1634, 15, 4)</td>\n",
       "      <td>14</td>\n",
       "      <td>False</td>\n",
       "      <td>False</td>\n",
       "      <td>13.0</td>\n",
       "      <td>False</td>\n",
       "    </tr>\n",
       "    <tr>\n",
       "      <th>3</th>\n",
       "      <td>R014207852</td>\n",
       "      <td>B1-35-16 ISIS B D-176</td>\n",
       "      <td>Image0264.png</td>\n",
       "      <td>(50, 305, 1943, 4, 11)</td>\n",
       "      <td>12</td>\n",
       "      <td>False</td>\n",
       "      <td>False</td>\n",
       "      <td>10.0</td>\n",
       "      <td>False</td>\n",
       "    </tr>\n",
       "    <tr>\n",
       "      <th>4</th>\n",
       "      <td>R014207848</td>\n",
       "      <td>B1-35-7 ISIS A C-1529</td>\n",
       "      <td>Image0442.png</td>\n",
       "      <td>(20, 3, 1)</td>\n",
       "      <td>4</td>\n",
       "      <td>False</td>\n",
       "      <td>False</td>\n",
       "      <td>2.0</td>\n",
       "      <td>False</td>\n",
       "    </tr>\n",
       "  </tbody>\n",
       "</table>\n",
       "</div>"
      ],
      "text/plain": [
       "    Directory           Subdirectory       filename  \\\n",
       "0  R014207767  B1-35-26 ISIS B D-772  Image0264.png   \n",
       "1  R014207852  B1-35-16 ISIS B D-172  Image0195.png   \n",
       "2  R014207852  B1-35-16 ISIS B D-175  Image0475.png   \n",
       "3  R014207852  B1-35-16 ISIS B D-176  Image0264.png   \n",
       "4  R014207848  B1-35-7 ISIS A C-1529  Image0442.png   \n",
       "\n",
       "              string_read_OCR  string_length_OCR  length_15  \\\n",
       "0            (1972, 115, 315)                 10      False   \n",
       "1            (00, 0256, 0, 3)                  8      False   \n",
       "2  (71, 50, 303, 1634, 15, 4)                 14      False   \n",
       "3      (50, 305, 1943, 4, 11)                 12      False   \n",
       "4                  (20, 3, 1)                  4      False   \n",
       "\n",
       "  left_to_right_order  accurate_numbers  perfect  \n",
       "0                True               7.0    False  \n",
       "1               False               7.0    False  \n",
       "2               False              13.0    False  \n",
       "3               False              10.0    False  \n",
       "4               False               2.0    False  "
      ]
     },
     "execution_count": 10,
     "metadata": {},
     "output_type": "execute_result"
    }
   ],
   "source": [
    "df_to_plot = pd.read_csv('L:/DATA/ISIS/keras_ocr_training/sample_to_analyse_v1.csv')\n",
    "df_to_plot.head()"
   ]
  },
  {
   "cell_type": "markdown",
   "id": "fa4346c0",
   "metadata": {},
   "source": [
    "Let's start with the average string length read by keras_OCR. I will plot this metric per subdirectory and total."
   ]
  },
  {
   "cell_type": "code",
   "execution_count": 11,
   "id": "f087aeac",
   "metadata": {},
   "outputs": [],
   "source": [
    "import matplotlib.pyplot as plt\n",
    "\n",
    "df_length = df_to_plot.groupby('Directory')['string_length_OCR'].mean()\n",
    "df_length = df_length.reset_index()"
   ]
  },
  {
   "cell_type": "code",
   "execution_count": 12,
   "id": "7352a438",
   "metadata": {},
   "outputs": [],
   "source": [
    "length_mean = df_to_plot['string_length_OCR'].mean()"
   ]
  },
  {
   "cell_type": "code",
   "execution_count": 13,
   "id": "768ca06c",
   "metadata": {},
   "outputs": [
    {
     "data": {
      "text/html": [
       "<div>\n",
       "<style scoped>\n",
       "    .dataframe tbody tr th:only-of-type {\n",
       "        vertical-align: middle;\n",
       "    }\n",
       "\n",
       "    .dataframe tbody tr th {\n",
       "        vertical-align: top;\n",
       "    }\n",
       "\n",
       "    .dataframe thead th {\n",
       "        text-align: right;\n",
       "    }\n",
       "</style>\n",
       "<table border=\"1\" class=\"dataframe\">\n",
       "  <thead>\n",
       "    <tr style=\"text-align: right;\">\n",
       "      <th></th>\n",
       "      <th>Directory</th>\n",
       "      <th>string_length_OCR</th>\n",
       "    </tr>\n",
       "  </thead>\n",
       "  <tbody>\n",
       "    <tr>\n",
       "      <th>0</th>\n",
       "      <td>R014207767</td>\n",
       "      <td>12.105263</td>\n",
       "    </tr>\n",
       "    <tr>\n",
       "      <th>1</th>\n",
       "      <td>R014207779</td>\n",
       "      <td>10.400000</td>\n",
       "    </tr>\n",
       "    <tr>\n",
       "      <th>2</th>\n",
       "      <td>R014207848</td>\n",
       "      <td>9.250000</td>\n",
       "    </tr>\n",
       "    <tr>\n",
       "      <th>3</th>\n",
       "      <td>R014207852</td>\n",
       "      <td>10.900000</td>\n",
       "    </tr>\n",
       "    <tr>\n",
       "      <th>4</th>\n",
       "      <td>R014207869</td>\n",
       "      <td>4.625000</td>\n",
       "    </tr>\n",
       "    <tr>\n",
       "      <th>5</th>\n",
       "      <td>R014207872</td>\n",
       "      <td>10.266667</td>\n",
       "    </tr>\n",
       "    <tr>\n",
       "      <th>6</th>\n",
       "      <td>Total</td>\n",
       "      <td>9.684783</td>\n",
       "    </tr>\n",
       "  </tbody>\n",
       "</table>\n",
       "</div>"
      ],
      "text/plain": [
       "    Directory  string_length_OCR\n",
       "0  R014207767          12.105263\n",
       "1  R014207779          10.400000\n",
       "2  R014207848           9.250000\n",
       "3  R014207852          10.900000\n",
       "4  R014207869           4.625000\n",
       "5  R014207872          10.266667\n",
       "6       Total           9.684783"
      ]
     },
     "execution_count": 13,
     "metadata": {},
     "output_type": "execute_result"
    }
   ],
   "source": [
    "df_length.loc[len(df_length)] = ['Total', length_mean]\n",
    "df_length"
   ]
  },
  {
   "cell_type": "code",
   "execution_count": 14,
   "id": "b13b87e4",
   "metadata": {},
   "outputs": [
    {
     "data": {
      "image/png": "[encoded data removed]",
      "text/plain": [
       "<Figure size 432x288 with 1 Axes>"
      ]
     },
     "metadata": {
      "needs_background": "light"
     },
     "output_type": "display_data"
    }
   ],
   "source": [
    "fig, ax = plt.subplots()\n",
    "length_plot = ax.bar(df_length['Directory'],df_length['string_length_OCR'])\n",
    "ax.tick_params(axis='x',rotation=45)\n",
    "ax.set_ylim((0,16))\n",
    "for bar in length_plot:\n",
    "    height = round(bar.get_height(),2)\n",
    "    ax.annotate('{}'.format(height),\n",
    "                xy=(bar.get_x() + bar.get_width() / 2, height),\n",
    "                xytext=(0, 3),\n",
    "                textcoords=\"offset points\",\n",
    "                ha='center', va='bottom')"
   ]
  },
  {
   "cell_type": "markdown",
   "id": "c535c4ca",
   "metadata": {},
   "source": [
    "Keras_ocr detector is having trouble identifying the presence of text, which explains the numbers above. For the directory R014207869, there's a line on top of the numbers, so it is even harder."
   ]
  },
  {
   "cell_type": "code",
   "execution_count": 15,
   "id": "36a56c08",
   "metadata": {},
   "outputs": [
    {
     "data": {
      "text/html": [
       "<div>\n",
       "<style scoped>\n",
       "    .dataframe tbody tr th:only-of-type {\n",
       "        vertical-align: middle;\n",
       "    }\n",
       "\n",
       "    .dataframe tbody tr th {\n",
       "        vertical-align: top;\n",
       "    }\n",
       "\n",
       "    .dataframe thead th {\n",
       "        text-align: right;\n",
       "    }\n",
       "</style>\n",
       "<table border=\"1\" class=\"dataframe\">\n",
       "  <thead>\n",
       "    <tr style=\"text-align: right;\">\n",
       "      <th></th>\n",
       "      <th>label</th>\n",
       "      <th>left_to_right_order</th>\n",
       "    </tr>\n",
       "  </thead>\n",
       "  <tbody>\n",
       "    <tr>\n",
       "      <th>0</th>\n",
       "      <td>False</td>\n",
       "      <td>85</td>\n",
       "    </tr>\n",
       "    <tr>\n",
       "      <th>1</th>\n",
       "      <td>True</td>\n",
       "      <td>6</td>\n",
       "    </tr>\n",
       "  </tbody>\n",
       "</table>\n",
       "</div>"
      ],
      "text/plain": [
       "   label  left_to_right_order\n",
       "0  False                   85\n",
       "1   True                    6"
      ]
     },
     "execution_count": 15,
     "metadata": {},
     "output_type": "execute_result"
    }
   ],
   "source": [
    "df_order = df_to_plot['left_to_right_order'].value_counts()\n",
    "df_order = df_order.reset_index()\n",
    "df_order.columns = ['label','left_to_right_order']\n",
    "df_order"
   ]
  },
  {
   "cell_type": "code",
   "execution_count": 16,
   "id": "2c075dd0",
   "metadata": {},
   "outputs": [
    {
     "data": {
      "text/plain": [
       "[Text(0, 0, 'False'), Text(1, 0, 'True')]"
      ]
     },
     "execution_count": 16,
     "metadata": {},
     "output_type": "execute_result"
    },
    {
     "data": {
      "image/png": "[encoded data removed]",
      "text/plain": [
       "<Figure size 432x288 with 1 Axes>"
      ]
     },
     "metadata": {
      "needs_background": "light"
     },
     "output_type": "display_data"
    }
   ],
   "source": [
    "fig, ax = plt.subplots()\n",
    "ax.bar(df_order['label'],df_order['left_to_right_order'])\n",
    "ax.set_xticks(ticks = [0,1])\n",
    "ax.set_xticklabels(['False','True'])"
   ]
  },
  {
   "cell_type": "markdown",
   "id": "7d3cb2f6",
   "metadata": {},
   "source": [
    "The cases where the numbers are read in the right order are pretty rare. We would definitly need to adjust before doing more processing."
   ]
  },
  {
   "cell_type": "code",
   "execution_count": 17,
   "id": "80d2afdc",
   "metadata": {},
   "outputs": [
    {
     "data": {
      "text/html": [
       "<div>\n",
       "<style scoped>\n",
       "    .dataframe tbody tr th:only-of-type {\n",
       "        vertical-align: middle;\n",
       "    }\n",
       "\n",
       "    .dataframe tbody tr th {\n",
       "        vertical-align: top;\n",
       "    }\n",
       "\n",
       "    .dataframe thead th {\n",
       "        text-align: right;\n",
       "    }\n",
       "</style>\n",
       "<table border=\"1\" class=\"dataframe\">\n",
       "  <thead>\n",
       "    <tr style=\"text-align: right;\">\n",
       "      <th></th>\n",
       "      <th>Directory</th>\n",
       "      <th>Subdirectory</th>\n",
       "      <th>filename</th>\n",
       "      <th>string_read_OCR</th>\n",
       "      <th>string_length_OCR</th>\n",
       "      <th>length_15</th>\n",
       "      <th>left_to_right_order</th>\n",
       "      <th>accurate_numbers</th>\n",
       "      <th>perfect</th>\n",
       "    </tr>\n",
       "  </thead>\n",
       "  <tbody>\n",
       "    <tr>\n",
       "      <th>19</th>\n",
       "      <td>R014207767</td>\n",
       "      <td>B1-35-26 ISIS B D-793</td>\n",
       "      <td>Image0623.png</td>\n",
       "      <td>(69, 72, 0427, 34, 44, 030)</td>\n",
       "      <td>15</td>\n",
       "      <td>True</td>\n",
       "      <td>False</td>\n",
       "      <td>15.0</td>\n",
       "      <td>True</td>\n",
       "    </tr>\n",
       "    <tr>\n",
       "      <th>87</th>\n",
       "      <td>R014207767</td>\n",
       "      <td>B1-35-26 ISIS B D-826</td>\n",
       "      <td>Image0032.png</td>\n",
       "      <td>(6972, 18, 0812, 42, 153)</td>\n",
       "      <td>15</td>\n",
       "      <td>True</td>\n",
       "      <td>False</td>\n",
       "      <td>15.0</td>\n",
       "      <td>True</td>\n",
       "    </tr>\n",
       "  </tbody>\n",
       "</table>\n",
       "</div>"
      ],
      "text/plain": [
       "     Directory           Subdirectory       filename  \\\n",
       "19  R014207767  B1-35-26 ISIS B D-793  Image0623.png   \n",
       "87  R014207767  B1-35-26 ISIS B D-826  Image0032.png   \n",
       "\n",
       "                string_read_OCR  string_length_OCR  length_15  \\\n",
       "19  (69, 72, 0427, 34, 44, 030)                 15       True   \n",
       "87    (6972, 18, 0812, 42, 153)                 15       True   \n",
       "\n",
       "   left_to_right_order  accurate_numbers  perfect  \n",
       "19               False              15.0     True  \n",
       "87               False              15.0     True  "
      ]
     },
     "execution_count": 17,
     "metadata": {},
     "output_type": "execute_result"
    }
   ],
   "source": [
    "df_to_plot.loc[df_to_plot['perfect']==True]"
   ]
  },
  {
   "cell_type": "markdown",
   "id": "4a102688",
   "metadata": {},
   "source": [
    "Out of the sample, those are the only subdirectories that were \"perfect\". Keras_OCR read 15 digits and they were the right ones."
   ]
  },
  {
   "cell_type": "code",
   "execution_count": 18,
   "id": "8d4bd896",
   "metadata": {},
   "outputs": [],
   "source": [
    "df_accuracy = df_to_plot.loc[df_to_plot['string_length_OCR']!=0]"
   ]
  },
  {
   "cell_type": "code",
   "execution_count": 19,
   "id": "bb7f601b",
   "metadata": {},
   "outputs": [],
   "source": [
    "df_accuracy = df_accuracy.groupby(by='Directory')[['string_length_OCR','accurate_numbers']].sum()\n",
    "df_accuracy = df_accuracy.reset_index()\n",
    "df_accuracy.columns = ['Directory','left_to_right_order','accurate_numbers']"
   ]
  },
  {
   "cell_type": "code",
   "execution_count": 20,
   "id": "047a0e67",
   "metadata": {},
   "outputs": [],
   "source": [
    "sum1 =  df_to_plot['string_length_OCR'].sum()\n",
    "sum2 = df_to_plot['accurate_numbers'].sum()\n",
    "df_accuracy.loc[len(df_accuracy)] = ['Total', sum1, sum2]"
   ]
  },
  {
   "cell_type": "code",
   "execution_count": 21,
   "id": "29df7c76",
   "metadata": {},
   "outputs": [],
   "source": [
    "df_accuracy['ratio'] = (df_accuracy['accurate_numbers'] / df_accuracy['left_to_right_order'])*100"
   ]
  },
  {
   "cell_type": "code",
   "execution_count": 22,
   "id": "833a096e",
   "metadata": {},
   "outputs": [
    {
     "data": {
      "text/html": [
       "<div>\n",
       "<style scoped>\n",
       "    .dataframe tbody tr th:only-of-type {\n",
       "        vertical-align: middle;\n",
       "    }\n",
       "\n",
       "    .dataframe tbody tr th {\n",
       "        vertical-align: top;\n",
       "    }\n",
       "\n",
       "    .dataframe thead th {\n",
       "        text-align: right;\n",
       "    }\n",
       "</style>\n",
       "<table border=\"1\" class=\"dataframe\">\n",
       "  <thead>\n",
       "    <tr style=\"text-align: right;\">\n",
       "      <th></th>\n",
       "      <th>Directory</th>\n",
       "      <th>left_to_right_order</th>\n",
       "      <th>accurate_numbers</th>\n",
       "      <th>ratio</th>\n",
       "    </tr>\n",
       "  </thead>\n",
       "  <tbody>\n",
       "    <tr>\n",
       "      <th>0</th>\n",
       "      <td>R014207767</td>\n",
       "      <td>230</td>\n",
       "      <td>177.0</td>\n",
       "      <td>76.956522</td>\n",
       "    </tr>\n",
       "    <tr>\n",
       "      <th>1</th>\n",
       "      <td>R014207779</td>\n",
       "      <td>104</td>\n",
       "      <td>91.0</td>\n",
       "      <td>87.500000</td>\n",
       "    </tr>\n",
       "    <tr>\n",
       "      <th>2</th>\n",
       "      <td>R014207848</td>\n",
       "      <td>111</td>\n",
       "      <td>97.0</td>\n",
       "      <td>87.387387</td>\n",
       "    </tr>\n",
       "    <tr>\n",
       "      <th>3</th>\n",
       "      <td>R014207852</td>\n",
       "      <td>218</td>\n",
       "      <td>160.0</td>\n",
       "      <td>73.394495</td>\n",
       "    </tr>\n",
       "    <tr>\n",
       "      <th>4</th>\n",
       "      <td>R014207869</td>\n",
       "      <td>74</td>\n",
       "      <td>40.0</td>\n",
       "      <td>54.054054</td>\n",
       "    </tr>\n",
       "    <tr>\n",
       "      <th>5</th>\n",
       "      <td>R014207872</td>\n",
       "      <td>154</td>\n",
       "      <td>97.0</td>\n",
       "      <td>62.987013</td>\n",
       "    </tr>\n",
       "    <tr>\n",
       "      <th>6</th>\n",
       "      <td>Total</td>\n",
       "      <td>891</td>\n",
       "      <td>662.0</td>\n",
       "      <td>74.298541</td>\n",
       "    </tr>\n",
       "  </tbody>\n",
       "</table>\n",
       "</div>"
      ],
      "text/plain": [
       "    Directory  left_to_right_order  accurate_numbers      ratio\n",
       "0  R014207767                  230             177.0  76.956522\n",
       "1  R014207779                  104              91.0  87.500000\n",
       "2  R014207848                  111              97.0  87.387387\n",
       "3  R014207852                  218             160.0  73.394495\n",
       "4  R014207869                   74              40.0  54.054054\n",
       "5  R014207872                  154              97.0  62.987013\n",
       "6       Total                  891             662.0  74.298541"
      ]
     },
     "execution_count": 22,
     "metadata": {},
     "output_type": "execute_result"
    }
   ],
   "source": [
    "df_accuracy"
   ]
  },
  {
   "cell_type": "code",
   "execution_count": 23,
   "id": "0a130648",
   "metadata": {},
   "outputs": [
    {
     "data": {
      "image/png": "[encoded data removed]",
      "text/plain": [
       "<Figure size 432x288 with 1 Axes>"
      ]
     },
     "metadata": {
      "needs_background": "light"
     },
     "output_type": "display_data"
    }
   ],
   "source": [
    "fig, ax = plt.subplots()\n",
    "accuracy_plot = ax.bar(df_accuracy['Directory'],df_accuracy['ratio'])\n",
    "ax.tick_params(axis='x',rotation=45)\n",
    "ax.set_ylim((0,100))\n",
    "for bar in accuracy_plot:\n",
    "    height = round(bar.get_height(),2)\n",
    "    ax.annotate('{}'.format(height)+'%',\n",
    "                xy=(bar.get_x() + bar.get_width() / 2, height),\n",
    "                xytext=(0, 3),\n",
    "                textcoords=\"offset points\",\n",
    "                ha='center', va='bottom')"
   ]
  },
  {
   "cell_type": "code",
   "execution_count": null,
   "id": "0c0715e7",
   "metadata": {},
   "outputs": [],
   "source": []
  }
 ],
 "metadata": {
  "kernelspec": {
   "display_name": "Python 3",
   "language": "python",
   "name": "python3"
  },
  "language_info": {
   "codemirror_mode": {
    "name": "ipython",
    "version": 3
   },
   "file_extension": ".py",
   "mimetype": "text/x-python",
   "name": "python",
   "nbconvert_exporter": "python",
   "pygments_lexer": "ipython3",
   "version": "3.8.8"
  }
 },
 "nbformat": 4,
 "nbformat_minor": 5
}
