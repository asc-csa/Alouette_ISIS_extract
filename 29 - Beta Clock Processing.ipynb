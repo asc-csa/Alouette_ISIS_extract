{
 "cells": [
  {
   "cell_type": "code",
   "execution_count": 1,
   "id": "c5f1741f",
   "metadata": {},
   "outputs": [],
   "source": [
    "import cv2\n",
    "import numpy as np\n",
    "from matplotlib import pyplot as plt"
   ]
  },
  {
   "cell_type": "markdown",
   "id": "d9898ebf",
   "metadata": {},
   "source": [
    "### Helper Functions \n",
    "* Primary functions for the detection of lit and un-lit segments"
   ]
  },
  {
   "cell_type": "code",
   "execution_count": 6,
   "id": "cb0d5cd1",
   "metadata": {},
   "outputs": [],
   "source": [
    "# Function to define segments within a digit's bounding box given by four coordinate pairs\n",
    "def define_segments(corners):\n",
    "    \n",
    "    # get the coordidnate pairs from the list of tuples\n",
    "    (x1, y1), (x2, y2), (x3, y3), (x4, y4) = corners\n",
    "\n",
    "    # define the extents of detection segments within the bounding box\n",
    "    segments = {\n",
    "        'A': (x1, y1, x2, y1 + (y3 - y1) * 0.2),\n",
    "        'B': (x2 - (x2 - x1) * 0.2, y1, x2, y2 + (y3 - y1) * 0.5),\n",
    "        'C': (x3 - (x3 - x4) * 0.2, y3 - (y3 - y2) * 0.5, x3, y3),\n",
    "        'D': (x4, y4 - (y4 - y1) * 0.2, x3, y4),\n",
    "        'E': (x1, y4 - (y4 - y1) * 0.5, x1 + (x2 - x1) * 0.2, y4),\n",
    "        'F': (x1, y1, x1 + (x2 - x1) * 0.2, y1 + (y3 - y1) * 0.5),\n",
    "        'G': (x1 + (x2 - x1) * 0.2, y1 + (y3 - y1) * 0.45, x2 - (x2 - x1) * 0.2, y1 + (y3 - y1) * 0.55)\n",
    "    }\n",
    "    \n",
    "    # returns the detection segments\n",
    "    return segments\n",
    "\n",
    "# Function to check if a segment meets the threshold to be lit with defaults of 127 and 20%\n",
    "def is_segment_lit(segment, img, threshold=127, lit_percentage=0.2):\n",
    "    \n",
    "    # apply the segments to the image\n",
    "    x1, y1, x2, y2 = segment\n",
    "    segment_img = img[int(y1):int(y2), int(x1):int(x2)]\n",
    "    \n",
    "    # calculate the number of pixels above the threshold (white pixels)\n",
    "    white_pixels = np.sum(segment_img > threshold)\n",
    "    # calculate the total number of pixels in the segment\n",
    "    total_pixels = segment_img.size\n",
    "    # calculate the percentage of white pixels\n",
    "    white_percentage = white_pixels / total_pixels\n",
    "    \n",
    "    # check if the percentage of white pixels is greater than the lit_percentage\n",
    "    # in the future this could be updated to return the percent if that stat is desired to be reported on\n",
    "    return white_percentage >= lit_percentage\n",
    "\n",
    "# Map for the different combinations of lit segments\n",
    "digit_map = {\n",
    "    (True, True, True, True, True, True, False): '0',\n",
    "    (False, True, True, False, False, False, False): '1',\n",
    "    (True, True, False, True, True, False, True): '2',\n",
    "    (True, True, True, True, False, False, True): '3',\n",
    "    (False, True, True, False, False, True, True): '4',\n",
    "    (True, False, True, True, False, True, True): '5',\n",
    "    (True, False, True, True, True, True, True): '6',\n",
    "    (True, True, True, False, False, False, False): '7',\n",
    "    (True, True, True, True, True, True, True): '8',\n",
    "    (True, True, True, True, False, True, True): '9'\n",
    "}\n",
    "\n",
    "# Function to determine the displayed digit using the defined digit map\n",
    "def identify_digit(segments, img, threshold=127, lit_percentage=0.2):\n",
    "    lit_segments = tuple(is_segment_lit(segments[s], img, threshold, lit_percentage) for s in 'ABCDEFG')\n",
    "    return digit_map.get(lit_segments, None)\n"
   ]
  },
  {
   "cell_type": "markdown",
   "id": "1c53b36f",
   "metadata": {},
   "source": [
    "### Locating the First Number\n",
    "\n",
    "* Function to iterate over the image to locate the first number in the serise and return bounding box"
   ]
  },
  {
   "cell_type": "code",
   "execution_count": 8,
   "id": "e6b47475",
   "metadata": {},
   "outputs": [],
   "source": [
    "def find_first_number(corners, incr, img, thresh, percent): \n",
    "    \n",
    "    count = 0\n",
    "    digit = None\n",
    "    \n",
    "    height, width = img.shape\n",
    "\n",
    "    # while no digit has been detected run through the loop\n",
    "    while digit == None:\n",
    "\n",
    "        # increment by the specfied value (defaults to 1 pixel)\n",
    "        corners = [(x + incr, y) for (x, y) in corners]\n",
    "\n",
    "        segments = define_segments(corners)\n",
    "\n",
    "        digit = identify_digit(segments, img, threshold=thresh, lit_percentage=percent)\n",
    "\n",
    "        # if the bounding box has exceeded the image, no metadata has been found\n",
    "        if count == width - 11:\n",
    "            print('No Metadata Detected')\n",
    "            break \n",
    "\n",
    "        count = count + 1\n",
    "        \n",
    "    return digit, corners"
   ]
  },
  {
   "cell_type": "markdown",
   "id": "d1536692",
   "metadata": {},
   "source": [
    "### Function to Determine All Digits"
   ]
  },
  {
   "cell_type": "code",
   "execution_count": 9,
   "id": "9136d138",
   "metadata": {},
   "outputs": [],
   "source": [
    "def find_all_number(corners, size_numbers, size_spaces, spacing, img, thresh, percent): \n",
    "\n",
    "    height, width = img.shape\n",
    "    x = width\n",
    "    \n",
    "    results = []\n",
    "    \n",
    "    corners = [(x + 1, y) for (x, y) in corners]\n",
    "    segments = define_segments(corners)\n",
    "\n",
    "    digit = identify_digit(segments, img, threshold=thresh, lit_percentage=percent)\n",
    "    \n",
    "    results.append(digit)\n",
    "    \n",
    "    for i in range(len(spacing)):\n",
    "\n",
    "        # increment the digit by the specified map of spacing\n",
    "        current_corner = [(x + size_numbers * spacing[i][0] + size_spaces * spacing[i][1], y) for (x, y) in corners]\n",
    "\n",
    "        segments = define_segments(current_corner)\n",
    "\n",
    "        digit = identify_digit(segments, img, threshold=thresh, lit_percentage=percent)\n",
    "        \n",
    "        # if the next digit after the first is not in the expected pattern then it is out of phase left\n",
    "        if i == 0 and digit == None:\n",
    "            corners = [(x - size_numbers, y) for (x, y) in corners]\n",
    "            results.append('Out of Phase Left')\n",
    "            continue\n",
    "\n",
    "        # checks if the bounding box has ever exceeded the image\n",
    "        if bool([tuple for tuple in corners if any(x <= i for i in tuple)]): \n",
    "            results.append('Out of Phase Right')\n",
    "            break\n",
    "\n",
    "            \n",
    "        results.append(digit)\n",
    "        \n",
    "    return results"
   ]
  },
  {
   "cell_type": "markdown",
   "id": "cdf61e28",
   "metadata": {},
   "source": [
    "## Running the Functions\n",
    "\n",
    "### Current Limitations//Needed Work \n",
    "\n",
    "* If the image is very far out of phase-left, i.e several digits are cut off, the rest of the digits will not be mapped properly\n",
    "\n",
    "* As the metadata is only several pixels wide, it is sensitive to changes in both the sizing of the bounding box and the thresholds that are used. As such, the accuracy varies image to image. Therefore, it might be worth exploring defining a dynamic threshold such as through using Otsu's method or similar.\n",
    "\n",
    "* The sizes of the segments of the bounding box could maybe fined tuned a little more.\n"
   ]
  },
  {
   "cell_type": "code",
   "execution_count": 10,
   "id": "fcaf10cd",
   "metadata": {},
   "outputs": [],
   "source": [
    "# specify the image, just have the current image in the directory as img\n",
    "image_path =  'Image0018_T.png'\n",
    "img = cv2.imread(image_path, cv2.IMREAD_GRAYSCALE)"
   ]
  },
  {
   "cell_type": "code",
   "execution_count": 11,
   "id": "61e58dc2",
   "metadata": {},
   "outputs": [],
   "source": [
    "# this inital bounding box is defined to the very right of the image in the desired vertical position\n",
    "intial_corner = [(0, 20), (11, 20), (11, 39), (0, 39)]\n",
    "\n",
    "# thresh defines the brightness//whiteness of the pixel, whereas the percent is how many need to be above the thresh\n",
    "thresh = 110\n",
    "percent = 0.40\n",
    "\n",
    "[digit, corners] = find_first_number(intial_corner, 1, img, thresh, percent)"
   ]
  },
  {
   "cell_type": "code",
   "execution_count": 12,
   "id": "02925c44",
   "metadata": {},
   "outputs": [
    {
     "name": "stdout",
     "output_type": "stream",
     "text": [
      "['4', '1', '8', '1', '7', None, '0', '5', '9', None, '0', '0', '3', '3', '7']\n"
     ]
    }
   ],
   "source": [
    "# spacing map defines the number of positions to move//increment\n",
    "# the first column is the number of digits, and second number of spaces\n",
    "spacing_map = [[1, 0], [1, 1], [2, 1], [2, 2], \n",
    "               [3, 2], [3, 3], [4, 3], [5, 3], \n",
    "               [5, 4], [6, 4], [7, 4], [8, 4], \n",
    "               [8, 5], [9, 5]]\n",
    "\n",
    "size_numbers = 20\n",
    "size_spaces = 39\n",
    "thresh = 110\n",
    "percent = 0.3\n",
    "\n",
    "if digit is not None: \n",
    "    results = find_all_number(corners, size_numbers, size_spaces, spacing_map, img, thresh, percent)\n",
    "\n",
    "print(results)"
   ]
  },
  {
   "cell_type": "markdown",
   "id": "f1165de6",
   "metadata": {},
   "source": [
    "### Helper Visulization (useful for debugging)"
   ]
  },
  {
   "cell_type": "code",
   "execution_count": 13,
   "id": "e7b69cb3",
   "metadata": {},
   "outputs": [
    {
     "name": "stdout",
     "output_type": "stream",
     "text": [
      "The digit within the new bounding box is: 4\n",
      "Segments status with lit threshold for the second digit:\n",
      "Segment A: Not Lit\n",
      "Segment B: Lit\n",
      "Segment C: Lit\n",
      "Segment D: Not Lit\n",
      "Segment E: Not Lit\n",
      "Segment F: Lit\n",
      "Segment G: Lit\n"
     ]
    },
    {
     "data": {
      "image/png": "[encoded data removed]",
      "text/plain": [
       "<Figure size 640x480 with 1 Axes>"
      ]
     },
     "metadata": {},
     "output_type": "display_data"
    }
   ],
   "source": [
    "thresh = 110\n",
    "percent = 0.4\n",
    "\n",
    "# you can do x +/- n to move it n pixels\n",
    "n = 0 \n",
    "corners = [(x + n, y) for (x, y) in corners]\n",
    "\n",
    "# any bounding box defined by the corners will be tested, same format as inital_corner\n",
    "\n",
    "segments = define_segments(corners)\n",
    "\n",
    "digit = identify_digit(segments, img, threshold=thresh, lit_percentage=percent)\n",
    "\n",
    "segments_lit = {seg: is_segment_lit(segments[seg], img, threshold=thresh, lit_percentage=percent) for seg in segments}\n",
    "\n",
    "# Specifices which segments are lit and the predicted digit\n",
    "print(f\"The digit within the new bounding box is: {digit}\")\n",
    "print(\"Segments status with lit threshold for the second digit:\")\n",
    "for seg, lit in segments_lit.items():\n",
    "    status = \"Lit\" if lit else \"Not Lit\"\n",
    "    print(f\"Segment {seg}: {status}\")\n",
    "\n",
    "# Creates bounding box and segments for visulization\n",
    "img_with_new_bbox_and_segments = cv2.cvtColor(img, cv2.COLOR_GRAY2BGR)\n",
    "for corner_start, corner_end in zip(corners, corners[1:] + corners[:1]):\n",
    "    cv2.line(img_with_new_bbox_and_segments, corner_start, corner_end, (0, 255, 0), 2)\n",
    "\n",
    "for seg, coords in segments.items():\n",
    "    x1, y1, x2, y2 = map(int, coords)\n",
    "    color = (255, 0, 0) if segments_lit[seg] else (0, 0, 255)\n",
    "    cv2.rectangle(img_with_new_bbox_and_segments, (x1, y1), (x2, y2), color, 1)\n",
    "\n",
    "\n",
    "    plt.imshow(cv2.cvtColor(img_with_new_bbox_and_segments, cv2.COLOR_BGR2RGB))\n",
    "plt.title('Image with New Bounding Box and Segments')\n",
    "plt.show()\n"
   ]
  }
 ],
 "metadata": {
  "kernelspec": {
   "display_name": "Python [conda env:clock_env]",
   "language": "python",
   "name": "conda-env-clock_env-py"
  },
  "language_info": {
   "codemirror_mode": {
    "name": "ipython",
    "version": 3
   },
   "file_extension": ".py",
   "mimetype": "text/x-python",
   "name": "python",
   "nbconvert_exporter": "python",
   "pygments_lexer": "ipython3",
   "version": "3.12.0"
  }
 },
 "nbformat": 4,
 "nbformat_minor": 5
}
